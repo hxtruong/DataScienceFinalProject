{
 "cells": [
  {
   "cell_type": "markdown",
   "metadata": {
    "Collapsed": "false"
   },
   "source": [
    "# Preprocessing Amazon data"
   ]
  },
  {
   "cell_type": "markdown",
   "metadata": {
    "Collapsed": "true"
   },
   "source": [
    "## Import library"
   ]
  },
  {
   "cell_type": "code",
   "execution_count": 788,
   "metadata": {
    "Collapsed": "false"
   },
   "outputs": [],
   "source": [
    "%matplotlib inline\n",
    "import pandas as pd\n",
    "import numpy as np\n",
    "from pandas.plotting import register_matplotlib_converters\n",
    "import matplotlib.pyplot as plt\n",
    "import seaborn as sns\n",
    "import re\n",
    "\n",
    "# To avoid Warning message inbetween ...\n",
    "import warnings\n",
    "warnings.filterwarnings('ignore')"
   ]
  },
  {
   "cell_type": "code",
   "execution_count": 789,
   "metadata": {
    "Collapsed": "false"
   },
   "outputs": [],
   "source": [
    "# with open(\"../../dataset/Amazon/amazon_product_infos.csv\", encoding='utf-8') as f:\n",
    "#     with open('../../dataset/Amazon/amazon_product_infos_pre.csv', 'w', encoding='utf-8') as g:\n",
    "#         line = f.readline()\n",
    "#         print(line)\n",
    "#         count = 0\n",
    "#         while line != '':\n",
    "#             line = line[1:-1]\n",
    "#             datas = line.split('\\t')\n",
    "#             datas[len(datas)-1] = datas[len(datas)-1][:datas[len(datas)-1].find('\",,,')]\n",
    "#             item = '\\t'.join(datas) + '\\n'\n",
    "#             g.write(item)\n",
    "#             line = f.readline()"
   ]
  },
  {
   "cell_type": "markdown",
   "metadata": {
    "Collapsed": "false"
   },
   "source": [
    "## Read data"
   ]
  },
  {
   "cell_type": "code",
   "execution_count": 790,
   "metadata": {
    "Collapsed": "false"
   },
   "outputs": [
    {
     "data": {
      "text/html": [
       "<div>\n",
       "<style scoped>\n",
       "    .dataframe tbody tr th:only-of-type {\n",
       "        vertical-align: middle;\n",
       "    }\n",
       "\n",
       "    .dataframe tbody tr th {\n",
       "        vertical-align: top;\n",
       "    }\n",
       "\n",
       "    .dataframe thead th {\n",
       "        text-align: right;\n",
       "    }\n",
       "</style>\n",
       "<table border=\"1\" class=\"dataframe\">\n",
       "  <thead>\n",
       "    <tr style=\"text-align: right;\">\n",
       "      <th></th>\n",
       "      <th>Price</th>\n",
       "      <th>Screen Size</th>\n",
       "      <th>Max Screen Resolution</th>\n",
       "      <th>Processor</th>\n",
       "      <th>RAM</th>\n",
       "      <th>Hard Drive</th>\n",
       "      <th>Graphics Coprocessor</th>\n",
       "      <th>Chipset Brand</th>\n",
       "      <th>Card Description</th>\n",
       "      <th>Wireless Type</th>\n",
       "      <th>...</th>\n",
       "      <th>Rear Webcam Resolution</th>\n",
       "      <th>Power Source</th>\n",
       "      <th>Voltage</th>\n",
       "      <th>Memory Speed</th>\n",
       "      <th>California residents</th>\n",
       "      <th>Graphics Card Ram Size</th>\n",
       "      <th>National Stock Number</th>\n",
       "      <th>Package Dimensions</th>\n",
       "      <th>Audio-out Ports (#)</th>\n",
       "      <th>Battery Type</th>\n",
       "    </tr>\n",
       "  </thead>\n",
       "  <tbody>\n",
       "    <tr>\n",
       "      <td>0</td>\n",
       "      <td>$309.99</td>\n",
       "      <td>15.6 inches</td>\n",
       "      <td>1920 x 1080</td>\n",
       "      <td>3.5 GHz Ryzen 3 2200U</td>\n",
       "      <td>4 GB DDR4</td>\n",
       "      <td>128 GB Flash Memory Solid State</td>\n",
       "      <td>AMD Radeon Vega 3</td>\n",
       "      <td>AMD</td>\n",
       "      <td>Integrated</td>\n",
       "      <td>802.11ac</td>\n",
       "      <td>...</td>\n",
       "      <td>NaN</td>\n",
       "      <td>NaN</td>\n",
       "      <td>NaN</td>\n",
       "      <td>NaN</td>\n",
       "      <td>NaN</td>\n",
       "      <td>NaN</td>\n",
       "      <td>NaN</td>\n",
       "      <td>NaN</td>\n",
       "      <td>NaN</td>\n",
       "      <td>NaN</td>\n",
       "    </tr>\n",
       "    <tr>\n",
       "      <td>1</td>\n",
       "      <td>$162.92</td>\n",
       "      <td>10.1 inches</td>\n",
       "      <td>1920x1200 pixels</td>\n",
       "      <td>1.8 GHz 8032</td>\n",
       "      <td>2 GB</td>\n",
       "      <td>32 GB</td>\n",
       "      <td>Mali-G71 MP2</td>\n",
       "      <td>NaN</td>\n",
       "      <td>Integrated</td>\n",
       "      <td>802.11a/b/g/n/ac\", 2.4 GHz Radio Frequency,\" 5...</td>\n",
       "      <td>...</td>\n",
       "      <td>8 MP</td>\n",
       "      <td>Battery</td>\n",
       "      <td>5 volts</td>\n",
       "      <td>NaN</td>\n",
       "      <td>NaN</td>\n",
       "      <td>NaN</td>\n",
       "      <td>NaN</td>\n",
       "      <td>NaN</td>\n",
       "      <td>NaN</td>\n",
       "      <td>NaN</td>\n",
       "    </tr>\n",
       "    <tr>\n",
       "      <td>2</td>\n",
       "      <td>$246.99</td>\n",
       "      <td>11.6 inches</td>\n",
       "      <td>1366X768 pixels</td>\n",
       "      <td>2.1 GHz MediaTek_MT8127</td>\n",
       "      <td>4 GB LPDDR3</td>\n",
       "      <td>64 GB Flash Memory Solid State</td>\n",
       "      <td>PowerVR SGX543</td>\n",
       "      <td>Intel</td>\n",
       "      <td>Integrated</td>\n",
       "      <td>802.11a\", 802.11b,\" 802.11g</td>\n",
       "      <td>...</td>\n",
       "      <td>NaN</td>\n",
       "      <td>NaN</td>\n",
       "      <td>NaN</td>\n",
       "      <td>1600 MHz</td>\n",
       "      <td>Click here for Proposition 65 warning</td>\n",
       "      <td>NaN</td>\n",
       "      <td>NaN</td>\n",
       "      <td>NaN</td>\n",
       "      <td>NaN</td>\n",
       "      <td>NaN</td>\n",
       "    </tr>\n",
       "    <tr>\n",
       "      <td>3</td>\n",
       "      <td>1 ,\"089.00</td>\n",
       "      <td>15.6 inches</td>\n",
       "      <td>1920 x 1080</td>\n",
       "      <td>4.5 GHz Intel Core i7</td>\n",
       "      <td>16 GB DDR4</td>\n",
       "      <td>256 GB Flash Memory Solid State</td>\n",
       "      <td>NaN</td>\n",
       "      <td>NVIDIA</td>\n",
       "      <td>Dedicated</td>\n",
       "      <td>802.11ac</td>\n",
       "      <td>...</td>\n",
       "      <td>NaN</td>\n",
       "      <td>NaN</td>\n",
       "      <td>NaN</td>\n",
       "      <td>NaN</td>\n",
       "      <td>NaN</td>\n",
       "      <td>6 GB</td>\n",
       "      <td>NaN</td>\n",
       "      <td>NaN</td>\n",
       "      <td>NaN</td>\n",
       "      <td>NaN</td>\n",
       "    </tr>\n",
       "    <tr>\n",
       "      <td>4</td>\n",
       "      <td>$127.97</td>\n",
       "      <td>11.6 inches</td>\n",
       "      <td>1366 x 768 pixels</td>\n",
       "      <td>2.1 GHz MediaTek MT8125</td>\n",
       "      <td>4 GB DDR4</td>\n",
       "      <td>Flash Memory Solid State</td>\n",
       "      <td>PowerVR GX6250</td>\n",
       "      <td>Chromebook</td>\n",
       "      <td>Mediatek</td>\n",
       "      <td>Bluetooth</td>\n",
       "      <td>...</td>\n",
       "      <td>NaN</td>\n",
       "      <td>NaN</td>\n",
       "      <td>NaN</td>\n",
       "      <td>NaN</td>\n",
       "      <td>NaN</td>\n",
       "      <td>NaN</td>\n",
       "      <td>NaN</td>\n",
       "      <td>NaN</td>\n",
       "      <td>NaN</td>\n",
       "      <td>NaN</td>\n",
       "    </tr>\n",
       "  </tbody>\n",
       "</table>\n",
       "<p>5 rows × 41 columns</p>\n",
       "</div>"
      ],
      "text/plain": [
       "        Price  Screen Size Max Screen Resolution                Processor  \\\n",
       "0     $309.99  15.6 inches           1920 x 1080    3.5 GHz Ryzen 3 2200U   \n",
       "1     $162.92  10.1 inches      1920x1200 pixels             1.8 GHz 8032   \n",
       "2     $246.99  11.6 inches       1366X768 pixels  2.1 GHz MediaTek_MT8127   \n",
       "3  1 ,\"089.00  15.6 inches           1920 x 1080    4.5 GHz Intel Core i7   \n",
       "4     $127.97  11.6 inches     1366 x 768 pixels  2.1 GHz MediaTek MT8125   \n",
       "\n",
       "           RAM                       Hard Drive Graphics Coprocessor  \\\n",
       "0    4 GB DDR4  128 GB Flash Memory Solid State    AMD Radeon Vega 3   \n",
       "1         2 GB                            32 GB         Mali-G71 MP2   \n",
       "2  4 GB LPDDR3   64 GB Flash Memory Solid State       PowerVR SGX543   \n",
       "3   16 GB DDR4  256 GB Flash Memory Solid State                  NaN   \n",
       "4    4 GB DDR4         Flash Memory Solid State       PowerVR GX6250   \n",
       "\n",
       "  Chipset Brand Card Description  \\\n",
       "0           AMD       Integrated   \n",
       "1           NaN       Integrated   \n",
       "2         Intel       Integrated   \n",
       "3        NVIDIA        Dedicated   \n",
       "4    Chromebook         Mediatek   \n",
       "\n",
       "                                       Wireless Type  ...  \\\n",
       "0                                           802.11ac  ...   \n",
       "1  802.11a/b/g/n/ac\", 2.4 GHz Radio Frequency,\" 5...  ...   \n",
       "2                        802.11a\", 802.11b,\" 802.11g  ...   \n",
       "3                                           802.11ac  ...   \n",
       "4                                          Bluetooth  ...   \n",
       "\n",
       "   Rear Webcam Resolution  Power Source  Voltage Memory Speed  \\\n",
       "0                     NaN           NaN      NaN          NaN   \n",
       "1                    8 MP       Battery  5 volts          NaN   \n",
       "2                     NaN           NaN      NaN     1600 MHz   \n",
       "3                     NaN           NaN      NaN          NaN   \n",
       "4                     NaN           NaN      NaN          NaN   \n",
       "\n",
       "                    California residents Graphics Card Ram Size  \\\n",
       "0                                    NaN                    NaN   \n",
       "1                                    NaN                    NaN   \n",
       "2  Click here for Proposition 65 warning                    NaN   \n",
       "3                                    NaN                   6 GB   \n",
       "4                                    NaN                    NaN   \n",
       "\n",
       "  National Stock Number Package Dimensions Audio-out Ports (#) Battery Type  \n",
       "0                   NaN                NaN                 NaN          NaN  \n",
       "1                   NaN                NaN                 NaN          NaN  \n",
       "2                   NaN                NaN                 NaN          NaN  \n",
       "3                   NaN                NaN                 NaN          NaN  \n",
       "4                   NaN                NaN                 NaN          NaN  \n",
       "\n",
       "[5 rows x 41 columns]"
      ]
     },
     "execution_count": 790,
     "metadata": {},
     "output_type": "execute_result"
    }
   ],
   "source": [
    "df = pd.read_csv(\"../../dataset/Amazon/amazon_product_infos_pre.csv\", encoding='utf-8', sep='\\t', index_col=False )\n",
    "df.head()"
   ]
  },
  {
   "cell_type": "code",
   "execution_count": 851,
   "metadata": {
    "Collapsed": "false"
   },
   "outputs": [
    {
     "name": "stdout",
     "output_type": "stream",
     "text": [
      "Data Types:\n",
      "Price                              float64\n",
      "Screen Size                        float64\n",
      "Processor                           object\n",
      "RAM                                  int64\n",
      "Hard Drive                          object\n",
      "Graphics Coprocessor                object\n",
      "Chipset Brand                       object\n",
      "Card Description                    object\n",
      "Wireless Type                       object\n",
      "Number of USB 2.0 Ports            float64\n",
      "Number of USB 3.0 Ports            float64\n",
      "Brand Name                          object\n",
      "Series                              object\n",
      "Item model number                   object\n",
      "Operating System                    object\n",
      "Item Weight                         object\n",
      "Product Dimensions                  object\n",
      "Item Dimensions L x W x H           object\n",
      "Color                               object\n",
      "Processor Brand                     object\n",
      "Processor Count                    float64\n",
      "Computer Memory Type                object\n",
      "Flash Memory Size                   object\n",
      "Hard Drive Interface                object\n",
      "Hard Drive Rotational Speed         object\n",
      "Optical Drive Type                  object\n",
      "Batteries                           object\n",
      "Average Battery Life (in hours)     object\n",
      "Hardware Platform                   object\n",
      "Rear Webcam Resolution              object\n",
      "Power Source                        object\n",
      "Voltage                             object\n",
      "Memory Speed                        object\n",
      "California residents                object\n",
      "Graphics Card Ram Size              object\n",
      "National Stock Number               object\n",
      "Package Dimensions                  object\n",
      "Audio-out Ports (#)                float64\n",
      "Battery Type                        object\n",
      "Screen Resolution Width              int64\n",
      "Screen Resolution Height             int64\n",
      "dtype: object\n",
      "\n",
      "Rows and Columns:\n",
      "(5596, 41)\n",
      "\n",
      "Column names:\n",
      "Index(['Price', 'Screen Size', 'Processor', 'RAM', 'Hard Drive',\n",
      "       'Graphics Coprocessor', 'Chipset Brand', 'Card Description',\n",
      "       'Wireless Type', 'Number of USB 2.0 Ports', 'Number of USB 3.0 Ports',\n",
      "       'Brand Name', 'Series', 'Item model number', 'Operating System',\n",
      "       'Item Weight', 'Product Dimensions', 'Item Dimensions L x W x H',\n",
      "       'Color', 'Processor Brand', 'Processor Count', 'Computer Memory Type',\n",
      "       'Flash Memory Size', 'Hard Drive Interface',\n",
      "       'Hard Drive Rotational Speed', 'Optical Drive Type', 'Batteries',\n",
      "       'Average Battery Life (in hours)', 'Hardware Platform',\n",
      "       'Rear Webcam Resolution', 'Power Source', 'Voltage', 'Memory Speed',\n",
      "       'California residents', 'Graphics Card Ram Size',\n",
      "       'National Stock Number', 'Package Dimensions', 'Audio-out Ports (#)',\n",
      "       'Battery Type', 'Screen Resolution Width', 'Screen Resolution Height'],\n",
      "      dtype='object')\n",
      "\n",
      "Percent Null Values:\n",
      "Price                               0.000000\n",
      "Screen Size                         0.000000\n",
      "Processor                           3.877770\n",
      "RAM                                 0.000000\n",
      "Hard Drive                          2.269478\n",
      "Graphics Coprocessor               14.724803\n",
      "Chipset Brand                      31.182988\n",
      "Card Description                   25.000000\n",
      "Wireless Type                      24.660472\n",
      "Number of USB 2.0 Ports            70.925661\n",
      "Number of USB 3.0 Ports            78.288063\n",
      "Brand Name                          0.393138\n",
      "Series                              7.076483\n",
      "Item model number                  20.782702\n",
      "Operating System                    9.935668\n",
      "Item Weight                         0.017870\n",
      "Product Dimensions                 15.761258\n",
      "Item Dimensions L x W x H          15.761258\n",
      "Color                              47.140815\n",
      "Processor Brand                    12.723374\n",
      "Processor Count                     2.108649\n",
      "Computer Memory Type               26.518942\n",
      "Flash Memory Size                  30.235883\n",
      "Hard Drive Interface               25.125089\n",
      "Hard Drive Rotational Speed        65.939957\n",
      "Optical Drive Type                 72.516083\n",
      "Batteries                          23.641887\n",
      "Average Battery Life (in hours)    67.458899\n",
      "Hardware Platform                  22.855611\n",
      "Rear Webcam Resolution             83.649035\n",
      "Power Source                       68.584703\n",
      "Voltage                            94.460329\n",
      "Memory Speed                       77.126519\n",
      "California residents               98.784846\n",
      "Graphics Card Ram Size             84.667620\n",
      "National Stock Number              99.785561\n",
      "Package Dimensions                 84.256612\n",
      "Audio-out Ports (#)                99.481773\n",
      "Battery Type                       99.571122\n",
      "Screen Resolution Width             0.000000\n",
      "Screen Resolution Height            0.000000\n",
      "dtype: float64\n",
      "\n",
      "Unique values:\n",
      "Price                              2814\n",
      "Screen Size                          63\n",
      "Processor                           978\n",
      "RAM                                  18\n",
      "Hard Drive                          420\n",
      "Graphics Coprocessor                861\n",
      "Chipset Brand                        66\n",
      "Card Description                     57\n",
      "Wireless Type                       133\n",
      "Number of USB 2.0 Ports              11\n",
      "Number of USB 3.0 Ports              11\n",
      "Brand Name                          287\n",
      "Series                             2549\n",
      "Item model number                  3466\n",
      "Operating System                    184\n",
      "Item Weight                         942\n",
      "Product Dimensions                 1982\n",
      "Item Dimensions L x W x H          2489\n",
      "Color                               418\n",
      "Processor Brand                      92\n",
      "Processor Count                      11\n",
      "Computer Memory Type                 28\n",
      "Flash Memory Size                    77\n",
      "Hard Drive Interface                 43\n",
      "Hard Drive Rotational Speed          60\n",
      "Optical Drive Type                   44\n",
      "Batteries                            55\n",
      "Average Battery Life (in hours)     101\n",
      "Hardware Platform                   130\n",
      "Rear Webcam Resolution               88\n",
      "Power Source                         20\n",
      "Voltage                              31\n",
      "Memory Speed                         70\n",
      "California residents                  1\n",
      "Graphics Card Ram Size               64\n",
      "National Stock Number                12\n",
      "Package Dimensions                  807\n",
      "Audio-out Ports (#)                   2\n",
      "Battery Type                         10\n",
      "Screen Resolution Width              36\n",
      "Screen Resolution Height             31\n",
      "dtype: int64\n",
      "Describe: \n",
      "             Price  Screen Size          RAM  Number of USB 2.0 Ports  \\\n",
      "count  5596.000000  5596.000000  5596.000000              1627.000000   \n",
      "mean    642.704526    14.301648    10.498392                 1.727720   \n",
      "std     514.718965     2.787289    21.604194                 1.323545   \n",
      "min       5.990000     7.000000     1.000000                 1.000000   \n",
      "25%     279.000000    13.300000     4.000000                 1.000000   \n",
      "50%     515.210000    15.600000     8.000000                 1.000000   \n",
      "75%     849.990000    15.600000    12.000000                 2.000000   \n",
      "max    5299.000000    39.624000   512.000000                16.000000   \n",
      "\n",
      "       Number of USB 3.0 Ports  Processor Count  Audio-out Ports (#)  \\\n",
      "count              1215.000000      5478.000000            29.000000   \n",
      "mean                  2.413992         3.110807             1.034483   \n",
      "std                   1.639394         1.740083             0.185695   \n",
      "min                   1.000000         1.000000             1.000000   \n",
      "25%                   1.000000         2.000000             1.000000   \n",
      "50%                   2.000000         2.000000             1.000000   \n",
      "75%                   3.000000         4.000000             1.000000   \n",
      "max                  16.000000        16.000000             2.000000   \n",
      "\n",
      "       Screen Resolution Width  Screen Resolution Height  \n",
      "count              5596.000000               5596.000000  \n",
      "mean               1816.177806               1038.215868  \n",
      "std                 472.536287                280.156235  \n",
      "min                 640.000000                480.000000  \n",
      "25%                1366.000000                768.000000  \n",
      "50%                1920.000000               1080.000000  \n",
      "75%                1920.000000               1080.000000  \n",
      "max                4096.000000               2560.000000  \n"
     ]
    }
   ],
   "source": [
    "#Quick Analysis on Dataset : DataTypes, Rows and Columns ,Null values, Unique values ...\n",
    "def quick_analysis(df):\n",
    "    print(\"Data Types:\")\n",
    "    print(df.dtypes)\n",
    "    print(\"\\nRows and Columns:\")\n",
    "    print(df.shape)\n",
    "    print(\"\\nColumn names:\")\n",
    "    print(df.columns)\n",
    "    print(\"\\nPercent Null Values:\")\n",
    "    print(df.apply(lambda x: sum(x.isnull()) / len(df)*100))\n",
    "    print(\"\\nUnique values:\")\n",
    "    print(df.nunique())\n",
    "    print(\"Describe: \")\n",
    "    print(df.describe())\n",
    "\n",
    "quick_analysis(df)"
   ]
  },
  {
   "cell_type": "markdown",
   "metadata": {
    "Collapsed": "false"
   },
   "source": [
    "## Preprocessing data\n",
    "\n",
    "From information above, there are serveral task to handle:\n",
    "- Drop all row has *price* is NA and get value of *price* (as type float)\n",
    "- Merge *Max Screen Resolution* and *Screen Resolution*\n",
    "- Drop columns has many NA value (larger than 30% NA value)\n",
    "- Handle value each columns (ex: 16.5 inches will convert to 16.5) for prediction\n",
    "- Splite each field to columns (such as *Item Dimensions L x W x H*)"
   ]
  },
  {
   "cell_type": "markdown",
   "metadata": {
    "Collapsed": "true"
   },
   "source": [
    "#### __Price__\n",
    "*Price* is first considered because it is result of model"
   ]
  },
  {
   "cell_type": "markdown",
   "metadata": {
    "Collapsed": "false"
   },
   "source": [
    "Drop NaN value in __Price__"
   ]
  },
  {
   "cell_type": "code",
   "execution_count": 792,
   "metadata": {
    "Collapsed": "false"
   },
   "outputs": [],
   "source": [
    "df.dropna(subset=['Price'], how='all', inplace=True)"
   ]
  },
  {
   "cell_type": "markdown",
   "metadata": {
    "Collapsed": "false"
   },
   "source": [
    "Get exactly value of *Price* column"
   ]
  },
  {
   "cell_type": "code",
   "execution_count": 793,
   "metadata": {
    "Collapsed": "false"
   },
   "outputs": [],
   "source": [
    "def handle_price(s):\n",
    "    s = str(s)\n",
    "    for ch in ['$', '\"', '\\'', ',', ' ']:\n",
    "        s = s.replace(ch, '')\n",
    "    return s"
   ]
  },
  {
   "cell_type": "code",
   "execution_count": 794,
   "metadata": {
    "Collapsed": "false"
   },
   "outputs": [],
   "source": [
    "df['Price'] = df['Price'].map(handle_price)\n",
    "df['Price'] = df['Price'].astype(float)"
   ]
  },
  {
   "cell_type": "markdown",
   "metadata": {
    "Collapsed": "true"
   },
   "source": [
    "#### __Screen Resolution__\n",
    "\n",
    "Merge two columns: *Max Screen Resolution* and *Screen Resolutiono*. Since, two columns are same and just keep one columns for prediction.\n",
    "\n",
    "The *Screen Resolution* will be keeped."
   ]
  },
  {
   "cell_type": "code",
   "execution_count": 795,
   "metadata": {
    "Collapsed": "false"
   },
   "outputs": [
    {
     "data": {
      "text/plain": [
       "Max Screen Resolution    1850\n",
       "Screen Resolution        3573\n",
       "dtype: int64"
      ]
     },
     "execution_count": 795,
     "metadata": {},
     "output_type": "execute_result"
    }
   ],
   "source": [
    "df[['Max Screen Resolution', 'Screen Resolution']].isna().sum()"
   ]
  },
  {
   "cell_type": "code",
   "execution_count": 796,
   "metadata": {
    "Collapsed": "false"
   },
   "outputs": [],
   "source": [
    "df['Screen Resolution'] = df['Screen Resolution'].fillna(df['Max Screen Resolution'])\n",
    "df.drop(columns=['Max Screen Resolution'], axis=1, inplace=True)"
   ]
  },
  {
   "cell_type": "code",
   "execution_count": 797,
   "metadata": {
    "Collapsed": "false"
   },
   "outputs": [
    {
     "data": {
      "text/plain": [
       "count            4170\n",
       "unique            266\n",
       "top       1920 x 1080\n",
       "freq              733\n",
       "Name: Screen Resolution, dtype: object"
      ]
     },
     "execution_count": 797,
     "metadata": {},
     "output_type": "execute_result"
    }
   ],
   "source": [
    "df['Screen Resolution'].describe()"
   ]
  },
  {
   "cell_type": "markdown",
   "metadata": {
    "Collapsed": "false"
   },
   "source": [
    "Handle NA, Get value of *Screeen Resolution*"
   ]
  },
  {
   "cell_type": "code",
   "execution_count": 798,
   "metadata": {
    "Collapsed": "false"
   },
   "outputs": [],
   "source": [
    "df['Screen Resolution'] = df['Screen Resolution'].fillna(\"1920 x 1080\")"
   ]
  },
  {
   "cell_type": "code",
   "execution_count": 799,
   "metadata": {
    "Collapsed": "false"
   },
   "outputs": [],
   "source": [
    "def check_screen_resolution(x):\n",
    "    xs = re.findall(r'\\d+', x)\n",
    "    if len(xs)!=2:\n",
    "        print(x)"
   ]
  },
  {
   "cell_type": "code",
   "execution_count": 800,
   "metadata": {
    "Collapsed": "false"
   },
   "outputs": [
    {
     "name": "stdout",
     "output_type": "stream",
     "text": [
      "3840*2160@30Hz\n",
      "1 pixels\n",
      "na\n",
      "17 Inch WQXGA (2560 x 1600)\n",
      "Information Not Avalble pixels\n",
      "4096×2160@30Hz\n",
      "3000 x 2000 pixel (267ppi)\n",
      "0.001x0.001\n",
      "1 pixels\n",
      "1900 pixels\n",
      "pixels\n",
      "1 pixels\n",
      "1280x800\",\" Max 2560x1600\n",
      "2560x1600 1280x800\n",
      "N/A pixels\n",
      "1 pixels\n",
      "1\n",
      "1024 pixels\n",
      "4K Ultra HD ( 3840 x 2160 ) IPS Touchscreen\n",
      "HD\n",
      "1536 pixels\n",
      "4K\n",
      "4K\n",
      "1\",920 x 1,\"080 pixels\n",
      "Full-HD\n",
      "1\",920 x 1,\"200 pixels\n",
      "2736 x 1824\",\" 267 PPI pixels\n",
      "1\",\"280 x 800 pixels\n",
      "13.66x768 pixels\n",
      "1\n",
      "1\n",
      "1 pixels\n",
      "1 pixels\n",
      "3000 x 2000 (267 PPI) pixels\n",
      "1 pixels\n",
      "564 PPI\n",
      "1 pixels\n",
      "3840 x 2160 4K IPS Touchscreen\n",
      "1\n",
      "2736 x 1824 (267 PPI)\n",
      "8.0\"\" Full HD IPS Display (1920x1200)\n",
      "4K Ultra HD ( 3840 x 2160 ) IPS Touchscreen\n",
      "1536 pixels\n",
      "1\n",
      "4K Ultra HD ( 3840 x 2160 )\n",
      "1 pixels\n",
      "1\n",
      "1\",\"280 x 800 pixels\n",
      "720P\n",
      "1 pixels\n",
      "1 pixels\n",
      "1 pixels\n",
      "214 pixels\n",
      "1\n",
      "1\n",
      "1536 pixels\n",
      "1\n",
      "1280 pixels\n",
      "1 pixels\n",
      "1080p\n"
     ]
    },
    {
     "data": {
      "text/plain": [
       "0       None\n",
       "1       None\n",
       "2       None\n",
       "3       None\n",
       "4       None\n",
       "        ... \n",
       "5759    None\n",
       "5760    None\n",
       "5761    None\n",
       "5762    None\n",
       "5763    None\n",
       "Name: Screen Resolution, Length: 5675, dtype: object"
      ]
     },
     "execution_count": 800,
     "metadata": {},
     "output_type": "execute_result"
    }
   ],
   "source": [
    "df['Screen Resolution'].map(check_screen_resolution)"
   ]
  },
  {
   "cell_type": "code",
   "execution_count": 801,
   "metadata": {
    "Collapsed": "false"
   },
   "outputs": [],
   "source": [
    "df['Screen Resolution'] = df['Screen Resolution'].replace(['1 pixels','1','N/A pixels', 'Information Not Avalble pixels',\\\n",
    "                                                          'na', '0.001x0.001', '1900 pixels', 'pixels', '1\",920 x 1,\"080 pixels',\\\n",
    "                                                           'Full-HD', '1080p','214 pixels'] \\\n",
    "                                                          ,'1920 x 1080')\n",
    "df['Screen Resolution'] = df['Screen Resolution'].replace(\"1024 pixels\", \"1024x576\")\n",
    "df['Screen Resolution'] = df['Screen Resolution'].replace([\"HD\", \"720P\", \"1280 pixels\"], \"1280 x 720\")\n",
    "df['Screen Resolution'] = df['Screen Resolution'].replace(\"1536 pixels\", \"2048 × 1536\")\n",
    "df['Screen Resolution'] = df['Screen Resolution'].replace(\"564 PPI\", \"2560 x 1440\")\n",
    "df['Screen Resolution'] = df['Screen Resolution'].replace(['2736 x 1824 (267 PPI)', '3000 x 2000 pixel (267ppi)', '2736 x 1824\",\" 267 PPI pixels'\\\n",
    "                                                          ,'2736 x 1824\",\" 267 PPI pixels', '3000 x 2000 (267 PPI) pixels'], \"2736 x 1824\")\n",
    "df['Screen Resolution'] = df['Screen Resolution'].replace(['4K', '4K Ultra HD ( 3840 x 2160 ) IPS Touchscreen', \\\n",
    "                                                           '3840 x 2160 4K IPS Touchscreen', '3840*2160@30Hz', \\\n",
    "                                                          '4K Ultra HD ( 3840 x 2160 )', '4K Ultra HD ( 3840 x 2160 ) IPS Touchscreen',\\\n",
    "                                                           '4K Ultra HD ( 3840 x 2160 ) IPS Touchscreen','4K@60Hz',\n",
    "                                                          '4K Ultra HD ( 3840 x 2160 ) IPS Touchscreen'], '3840 x 2160')\n",
    "df['Screen Resolution'] = df['Screen Resolution'].replace(['8.0\"\" Full HD IPS Display (1920x1200)', '1\",920 x 1,\"200 pixels'], \"1920 x 1200\")\n",
    "df['Screen Resolution'] = df['Screen Resolution'].replace(['17 Inch WQXGA (2560 x 1600)', '2560x1600 1280x800'], '2560 x 1600')\n",
    "df['Screen Resolution'] = df['Screen Resolution'].replace('4096×2160@30Hz', '4096×2160')\n",
    "df['Screen Resolution'] = df['Screen Resolution'].replace(['1280x800\",\" Max 2560x1600', '1\",\"280 x 800 pixels'], '1280 x 800')\n",
    "df['Screen Resolution'] = df['Screen Resolution'].replace('13.66x768 pixels', '1366 x 768')"
   ]
  },
  {
   "cell_type": "code",
   "execution_count": 802,
   "metadata": {
    "Collapsed": "false"
   },
   "outputs": [],
   "source": [
    "def get_screen_resolution(x):\n",
    "    xs = re.findall(r'\\d+', x)\n",
    "    xs = [int(x) for x in xs]\n",
    "    xs.sort(reverse = True)\n",
    "    return str(xs[0]) + ' '+ str(xs[1])"
   ]
  },
  {
   "cell_type": "code",
   "execution_count": 803,
   "metadata": {
    "Collapsed": "false"
   },
   "outputs": [
    {
     "data": {
      "text/plain": [
       "4032    4K Ultra HD ( 3840 x 2160 ) IPS Touchscreen\n",
       "Name: Screen Resolution, dtype: object"
      ]
     },
     "execution_count": 803,
     "metadata": {},
     "output_type": "execute_result"
    }
   ],
   "source": [
    "df[df['Screen Resolution'].str.contains(\"4K\")]['Screen Resolution']"
   ]
  },
  {
   "cell_type": "code",
   "execution_count": 804,
   "metadata": {
    "Collapsed": "false"
   },
   "outputs": [],
   "source": [
    "df['Screen Resolution'] = df['Screen Resolution'].map(get_screen_resolution)"
   ]
  },
  {
   "cell_type": "code",
   "execution_count": 805,
   "metadata": {
    "Collapsed": "false"
   },
   "outputs": [],
   "source": [
    "df['Screen Resolution Width'], df['Screen Resolution Height'] = df['Screen Resolution'].str.split(' ', 1).str\n",
    "df.drop(columns=['Screen Resolution'], axis=1, inplace=True)"
   ]
  },
  {
   "cell_type": "code",
   "execution_count": 806,
   "metadata": {
    "Collapsed": "false"
   },
   "outputs": [],
   "source": [
    "df['Screen Resolution Width'] = df['Screen Resolution Width'].astype(int)\n",
    "df['Screen Resolution Height'] = df['Screen Resolution Height'].astype(int)"
   ]
  },
  {
   "cell_type": "code",
   "execution_count": 807,
   "metadata": {
    "Collapsed": "false"
   },
   "outputs": [
    {
     "data": {
      "text/plain": [
       "<matplotlib.axes._subplots.AxesSubplot at 0x7f0664ff1908>"
      ]
     },
     "execution_count": 807,
     "metadata": {},
     "output_type": "execute_result"
    },
    {
     "data": {
      "image/png": "[encoded data removed]",
      "text/plain": [
       "<Figure size 432x288 with 1 Axes>"
      ]
     },
     "metadata": {
      "needs_background": "light"
     },
     "output_type": "display_data"
    }
   ],
   "source": [
    "sns.scatterplot(x=\"Screen Resolution Width\", y=\"Screen Resolution Height\", data=df)"
   ]
  },
  {
   "cell_type": "markdown",
   "metadata": {
    "Collapsed": "false"
   },
   "source": [
    "From chart about, it should be remove outline (avoid noise)"
   ]
  },
  {
   "cell_type": "code",
   "execution_count": 808,
   "metadata": {
    "Collapsed": "false"
   },
   "outputs": [],
   "source": [
    "df.drop(df['Screen Resolution Width'].idxmax(), inplace=True)\n",
    "df.drop(df['Screen Resolution Width'].idxmin(), inplace=True)"
   ]
  },
  {
   "cell_type": "code",
   "execution_count": 809,
   "metadata": {
    "Collapsed": "false"
   },
   "outputs": [
    {
     "data": {
      "text/html": [
       "<div>\n",
       "<style scoped>\n",
       "    .dataframe tbody tr th:only-of-type {\n",
       "        vertical-align: middle;\n",
       "    }\n",
       "\n",
       "    .dataframe tbody tr th {\n",
       "        vertical-align: top;\n",
       "    }\n",
       "\n",
       "    .dataframe thead th {\n",
       "        text-align: right;\n",
       "    }\n",
       "</style>\n",
       "<table border=\"1\" class=\"dataframe\">\n",
       "  <thead>\n",
       "    <tr style=\"text-align: right;\">\n",
       "      <th></th>\n",
       "      <th>Screen Resolution Width</th>\n",
       "      <th>Screen Resolution Height</th>\n",
       "    </tr>\n",
       "  </thead>\n",
       "  <tbody>\n",
       "    <tr>\n",
       "      <td>count</td>\n",
       "      <td>5673.000000</td>\n",
       "      <td>5673.000000</td>\n",
       "    </tr>\n",
       "    <tr>\n",
       "      <td>mean</td>\n",
       "      <td>1816.966508</td>\n",
       "      <td>1038.381103</td>\n",
       "    </tr>\n",
       "    <tr>\n",
       "      <td>std</td>\n",
       "      <td>469.960487</td>\n",
       "      <td>278.581371</td>\n",
       "    </tr>\n",
       "    <tr>\n",
       "      <td>min</td>\n",
       "      <td>640.000000</td>\n",
       "      <td>480.000000</td>\n",
       "    </tr>\n",
       "    <tr>\n",
       "      <td>25%</td>\n",
       "      <td>1366.000000</td>\n",
       "      <td>768.000000</td>\n",
       "    </tr>\n",
       "    <tr>\n",
       "      <td>50%</td>\n",
       "      <td>1920.000000</td>\n",
       "      <td>1080.000000</td>\n",
       "    </tr>\n",
       "    <tr>\n",
       "      <td>75%</td>\n",
       "      <td>1920.000000</td>\n",
       "      <td>1080.000000</td>\n",
       "    </tr>\n",
       "    <tr>\n",
       "      <td>max</td>\n",
       "      <td>4096.000000</td>\n",
       "      <td>2560.000000</td>\n",
       "    </tr>\n",
       "  </tbody>\n",
       "</table>\n",
       "</div>"
      ],
      "text/plain": [
       "       Screen Resolution Width  Screen Resolution Height\n",
       "count              5673.000000               5673.000000\n",
       "mean               1816.966508               1038.381103\n",
       "std                 469.960487                278.581371\n",
       "min                 640.000000                480.000000\n",
       "25%                1366.000000                768.000000\n",
       "50%                1920.000000               1080.000000\n",
       "75%                1920.000000               1080.000000\n",
       "max                4096.000000               2560.000000"
      ]
     },
     "execution_count": 809,
     "metadata": {},
     "output_type": "execute_result"
    }
   ],
   "source": [
    "df[['Screen Resolution Width', 'Screen Resolution Height']].describe()"
   ]
  },
  {
   "cell_type": "markdown",
   "metadata": {
    "Collapsed": "true"
   },
   "source": [
    "#### __Screen Size__\n",
    "\n",
    "Just get value and convert type\n",
    "\n",
    "> - Column Name: Screen Size\n",
    "- Type: float"
   ]
  },
  {
   "cell_type": "code",
   "execution_count": 810,
   "metadata": {
    "Collapsed": "false"
   },
   "outputs": [],
   "source": [
    "df['Screen Size'] = df['Screen Size'].astype('str')"
   ]
  },
  {
   "cell_type": "code",
   "execution_count": 811,
   "metadata": {
    "Collapsed": "false"
   },
   "outputs": [
    {
     "data": {
      "text/plain": [
       "count            5673\n",
       "unique             93\n",
       "top       15.6 inches\n",
       "freq             2039\n",
       "Name: Screen Size, dtype: object"
      ]
     },
     "execution_count": 811,
     "metadata": {},
     "output_type": "execute_result"
    }
   ],
   "source": [
    "df['Screen Size'].describe()"
   ]
  },
  {
   "cell_type": "markdown",
   "metadata": {
    "Collapsed": "false"
   },
   "source": [
    "*Screen Size* will fill NA by most appear in df"
   ]
  },
  {
   "cell_type": "code",
   "execution_count": 812,
   "metadata": {
    "Collapsed": "false"
   },
   "outputs": [],
   "source": [
    "value = \"15.6 inches\""
   ]
  },
  {
   "cell_type": "code",
   "execution_count": 813,
   "metadata": {
    "Collapsed": "false"
   },
   "outputs": [],
   "source": [
    "# Will updated\n",
    "df['Screen Size'] = df['Screen Size'].fillna(value)\n",
    "df['Screen Size'] = df['Screen Size'].replace(['nan','1 centimeters','1', '1 inches', '0.1 inches', '0.1 centimeters', '0.01 inches', \\\n",
    "                                                '0.01 centimeters', '1080', '156 inches'], value)\n",
    "df['Screen Size'] = df['Screen Size'].replace(['100 inches'], '10.1 inches')\n",
    "df['Screen Size'] = df['Screen Size'].replace(['114 inches'], '11.4 inches')"
   ]
  },
  {
   "cell_type": "code",
   "execution_count": 814,
   "metadata": {
    "Collapsed": "false"
   },
   "outputs": [
    {
     "data": {
      "text/plain": [
       "array(['10.1 inches', '11 inches', '14.1 inches', '7.1 inches',\n",
       "       '21 inches', '10.1 Feet', '16.1 inches'], dtype=object)"
      ]
     },
     "execution_count": 814,
     "metadata": {},
     "output_type": "execute_result"
    }
   ],
   "source": [
    "# Just for test\n",
    "df[df['Screen Size'].str.contains('1 ')]['Screen Size'].unique()"
   ]
  },
  {
   "cell_type": "code",
   "execution_count": 815,
   "metadata": {
    "Collapsed": "false"
   },
   "outputs": [],
   "source": [
    "def get_screen_size(x):\n",
    "    arr = x.split()\n",
    "    if len(arr) > 0:\n",
    "        return arr[0]\n",
    "    return x"
   ]
  },
  {
   "cell_type": "code",
   "execution_count": 816,
   "metadata": {
    "Collapsed": "false"
   },
   "outputs": [
    {
     "data": {
      "text/plain": [
       "array(['15.6', '10.1', '11.6', '14', '12.3', '9.7', '10.5', '0.01', '7',\n",
       "       '12.9', '23.8', '11', '13.3', '17.3', '10', '8', '7.9', '13.5',\n",
       "       '15', '14.1', '12.2', '9.6', '17', '20', '13', '12.5', '10.8',\n",
       "       '13.9', '11.5', '3', '28', '27', '0.1', '15.4', '12', '5', '8.4',\n",
       "       '6', '11.4', '20.32', '100', '9', '8.9', '19.5', '24', '21.5',\n",
       "       '17.25', '7.1', '10.2', '21', '10.6', '14.7', '7.85', '2.5',\n",
       "       '33.78', '4.3', '12.4', '23', '14.4', '8.3', '18.4', '16', '22',\n",
       "       '39.624', '2.7', '32', '15.5', '6.9', '19', '16.1', '11.2', '32.8',\n",
       "       '18.5', '3.8'], dtype=object)"
      ]
     },
     "execution_count": 816,
     "metadata": {},
     "output_type": "execute_result"
    }
   ],
   "source": [
    "df['Screen Size'].map(get_screen_size).unique()"
   ]
  },
  {
   "cell_type": "markdown",
   "metadata": {
    "Collapsed": "false"
   },
   "source": [
    "In this result abouve, some value need to replace.\n",
    "\n",
    "Code will updated in cell above.\n",
    "\n",
    "Value need to replaced: \n",
    "- ['1', '0.1', '0.01', '1080', '156']: 15.6\n",
    "- 100: 10.1\n",
    "- 114: 11.4"
   ]
  },
  {
   "cell_type": "code",
   "execution_count": 817,
   "metadata": {
    "Collapsed": "false"
   },
   "outputs": [],
   "source": [
    "# Apply\n",
    "df['Screen Size'] = df['Screen Size'].map(get_screen_size)"
   ]
  },
  {
   "cell_type": "code",
   "execution_count": 818,
   "metadata": {
    "Collapsed": "false"
   },
   "outputs": [],
   "source": [
    "df['Screen Size'] = df['Screen Size'].astype(float)"
   ]
  },
  {
   "cell_type": "markdown",
   "metadata": {
    "Collapsed": "false"
   },
   "source": [
    "Remove outline value"
   ]
  },
  {
   "cell_type": "code",
   "execution_count": 819,
   "metadata": {
    "Collapsed": "false"
   },
   "outputs": [
    {
     "data": {
      "text/plain": [
       "<matplotlib.axes._subplots.AxesSubplot at 0x7f06650c7358>"
      ]
     },
     "execution_count": 819,
     "metadata": {},
     "output_type": "execute_result"
    },
    {
     "data": {
      "image/png": "[encoded data removed]",
      "text/plain": [
       "<Figure size 432x288 with 1 Axes>"
      ]
     },
     "metadata": {
      "needs_background": "light"
     },
     "output_type": "display_data"
    }
   ],
   "source": [
    "sns.boxplot(x=df['Screen Size'])"
   ]
  },
  {
   "cell_type": "code",
   "execution_count": 820,
   "metadata": {
    "Collapsed": "false"
   },
   "outputs": [
    {
     "data": {
      "text/plain": [
       "0"
      ]
     },
     "execution_count": 820,
     "metadata": {},
     "output_type": "execute_result"
    }
   ],
   "source": [
    "df['Screen Size'].isna().sum()"
   ]
  },
  {
   "cell_type": "code",
   "execution_count": 821,
   "metadata": {
    "Collapsed": "false"
   },
   "outputs": [
    {
     "data": {
      "text/plain": [
       "count    5673.000000\n",
       "mean       14.139474\n",
       "std         3.366125\n",
       "min         0.010000\n",
       "25%        13.300000\n",
       "50%        15.600000\n",
       "75%        15.600000\n",
       "max       100.000000\n",
       "Name: Screen Size, dtype: float64"
      ]
     },
     "execution_count": 821,
     "metadata": {},
     "output_type": "execute_result"
    }
   ],
   "source": [
    "df['Screen Size'].describe()"
   ]
  },
  {
   "cell_type": "code",
   "execution_count": 822,
   "metadata": {
    "Collapsed": "false"
   },
   "outputs": [],
   "source": [
    "df = df[(df['Screen Size'] >= 7) & (df['Screen Size'] <= 64)]"
   ]
  },
  {
   "cell_type": "code",
   "execution_count": 823,
   "metadata": {
    "Collapsed": "false"
   },
   "outputs": [
    {
     "data": {
      "image/png": "[encoded data removed]",
      "text/plain": [
       "<Figure size 432x288 with 1 Axes>"
      ]
     },
     "metadata": {
      "needs_background": "light"
     },
     "output_type": "display_data"
    }
   ],
   "source": [
    "sns.distplot(df['Screen Size'], kde=False);"
   ]
  },
  {
   "cell_type": "markdown",
   "metadata": {
    "Collapsed": "true"
   },
   "source": [
    "#### __Processor__"
   ]
  },
  {
   "cell_type": "code",
   "execution_count": 824,
   "metadata": {
    "Collapsed": "false"
   },
   "outputs": [
    {
     "data": {
      "text/plain": [
       "978"
      ]
     },
     "execution_count": 824,
     "metadata": {},
     "output_type": "execute_result"
    }
   ],
   "source": [
    "df['Processor'].nunique()"
   ]
  },
  {
   "cell_type": "markdown",
   "metadata": {
    "Collapsed": "false"
   },
   "source": [
    "#### __RAM__\n",
    "Get RAM. ex: 8GB convert to 8\n",
    "\n",
    "> - Column Name: RAM\n",
    "-Type: int\n"
   ]
  },
  {
   "cell_type": "code",
   "execution_count": 825,
   "metadata": {
    "Collapsed": "false"
   },
   "outputs": [
    {
     "data": {
      "text/plain": [
       "count     5496\n",
       "unique     317\n",
       "top       8 GB\n",
       "freq       682\n",
       "Name: RAM, dtype: object"
      ]
     },
     "execution_count": 825,
     "metadata": {},
     "output_type": "execute_result"
    }
   ],
   "source": [
    "df['RAM'].describe()"
   ]
  },
  {
   "cell_type": "code",
   "execution_count": 826,
   "metadata": {
    "Collapsed": "false"
   },
   "outputs": [],
   "source": [
    "df['RAM'] = df['RAM'].fillna(\"8 GB\")"
   ]
  },
  {
   "cell_type": "code",
   "execution_count": 827,
   "metadata": {
    "Collapsed": "false"
   },
   "outputs": [
    {
     "data": {
      "text/plain": [
       "2292           8 GB DDR3\n",
       "3646           1 GB DDR2\n",
       "1059                8 GB\n",
       "3403    16 GB ddr4_sdram\n",
       "3516                8 GB\n",
       "4702           16 GB DDR\n",
       "4698                4 GB\n",
       "2896           8 GB DDR4\n",
       "4350           8 GB DDR4\n",
       "901           16 GB DDR4\n",
       "Name: RAM, dtype: object"
      ]
     },
     "execution_count": 827,
     "metadata": {},
     "output_type": "execute_result"
    }
   ],
   "source": [
    "df['RAM'].sample(10)"
   ]
  },
  {
   "cell_type": "code",
   "execution_count": 828,
   "metadata": {
    "Collapsed": "false"
   },
   "outputs": [],
   "source": [
    "RAM_FILL = 8"
   ]
  },
  {
   "cell_type": "code",
   "execution_count": 829,
   "metadata": {
    "Collapsed": "false"
   },
   "outputs": [],
   "source": [
    "def get_ram(x):\n",
    "    x = x.upper()\n",
    "    xs = re.findall('\\d+ GB|\\d+ DDR4', x)\n",
    "    \n",
    "    if len(xs)>0:\n",
    "        return xs[0].split()[0]\n",
    "    return RAM_FILL"
   ]
  },
  {
   "cell_type": "code",
   "execution_count": 830,
   "metadata": {
    "Collapsed": "false"
   },
   "outputs": [],
   "source": [
    "df['RAM'] = df['RAM'].map(get_ram)\n"
   ]
  },
  {
   "cell_type": "code",
   "execution_count": 831,
   "metadata": {
    "Collapsed": "false"
   },
   "outputs": [],
   "source": [
    "df['RAM'] = df['RAM'].astype(int)"
   ]
  },
  {
   "cell_type": "code",
   "execution_count": 841,
   "metadata": {
    "Collapsed": "false"
   },
   "outputs": [
    {
     "data": {
      "text/plain": [
       "count    5596.000000\n",
       "mean       10.498392\n",
       "std        21.604194\n",
       "min         1.000000\n",
       "25%         4.000000\n",
       "50%         8.000000\n",
       "75%        12.000000\n",
       "max       512.000000\n",
       "Name: RAM, dtype: float64"
      ]
     },
     "execution_count": 841,
     "metadata": {},
     "output_type": "execute_result"
    }
   ],
   "source": [
    "df['RAM'].describe()"
   ]
  },
  {
   "cell_type": "markdown",
   "metadata": {
    "Collapsed": "false"
   },
   "source": [
    "#### __Hard Drive__"
   ]
  },
  {
   "cell_type": "markdown",
   "metadata": {
    "Collapsed": "false"
   },
   "source": [
    "#### __Brand Name__"
   ]
  },
  {
   "cell_type": "markdown",
   "metadata": {
    "Collapsed": "false"
   },
   "source": [
    "#### __Series__"
   ]
  },
  {
   "cell_type": "markdown",
   "metadata": {
    "Collapsed": "false"
   },
   "source": [
    "#### __Operating System__"
   ]
  },
  {
   "cell_type": "markdown",
   "metadata": {
    "Collapsed": "false"
   },
   "source": [
    "#### __Item Weight__"
   ]
  },
  {
   "cell_type": "markdown",
   "metadata": {
    "Collapsed": "false"
   },
   "source": [
    "#### __Processor Brand__"
   ]
  },
  {
   "cell_type": "markdown",
   "metadata": {
    "Collapsed": "false"
   },
   "source": [
    "#### __Processor Count__"
   ]
  },
  {
   "cell_type": "markdown",
   "metadata": {
    "Collapsed": "false"
   },
   "source": [
    "#### __Card Description__"
   ]
  },
  {
   "cell_type": "markdown",
   "metadata": {
    "Collapsed": "false"
   },
   "source": [
    "#### __Wireless Type__"
   ]
  },
  {
   "cell_type": "markdown",
   "metadata": {
    "Collapsed": "false"
   },
   "source": [
    "#### __Item model number__"
   ]
  },
  {
   "cell_type": "markdown",
   "metadata": {
    "Collapsed": "false"
   },
   "source": [
    "#### __Product Dimensions__"
   ]
  },
  {
   "cell_type": "markdown",
   "metadata": {
    "Collapsed": "false"
   },
   "source": [
    "#### __Item Dimensions L x W x H__"
   ]
  },
  {
   "cell_type": "markdown",
   "metadata": {
    "Collapsed": "false"
   },
   "source": [
    "#### __Batteries__"
   ]
  },
  {
   "cell_type": "markdown",
   "metadata": {
    "Collapsed": "false"
   },
   "source": [
    "#### __Hardware Platform__"
   ]
  },
  {
   "cell_type": "markdown",
   "metadata": {
    "Collapsed": "false"
   },
   "source": [
    "#### __Hard Drive Interface__"
   ]
  },
  {
   "cell_type": "markdown",
   "metadata": {
    "Collapsed": "false"
   },
   "source": [
    "#### __Computer Memory Type__"
   ]
  },
  {
   "cell_type": "markdown",
   "metadata": {
    "Collapsed": "false"
   },
   "source": [
    "### Drop column has many NaN value"
   ]
  },
  {
   "cell_type": "code",
   "execution_count": 859,
   "metadata": {
    "Collapsed": "false"
   },
   "outputs": [
    {
     "data": {
      "text/plain": [
       "Price                                 0\n",
       "Screen Size                           0\n",
       "Processor                           217\n",
       "RAM                                   0\n",
       "Hard Drive                          127\n",
       "Graphics Coprocessor                824\n",
       "Chipset Brand                      1745\n",
       "Card Description                   1399\n",
       "Wireless Type                      1380\n",
       "Number of USB 2.0 Ports            3969\n",
       "Number of USB 3.0 Ports            4381\n",
       "Brand Name                           22\n",
       "Series                              396\n",
       "Item model number                  1163\n",
       "Operating System                    556\n",
       "Item Weight                           1\n",
       "Product Dimensions                  882\n",
       "Item Dimensions L x W x H           882\n",
       "Color                              2638\n",
       "Processor Brand                     712\n",
       "Processor Count                     118\n",
       "Computer Memory Type               1484\n",
       "Flash Memory Size                  1692\n",
       "Hard Drive Interface               1406\n",
       "Hard Drive Rotational Speed        3690\n",
       "Optical Drive Type                 4058\n",
       "Batteries                          1323\n",
       "Average Battery Life (in hours)    3775\n",
       "Hardware Platform                  1279\n",
       "Rear Webcam Resolution             4681\n",
       "Power Source                       3838\n",
       "Voltage                            5286\n",
       "Memory Speed                       4316\n",
       "California residents               5528\n",
       "Graphics Card Ram Size             4738\n",
       "National Stock Number              5584\n",
       "Package Dimensions                 4715\n",
       "Audio-out Ports (#)                5567\n",
       "Battery Type                       5572\n",
       "Screen Resolution Width               0\n",
       "Screen Resolution Height              0\n",
       "dtype: int64"
      ]
     },
     "execution_count": 859,
     "metadata": {},
     "output_type": "execute_result"
    }
   ],
   "source": [
    "df.isna().sum()"
   ]
  },
  {
   "cell_type": "code",
   "execution_count": 7,
   "metadata": {
    "Collapsed": "false"
   },
   "outputs": [
    {
     "data": {
      "text/plain": [
       "count      41.000000\n",
       "mean     2412.000000\n",
       "std      1999.674849\n",
       "min         1.000000\n",
       "25%       736.000000\n",
       "50%      1563.000000\n",
       "75%      4156.000000\n",
       "max      5752.000000\n",
       "dtype: float64"
      ]
     },
     "execution_count": 7,
     "metadata": {},
     "output_type": "execute_result"
    }
   ],
   "source": [
    "df.isna().sum().describe()"
   ]
  },
  {
   "cell_type": "code",
   "execution_count": 8,
   "metadata": {
    "Collapsed": "false"
   },
   "outputs": [],
   "source": [
    "# Drop > 75% NaN values of columns\n",
    "MAX_NAN_COUNT = 4156"
   ]
  },
  {
   "cell_type": "code",
   "execution_count": 9,
   "metadata": {
    "Collapsed": "false"
   },
   "outputs": [
    {
     "data": {
      "text/plain": [
       "['Number of USB 3.0 Ports',\n",
       " 'Rear Webcam Resolution',\n",
       " 'Voltage',\n",
       " 'Memory Speed',\n",
       " 'California residents',\n",
       " 'Graphics Card Ram Size',\n",
       " 'National Stock Number',\n",
       " 'Package Dimensions',\n",
       " 'Audio-out Ports (#)',\n",
       " 'Battery Type']"
      ]
     },
     "execution_count": 9,
     "metadata": {},
     "output_type": "execute_result"
    }
   ],
   "source": [
    "drop_cols_name = [col for col in df.columns if df[col].isna().sum() > MAX_NAN_COUNT]\n",
    "drop_cols_name\n",
    "# for i in drop_cols_name:\n",
    "#     print(df[i].isna().sum())"
   ]
  },
  {
   "cell_type": "code",
   "execution_count": 10,
   "metadata": {
    "Collapsed": "false"
   },
   "outputs": [],
   "source": [
    "df.drop(columns=drop_cols_name, axis=1, inplace=True)"
   ]
  },
  {
   "cell_type": "markdown",
   "metadata": {
    "Collapsed": "true"
   },
   "source": [
    "### 3. Get price"
   ]
  },
  {
   "cell_type": "code",
   "execution_count": 12,
   "metadata": {
    "Collapsed": "false"
   },
   "outputs": [],
   "source": [
    "def handle_price(s):\n",
    "    s = str(s)\n",
    "    for ch in ['$', '\"', '\\'', ',', ' ']:\n",
    "        s = s.replace(ch, '')\n",
    "    return s"
   ]
  },
  {
   "cell_type": "code",
   "execution_count": 13,
   "metadata": {
    "Collapsed": "false"
   },
   "outputs": [
    {
     "data": {
      "text/plain": [
       "1343324.2"
      ]
     },
     "execution_count": 13,
     "metadata": {},
     "output_type": "execute_result"
    }
   ],
   "source": [
    "float(handle_price('1,\"343,324.2'))"
   ]
  },
  {
   "cell_type": "code",
   "execution_count": 14,
   "metadata": {
    "Collapsed": "false"
   },
   "outputs": [],
   "source": [
    "df['Price'] = df['Price'].map(handle_price)\n",
    "df['Price'] = df['Price'].astype(float)"
   ]
  },
  {
   "cell_type": "markdown",
   "metadata": {
    "Collapsed": "false"
   },
   "source": [
    "### 4. Handle NaN value"
   ]
  },
  {
   "cell_type": "markdown",
   "metadata": {
    "Collapsed": "false"
   },
   "source": [
    "List all column has NaN value"
   ]
  },
  {
   "cell_type": "code",
   "execution_count": 122,
   "metadata": {
    "Collapsed": "false"
   },
   "outputs": [
    {
     "data": {
      "text/plain": [
       "Price                              False\n",
       "Screen Size                         True\n",
       "Processor                           True\n",
       "RAM                                 True\n",
       "Hard Drive                          True\n",
       "Graphics Coprocessor                True\n",
       "Chipset Brand                       True\n",
       "Card Description                    True\n",
       "Wireless Type                       True\n",
       "Number of USB 2.0 Ports             True\n",
       "Number of USB 3.0 Ports             True\n",
       "Brand Name                          True\n",
       "Series                              True\n",
       "Item model number                   True\n",
       "Operating System                    True\n",
       "Item Weight                         True\n",
       "Product Dimensions                  True\n",
       "Item Dimensions L x W x H           True\n",
       "Color                               True\n",
       "Processor Brand                     True\n",
       "Processor Count                     True\n",
       "Computer Memory Type                True\n",
       "Flash Memory Size                   True\n",
       "Hard Drive Interface                True\n",
       "Hard Drive Rotational Speed         True\n",
       "Optical Drive Type                  True\n",
       "Batteries                           True\n",
       "Screen Resolution                   True\n",
       "Average Battery Life (in hours)     True\n",
       "Hardware Platform                   True\n",
       "Rear Webcam Resolution              True\n",
       "Power Source                        True\n",
       "Voltage                             True\n",
       "Memory Speed                        True\n",
       "California residents                True\n",
       "Graphics Card Ram Size              True\n",
       "National Stock Number               True\n",
       "Package Dimensions                  True\n",
       "Audio-out Ports (#)                 True\n",
       "Battery Type                        True\n",
       "dtype: bool"
      ]
     },
     "execution_count": 122,
     "metadata": {},
     "output_type": "execute_result"
    }
   ],
   "source": [
    "df.isna().any()"
   ]
  },
  {
   "cell_type": "code",
   "execution_count": 49,
   "metadata": {
    "Collapsed": "false"
   },
   "outputs": [],
   "source": [
    "# Fill na \n",
    "df = df.replace('', np.nan)"
   ]
  },
  {
   "cell_type": "markdown",
   "metadata": {
    "Collapsed": "false"
   },
   "source": [
    "#### 4.1 Drop NaN value in __Price__"
   ]
  },
  {
   "cell_type": "code",
   "execution_count": 15,
   "metadata": {
    "Collapsed": "false"
   },
   "outputs": [],
   "source": [
    "df.dropna(subset=['Price'], how='all', inplace=True)"
   ]
  },
  {
   "cell_type": "markdown",
   "metadata": {
    "Collapsed": "false"
   },
   "source": [
    "#### 4.2 __Screeen Resolution__\n",
    "\n",
    "Merge two columns: *Max Screen Resolution* and *Screen Resolutiono*. Since, two columns are same and just keep one columns for prediction.\n",
    "\n",
    "The *Screen Resolution* will be keeped."
   ]
  },
  {
   "cell_type": "code",
   "execution_count": 28,
   "metadata": {
    "Collapsed": "false"
   },
   "outputs": [
    {
     "data": {
      "text/plain": [
       "Max Screen Resolution    1850\n",
       "Screen Resolution        3573\n",
       "dtype: int64"
      ]
     },
     "execution_count": 28,
     "metadata": {},
     "output_type": "execute_result"
    }
   ],
   "source": [
    "df[['Max Screen Resolution', 'Screen Resolution']].isna().sum()"
   ]
  },
  {
   "cell_type": "code",
   "execution_count": 51,
   "metadata": {
    "Collapsed": "false"
   },
   "outputs": [
    {
     "data": {
      "text/html": [
       "<div>\n",
       "<style scoped>\n",
       "    .dataframe tbody tr th:only-of-type {\n",
       "        vertical-align: middle;\n",
       "    }\n",
       "\n",
       "    .dataframe tbody tr th {\n",
       "        vertical-align: top;\n",
       "    }\n",
       "\n",
       "    .dataframe thead th {\n",
       "        text-align: right;\n",
       "    }\n",
       "</style>\n",
       "<table border=\"1\" class=\"dataframe\">\n",
       "  <thead>\n",
       "    <tr style=\"text-align: right;\">\n",
       "      <th></th>\n",
       "      <th>Max Screen Resolution</th>\n",
       "      <th>Screen Resolution</th>\n",
       "    </tr>\n",
       "  </thead>\n",
       "  <tbody>\n",
       "    <tr>\n",
       "      <td>0</td>\n",
       "      <td>1920 x 1080</td>\n",
       "      <td>NaN</td>\n",
       "    </tr>\n",
       "    <tr>\n",
       "      <td>3</td>\n",
       "      <td>1920 x 1080</td>\n",
       "      <td>NaN</td>\n",
       "    </tr>\n",
       "    <tr>\n",
       "      <td>6</td>\n",
       "      <td>1920 x 1080 pixels</td>\n",
       "      <td>NaN</td>\n",
       "    </tr>\n",
       "    <tr>\n",
       "      <td>9</td>\n",
       "      <td>1920 x 1080</td>\n",
       "      <td>NaN</td>\n",
       "    </tr>\n",
       "    <tr>\n",
       "      <td>10</td>\n",
       "      <td>1920 x 1080</td>\n",
       "      <td>NaN</td>\n",
       "    </tr>\n",
       "    <tr>\n",
       "      <td>...</td>\n",
       "      <td>...</td>\n",
       "      <td>...</td>\n",
       "    </tr>\n",
       "    <tr>\n",
       "      <td>5751</td>\n",
       "      <td>800x1280 pixels</td>\n",
       "      <td>NaN</td>\n",
       "    </tr>\n",
       "    <tr>\n",
       "      <td>5753</td>\n",
       "      <td>1366 x 768</td>\n",
       "      <td>NaN</td>\n",
       "    </tr>\n",
       "    <tr>\n",
       "      <td>5755</td>\n",
       "      <td>1366 x 768</td>\n",
       "      <td>NaN</td>\n",
       "    </tr>\n",
       "    <tr>\n",
       "      <td>5756</td>\n",
       "      <td>1024 x 600</td>\n",
       "      <td>NaN</td>\n",
       "    </tr>\n",
       "    <tr>\n",
       "      <td>5758</td>\n",
       "      <td>1920x1080</td>\n",
       "      <td>NaN</td>\n",
       "    </tr>\n",
       "  </tbody>\n",
       "</table>\n",
       "<p>2068 rows × 2 columns</p>\n",
       "</div>"
      ],
      "text/plain": [
       "     Max Screen Resolution Screen Resolution\n",
       "0              1920 x 1080               NaN\n",
       "3              1920 x 1080               NaN\n",
       "6       1920 x 1080 pixels               NaN\n",
       "9              1920 x 1080               NaN\n",
       "10             1920 x 1080               NaN\n",
       "...                    ...               ...\n",
       "5751       800x1280 pixels               NaN\n",
       "5753            1366 x 768               NaN\n",
       "5755            1366 x 768               NaN\n",
       "5756            1024 x 600               NaN\n",
       "5758             1920x1080               NaN\n",
       "\n",
       "[2068 rows x 2 columns]"
      ]
     },
     "execution_count": 51,
     "metadata": {},
     "output_type": "execute_result"
    }
   ],
   "source": [
    "df[df['Max Screen Resolution'].notna() & df['Screen Resolution'].isna()][['Max Screen Resolution', 'Screen Resolution']]"
   ]
  },
  {
   "cell_type": "markdown",
   "metadata": {
    "Collapsed": "false"
   },
   "source": [
    "Fill NA value of *Screen resolution* by value of *Max Screen resolution*"
   ]
  },
  {
   "cell_type": "code",
   "execution_count": 63,
   "metadata": {
    "Collapsed": "false"
   },
   "outputs": [],
   "source": [
    "df['Screen Resolution'] = df['Screen Resolution'].fillna(df['Max Screen Resolution'])"
   ]
  },
  {
   "cell_type": "code",
   "execution_count": 65,
   "metadata": {
    "Collapsed": "false"
   },
   "outputs": [],
   "source": [
    "df.drop(columns=['Max Screen Resolution'], axis=1, inplace=True)"
   ]
  },
  {
   "cell_type": "code",
   "execution_count": 61,
   "metadata": {
    "Collapsed": "false"
   },
   "outputs": [
    {
     "data": {
      "text/plain": [
       "1505"
      ]
     },
     "execution_count": 61,
     "metadata": {},
     "output_type": "execute_result"
    }
   ],
   "source": [
    "df['Screen Resolution'].isna().sum()"
   ]
  },
  {
   "cell_type": "code",
   "execution_count": 76,
   "metadata": {
    "Collapsed": "false"
   },
   "outputs": [
    {
     "data": {
      "text/plain": [
       "26.519823788546255"
      ]
     },
     "execution_count": 76,
     "metadata": {},
     "output_type": "execute_result"
    }
   ],
   "source": [
    "# Percent NA value of Screen resolution\n",
    "df['Screen Resolution'].isna().sum() / len(df['Screen Resolution'])*100"
   ]
  },
  {
   "cell_type": "markdown",
   "metadata": {
    "Collapsed": "false"
   },
   "source": [
    "#### Screen Size"
   ]
  },
  {
   "cell_type": "code",
   "execution_count": 80,
   "metadata": {
    "Collapsed": "false"
   },
   "outputs": [
    {
     "data": {
      "text/plain": [
       "count            5256\n",
       "unique             92\n",
       "top       15.6 inches\n",
       "freq             2039\n",
       "Name: Screen Size, dtype: object"
      ]
     },
     "execution_count": 80,
     "metadata": {},
     "output_type": "execute_result"
    }
   ],
   "source": [
    "df['Screen Size'].describe()"
   ]
  },
  {
   "cell_type": "code",
   "execution_count": null,
   "metadata": {
    "Collapsed": "false"
   },
   "outputs": [],
   "source": [
    "df["
   ]
  },
  {
   "cell_type": "markdown",
   "metadata": {
    "Collapsed": "false"
   },
   "source": [
    "### 5. #"
   ]
  },
  {
   "cell_type": "code",
   "execution_count": 77,
   "metadata": {
    "Collapsed": "false"
   },
   "outputs": [
    {
     "name": "stdout",
     "output_type": "stream",
     "text": [
      "<class 'pandas.core.frame.DataFrame'>\n",
      "Int64Index: 5675 entries, 0 to 5763\n",
      "Data columns (total 30 columns):\n",
      "Price                              5675 non-null float64\n",
      "Screen Size                        5256 non-null object\n",
      "Processor                          5449 non-null object\n",
      "RAM                                5571 non-null object\n",
      "Hard Drive                         5543 non-null object\n",
      "Graphics Coprocessor               4835 non-null object\n",
      "Chipset Brand                      3871 non-null object\n",
      "Card Description                   4264 non-null object\n",
      "Wireless Type                      4232 non-null object\n",
      "Number of USB 2.0 Ports            1675 non-null float64\n",
      "Brand Name                         5653 non-null object\n",
      "Series                             5266 non-null object\n",
      "Item model number                  4503 non-null object\n",
      "Operating System                   5103 non-null object\n",
      "Item Weight                        5674 non-null object\n",
      "Product Dimensions                 4788 non-null object\n",
      "Item Dimensions L x W x H          4788 non-null object\n",
      "Color                              2991 non-null object\n",
      "Processor Brand                    4945 non-null object\n",
      "Processor Count                    5551 non-null float64\n",
      "Computer Memory Type               4134 non-null object\n",
      "Flash Memory Size                  3954 non-null object\n",
      "Hard Drive Interface               4256 non-null object\n",
      "Hard Drive Rotational Speed        1968 non-null object\n",
      "Optical Drive Type                 1602 non-null object\n",
      "Batteries                          4290 non-null object\n",
      "Screen Resolution                  4170 non-null object\n",
      "Average Battery Life (in hours)    1833 non-null object\n",
      "Hardware Platform                  4360 non-null object\n",
      "Power Source                       1772 non-null object\n",
      "dtypes: float64(3), object(27)\n",
      "memory usage: 1.3+ MB\n"
     ]
    }
   ],
   "source": [
    "df.info()"
   ]
  },
  {
   "cell_type": "markdown",
   "metadata": {
    "Collapsed": "true"
   },
   "source": [
    "# Save file"
   ]
  },
  {
   "cell_type": "code",
   "execution_count": null,
   "metadata": {
    "Collapsed": "false"
   },
   "outputs": [],
   "source": [
    "df.to_csv(\"../amazon.csv\",index=0)"
   ]
  },
  {
   "cell_type": "markdown",
   "metadata": {
    "Collapsed": "false"
   },
   "source": [
    "# Other"
   ]
  },
  {
   "cell_type": "code",
   "execution_count": 17,
   "metadata": {
    "Collapsed": "false"
   },
   "outputs": [
    {
     "name": "stdout",
     "output_type": "stream",
     "text": [
      "<class 'pandas.core.frame.DataFrame'>\n",
      "Int64Index: 5675 entries, 0 to 5763\n",
      "Data columns (total 31 columns):\n",
      "Price                              5675 non-null float64\n",
      "Screen Size                        5256 non-null object\n",
      "Max Screen Resolution              3825 non-null object\n",
      "Processor                          5449 non-null object\n",
      "RAM                                5571 non-null object\n",
      "Hard Drive                         5543 non-null object\n",
      "Graphics Coprocessor               4835 non-null object\n",
      "Chipset Brand                      3871 non-null object\n",
      "Card Description                   4264 non-null object\n",
      "Wireless Type                      4232 non-null object\n",
      "Number of USB 2.0 Ports            1675 non-null float64\n",
      "Brand Name                         5653 non-null object\n",
      "Series                             5266 non-null object\n",
      "Item model number                  4503 non-null object\n",
      "Operating System                   5103 non-null object\n",
      "Item Weight                        5674 non-null object\n",
      "Product Dimensions                 4788 non-null object\n",
      "Item Dimensions L x W x H          4788 non-null object\n",
      "Color                              2991 non-null object\n",
      "Processor Brand                    4945 non-null object\n",
      "Processor Count                    5551 non-null float64\n",
      "Computer Memory Type               4134 non-null object\n",
      "Flash Memory Size                  3954 non-null object\n",
      "Hard Drive Interface               4256 non-null object\n",
      "Hard Drive Rotational Speed        1968 non-null object\n",
      "Optical Drive Type                 1602 non-null object\n",
      "Batteries                          4290 non-null object\n",
      "Screen Resolution                  2102 non-null object\n",
      "Average Battery Life (in hours)    1833 non-null object\n",
      "Hardware Platform                  4360 non-null object\n",
      "Power Source                       1772 non-null object\n",
      "dtypes: float64(3), object(28)\n",
      "memory usage: 1.4+ MB\n"
     ]
    }
   ],
   "source": [
    "df.info()"
   ]
  },
  {
   "cell_type": "code",
   "execution_count": null,
   "metadata": {
    "Collapsed": "false"
   },
   "outputs": [],
   "source": [
    "df.iloc[3]"
   ]
  },
  {
   "cell_type": "code",
   "execution_count": null,
   "metadata": {
    "Collapsed": "false"
   },
   "outputs": [],
   "source": [
    "df.iloc[0]"
   ]
  },
  {
   "cell_type": "code",
   "execution_count": null,
   "metadata": {
    "Collapsed": "false"
   },
   "outputs": [],
   "source": []
  },
  {
   "cell_type": "markdown",
   "metadata": {
    "Collapsed": "false"
   },
   "source": [
    "#### EDA"
   ]
  },
  {
   "cell_type": "code",
   "execution_count": null,
   "metadata": {
    "Collapsed": "false"
   },
   "outputs": [],
   "source": [
    "#Visual Exploratory Data Analysis (EDA) And Your First Model\n",
    "#EDA on Feature Variables\n",
    "print(list(set(df.dtypes.tolist())))\n",
    "df_object = df.select_dtypes(include=[\"object\"]).copy()\n",
    "df_int = df.select_dtypes(include=['int64']).copy()\n",
    "\n",
    "categorical = df_object.columns\n",
    "numerical = df_int.columns\n",
    "\n",
    "print(\"Datashape of Object Dataframe:\",df_object.shape)\n",
    "print(\"Datashape of Interger Dataframe:\",df_int.shape)"
   ]
  },
  {
   "cell_type": "code",
   "execution_count": null,
   "metadata": {
    "Collapsed": "false"
   },
   "outputs": [],
   "source": [
    "# Univariate Analysis\n",
    "# EDA with Categorical Variables\n",
    "\n",
    "fig,ax = plt.subplots(5,2, figsize=(20,20))\n",
    "for variable,subplot in zip(categorical,ax.flatten()):\n",
    "    sns.countplot(df[variable],ax=subplot)\n",
    "    for label in subplot.get_xticklabels():\n",
    "        label.set_rotation(20)"
   ]
  },
  {
   "cell_type": "code",
   "execution_count": null,
   "metadata": {
    "Collapsed": "false"
   },
   "outputs": [],
   "source": [
    "# EDA with Numerical Variables\n",
    "# df[numerical].hist(bins=50,figsize=(16,20),layout=(8,3))"
   ]
  },
  {
   "cell_type": "code",
   "execution_count": null,
   "metadata": {
    "Collapsed": "false"
   },
   "outputs": [],
   "source": []
  }
 ],
 "metadata": {
  "kernelspec": {
   "display_name": "Python 3",
   "language": "python",
   "name": "python3"
  },
  "language_info": {
   "codemirror_mode": {
    "name": "ipython",
    "version": 3
   },
   "file_extension": ".py",
   "mimetype": "text/x-python",
   "name": "python",
   "nbconvert_exporter": "python",
   "pygments_lexer": "ipython3",
   "version": "3.7.3"
  }
 },
 "nbformat": 4,
 "nbformat_minor": 4
}
