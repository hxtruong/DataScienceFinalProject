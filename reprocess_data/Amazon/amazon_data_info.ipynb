{
 "cells": [
  {
   "cell_type": "markdown",
   "metadata": {
    "Collapsed": "false"
   },
   "source": [
    "# Preprocessing Amazon data"
   ]
  },
  {
   "cell_type": "markdown",
   "metadata": {
    "Collapsed": "true"
   },
   "source": [
    "## Import library"
   ]
  },
  {
   "cell_type": "code",
   "execution_count": 96,
   "metadata": {
    "Collapsed": "false"
   },
   "outputs": [],
   "source": [
    "%matplotlib inline\n",
    "import pandas as pd\n",
    "import numpy as np\n",
    "from pandas.plotting import register_matplotlib_converters\n",
    "import matplotlib.pyplot as plt\n",
    "import seaborn as sns\n",
    "sns.set()\n",
    "\n",
    "# To avoid Warning message inbetween ...\n",
    "import warnings\n",
    "warnings.filterwarnings('ignore')"
   ]
  },
  {
   "cell_type": "code",
   "execution_count": 97,
   "metadata": {
    "Collapsed": "false"
   },
   "outputs": [],
   "source": [
    "# with open(\"../../dataset/Amazon/amazon_product_infos.csv\", encoding='utf-8') as f:\n",
    "#     with open('../../dataset/Amazon/amazon_product_infos_pre.csv', 'w', encoding='utf-8') as g:\n",
    "#         line = f.readline()\n",
    "#         print(line)\n",
    "#         count = 0\n",
    "#         while line != '':\n",
    "#             line = line[1:-1]\n",
    "#             datas = line.split('\\t')\n",
    "#             datas[len(datas)-1] = datas[len(datas)-1][:datas[len(datas)-1].find('\",,,')]\n",
    "#             item = '\\t'.join(datas) + '\\n'\n",
    "#             g.write(item)\n",
    "#             line = f.readline()"
   ]
  },
  {
   "cell_type": "markdown",
   "metadata": {
    "Collapsed": "true"
   },
   "source": [
    "## Read data"
   ]
  },
  {
   "cell_type": "code",
   "execution_count": 98,
   "metadata": {
    "Collapsed": "false"
   },
   "outputs": [
    {
     "data": {
      "text/html": [
       "<div>\n",
       "<style scoped>\n",
       "    .dataframe tbody tr th:only-of-type {\n",
       "        vertical-align: middle;\n",
       "    }\n",
       "\n",
       "    .dataframe tbody tr th {\n",
       "        vertical-align: top;\n",
       "    }\n",
       "\n",
       "    .dataframe thead th {\n",
       "        text-align: right;\n",
       "    }\n",
       "</style>\n",
       "<table border=\"1\" class=\"dataframe\">\n",
       "  <thead>\n",
       "    <tr style=\"text-align: right;\">\n",
       "      <th></th>\n",
       "      <th>Price</th>\n",
       "      <th>Screen Size</th>\n",
       "      <th>Max Screen Resolution</th>\n",
       "      <th>Processor</th>\n",
       "      <th>RAM</th>\n",
       "      <th>Hard Drive</th>\n",
       "      <th>Graphics Coprocessor</th>\n",
       "      <th>Chipset Brand</th>\n",
       "      <th>Card Description</th>\n",
       "      <th>Wireless Type</th>\n",
       "      <th>...</th>\n",
       "      <th>Rear Webcam Resolution</th>\n",
       "      <th>Power Source</th>\n",
       "      <th>Voltage</th>\n",
       "      <th>Memory Speed</th>\n",
       "      <th>California residents</th>\n",
       "      <th>Graphics Card Ram Size</th>\n",
       "      <th>National Stock Number</th>\n",
       "      <th>Package Dimensions</th>\n",
       "      <th>Audio-out Ports (#)</th>\n",
       "      <th>Battery Type</th>\n",
       "    </tr>\n",
       "  </thead>\n",
       "  <tbody>\n",
       "    <tr>\n",
       "      <td>0</td>\n",
       "      <td>$309.99</td>\n",
       "      <td>15.6 inches</td>\n",
       "      <td>1920 x 1080</td>\n",
       "      <td>3.5 GHz Ryzen 3 2200U</td>\n",
       "      <td>4 GB DDR4</td>\n",
       "      <td>128 GB Flash Memory Solid State</td>\n",
       "      <td>AMD Radeon Vega 3</td>\n",
       "      <td>AMD</td>\n",
       "      <td>Integrated</td>\n",
       "      <td>802.11ac</td>\n",
       "      <td>...</td>\n",
       "      <td>NaN</td>\n",
       "      <td>NaN</td>\n",
       "      <td>NaN</td>\n",
       "      <td>NaN</td>\n",
       "      <td>NaN</td>\n",
       "      <td>NaN</td>\n",
       "      <td>NaN</td>\n",
       "      <td>NaN</td>\n",
       "      <td>NaN</td>\n",
       "      <td>NaN</td>\n",
       "    </tr>\n",
       "    <tr>\n",
       "      <td>1</td>\n",
       "      <td>$162.92</td>\n",
       "      <td>10.1 inches</td>\n",
       "      <td>1920x1200 pixels</td>\n",
       "      <td>1.8 GHz 8032</td>\n",
       "      <td>2 GB</td>\n",
       "      <td>32 GB</td>\n",
       "      <td>Mali-G71 MP2</td>\n",
       "      <td>NaN</td>\n",
       "      <td>Integrated</td>\n",
       "      <td>802.11a/b/g/n/ac\", 2.4 GHz Radio Frequency,\" 5...</td>\n",
       "      <td>...</td>\n",
       "      <td>8 MP</td>\n",
       "      <td>Battery</td>\n",
       "      <td>5 volts</td>\n",
       "      <td>NaN</td>\n",
       "      <td>NaN</td>\n",
       "      <td>NaN</td>\n",
       "      <td>NaN</td>\n",
       "      <td>NaN</td>\n",
       "      <td>NaN</td>\n",
       "      <td>NaN</td>\n",
       "    </tr>\n",
       "    <tr>\n",
       "      <td>2</td>\n",
       "      <td>$246.99</td>\n",
       "      <td>11.6 inches</td>\n",
       "      <td>1366X768 pixels</td>\n",
       "      <td>2.1 GHz MediaTek_MT8127</td>\n",
       "      <td>4 GB LPDDR3</td>\n",
       "      <td>64 GB Flash Memory Solid State</td>\n",
       "      <td>PowerVR SGX543</td>\n",
       "      <td>Intel</td>\n",
       "      <td>Integrated</td>\n",
       "      <td>802.11a\", 802.11b,\" 802.11g</td>\n",
       "      <td>...</td>\n",
       "      <td>NaN</td>\n",
       "      <td>NaN</td>\n",
       "      <td>NaN</td>\n",
       "      <td>1600 MHz</td>\n",
       "      <td>Click here for Proposition 65 warning</td>\n",
       "      <td>NaN</td>\n",
       "      <td>NaN</td>\n",
       "      <td>NaN</td>\n",
       "      <td>NaN</td>\n",
       "      <td>NaN</td>\n",
       "    </tr>\n",
       "    <tr>\n",
       "      <td>3</td>\n",
       "      <td>1 ,\"089.00</td>\n",
       "      <td>15.6 inches</td>\n",
       "      <td>1920 x 1080</td>\n",
       "      <td>4.5 GHz Intel Core i7</td>\n",
       "      <td>16 GB DDR4</td>\n",
       "      <td>256 GB Flash Memory Solid State</td>\n",
       "      <td>NaN</td>\n",
       "      <td>NVIDIA</td>\n",
       "      <td>Dedicated</td>\n",
       "      <td>802.11ac</td>\n",
       "      <td>...</td>\n",
       "      <td>NaN</td>\n",
       "      <td>NaN</td>\n",
       "      <td>NaN</td>\n",
       "      <td>NaN</td>\n",
       "      <td>NaN</td>\n",
       "      <td>6 GB</td>\n",
       "      <td>NaN</td>\n",
       "      <td>NaN</td>\n",
       "      <td>NaN</td>\n",
       "      <td>NaN</td>\n",
       "    </tr>\n",
       "    <tr>\n",
       "      <td>4</td>\n",
       "      <td>$127.97</td>\n",
       "      <td>11.6 inches</td>\n",
       "      <td>1366 x 768 pixels</td>\n",
       "      <td>2.1 GHz MediaTek MT8125</td>\n",
       "      <td>4 GB DDR4</td>\n",
       "      <td>Flash Memory Solid State</td>\n",
       "      <td>PowerVR GX6250</td>\n",
       "      <td>Chromebook</td>\n",
       "      <td>Mediatek</td>\n",
       "      <td>Bluetooth</td>\n",
       "      <td>...</td>\n",
       "      <td>NaN</td>\n",
       "      <td>NaN</td>\n",
       "      <td>NaN</td>\n",
       "      <td>NaN</td>\n",
       "      <td>NaN</td>\n",
       "      <td>NaN</td>\n",
       "      <td>NaN</td>\n",
       "      <td>NaN</td>\n",
       "      <td>NaN</td>\n",
       "      <td>NaN</td>\n",
       "    </tr>\n",
       "    <tr>\n",
       "      <td>5</td>\n",
       "      <td>$536.97</td>\n",
       "      <td>14 inches</td>\n",
       "      <td>1440 x 900 pixels</td>\n",
       "      <td>2.1 GHz AMD R Series</td>\n",
       "      <td>12 GB DDR4</td>\n",
       "      <td>Flash Memory Solid State</td>\n",
       "      <td>AMD Radeon Vega 8</td>\n",
       "      <td>AMD</td>\n",
       "      <td>Integrated</td>\n",
       "      <td>Bluetooth</td>\n",
       "      <td>...</td>\n",
       "      <td>NaN</td>\n",
       "      <td>NaN</td>\n",
       "      <td>NaN</td>\n",
       "      <td>2400 MHz</td>\n",
       "      <td>NaN</td>\n",
       "      <td>NaN</td>\n",
       "      <td>NaN</td>\n",
       "      <td>NaN</td>\n",
       "      <td>NaN</td>\n",
       "      <td>NaN</td>\n",
       "    </tr>\n",
       "    <tr>\n",
       "      <td>6</td>\n",
       "      <td>$306.99</td>\n",
       "      <td>15.6 inches</td>\n",
       "      <td>1920 x 1080 pixels</td>\n",
       "      <td>2.2 GHz Intel Core i3</td>\n",
       "      <td>6 GB DDR3</td>\n",
       "      <td>1000 GB Mechanical Hard Drive</td>\n",
       "      <td>Intel HD Graphics 620</td>\n",
       "      <td>Intel</td>\n",
       "      <td>Integrated</td>\n",
       "      <td>802.11ac</td>\n",
       "      <td>...</td>\n",
       "      <td>NaN</td>\n",
       "      <td>NaN</td>\n",
       "      <td>100240 volts</td>\n",
       "      <td>NaN</td>\n",
       "      <td>NaN</td>\n",
       "      <td>2 GB</td>\n",
       "      <td>NaN</td>\n",
       "      <td>NaN</td>\n",
       "      <td>NaN</td>\n",
       "      <td>NaN</td>\n",
       "    </tr>\n",
       "    <tr>\n",
       "      <td>7</td>\n",
       "      <td>$147.00</td>\n",
       "      <td>10.1 inches</td>\n",
       "      <td>1920x1200 pixels</td>\n",
       "      <td>1.6 GHz Samsung Exynos 4210</td>\n",
       "      <td>2 GB DDR3</td>\n",
       "      <td>16 GB Hybrid Drive</td>\n",
       "      <td>1</td>\n",
       "      <td>NaN</td>\n",
       "      <td>Dedicated</td>\n",
       "      <td>Infrared</td>\n",
       "      <td>...</td>\n",
       "      <td>8 MP</td>\n",
       "      <td>Corded-Electric\",\" Battery</td>\n",
       "      <td>NaN</td>\n",
       "      <td>1866 MHz</td>\n",
       "      <td>NaN</td>\n",
       "      <td>NaN</td>\n",
       "      <td>NaN</td>\n",
       "      <td>NaN</td>\n",
       "      <td>NaN</td>\n",
       "      <td>NaN</td>\n",
       "    </tr>\n",
       "    <tr>\n",
       "      <td>8</td>\n",
       "      <td>$219.00</td>\n",
       "      <td>11.6 inches</td>\n",
       "      <td>NaN</td>\n",
       "      <td>1.6 GHz Celeron N</td>\n",
       "      <td>4 GB</td>\n",
       "      <td>64 GB 32GB eMMC</td>\n",
       "      <td>MediaTek</td>\n",
       "      <td>NaN</td>\n",
       "      <td>NaN</td>\n",
       "      <td>802.11ac</td>\n",
       "      <td>...</td>\n",
       "      <td>NaN</td>\n",
       "      <td>NaN</td>\n",
       "      <td>NaN</td>\n",
       "      <td>NaN</td>\n",
       "      <td>NaN</td>\n",
       "      <td>NaN</td>\n",
       "      <td>NaN</td>\n",
       "      <td>NaN</td>\n",
       "      <td>NaN</td>\n",
       "      <td>NaN</td>\n",
       "    </tr>\n",
       "    <tr>\n",
       "      <td>9</td>\n",
       "      <td>$449.99</td>\n",
       "      <td>15.6 inches</td>\n",
       "      <td>1920 x 1080</td>\n",
       "      <td>3.9 GHz Intel Core i5</td>\n",
       "      <td>8 GB DDR4</td>\n",
       "      <td>256 GB Flash Memory Solid State</td>\n",
       "      <td>Intel UHD Graphics 620</td>\n",
       "      <td>Intel</td>\n",
       "      <td>Integrated</td>\n",
       "      <td>802.11ac</td>\n",
       "      <td>...</td>\n",
       "      <td>NaN</td>\n",
       "      <td>NaN</td>\n",
       "      <td>NaN</td>\n",
       "      <td>NaN</td>\n",
       "      <td>NaN</td>\n",
       "      <td>NaN</td>\n",
       "      <td>NaN</td>\n",
       "      <td>NaN</td>\n",
       "      <td>NaN</td>\n",
       "      <td>NaN</td>\n",
       "    </tr>\n",
       "  </tbody>\n",
       "</table>\n",
       "<p>10 rows × 41 columns</p>\n",
       "</div>"
      ],
      "text/plain": [
       "        Price  Screen Size Max Screen Resolution                    Processor  \\\n",
       "0     $309.99  15.6 inches           1920 x 1080        3.5 GHz Ryzen 3 2200U   \n",
       "1     $162.92  10.1 inches      1920x1200 pixels                 1.8 GHz 8032   \n",
       "2     $246.99  11.6 inches       1366X768 pixels      2.1 GHz MediaTek_MT8127   \n",
       "3  1 ,\"089.00  15.6 inches           1920 x 1080        4.5 GHz Intel Core i7   \n",
       "4     $127.97  11.6 inches     1366 x 768 pixels      2.1 GHz MediaTek MT8125   \n",
       "5     $536.97    14 inches     1440 x 900 pixels         2.1 GHz AMD R Series   \n",
       "6     $306.99  15.6 inches    1920 x 1080 pixels        2.2 GHz Intel Core i3   \n",
       "7     $147.00  10.1 inches      1920x1200 pixels  1.6 GHz Samsung Exynos 4210   \n",
       "8     $219.00  11.6 inches                   NaN            1.6 GHz Celeron N   \n",
       "9     $449.99  15.6 inches           1920 x 1080        3.9 GHz Intel Core i5   \n",
       "\n",
       "           RAM                       Hard Drive    Graphics Coprocessor  \\\n",
       "0    4 GB DDR4  128 GB Flash Memory Solid State       AMD Radeon Vega 3   \n",
       "1         2 GB                            32 GB            Mali-G71 MP2   \n",
       "2  4 GB LPDDR3   64 GB Flash Memory Solid State          PowerVR SGX543   \n",
       "3   16 GB DDR4  256 GB Flash Memory Solid State                     NaN   \n",
       "4    4 GB DDR4         Flash Memory Solid State          PowerVR GX6250   \n",
       "5   12 GB DDR4         Flash Memory Solid State       AMD Radeon Vega 8   \n",
       "6    6 GB DDR3    1000 GB Mechanical Hard Drive   Intel HD Graphics 620   \n",
       "7    2 GB DDR3               16 GB Hybrid Drive                       1   \n",
       "8         4 GB                  64 GB 32GB eMMC                MediaTek   \n",
       "9    8 GB DDR4  256 GB Flash Memory Solid State  Intel UHD Graphics 620   \n",
       "\n",
       "  Chipset Brand Card Description  \\\n",
       "0           AMD       Integrated   \n",
       "1           NaN       Integrated   \n",
       "2         Intel       Integrated   \n",
       "3        NVIDIA        Dedicated   \n",
       "4    Chromebook         Mediatek   \n",
       "5           AMD       Integrated   \n",
       "6         Intel       Integrated   \n",
       "7           NaN        Dedicated   \n",
       "8           NaN              NaN   \n",
       "9         Intel       Integrated   \n",
       "\n",
       "                                       Wireless Type  ...  \\\n",
       "0                                           802.11ac  ...   \n",
       "1  802.11a/b/g/n/ac\", 2.4 GHz Radio Frequency,\" 5...  ...   \n",
       "2                        802.11a\", 802.11b,\" 802.11g  ...   \n",
       "3                                           802.11ac  ...   \n",
       "4                                          Bluetooth  ...   \n",
       "5                                          Bluetooth  ...   \n",
       "6                                           802.11ac  ...   \n",
       "7                                           Infrared  ...   \n",
       "8                                           802.11ac  ...   \n",
       "9                                           802.11ac  ...   \n",
       "\n",
       "   Rear Webcam Resolution                Power Source       Voltage  \\\n",
       "0                     NaN                         NaN           NaN   \n",
       "1                    8 MP                     Battery       5 volts   \n",
       "2                     NaN                         NaN           NaN   \n",
       "3                     NaN                         NaN           NaN   \n",
       "4                     NaN                         NaN           NaN   \n",
       "5                     NaN                         NaN           NaN   \n",
       "6                     NaN                         NaN  100240 volts   \n",
       "7                    8 MP  Corded-Electric\",\" Battery           NaN   \n",
       "8                     NaN                         NaN           NaN   \n",
       "9                     NaN                         NaN           NaN   \n",
       "\n",
       "  Memory Speed                   California residents Graphics Card Ram Size  \\\n",
       "0          NaN                                    NaN                    NaN   \n",
       "1          NaN                                    NaN                    NaN   \n",
       "2     1600 MHz  Click here for Proposition 65 warning                    NaN   \n",
       "3          NaN                                    NaN                   6 GB   \n",
       "4          NaN                                    NaN                    NaN   \n",
       "5     2400 MHz                                    NaN                    NaN   \n",
       "6          NaN                                    NaN                   2 GB   \n",
       "7     1866 MHz                                    NaN                    NaN   \n",
       "8          NaN                                    NaN                    NaN   \n",
       "9          NaN                                    NaN                    NaN   \n",
       "\n",
       "  National Stock Number Package Dimensions Audio-out Ports (#) Battery Type  \n",
       "0                   NaN                NaN                 NaN          NaN  \n",
       "1                   NaN                NaN                 NaN          NaN  \n",
       "2                   NaN                NaN                 NaN          NaN  \n",
       "3                   NaN                NaN                 NaN          NaN  \n",
       "4                   NaN                NaN                 NaN          NaN  \n",
       "5                   NaN                NaN                 NaN          NaN  \n",
       "6                   NaN                NaN                 NaN          NaN  \n",
       "7                   NaN                NaN                 NaN          NaN  \n",
       "8                   NaN                NaN                 NaN          NaN  \n",
       "9                   NaN                NaN                 NaN          NaN  \n",
       "\n",
       "[10 rows x 41 columns]"
      ]
     },
     "execution_count": 98,
     "metadata": {},
     "output_type": "execute_result"
    }
   ],
   "source": [
    "df = pd.read_csv(\"../../dataset/Amazon/amazon_product_infos_pre.csv\", encoding='utf-8', sep='\\t', index_col=False )\n",
    "df.head(10)"
   ]
  },
  {
   "cell_type": "code",
   "execution_count": 99,
   "metadata": {
    "Collapsed": "false"
   },
   "outputs": [
    {
     "name": "stdout",
     "output_type": "stream",
     "text": [
      "<class 'pandas.core.frame.DataFrame'>\n",
      "RangeIndex: 5764 entries, 0 to 5763\n",
      "Data columns (total 41 columns):\n",
      "Price                              5675 non-null object\n",
      "Screen Size                        5338 non-null object\n",
      "Max Screen Resolution              3889 non-null object\n",
      "Processor                          5530 non-null object\n",
      "RAM                                5660 non-null object\n",
      "Hard Drive                         5632 non-null object\n",
      "Graphics Coprocessor               4912 non-null object\n",
      "Chipset Brand                      3932 non-null object\n",
      "Card Description                   4325 non-null object\n",
      "Wireless Type                      4303 non-null object\n",
      "Number of USB 2.0 Ports            1696 non-null float64\n",
      "Number of USB 3.0 Ports            1270 non-null float64\n",
      "Brand Name                         5742 non-null object\n",
      "Series                             5347 non-null object\n",
      "Item model number                  4558 non-null object\n",
      "Operating System                   5191 non-null object\n",
      "Item Weight                        5763 non-null object\n",
      "Product Dimensions                 4859 non-null object\n",
      "Item Dimensions L x W x H          4859 non-null object\n",
      "Color                              3046 non-null object\n",
      "Processor Brand                    5028 non-null object\n",
      "Processor Count                    5636 non-null float64\n",
      "Computer Memory Type               4201 non-null object\n",
      "Flash Memory Size                  4021 non-null object\n",
      "Hard Drive Interface               4310 non-null object\n",
      "Hard Drive Rotational Speed        1990 non-null object\n",
      "Optical Drive Type                 1608 non-null object\n",
      "Batteries                          4352 non-null object\n",
      "Screen Resolution                  2134 non-null object\n",
      "Average Battery Life (in hours)    1864 non-null object\n",
      "Hardware Platform                  4426 non-null object\n",
      "Rear Webcam Resolution             945 non-null object\n",
      "Power Source                       1804 non-null object\n",
      "Voltage                            317 non-null object\n",
      "Memory Speed                       1315 non-null object\n",
      "California residents               75 non-null object\n",
      "Graphics Card Ram Size             908 non-null object\n",
      "National Stock Number              12 non-null object\n",
      "Package Dimensions                 904 non-null object\n",
      "Audio-out Ports (#)                30 non-null float64\n",
      "Battery Type                       25 non-null object\n",
      "dtypes: float64(4), object(37)\n",
      "memory usage: 1.8+ MB\n"
     ]
    }
   ],
   "source": [
    "df.info(verbose=True, null_counts=True)"
   ]
  },
  {
   "cell_type": "markdown",
   "metadata": {
    "Collapsed": "false"
   },
   "source": [
    "## Preprocessing data"
   ]
  },
  {
   "cell_type": "markdown",
   "metadata": {
    "Collapsed": "true"
   },
   "source": [
    "### 1. Drop column has many NaN value"
   ]
  },
  {
   "cell_type": "code",
   "execution_count": 100,
   "metadata": {
    "Collapsed": "false"
   },
   "outputs": [
    {
     "data": {
      "text/plain": [
       "Price                                89\n",
       "Screen Size                         426\n",
       "Max Screen Resolution              1875\n",
       "Processor                           234\n",
       "RAM                                 104\n",
       "Hard Drive                          132\n",
       "Graphics Coprocessor                852\n",
       "Chipset Brand                      1832\n",
       "Card Description                   1439\n",
       "Wireless Type                      1461\n",
       "Number of USB 2.0 Ports            4068\n",
       "Number of USB 3.0 Ports            4494\n",
       "Brand Name                           22\n",
       "Series                              417\n",
       "Item model number                  1206\n",
       "Operating System                    573\n",
       "Item Weight                           1\n",
       "Product Dimensions                  905\n",
       "Item Dimensions L x W x H           905\n",
       "Color                              2718\n",
       "Processor Brand                     736\n",
       "Processor Count                     128\n",
       "Computer Memory Type               1563\n",
       "Flash Memory Size                  1743\n",
       "Hard Drive Interface               1454\n",
       "Hard Drive Rotational Speed        3774\n",
       "Optical Drive Type                 4156\n",
       "Batteries                          1412\n",
       "Screen Resolution                  3630\n",
       "Average Battery Life (in hours)    3900\n",
       "Hardware Platform                  1338\n",
       "Rear Webcam Resolution             4819\n",
       "Power Source                       3960\n",
       "Voltage                            5447\n",
       "Memory Speed                       4449\n",
       "California residents               5689\n",
       "Graphics Card Ram Size             4856\n",
       "National Stock Number              5752\n",
       "Package Dimensions                 4860\n",
       "Audio-out Ports (#)                5734\n",
       "Battery Type                       5739\n",
       "dtype: int64"
      ]
     },
     "execution_count": 100,
     "metadata": {},
     "output_type": "execute_result"
    }
   ],
   "source": [
    "df.isna().sum()"
   ]
  },
  {
   "cell_type": "code",
   "execution_count": 101,
   "metadata": {
    "Collapsed": "false"
   },
   "outputs": [
    {
     "data": {
      "text/plain": [
       "count      41.000000\n",
       "mean     2412.000000\n",
       "std      1999.674849\n",
       "min         1.000000\n",
       "25%       736.000000\n",
       "50%      1563.000000\n",
       "75%      4156.000000\n",
       "max      5752.000000\n",
       "dtype: float64"
      ]
     },
     "execution_count": 101,
     "metadata": {},
     "output_type": "execute_result"
    }
   ],
   "source": [
    "df.isna().sum().describe()"
   ]
  },
  {
   "cell_type": "code",
   "execution_count": 102,
   "metadata": {
    "Collapsed": "false"
   },
   "outputs": [],
   "source": [
    "# Drop > 75% NaN values of columns\n",
    "MAX_NAN_COUNT = 4156"
   ]
  },
  {
   "cell_type": "code",
   "execution_count": 103,
   "metadata": {
    "Collapsed": "false"
   },
   "outputs": [
    {
     "data": {
      "text/plain": [
       "['Number of USB 3.0 Ports',\n",
       " 'Rear Webcam Resolution',\n",
       " 'Voltage',\n",
       " 'Memory Speed',\n",
       " 'California residents',\n",
       " 'Graphics Card Ram Size',\n",
       " 'National Stock Number',\n",
       " 'Package Dimensions',\n",
       " 'Audio-out Ports (#)',\n",
       " 'Battery Type']"
      ]
     },
     "execution_count": 103,
     "metadata": {},
     "output_type": "execute_result"
    }
   ],
   "source": [
    "drop_cols_name = [col for col in df.columns if df[col].isna().sum() > MAX_NAN_COUNT]\n",
    "drop_cols_name\n",
    "# for i in drop_cols_name:\n",
    "#     print(df[i].isna().sum())"
   ]
  },
  {
   "cell_type": "code",
   "execution_count": 104,
   "metadata": {
    "Collapsed": "false"
   },
   "outputs": [],
   "source": [
    "df.drop(columns=drop_cols_name, axis=1, inplace=True)"
   ]
  },
  {
   "cell_type": "markdown",
   "metadata": {
    "Collapsed": "true"
   },
   "source": [
    "### 2. Normalize columns name"
   ]
  },
  {
   "cell_type": "code",
   "execution_count": 105,
   "metadata": {
    "Collapsed": "false"
   },
   "outputs": [
    {
     "data": {
      "text/plain": [
       "['Price',\n",
       " 'Screen Size',\n",
       " 'Max Screen Resolution',\n",
       " 'Processor',\n",
       " 'RAM',\n",
       " 'Hard Drive',\n",
       " 'Graphics Coprocessor',\n",
       " 'Chipset Brand',\n",
       " 'Card Description',\n",
       " 'Wireless Type',\n",
       " 'Number of USB 2.0 Ports',\n",
       " 'Brand Name',\n",
       " 'Series',\n",
       " 'Item model number',\n",
       " 'Operating System',\n",
       " 'Item Weight',\n",
       " 'Product Dimensions',\n",
       " 'Item Dimensions L x W x H',\n",
       " 'Color',\n",
       " 'Processor Brand',\n",
       " 'Processor Count',\n",
       " 'Computer Memory Type',\n",
       " 'Flash Memory Size',\n",
       " 'Hard Drive Interface',\n",
       " 'Hard Drive Rotational Speed',\n",
       " 'Optical Drive Type',\n",
       " 'Batteries',\n",
       " 'Screen Resolution',\n",
       " 'Average Battery Life (in hours)',\n",
       " 'Hardware Platform',\n",
       " 'Power Source']"
      ]
     },
     "execution_count": 105,
     "metadata": {},
     "output_type": "execute_result"
    }
   ],
   "source": [
    "[str(v) for v in df.columns]"
   ]
  },
  {
   "cell_type": "markdown",
   "metadata": {
    "Collapsed": "false"
   },
   "source": [
    "### 3. Get price"
   ]
  },
  {
   "cell_type": "code",
   "execution_count": 106,
   "metadata": {
    "Collapsed": "false"
   },
   "outputs": [],
   "source": [
    "def handle_price(s):\n",
    "    s = str(s)\n",
    "    for ch in ['$', '\"', '\\'', ',', ' ']:\n",
    "        s = s.replace(ch, '')\n",
    "    return s"
   ]
  },
  {
   "cell_type": "code",
   "execution_count": 107,
   "metadata": {
    "Collapsed": "false"
   },
   "outputs": [
    {
     "data": {
      "text/plain": [
       "1343324.2"
      ]
     },
     "execution_count": 107,
     "metadata": {},
     "output_type": "execute_result"
    }
   ],
   "source": [
    "float(handle_price('1,\"343,324.2'))"
   ]
  },
  {
   "cell_type": "code",
   "execution_count": 108,
   "metadata": {
    "Collapsed": "false"
   },
   "outputs": [],
   "source": [
    "df['Price'] = df['Price'].map(handle_price)\n",
    "df['Price'] = df['Price'].astype(float)"
   ]
  },
  {
   "cell_type": "markdown",
   "metadata": {
    "Collapsed": "false"
   },
   "source": [
    "### 4. Drop NaN value in __Price__"
   ]
  },
  {
   "cell_type": "code",
   "execution_count": 117,
   "metadata": {
    "Collapsed": "false"
   },
   "outputs": [],
   "source": [
    "df.dropna(subset=['Price'], how='all', inplace=True)"
   ]
  },
  {
   "cell_type": "markdown",
   "metadata": {
    "Collapsed": "false"
   },
   "source": [
    "### 5. #"
   ]
  },
  {
   "cell_type": "code",
   "execution_count": 120,
   "metadata": {
    "Collapsed": "false"
   },
   "outputs": [
    {
     "data": {
      "text/plain": [
       "Price                              2858\n",
       "Screen Size                          92\n",
       "Max Screen Resolution               279\n",
       "Processor                           987\n",
       "RAM                                 321\n",
       "Hard Drive                          427\n",
       "Graphics Coprocessor                866\n",
       "Chipset Brand                        66\n",
       "Card Description                     57\n",
       "Wireless Type                       133\n",
       "Number of USB 2.0 Ports              11\n",
       "Brand Name                          295\n",
       "Series                             2572\n",
       "Item model number                  3534\n",
       "Operating System                    187\n",
       "Item Weight                         950\n",
       "Product Dimensions                 2007\n",
       "Item Dimensions L x W x H          2520\n",
       "Color                               423\n",
       "Processor Brand                      95\n",
       "Processor Count                      11\n",
       "Computer Memory Type                 28\n",
       "Flash Memory Size                    77\n",
       "Hard Drive Interface                 43\n",
       "Hard Drive Rotational Speed          62\n",
       "Optical Drive Type                   45\n",
       "Batteries                            57\n",
       "Screen Resolution                   156\n",
       "Average Battery Life (in hours)     103\n",
       "Hardware Platform                   131\n",
       "Power Source                         20\n",
       "dtype: int64"
      ]
     },
     "execution_count": 120,
     "metadata": {},
     "output_type": "execute_result"
    }
   ],
   "source": [
    "df.nunique()"
   ]
  },
  {
   "cell_type": "markdown",
   "metadata": {
    "Collapsed": "true"
   },
   "source": [
    "# Save file"
   ]
  },
  {
   "cell_type": "code",
   "execution_count": 119,
   "metadata": {
    "Collapsed": "false"
   },
   "outputs": [],
   "source": [
    "df.to_csv(\"../amazon.csv\",index=0)"
   ]
  },
  {
   "cell_type": "markdown",
   "metadata": {
    "Collapsed": "false"
   },
   "source": [
    "# Other"
   ]
  },
  {
   "cell_type": "code",
   "execution_count": 118,
   "metadata": {
    "Collapsed": "false"
   },
   "outputs": [
    {
     "name": "stdout",
     "output_type": "stream",
     "text": [
      "<class 'pandas.core.frame.DataFrame'>\n",
      "Int64Index: 5675 entries, 0 to 5763\n",
      "Data columns (total 31 columns):\n",
      "Price                              5675 non-null float64\n",
      "Screen Size                        5256 non-null object\n",
      "Max Screen Resolution              3825 non-null object\n",
      "Processor                          5449 non-null object\n",
      "RAM                                5571 non-null object\n",
      "Hard Drive                         5543 non-null object\n",
      "Graphics Coprocessor               4835 non-null object\n",
      "Chipset Brand                      3871 non-null object\n",
      "Card Description                   4264 non-null object\n",
      "Wireless Type                      4232 non-null object\n",
      "Number of USB 2.0 Ports            1675 non-null float64\n",
      "Brand Name                         5653 non-null object\n",
      "Series                             5266 non-null object\n",
      "Item model number                  4503 non-null object\n",
      "Operating System                   5103 non-null object\n",
      "Item Weight                        5674 non-null object\n",
      "Product Dimensions                 4788 non-null object\n",
      "Item Dimensions L x W x H          4788 non-null object\n",
      "Color                              2991 non-null object\n",
      "Processor Brand                    4945 non-null object\n",
      "Processor Count                    5551 non-null float64\n",
      "Computer Memory Type               4134 non-null object\n",
      "Flash Memory Size                  3954 non-null object\n",
      "Hard Drive Interface               4256 non-null object\n",
      "Hard Drive Rotational Speed        1968 non-null object\n",
      "Optical Drive Type                 1602 non-null object\n",
      "Batteries                          4290 non-null object\n",
      "Screen Resolution                  2102 non-null object\n",
      "Average Battery Life (in hours)    1833 non-null object\n",
      "Hardware Platform                  4360 non-null object\n",
      "Power Source                       1772 non-null object\n",
      "dtypes: float64(3), object(28)\n",
      "memory usage: 1.4+ MB\n"
     ]
    }
   ],
   "source": [
    "df.info()"
   ]
  },
  {
   "cell_type": "code",
   "execution_count": 129,
   "metadata": {
    "Collapsed": "false"
   },
   "outputs": [
    {
     "data": {
      "text/plain": [
       "Price                                                                          1089\n",
       "Screen Size                                                             15.6 inches\n",
       "Max Screen Resolution                                                   1920 x 1080\n",
       "Processor                                                     4.5 GHz Intel Core i7\n",
       "RAM                                                                      16 GB DDR4\n",
       "Hard Drive                                          256 GB Flash Memory Solid State\n",
       "Graphics Coprocessor                                                            NaN\n",
       "Chipset Brand                                                                NVIDIA\n",
       "Card Description                                                          Dedicated\n",
       "Wireless Type                                                              802.11ac\n",
       "Number of USB 2.0 Ports                                                         NaN\n",
       "Brand Name                                                                     Acer\n",
       "Series                                                                PH315-52-78VL\n",
       "Item model number                                                     PH315-52-78VL\n",
       "Operating System                                                    Windows 10 Home\n",
       "Item Weight                                                             5.07 pounds\n",
       "Product Dimensions                                           14.2 x 10 x 0.9 inches\n",
       "Item Dimensions L x W x H                                14.23 x 10.01 x 0.9 inches\n",
       "Color                                                                           NaN\n",
       "Processor Brand                                                               Intel\n",
       "Processor Count                                                                   6\n",
       "Computer Memory Type                                                     DDR4 SDRAM\n",
       "Flash Memory Size                                                            256.00\n",
       "Hard Drive Interface                                                    Solid State\n",
       "Hard Drive Rotational Speed                                                0.01 RPM\n",
       "Optical Drive Type                                                 No Optical Drive\n",
       "Batteries                          1 Lithium Polymer batteries required. (included)\n",
       "Screen Resolution                                                               NaN\n",
       "Average Battery Life (in hours)                                                 NaN\n",
       "Hardware Platform                                                               NaN\n",
       "Power Source                                                                    NaN\n",
       "Name: 3, dtype: object"
      ]
     },
     "execution_count": 129,
     "metadata": {},
     "output_type": "execute_result"
    }
   ],
   "source": [
    "df.iloc[3]"
   ]
  },
  {
   "cell_type": "code",
   "execution_count": null,
   "metadata": {
    "Collapsed": "false"
   },
   "outputs": [],
   "source": [
    "df.iloc[0]"
   ]
  },
  {
   "cell_type": "code",
   "execution_count": null,
   "metadata": {
    "Collapsed": "false"
   },
   "outputs": [],
   "source": [
    "#Quick Analysis on Dataset : DataTypes, Rows and Columns ,Null values, Unique values ...\n",
    "def quick_analysis(df):\n",
    "    print(\"Data Types:\")\n",
    "    print(df.dtypes)\n",
    "    print(\"\\nRows and Columns:\")\n",
    "    print(df.shape)\n",
    "    print(\"\\nColumn names:\")\n",
    "    print(df.columns)\n",
    "    print(\"\\nNull Values\")\n",
    "    print(df.apply(lambda x: sum(x.isnull()) / len(df)))\n",
    "    print(\"\\nUnique values\")\n",
    "    print(df.nunique())\n",
    "\n",
    "quick_analysis(df)"
   ]
  },
  {
   "cell_type": "code",
   "execution_count": null,
   "metadata": {
    "Collapsed": "false"
   },
   "outputs": [],
   "source": []
  },
  {
   "cell_type": "markdown",
   "metadata": {
    "Collapsed": "false"
   },
   "source": [
    "#### EDA"
   ]
  },
  {
   "cell_type": "code",
   "execution_count": null,
   "metadata": {
    "Collapsed": "false"
   },
   "outputs": [],
   "source": [
    "#Visual Exploratory Data Analysis (EDA) And Your First Model\n",
    "#EDA on Feature Variables\n",
    "print(list(set(df.dtypes.tolist())))\n",
    "df_object = df.select_dtypes(include=[\"object\"]).copy()\n",
    "df_int = df.select_dtypes(include=['int64']).copy()\n",
    "\n",
    "categorical = df_object.columns\n",
    "numerical = df_int.columns\n",
    "\n",
    "print(\"Datashape of Object Dataframe:\",df_object.shape)\n",
    "print(\"Datashape of Interger Dataframe:\",df_int.shape)"
   ]
  },
  {
   "cell_type": "code",
   "execution_count": 79,
   "metadata": {
    "Collapsed": "false"
   },
   "outputs": [
    {
     "ename": "NameError",
     "evalue": "name 'categorical' is not defined",
     "output_type": "error",
     "traceback": [
      "\u001b[0;31m---------------------------------------------------------------------------\u001b[0m",
      "\u001b[0;31mNameError\u001b[0m                                 Traceback (most recent call last)",
      "\u001b[0;32m<ipython-input-79-98d46d96b1de>\u001b[0m in \u001b[0;36m<module>\u001b[0;34m\u001b[0m\n\u001b[1;32m      3\u001b[0m \u001b[0;34m\u001b[0m\u001b[0m\n\u001b[1;32m      4\u001b[0m \u001b[0mfig\u001b[0m\u001b[0;34m,\u001b[0m\u001b[0max\u001b[0m \u001b[0;34m=\u001b[0m \u001b[0mplt\u001b[0m\u001b[0;34m.\u001b[0m\u001b[0msubplots\u001b[0m\u001b[0;34m(\u001b[0m\u001b[0;36m5\u001b[0m\u001b[0;34m,\u001b[0m\u001b[0;36m2\u001b[0m\u001b[0;34m,\u001b[0m \u001b[0mfigsize\u001b[0m\u001b[0;34m=\u001b[0m\u001b[0;34m(\u001b[0m\u001b[0;36m20\u001b[0m\u001b[0;34m,\u001b[0m\u001b[0;36m20\u001b[0m\u001b[0;34m)\u001b[0m\u001b[0;34m)\u001b[0m\u001b[0;34m\u001b[0m\u001b[0;34m\u001b[0m\u001b[0m\n\u001b[0;32m----> 5\u001b[0;31m \u001b[0;32mfor\u001b[0m \u001b[0mvariable\u001b[0m\u001b[0;34m,\u001b[0m\u001b[0msubplot\u001b[0m \u001b[0;32min\u001b[0m \u001b[0mzip\u001b[0m\u001b[0;34m(\u001b[0m\u001b[0mcategorical\u001b[0m\u001b[0;34m,\u001b[0m\u001b[0max\u001b[0m\u001b[0;34m.\u001b[0m\u001b[0mflatten\u001b[0m\u001b[0;34m(\u001b[0m\u001b[0;34m)\u001b[0m\u001b[0;34m)\u001b[0m\u001b[0;34m:\u001b[0m\u001b[0;34m\u001b[0m\u001b[0;34m\u001b[0m\u001b[0m\n\u001b[0m\u001b[1;32m      6\u001b[0m     \u001b[0msns\u001b[0m\u001b[0;34m.\u001b[0m\u001b[0mcountplot\u001b[0m\u001b[0;34m(\u001b[0m\u001b[0mdf\u001b[0m\u001b[0;34m[\u001b[0m\u001b[0mvariable\u001b[0m\u001b[0;34m]\u001b[0m\u001b[0;34m,\u001b[0m\u001b[0max\u001b[0m\u001b[0;34m=\u001b[0m\u001b[0msubplot\u001b[0m\u001b[0;34m)\u001b[0m\u001b[0;34m\u001b[0m\u001b[0;34m\u001b[0m\u001b[0m\n\u001b[1;32m      7\u001b[0m     \u001b[0;32mfor\u001b[0m \u001b[0mlabel\u001b[0m \u001b[0;32min\u001b[0m \u001b[0msubplot\u001b[0m\u001b[0;34m.\u001b[0m\u001b[0mget_xticklabels\u001b[0m\u001b[0;34m(\u001b[0m\u001b[0;34m)\u001b[0m\u001b[0;34m:\u001b[0m\u001b[0;34m\u001b[0m\u001b[0;34m\u001b[0m\u001b[0m\n",
      "\u001b[0;31mNameError\u001b[0m: name 'categorical' is not defined"
     ]
    },
    {
     "data": {
      "image/png": "[encoded data removed]",
      "text/plain": [
       "<Figure size 1440x1440 with 10 Axes>"
      ]
     },
     "metadata": {},
     "output_type": "display_data"
    }
   ],
   "source": [
    "# Univariate Analysis\n",
    "# EDA with Categorical Variables\n",
    "\n",
    "fig,ax = plt.subplots(5,2, figsize=(20,20))\n",
    "for variable,subplot in zip(categorical,ax.flatten()):\n",
    "    sns.countplot(df[variable],ax=subplot)\n",
    "    for label in subplot.get_xticklabels():\n",
    "        label.set_rotation(20)"
   ]
  },
  {
   "cell_type": "code",
   "execution_count": null,
   "metadata": {
    "Collapsed": "false"
   },
   "outputs": [],
   "source": [
    "# EDA with Numerical Variables\n",
    "# df[numerical].hist(bins=50,figsize=(16,20),layout=(8,3))"
   ]
  },
  {
   "cell_type": "code",
   "execution_count": null,
   "metadata": {
    "Collapsed": "false"
   },
   "outputs": [],
   "source": []
  }
 ],
 "metadata": {
  "kernelspec": {
   "display_name": "Python 3",
   "language": "python",
   "name": "python3"
  },
  "language_info": {
   "codemirror_mode": {
    "name": "ipython",
    "version": 3
   },
   "file_extension": ".py",
   "mimetype": "text/x-python",
   "name": "python",
   "nbconvert_exporter": "python",
   "pygments_lexer": "ipython3",
   "version": "3.7.3"
  }
 },
 "nbformat": 4,
 "nbformat_minor": 4
}
