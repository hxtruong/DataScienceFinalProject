{
 "cells": [
  {
   "cell_type": "code",
   "execution_count": 2,
   "metadata": {},
   "outputs": [],
   "source": [
    "import json\n",
    "from requests_html import HTMLSession, HTML\n",
    "session = HTMLSession()\n",
    "from selenium import webdriver\n",
    "browser = webdriver.Chrome(executable_path='./chromedriver/chromedriver')"
   ]
  },
  {
   "cell_type": "markdown",
   "metadata": {},
   "source": [
    " "
   ]
  },
  {
   "cell_type": "markdown",
   "metadata": {},
   "source": [
    "1. Get link_products"
   ]
  },
  {
   "cell_type": "code",
   "execution_count": null,
   "metadata": {},
   "outputs": [],
   "source": [
    "browser = webdriver.Chrome(executable_path='./chromedriver/chromedriver')\n",
    "\n",
    "browser.get('https://www.amazon.com/s?i=specialty-aps&bbn=16225007011&rh=n%3A16225007011%2Cn%3A13896617011&ref=nav_em_T1_0_4_NaN_3__nav_desktop_sa_intl_computers_tablets')\n",
    "\n",
    "url = 'https://www.amazon.com/s?i=specialty-aps&bbn=16225007011&rh=n%3A16225007011%2Cn%3A13896617011&ref=nav_em_T1_0_4_NaN_3__nav_desktop_sa_intl_computers_tablets'\n",
    "\n",
    "f = open(\"dataset/amazon_product_links.txt\",'w')\n",
    "count = 0\n",
    "while True:\n",
    "    print(url)\n",
    "    count += 1\n",
    "    print(count)\n",
    "    browser.get(url)\n",
    "    post = HTML(html=browser.page_source)\n",
    "    head_ = post.find('.s-include-content-margin')\n",
    "    for head in head_:\n",
    "        pos = head.find('.a-text-normal')\n",
    "        if len(pos) != 0:\n",
    "            url = 'https://www.amazon.com/' + pos[0].attrs['href'] + '\\n'\n",
    "            f.write(url)\n",
    "\n",
    "    check_next = post.find('.a-last')\n",
    "    if len(check_next) == 1:\n",
    "        url = 'https://www.amazon.com/' + check_next[0].find('a')[0].attrs['href']       \n",
    "    else:\n",
    "        break\n",
    "\n",
    "f.close()"
   ]
  },
  {
   "cell_type": "markdown",
   "metadata": {},
   "source": [
    " "
   ]
  },
  {
   "cell_type": "markdown",
   "metadata": {},
   "source": [
    "2. Get attributes"
   ]
  },
  {
   "cell_type": "code",
   "execution_count": null,
   "metadata": {},
   "outputs": [],
   "source": [
    "def getAttributes():\n",
    "    res = ['Price']\n",
    "    \n",
    "    browser.get('https://www.amazon.com/s?i=specialty-aps&bbn=16225007011&rh=n%3A16225007011%2Cn%3A13896617011&ref=nav_em_T1_0_4_NaN_3__nav_desktop_sa_intl_computers_tablets')\n",
    "    \n",
    "    f = open('dataset/amazon_product_links.txt', 'r')\n",
    "    links = f.readlines()\n",
    "    f.close()\n",
    "\n",
    "    count = 0\n",
    "    for link in links:\n",
    "        count += 1\n",
    "        url = link[:-1]\n",
    "        url = url.split('\\t')\n",
    "\n",
    "        if (len(url) == 1):\n",
    "            browser.get(url[0])\n",
    "            post = HTML(html=browser.page_source)\n",
    "            \n",
    "            specifications = post.find('#productDetails_techSpec_section_1')\n",
    "            if len(specifications) != 0:\n",
    "                specifications_components = specifications[0].find('tr')\n",
    "                for component in specifications_components:\n",
    "                    data = component.text.split('\\n')\n",
    "                    if data[0] not in res:\n",
    "                        res.append(data[0])\n",
    "            else:\n",
    "                continue\n",
    "            specifications = post.find('#productDetails_techSpec_section_2')\n",
    "            if len(specifications) != 0:\n",
    "                specifications_components = specifications[0].find('tr')\n",
    "                for component in specifications_components:\n",
    "                    data = component.text.split('\\n')\n",
    "                    if data[0] not in res:\n",
    "                        res.append(data[0])\n",
    "            else:\n",
    "                continue\n",
    "        print(count)\n",
    "        if count % 100 == 0:\n",
    "            print(res)\n",
    "    return res\n",
    "\n",
    "browser = webdriver.Chrome(executable_path='./chromedriver/chromedriver')\n",
    "list_ = getAttributes()\n",
    "dic = dict(zip(list_, [\"\"]*len(list_)))\n",
    "r = json.dumps(dic)\n",
    "f = open('dataset/amazon_attrs.json', 'w')\n",
    "f.write(r)\n",
    "f.close()"
   ]
  },
  {
   "cell_type": "markdown",
   "metadata": {},
   "source": [
    " "
   ]
  },
  {
   "cell_type": "markdown",
   "metadata": {},
   "source": [
    "3. Crawl data"
   ]
  },
  {
   "cell_type": "code",
   "execution_count": 15,
   "metadata": {},
   "outputs": [],
   "source": [
    "class Laptop:\n",
    "    def __init__(self, attrbs_list):\n",
    "        self.data = dict(zip(attrbs_list, [\"\"]*len(attrbs_list)))\n",
    "        \n",
    "    def convertDataToJsonStr(self):\n",
    "        return json.dumps(self.data)\n",
    "\n",
    "    def convertDataToStrCSV(self):\n",
    "        return '\\t'.join(self.data.values()) + '\\n'\n",
    "    \n",
    "    def get_keys_list(self):\n",
    "        return list(self.data.keys())\n",
    "          \n",
    "    def setValue(self, key, value):\n",
    "        self.data[key] = value"
   ]
  },
  {
   "cell_type": "code",
   "execution_count": 16,
   "metadata": {},
   "outputs": [],
   "source": [
    "with open('dataset/amazon_attrs.json', 'r') as f:\n",
    "    attrs = f.read()\n",
    "attrbs_list = list(json.loads(attrs).keys())"
   ]
  },
  {
   "cell_type": "code",
   "execution_count": null,
   "metadata": {},
   "outputs": [
    {
     "name": "stdout",
     "output_type": "stream",
     "text": [
      "109\n",
      "['https://www.amazon.com//Acer-A114-32-C1YA-Celeron-Personal-Windows/dp/B07D97S1CR/ref=sr_1_109?qid=1575099992&s=computers-intl-ship&sr=1-109']\n",
      "110\n",
      "['https://www.amazon.com//Samsung-Galaxy-Tablet-SM-T280NZKMXAR-Warranty/dp/B077NPX4VQ/ref=sr_1_110?qid=1575099992&s=computers-intl-ship&sr=1-110']\n",
      "111\n",
      "['https://www.amazon.com//Microsoft-Surface-Pro-Intel-Core/dp/B07K4FMSS8/ref=sr_1_111?qid=1575099992&s=computers-intl-ship&sr=1-111']\n",
      "112\n",
      "['https://www.amazon.com//HP-14-Inch-Chromebook-Laptop-Renewed/dp/B07VQM9YMX/ref=sr_1_112?qid=1575099992&s=computers-intl-ship&sr=1-112']\n",
      "113\n",
      "['https://www.amazon.com//Samsung-Cellular-Unlocked-SM-T295-International/dp/B07XC3CW4G/ref=sr_1_113?qid=1575099994&s=computers-intl-ship&sr=1-113']\n",
      "114\n",
      "['https://www.amazon.com//Acer-Display-i7-8565U-GeForce-A515-54G-73WC/dp/B07QKWHWC9/ref=sr_1_114?qid=1575099994&s=computers-intl-ship&sr=1-114']\n",
      "115\n",
      "['https://www.amazon.com//Laptop-Storage-Memory-Camera-Windows/dp/B07Y49YVVG/ref=sr_1_115?qid=1575099994&s=computers-intl-ship&smid=ATVPDKIKX0DER&sr=1-115']\n",
      "116\n",
      "['https://www.amazon.com//HP-Business-WLED-backlit-Touchscreen-Processor/dp/B078XPK53C/ref=sr_1_116?qid=1575099994&s=computers-intl-ship&sr=1-116']\n",
      "117\n",
      "['https://www.amazon.com//Microsoft-Surface-Intel-Core-512GB/dp/B07HZMVTL8/ref=sr_1_117?qid=1575099994&s=computers-intl-ship&sr=1-117']\n",
      "118\n",
      "['https://www.amazon.com//HP-Touchscreen-Flagship-Dual-Core-Bluetooth/dp/B077HZQKJQ/ref=sr_1_118?qid=1575099994&s=computers-intl-ship&sr=1-118']\n",
      "119\n",
      "['https://www.amazon.com//Samsung-Chromebook-Intel-Camera-Chrome/dp/B07J1WTLQZ/ref=sr_1_119?qid=1575099994&s=computers-intl-ship&sr=1-119']\n",
      "120\n",
      "['https://www.amazon.com//Lenovo-10-1-Android-Tablet-32GB/dp/B07V29CYF3/ref=sr_1_120?qid=1575099994&s=computers-intl-ship&smid=ATVPDKIKX0DER&sr=1-120']\n",
      "121\n",
      "['https://www.amazon.com//ASUS-Performance-Computer-Bluetooth-Gradient/dp/B07T891NV7/ref=sr_1_121?qid=1575099994&s=computers-intl-ship&sr=1-121']\n",
      "122\n",
      "['https://www.amazon.com//Lenovo-L340-Computer-i3-8145U-Bluetooth/dp/B07V6SZYM9/ref=sr_1_122?qid=1575099994&s=computers-intl-ship&sr=1-122']\n",
      "123\n",
      "['https://www.amazon.com//Apple-128GB-Wi-Fi-Cellular-Refurbished/dp/B07GXYHZ2D/ref=sr_1_123?qid=1575099994&s=computers-intl-ship&sr=1-123']\n",
      "124\n",
      "['https://www.amazon.com//ASUS-Touchscreen-Convertible-Processor-Fingerprint/dp/B0777QPQLY/ref=sr_1_124?qid=1575099994&s=computers-intl-ship&sr=1-124']\n",
      "125\n",
      "['https://www.amazon.com//HP-15-6-Inch-Touchscreen-Pentium-DDR4-2400/dp/B07KDQW7Q1/ref=sr_1_125?qid=1575099994&s=computers-intl-ship&sr=1-125']\n",
      "126\n",
      "['https://www.amazon.com//Dell-M4800-Ultrapowerful-Workstation-Refurbished/dp/B07HKBDFQX/ref=sr_1_126?qid=1575099994&s=computers-intl-ship&sr=1-126']\n",
      "127\n",
      "['https://www.amazon.com//Apple-MacBook-2-5GHz-MGXC2LL-Refurbished/dp/B0784J8FXM/ref=sr_1_127?qid=1575099994&s=computers-intl-ship&sr=1-127']\n",
      "128\n",
      "['https://www.amazon.com//Acer-Chromebook-CP713-1WN-53NF-Convertible-Touchscreen/dp/B07GD4CMDH/ref=sr_1_128?qid=1575099994&s=computers-intl-ship&sr=1-128']\n",
      "129\n",
      "['https://www.amazon.com//HP-Fingerprint-Touchscreen-i7-8565U-13-aq0044nr/dp/B07PPDFFG9/ref=sr_1_129?qid=1575099997&s=computers-intl-ship&smid=ATVPDKIKX0DER&sr=1-129']\n",
      "130\n",
      "['https://www.amazon.com//Samsung-Galaxy-Black-Wi-Fi-SM-T560NZKUXAC/dp/B0161UWH76/ref=sr_1_130?qid=1575099997&s=computers-intl-ship&sr=1-130']\n",
      "131\n",
      "['https://www.amazon.com//Newest-Acer-Convertible-Touchscreen-Chromebook/dp/B07CMCCX8H/ref=sr_1_131?qid=1575099997&s=computers-intl-ship&sr=1-131']\n",
      "132\n",
      "['https://www.amazon.com//Dell-3189-Convertible-Chromebook-Touchscreen/dp/B07NFD1HDJ/ref=sr_1_132?qid=1575099997&s=computers-intl-ship&sr=1-132']\n",
      "133\n",
      "['https://www.amazon.com//ASUS-ROG-G531GT-i7-9750H-1650-8GB/dp/B07RKSNCT6/ref=sr_1_133?qid=1575099997&s=computers-intl-ship&sr=1-133']\n"
     ]
    }
   ],
   "source": [
    "browser = webdriver.Chrome(executable_path='./chromedriver/chromedriver')\n",
    "\n",
    "browser.get('https://www.amazon.com/s?i=specialty-aps&bbn=16225007011&rh=n%3A16225007011%2Cn%3A13896617011&ref=nav_em_T1_0_4_NaN_3__nav_desktop_sa_intl_computers_tablets')\n",
    "\n",
    "f = open('dataset/amazon_product_links.txt', 'r')\n",
    "links = f.readlines()\n",
    "f.close()\n",
    "\n",
    "g = open('dataset/amazon_product_infos.csv', 'w')\n",
    "g1 = open('dataset/amazon_product_infos.txt', 'w')\n",
    "\n",
    "temp = Laptop(attrbs_list)\n",
    "title = '\\t'.join(temp.get_keys_list()) + '\\n'\n",
    "g.write(title)\n",
    "\n",
    "count = 0\n",
    "for link in links:\n",
    "    count += 1\n",
    "\n",
    "    url = link[:-1]\n",
    "    url = url.split('\\t')\n",
    "    \n",
    "    print(count)\n",
    "    print(url)\n",
    "\n",
    "    if (len(url) == 1):\n",
    "        laptop = Laptop(attrbs_list)\n",
    "        \n",
    "        browser.get(url[0])\n",
    "        post = HTML(html=browser.page_source)\n",
    "\n",
    "        specifications = post.find('#olp-upd-new')\n",
    "        if len(specifications) != 0:\n",
    "            specifications = specifications[0].find('.a-color-price')\n",
    "            if len(specifications) != 0:\n",
    "                laptop.setValue('Price', specifications[0].text)\n",
    "            else:\n",
    "                continue\n",
    "        else:\n",
    "            continue\n",
    "\n",
    "\n",
    "        specifications = post.find('#productDetails_techSpec_section_1')\n",
    "        if len(specifications) != 0:\n",
    "            specifications_components = specifications[0].find('tr')\n",
    "            for component in specifications_components:\n",
    "                data = component.text.split('\\n')\n",
    "                if len(data) == 2:\n",
    "                    laptop.setValue(data[0], data[1])\n",
    "        else:\n",
    "            continue\n",
    "        specifications = post.find('#productDetails_techSpec_section_2')\n",
    "        if len(specifications) != 0:\n",
    "            specifications_components = specifications[0].find('tr')\n",
    "            for component in specifications_components:\n",
    "                data = component.text.split('\\n')\n",
    "                if len(data) == 2:\n",
    "                    laptop.setValue(data[0], data[1])\n",
    "        else:\n",
    "            continue\n",
    "    \n",
    "    g.write(laptop.convertDataToStrCSV())\n",
    "    g1.write(laptop.convertDataToStrCSV())\n",
    "    \n",
    "g.close()\n",
    "g1.close()"
   ]
  }
 ],
 "metadata": {
  "kernelspec": {
   "display_name": "Python 3",
   "language": "python",
   "name": "python3"
  },
  "language_info": {
   "codemirror_mode": {
    "name": "ipython",
    "version": 3
   },
   "file_extension": ".py",
   "mimetype": "text/x-python",
   "name": "python",
   "nbconvert_exporter": "python",
   "pygments_lexer": "ipython3",
   "version": "3.7.5"
  }
 },
 "nbformat": 4,
 "nbformat_minor": 4
}
