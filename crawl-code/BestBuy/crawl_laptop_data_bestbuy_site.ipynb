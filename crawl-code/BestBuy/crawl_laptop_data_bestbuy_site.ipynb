{
 "cells": [
  {
   "cell_type": "markdown",
   "metadata": {},
   "source": [
    "*** Google Colab requierements ***\n",
    "(Neu chay bang google colab cai dat theo cac lenh ben duoi)\n",
    "\n",
    "\n",
    "! pip install requests-html\n",
    "\n",
    "! apt-get update\n",
    "\n",
    "! apt install chromium-chromedriver\n",
    "\n",
    "! cp /usr/lib/chromium-browser/chromedriver /usr/bin\n",
    "\n",
    "! pip install selenium\n",
    "\n",
    "\n",
    "from selenium import webdriver\n",
    "\n",
    "options = webdriver.ChromeOptions()\n",
    "\n",
    "options.add_argument('--headless')\n",
    "\n",
    "options.add_argument('--no-sandbox')\n",
    "\n",
    "options.add_argument('--disable-dev-shm-usage')\n",
    "\n",
    "\n",
    "import json\n",
    "\n",
    "browser = webdriver.Chrome('chromedriver',options=options)\n",
    "\n",
    "\n",
    "from requests_html import HTMLSession, HTML\n",
    "\n",
    "session = HTMLSession()"
   ]
  },
  {
   "cell_type": "markdown",
   "metadata": {},
   "source": [
    " "
   ]
  },
  {
   "cell_type": "markdown",
   "metadata": {},
   "source": [
    "0. Import modules"
   ]
  },
  {
   "cell_type": "code",
   "execution_count": 1,
   "metadata": {},
   "outputs": [],
   "source": [
    "####################### Import modules ########################\n",
    "import json\n",
    "from requests_html import HTMLSession, HTML\n",
    "session = HTMLSession()\n",
    "from selenium import webdriver\n",
    "browser = webdriver.Chrome(executable_path='./chromedriver/chromedriver')"
   ]
  },
  {
   "cell_type": "markdown",
   "metadata": {},
   "source": [
    " "
   ]
  },
  {
   "cell_type": "markdown",
   "metadata": {},
   "source": [
    "1. Get link_products"
   ]
  },
  {
   "cell_type": "code",
   "execution_count": null,
   "metadata": {},
   "outputs": [],
   "source": [
    "browser.get('https://www.bestbuy.com/site/laptop-computers/all-laptops/pcmcat138500050001.c?id=pcmcat138500050001&intl=nosplash')\n",
    "\n",
    "f = open(\"dataset/product_links.txt\",'w')\n",
    "\n",
    "while True:\n",
    "    post = HTML(html=browser.page_source)\n",
    "    head_ = post.find(\".sku-item-list\")\n",
    "    link_lists = head_[0].find(\".sku-item\")\n",
    "    for i in range(1,len(link_lists)):\n",
    "        print(link_lists[i])\n",
    "        sku_title = link_lists[i].find('.sku-title')\n",
    "        _link = sku_title[0].find('a')\n",
    "        url = 'https://www.bestbuy.com/'+_link[0].attrs['href']\n",
    "        f.write(url)\n",
    "        sku_header = sku_title[0].find('.sku-header')\n",
    "        if len(sku_header) == 0:\n",
    "            f.write('\\t0')\n",
    "        f.write('\\n')\n",
    "    next_click_class = post.find('.ficon-caret-right')\n",
    "    if next_click_class[1].attrs['aria-disabled'] == 'false':\n",
    "        url_next = next_click_class[1].attrs['href']\n",
    "        browser.get(url_next)\n",
    "    else:\n",
    "        break\n",
    "f.close()\n",
    "\n",
    "# Chu y: Trong cac link lays ve co format moi dong la:\n",
    "# url[\\t0]  - [tab0]: san pham co kem theo combo (win/mouse/...)"
   ]
  },
  {
   "cell_type": "markdown",
   "metadata": {},
   "source": [
    " "
   ]
  },
  {
   "cell_type": "markdown",
   "metadata": {},
   "source": [
    "2. Get attributes"
   ]
  },
  {
   "cell_type": "code",
   "execution_count": null,
   "metadata": {},
   "outputs": [],
   "source": [
    "def getAttributes():\n",
    "    res = {'Price': ['Price']}\n",
    "    \n",
    "    browser.get('https://www.bestbuy.com/site/laptop-computers/all-laptops/pcmcat138500050001.c?id=pcmcat138500050001&intl=nosplash')\n",
    "\n",
    "    f = open('dataset/product_links.txt', 'r')\n",
    "    links = f.readlines()\n",
    "    f.close()\n",
    "\n",
    "    count = 0\n",
    "    for link in links:\n",
    "        count += 1\n",
    "        url = link[:-1]\n",
    "        url = url.split('\\t')\n",
    "\n",
    "        if (len(url) == 1):\n",
    "            browser.get(url[0])\n",
    "            post = HTML(html=browser.page_source)\n",
    "\n",
    "            print(count)\n",
    "            print(url[0])           \n",
    "            \n",
    "            specifications = post.find('.spec-categories')\n",
    "            if len(specifications) != 0:\n",
    "                #specifications_components = specifications[0].find('.section-title') # cac thanh phan lon\n",
    "                specifications_components_details = specifications[0].find('.category-wrapper') # Tat ca thanh phan lon va nho\n",
    "                for component in specifications_components_details:\n",
    "                    data = component.text.split('\\n')\n",
    "                    key1 = data[0]\n",
    "                    if key1 not in res.keys():\n",
    "                        res[key1] = []\n",
    "                    i = 1\n",
    "                    while i < len(data):\n",
    "                        key2 = data[i]\n",
    "                        if key2 not in res[key1]:\n",
    "                            res[key1].append(key2)\n",
    "                        i += 1\n",
    "                        if data[i] == 'Info':\n",
    "                            i += 1\n",
    "                        i += 1\n",
    "            else:\n",
    "                continue\n",
    "    return res\n",
    "\n",
    "dic = getAttributes()\n",
    "r = json.dumps(dic)\n",
    "f = open('dataset/attrs.json', 'w')\n",
    "f.write(r)\n",
    "f.close()"
   ]
  },
  {
   "cell_type": "markdown",
   "metadata": {},
   "source": [
    " "
   ]
  },
  {
   "cell_type": "markdown",
   "metadata": {},
   "source": [
    "3. Crawl Data"
   ]
  },
  {
   "cell_type": "code",
   "execution_count": 2,
   "metadata": {},
   "outputs": [],
   "source": [
    "class Laptop:\n",
    "    def __init__(self, attrbs_dict):\n",
    "        self.data = {}\n",
    "        for key in list(attrbs_dict.keys()):\n",
    "            self.data[key] = dict(zip(attrbs_dict[key], [\"\"]*len(attrbs_dict[key])))\n",
    "        \n",
    "    def convertDataToJsonStr(self):\n",
    "        return json.dumps(self.data)\n",
    "\n",
    "    def convertDataToStrCSV(self):\n",
    "        res = ''\n",
    "        for key in self.data.keys():\n",
    "            res += '\\t' + '\\t'.join(self.data[key].values())\n",
    "        return res[1:] + '\\n'\n",
    "    \n",
    "    def get_keys_list(self):\n",
    "        keys = []\n",
    "        for key in self.data.keys():\n",
    "            #keys.extend(self.data[key].keys())\n",
    "            for sub_key in self.data[key].keys():\n",
    "                keys.append(key + '__' + sub_key)\n",
    "        return keys\n",
    "          \n",
    "    def setValue(self, component, field, value):\n",
    "        self.data[component][field] = value"
   ]
  },
  {
   "cell_type": "code",
   "execution_count": 3,
   "metadata": {},
   "outputs": [],
   "source": [
    "with open('dataset/attrs.json', 'r') as f:\n",
    "    attrs = f.read()\n",
    "attrbs_dict = json.loads(attrs)"
   ]
  },
  {
   "cell_type": "code",
   "execution_count": null,
   "metadata": {},
   "outputs": [],
   "source": [
    "browser = webdriver.Chrome(executable_path='./chromedriver/chromedriver')\n",
    "\n",
    "browser.get('https://www.bestbuy.com/site/laptop-computers/all-laptops/pcmcat138500050001.c?id=pcmcat138500050001&intl=nosplash')\n",
    "\n",
    "f = open('dataset/product_links.txt', 'r')\n",
    "links = f.readlines()\n",
    "f.close()\n",
    "\n",
    "g = open('dataset/product_infos.csv', 'w')\n",
    "\n",
    "temp = Laptop(attrbs_dict)\n",
    "title = '\\t'.join(temp.get_keys_list()) + '\\n'\n",
    "g.write(title)\n",
    "\n",
    "count = 0\n",
    "for link in links:\n",
    "    count += 1\n",
    "    url = link[:-1]\n",
    "    url = url.split('\\t')\n",
    "    \n",
    "    if (len(url) == 1):\n",
    "        laptop = Laptop(attrbs_dict)\n",
    "        \n",
    "        browser.get(url[0])\n",
    "        post = HTML(html=browser.page_source)\n",
    "                \n",
    "        print(count)\n",
    "        print(url[0])\n",
    "        print('\\n')\n",
    "        \n",
    "        price = post.find('.priceView-price')\n",
    "        if len(price) == 0:\n",
    "            continue\n",
    "        price = price[0].find('.priceView-hero-price')\n",
    "        if len(price) == 0:\n",
    "            continue\n",
    "        price = price[0].find('.sr-only')\n",
    "        if len(price) == 0:\n",
    "            continue\n",
    "        laptop.setValue('Price', 'Price', price[0].text)\n",
    "        \n",
    "        specifications = post.find('.spec-categories')\n",
    "        if len(specifications) != 0:\n",
    "            #specifications_components = specifications[0].find('.section-title') # cac thanh phan lon\n",
    "            specifications_components_details = specifications[0].find('.category-wrapper') # Tat ca thanh phan lon va nho\n",
    "            for component in specifications_components_details:\n",
    "                data = component.text.split('\\n')\n",
    "                key1 = data[0]\n",
    "                i = 1\n",
    "                while i < len(data):\n",
    "                    key2 = data[i]\n",
    "                    i += 1\n",
    "                    if data[i] == 'Info':\n",
    "                        i += 1\n",
    "                    laptop.setValue(key1, key2, data[i])\n",
    "                    i += 1\n",
    "        else:\n",
    "            continue\n",
    "    \n",
    "        g.write(laptop.convertDataToStrCSV())\n",
    "    \n",
    "g.close()"
   ]
  }
 ],
 "metadata": {
  "kernelspec": {
   "display_name": "Python 3",
   "language": "python",
   "name": "python3"
  },
  "language_info": {
   "codemirror_mode": {
    "name": "ipython",
    "version": 3
   },
   "file_extension": ".py",
   "mimetype": "text/x-python",
   "name": "python",
   "nbconvert_exporter": "python",
   "pygments_lexer": "ipython3",
   "version": "3.7.5"
  }
 },
 "nbformat": 4,
 "nbformat_minor": 4
}
