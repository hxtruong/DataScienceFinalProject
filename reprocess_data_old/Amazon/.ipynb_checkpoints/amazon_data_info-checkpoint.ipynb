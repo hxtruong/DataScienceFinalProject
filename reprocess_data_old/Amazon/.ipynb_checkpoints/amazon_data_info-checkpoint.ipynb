{
 "cells": [
  {
   "cell_type": "markdown",
   "metadata": {
    "Collapsed": "false"
   },
   "source": [
    "# Preprocessing Amazon data"
   ]
  },
  {
   "cell_type": "markdown",
   "metadata": {
    "Collapsed": "true"
   },
   "source": [
    "## Import library"
   ]
  },
  {
   "cell_type": "code",
   "execution_count": 1,
   "metadata": {
    "Collapsed": "false"
   },
   "outputs": [],
   "source": [
    "%matplotlib inline\n",
    "import pandas as pd\n",
    "import numpy as np\n",
    "from pandas.plotting import register_matplotlib_converters\n",
    "import matplotlib.pyplot as plt\n",
    "import seaborn as sns\n",
    "import re\n",
    "\n",
    "# To avoid Warning message inbetween ...\n",
    "import warnings\n",
    "warnings.filterwarnings('ignore')"
   ]
  },
  {
   "cell_type": "code",
   "execution_count": 2,
   "metadata": {
    "Collapsed": "false"
   },
   "outputs": [],
   "source": [
    "# with open(\"../../dataset/Amazon/amazon_product_infos.csv\", encoding='utf-8') as f:\n",
    "#     with open('../../dataset/Amazon/amazon_product_infos_pre.csv', 'w', encoding='utf-8') as g:\n",
    "#         line = f.readline()\n",
    "#         print(line)\n",
    "#         count = 0\n",
    "#         while line != '':\n",
    "#             line = line[1:-1]\n",
    "#             datas = line.split('\\t')\n",
    "#             datas[len(datas)-1] = datas[len(datas)-1][:datas[len(datas)-1].find('\",,,')]\n",
    "#             item = '\\t'.join(datas) + '\\n'\n",
    "#             g.write(item)\n",
    "#             line = f.readline()"
   ]
  },
  {
   "cell_type": "markdown",
   "metadata": {
    "Collapsed": "true"
   },
   "source": [
    "## Read data"
   ]
  },
  {
   "cell_type": "code",
   "execution_count": 3,
   "metadata": {
    "Collapsed": "false"
   },
   "outputs": [
    {
     "data": {
      "text/html": [
       "<div>\n",
       "<style scoped>\n",
       "    .dataframe tbody tr th:only-of-type {\n",
       "        vertical-align: middle;\n",
       "    }\n",
       "\n",
       "    .dataframe tbody tr th {\n",
       "        vertical-align: top;\n",
       "    }\n",
       "\n",
       "    .dataframe thead th {\n",
       "        text-align: right;\n",
       "    }\n",
       "</style>\n",
       "<table border=\"1\" class=\"dataframe\">\n",
       "  <thead>\n",
       "    <tr style=\"text-align: right;\">\n",
       "      <th></th>\n",
       "      <th>Price</th>\n",
       "      <th>Screen Size</th>\n",
       "      <th>Max Screen Resolution</th>\n",
       "      <th>Processor</th>\n",
       "      <th>RAM</th>\n",
       "      <th>Hard Drive</th>\n",
       "      <th>Graphics Coprocessor</th>\n",
       "      <th>Chipset Brand</th>\n",
       "      <th>Card Description</th>\n",
       "      <th>Wireless Type</th>\n",
       "      <th>...</th>\n",
       "      <th>Rear Webcam Resolution</th>\n",
       "      <th>Power Source</th>\n",
       "      <th>Voltage</th>\n",
       "      <th>Memory Speed</th>\n",
       "      <th>California residents</th>\n",
       "      <th>Graphics Card Ram Size</th>\n",
       "      <th>National Stock Number</th>\n",
       "      <th>Package Dimensions</th>\n",
       "      <th>Audio-out Ports (#)</th>\n",
       "      <th>Battery Type</th>\n",
       "    </tr>\n",
       "  </thead>\n",
       "  <tbody>\n",
       "    <tr>\n",
       "      <td>0</td>\n",
       "      <td>$309.99</td>\n",
       "      <td>15.6 inches</td>\n",
       "      <td>1920 x 1080</td>\n",
       "      <td>3.5 GHz Ryzen 3 2200U</td>\n",
       "      <td>4 GB DDR4</td>\n",
       "      <td>128 GB Flash Memory Solid State</td>\n",
       "      <td>AMD Radeon Vega 3</td>\n",
       "      <td>AMD</td>\n",
       "      <td>Integrated</td>\n",
       "      <td>802.11ac</td>\n",
       "      <td>...</td>\n",
       "      <td>NaN</td>\n",
       "      <td>NaN</td>\n",
       "      <td>NaN</td>\n",
       "      <td>NaN</td>\n",
       "      <td>NaN</td>\n",
       "      <td>NaN</td>\n",
       "      <td>NaN</td>\n",
       "      <td>NaN</td>\n",
       "      <td>NaN</td>\n",
       "      <td>NaN</td>\n",
       "    </tr>\n",
       "    <tr>\n",
       "      <td>1</td>\n",
       "      <td>$162.92</td>\n",
       "      <td>10.1 inches</td>\n",
       "      <td>1920x1200 pixels</td>\n",
       "      <td>1.8 GHz 8032</td>\n",
       "      <td>2 GB</td>\n",
       "      <td>32 GB</td>\n",
       "      <td>Mali-G71 MP2</td>\n",
       "      <td>NaN</td>\n",
       "      <td>Integrated</td>\n",
       "      <td>802.11a/b/g/n/ac\", 2.4 GHz Radio Frequency,\" 5...</td>\n",
       "      <td>...</td>\n",
       "      <td>8 MP</td>\n",
       "      <td>Battery</td>\n",
       "      <td>5 volts</td>\n",
       "      <td>NaN</td>\n",
       "      <td>NaN</td>\n",
       "      <td>NaN</td>\n",
       "      <td>NaN</td>\n",
       "      <td>NaN</td>\n",
       "      <td>NaN</td>\n",
       "      <td>NaN</td>\n",
       "    </tr>\n",
       "    <tr>\n",
       "      <td>2</td>\n",
       "      <td>$246.99</td>\n",
       "      <td>11.6 inches</td>\n",
       "      <td>1366X768 pixels</td>\n",
       "      <td>2.1 GHz MediaTek_MT8127</td>\n",
       "      <td>4 GB LPDDR3</td>\n",
       "      <td>64 GB Flash Memory Solid State</td>\n",
       "      <td>PowerVR SGX543</td>\n",
       "      <td>Intel</td>\n",
       "      <td>Integrated</td>\n",
       "      <td>802.11a\", 802.11b,\" 802.11g</td>\n",
       "      <td>...</td>\n",
       "      <td>NaN</td>\n",
       "      <td>NaN</td>\n",
       "      <td>NaN</td>\n",
       "      <td>1600 MHz</td>\n",
       "      <td>Click here for Proposition 65 warning</td>\n",
       "      <td>NaN</td>\n",
       "      <td>NaN</td>\n",
       "      <td>NaN</td>\n",
       "      <td>NaN</td>\n",
       "      <td>NaN</td>\n",
       "    </tr>\n",
       "    <tr>\n",
       "      <td>3</td>\n",
       "      <td>1 ,\"089.00</td>\n",
       "      <td>15.6 inches</td>\n",
       "      <td>1920 x 1080</td>\n",
       "      <td>4.5 GHz Intel Core i7</td>\n",
       "      <td>16 GB DDR4</td>\n",
       "      <td>256 GB Flash Memory Solid State</td>\n",
       "      <td>NaN</td>\n",
       "      <td>NVIDIA</td>\n",
       "      <td>Dedicated</td>\n",
       "      <td>802.11ac</td>\n",
       "      <td>...</td>\n",
       "      <td>NaN</td>\n",
       "      <td>NaN</td>\n",
       "      <td>NaN</td>\n",
       "      <td>NaN</td>\n",
       "      <td>NaN</td>\n",
       "      <td>6 GB</td>\n",
       "      <td>NaN</td>\n",
       "      <td>NaN</td>\n",
       "      <td>NaN</td>\n",
       "      <td>NaN</td>\n",
       "    </tr>\n",
       "    <tr>\n",
       "      <td>4</td>\n",
       "      <td>$127.97</td>\n",
       "      <td>11.6 inches</td>\n",
       "      <td>1366 x 768 pixels</td>\n",
       "      <td>2.1 GHz MediaTek MT8125</td>\n",
       "      <td>4 GB DDR4</td>\n",
       "      <td>Flash Memory Solid State</td>\n",
       "      <td>PowerVR GX6250</td>\n",
       "      <td>Chromebook</td>\n",
       "      <td>Mediatek</td>\n",
       "      <td>Bluetooth</td>\n",
       "      <td>...</td>\n",
       "      <td>NaN</td>\n",
       "      <td>NaN</td>\n",
       "      <td>NaN</td>\n",
       "      <td>NaN</td>\n",
       "      <td>NaN</td>\n",
       "      <td>NaN</td>\n",
       "      <td>NaN</td>\n",
       "      <td>NaN</td>\n",
       "      <td>NaN</td>\n",
       "      <td>NaN</td>\n",
       "    </tr>\n",
       "  </tbody>\n",
       "</table>\n",
       "<p>5 rows × 41 columns</p>\n",
       "</div>"
      ],
      "text/plain": [
       "        Price  Screen Size Max Screen Resolution                Processor  \\\n",
       "0     $309.99  15.6 inches           1920 x 1080    3.5 GHz Ryzen 3 2200U   \n",
       "1     $162.92  10.1 inches      1920x1200 pixels             1.8 GHz 8032   \n",
       "2     $246.99  11.6 inches       1366X768 pixels  2.1 GHz MediaTek_MT8127   \n",
       "3  1 ,\"089.00  15.6 inches           1920 x 1080    4.5 GHz Intel Core i7   \n",
       "4     $127.97  11.6 inches     1366 x 768 pixels  2.1 GHz MediaTek MT8125   \n",
       "\n",
       "           RAM                       Hard Drive Graphics Coprocessor  \\\n",
       "0    4 GB DDR4  128 GB Flash Memory Solid State    AMD Radeon Vega 3   \n",
       "1         2 GB                            32 GB         Mali-G71 MP2   \n",
       "2  4 GB LPDDR3   64 GB Flash Memory Solid State       PowerVR SGX543   \n",
       "3   16 GB DDR4  256 GB Flash Memory Solid State                  NaN   \n",
       "4    4 GB DDR4         Flash Memory Solid State       PowerVR GX6250   \n",
       "\n",
       "  Chipset Brand Card Description  \\\n",
       "0           AMD       Integrated   \n",
       "1           NaN       Integrated   \n",
       "2         Intel       Integrated   \n",
       "3        NVIDIA        Dedicated   \n",
       "4    Chromebook         Mediatek   \n",
       "\n",
       "                                       Wireless Type  ...  \\\n",
       "0                                           802.11ac  ...   \n",
       "1  802.11a/b/g/n/ac\", 2.4 GHz Radio Frequency,\" 5...  ...   \n",
       "2                        802.11a\", 802.11b,\" 802.11g  ...   \n",
       "3                                           802.11ac  ...   \n",
       "4                                          Bluetooth  ...   \n",
       "\n",
       "   Rear Webcam Resolution  Power Source  Voltage Memory Speed  \\\n",
       "0                     NaN           NaN      NaN          NaN   \n",
       "1                    8 MP       Battery  5 volts          NaN   \n",
       "2                     NaN           NaN      NaN     1600 MHz   \n",
       "3                     NaN           NaN      NaN          NaN   \n",
       "4                     NaN           NaN      NaN          NaN   \n",
       "\n",
       "                    California residents Graphics Card Ram Size  \\\n",
       "0                                    NaN                    NaN   \n",
       "1                                    NaN                    NaN   \n",
       "2  Click here for Proposition 65 warning                    NaN   \n",
       "3                                    NaN                   6 GB   \n",
       "4                                    NaN                    NaN   \n",
       "\n",
       "  National Stock Number Package Dimensions Audio-out Ports (#) Battery Type  \n",
       "0                   NaN                NaN                 NaN          NaN  \n",
       "1                   NaN                NaN                 NaN          NaN  \n",
       "2                   NaN                NaN                 NaN          NaN  \n",
       "3                   NaN                NaN                 NaN          NaN  \n",
       "4                   NaN                NaN                 NaN          NaN  \n",
       "\n",
       "[5 rows x 41 columns]"
      ]
     },
     "execution_count": 3,
     "metadata": {},
     "output_type": "execute_result"
    }
   ],
   "source": [
    "df = pd.read_csv(\"../../dataset/Amazon/amazon_product_infos_pre.csv\", encoding='utf-8', sep='\\t', index_col=False )\n",
    "df.head()"
   ]
  },
  {
   "cell_type": "code",
   "execution_count": 4,
   "metadata": {
    "Collapsed": "false"
   },
   "outputs": [
    {
     "name": "stdout",
     "output_type": "stream",
     "text": [
      "Data Types:\n",
      "Price                               object\n",
      "Screen Size                         object\n",
      "Max Screen Resolution               object\n",
      "Processor                           object\n",
      "RAM                                 object\n",
      "Hard Drive                          object\n",
      "Graphics Coprocessor                object\n",
      "Chipset Brand                       object\n",
      "Card Description                    object\n",
      "Wireless Type                       object\n",
      "Number of USB 2.0 Ports            float64\n",
      "Number of USB 3.0 Ports            float64\n",
      "Brand Name                          object\n",
      "Series                              object\n",
      "Item model number                   object\n",
      "Operating System                    object\n",
      "Item Weight                         object\n",
      "Product Dimensions                  object\n",
      "Item Dimensions L x W x H           object\n",
      "Color                               object\n",
      "Processor Brand                     object\n",
      "Processor Count                    float64\n",
      "Computer Memory Type                object\n",
      "Flash Memory Size                   object\n",
      "Hard Drive Interface                object\n",
      "Hard Drive Rotational Speed         object\n",
      "Optical Drive Type                  object\n",
      "Batteries                           object\n",
      "Screen Resolution                   object\n",
      "Average Battery Life (in hours)     object\n",
      "Hardware Platform                   object\n",
      "Rear Webcam Resolution              object\n",
      "Power Source                        object\n",
      "Voltage                             object\n",
      "Memory Speed                        object\n",
      "California residents                object\n",
      "Graphics Card Ram Size              object\n",
      "National Stock Number               object\n",
      "Package Dimensions                  object\n",
      "Audio-out Ports (#)                float64\n",
      "Battery Type                        object\n",
      "dtype: object\n",
      "\n",
      "Rows and Columns:\n",
      "(5764, 41)\n",
      "\n",
      "Column names:\n",
      "Index(['Price', 'Screen Size', 'Max Screen Resolution', 'Processor', 'RAM',\n",
      "       'Hard Drive', 'Graphics Coprocessor', 'Chipset Brand',\n",
      "       'Card Description', 'Wireless Type', 'Number of USB 2.0 Ports',\n",
      "       'Number of USB 3.0 Ports', 'Brand Name', 'Series', 'Item model number',\n",
      "       'Operating System', 'Item Weight', 'Product Dimensions',\n",
      "       'Item Dimensions L x W x H', 'Color', 'Processor Brand',\n",
      "       'Processor Count', 'Computer Memory Type', 'Flash Memory Size',\n",
      "       'Hard Drive Interface', 'Hard Drive Rotational Speed',\n",
      "       'Optical Drive Type', 'Batteries', 'Screen Resolution',\n",
      "       'Average Battery Life (in hours)', 'Hardware Platform',\n",
      "       'Rear Webcam Resolution', 'Power Source', 'Voltage', 'Memory Speed',\n",
      "       'California residents', 'Graphics Card Ram Size',\n",
      "       'National Stock Number', 'Package Dimensions', 'Audio-out Ports (#)',\n",
      "       'Battery Type'],\n",
      "      dtype='object')\n",
      "\n",
      "Percent Null Values:\n",
      "Price                               1.544067\n",
      "Screen Size                         7.390701\n",
      "Max Screen Resolution              32.529493\n",
      "Processor                           4.059681\n",
      "RAM                                 1.804303\n",
      "Hard Drive                          2.290076\n",
      "Graphics Coprocessor               14.781402\n",
      "Chipset Brand                      31.783484\n",
      "Card Description                   24.965302\n",
      "Wireless Type                      25.346981\n",
      "Number of USB 2.0 Ports            70.575989\n",
      "Number of USB 3.0 Ports            77.966690\n",
      "Brand Name                          0.381679\n",
      "Series                              7.234559\n",
      "Item model number                  20.922970\n",
      "Operating System                    9.941013\n",
      "Item Weight                         0.017349\n",
      "Product Dimensions                 15.700902\n",
      "Item Dimensions L x W x H          15.700902\n",
      "Color                              47.154754\n",
      "Processor Brand                    12.768910\n",
      "Processor Count                     2.220680\n",
      "Computer Memory Type               27.116586\n",
      "Flash Memory Size                  30.239417\n",
      "Hard Drive Interface               25.225538\n",
      "Hard Drive Rotational Speed        65.475364\n",
      "Optical Drive Type                 72.102706\n",
      "Batteries                          24.496877\n",
      "Screen Resolution                  62.977099\n",
      "Average Battery Life (in hours)    67.661346\n",
      "Hardware Platform                  23.213046\n",
      "Rear Webcam Resolution             83.605135\n",
      "Power Source                       68.702290\n",
      "Voltage                            94.500347\n",
      "Memory Speed                       77.185982\n",
      "California residents               98.698820\n",
      "Graphics Card Ram Size             84.247051\n",
      "National Stock Number              99.791811\n",
      "Package Dimensions                 84.316447\n",
      "Audio-out Ports (#)                99.479528\n",
      "Battery Type                       99.566273\n",
      "dtype: float64\n",
      "\n",
      "Unique values:\n",
      "Price                              2858\n",
      "Screen Size                          94\n",
      "Max Screen Resolution               283\n",
      "Processor                           999\n",
      "RAM                                 324\n",
      "Hard Drive                          432\n",
      "Graphics Coprocessor                883\n",
      "Chipset Brand                        66\n",
      "Card Description                     58\n",
      "Wireless Type                       134\n",
      "Number of USB 2.0 Ports              11\n",
      "Number of USB 3.0 Ports              11\n",
      "Brand Name                          299\n",
      "Series                             2603\n",
      "Item model number                  3577\n",
      "Operating System                    191\n",
      "Item Weight                         953\n",
      "Product Dimensions                 2033\n",
      "Item Dimensions L x W x H          2549\n",
      "Color                               427\n",
      "Processor Brand                      95\n",
      "Processor Count                      11\n",
      "Computer Memory Type                 28\n",
      "Flash Memory Size                    77\n",
      "Hard Drive Interface                 43\n",
      "Hard Drive Rotational Speed          62\n",
      "Optical Drive Type                   46\n",
      "Batteries                            57\n",
      "Screen Resolution                   158\n",
      "Average Battery Life (in hours)     105\n",
      "Hardware Platform                   134\n",
      "Rear Webcam Resolution               94\n",
      "Power Source                         21\n",
      "Voltage                              31\n",
      "Memory Speed                         72\n",
      "California residents                  1\n",
      "Graphics Card Ram Size               64\n",
      "National Stock Number                12\n",
      "Package Dimensions                  829\n",
      "Audio-out Ports (#)                   2\n",
      "Battery Type                         10\n",
      "dtype: int64\n",
      "Describe: \n",
      "       Number of USB 2.0 Ports  Number of USB 3.0 Ports  Processor Count  \\\n",
      "count              1696.000000              1270.000000      5636.000000   \n",
      "mean                  1.763561                 2.476378         3.128282   \n",
      "std                   1.334849                 1.662830         1.761274   \n",
      "min                   1.000000                 1.000000         1.000000   \n",
      "25%                   1.000000                 1.000000         2.000000   \n",
      "50%                   1.000000                 2.000000         2.000000   \n",
      "75%                   2.000000                 3.000000         4.000000   \n",
      "max                  16.000000                16.000000        16.000000   \n",
      "\n",
      "       Audio-out Ports (#)  \n",
      "count            30.000000  \n",
      "mean              1.033333  \n",
      "std               0.182574  \n",
      "min               1.000000  \n",
      "25%               1.000000  \n",
      "50%               1.000000  \n",
      "75%               1.000000  \n",
      "max               2.000000  \n"
     ]
    }
   ],
   "source": [
    "#Quick Analysis on Dataset : DataTypes, Rows and Columns ,Null values, Unique values ...\n",
    "def quick_analysis(df):\n",
    "    print(\"Data Types:\")\n",
    "    print(df.dtypes)\n",
    "    print(\"\\nRows and Columns:\")\n",
    "    print(df.shape)\n",
    "    print(\"\\nColumn names:\")\n",
    "    print(df.columns)\n",
    "    print(\"\\nPercent Null Values:\")\n",
    "    print(df.apply(lambda x: sum(x.isnull()) / len(df)*100))\n",
    "    print(\"\\nUnique values:\")\n",
    "    print(df.nunique())\n",
    "    print(\"Describe: \")\n",
    "    print(df.describe())\n",
    "\n",
    "quick_analysis(df)"
   ]
  },
  {
   "cell_type": "markdown",
   "metadata": {
    "Collapsed": "false"
   },
   "source": [
    "## Preprocessing data\n",
    "\n",
    "From information above, there are serveral task to handle:\n",
    "- Drop all row has *price* is NA and get value of *price* (as type float)\n",
    "- Merge *Max Screen Resolution* and *Screen Resolution*\n",
    "- Drop columns has many NA value (larger than 30% NA value)\n",
    "- Handle value each columns (ex: 16.5 inches will convert to 16.5) for prediction\n",
    "- Splite each field to columns (such as *Item Dimensions L x W x H*)"
   ]
  },
  {
   "cell_type": "markdown",
   "metadata": {
    "Collapsed": "true"
   },
   "source": [
    "#### __Price__\n",
    "*Price* is first considered because it is result of model"
   ]
  },
  {
   "cell_type": "markdown",
   "metadata": {
    "Collapsed": "false"
   },
   "source": [
    "Drop NaN value in __Price__"
   ]
  },
  {
   "cell_type": "code",
   "execution_count": 5,
   "metadata": {
    "Collapsed": "false"
   },
   "outputs": [],
   "source": [
    "df.dropna(subset=['Price'], how='all', inplace=True)"
   ]
  },
  {
   "cell_type": "markdown",
   "metadata": {
    "Collapsed": "false"
   },
   "source": [
    "Get exactly value of *Price* column"
   ]
  },
  {
   "cell_type": "code",
   "execution_count": 6,
   "metadata": {
    "Collapsed": "false"
   },
   "outputs": [],
   "source": [
    "def handle_price(s):\n",
    "    s = str(s)\n",
    "    for ch in ['$', '\"', '\\'', ',', ' ']:\n",
    "        s = s.replace(ch, '')\n",
    "    return s"
   ]
  },
  {
   "cell_type": "code",
   "execution_count": 7,
   "metadata": {
    "Collapsed": "false"
   },
   "outputs": [],
   "source": [
    "df['Price'] = df['Price'].map(handle_price)\n",
    "df['Price'] = df['Price'].astype(float)"
   ]
  },
  {
   "cell_type": "markdown",
   "metadata": {
    "Collapsed": "true"
   },
   "source": [
    "#### __Screen Resolution__\n",
    "\n",
    "Merge two columns: *Max Screen Resolution* and *Screen Resolutiono*. Since, two columns are same and just keep one columns for prediction.\n",
    "\n",
    "The *Screen Resolution* will be keeped."
   ]
  },
  {
   "cell_type": "code",
   "execution_count": 8,
   "metadata": {
    "Collapsed": "false"
   },
   "outputs": [
    {
     "data": {
      "text/plain": [
       "Max Screen Resolution    1850\n",
       "Screen Resolution        3573\n",
       "dtype: int64"
      ]
     },
     "execution_count": 8,
     "metadata": {},
     "output_type": "execute_result"
    }
   ],
   "source": [
    "df[['Max Screen Resolution', 'Screen Resolution']].isna().sum()"
   ]
  },
  {
   "cell_type": "code",
   "execution_count": 9,
   "metadata": {
    "Collapsed": "false"
   },
   "outputs": [],
   "source": [
    "df['Screen Resolution'] = df['Screen Resolution'].fillna(df['Max Screen Resolution'])\n",
    "df.drop(columns=['Max Screen Resolution'], axis=1, inplace=True)"
   ]
  },
  {
   "cell_type": "code",
   "execution_count": 10,
   "metadata": {
    "Collapsed": "false"
   },
   "outputs": [
    {
     "data": {
      "text/plain": [
       "count            4170\n",
       "unique            266\n",
       "top       1920 x 1080\n",
       "freq              733\n",
       "Name: Screen Resolution, dtype: object"
      ]
     },
     "execution_count": 10,
     "metadata": {},
     "output_type": "execute_result"
    }
   ],
   "source": [
    "df['Screen Resolution'].describe()"
   ]
  },
  {
   "cell_type": "markdown",
   "metadata": {
    "Collapsed": "false"
   },
   "source": [
    "Handle NA, Get value of *Screeen Resolution*"
   ]
  },
  {
   "cell_type": "code",
   "execution_count": 11,
   "metadata": {
    "Collapsed": "false"
   },
   "outputs": [],
   "source": [
    "df['Screen Resolution'] = df['Screen Resolution'].fillna(\"1920 x 1080\")"
   ]
  },
  {
   "cell_type": "code",
   "execution_count": 12,
   "metadata": {
    "Collapsed": "false"
   },
   "outputs": [],
   "source": [
    "def check_screen_resolution(x):\n",
    "    xs = re.findall(r'\\d+', x)\n",
    "    if len(xs)!=2:\n",
    "        print(x)"
   ]
  },
  {
   "cell_type": "code",
   "execution_count": 13,
   "metadata": {
    "Collapsed": "false"
   },
   "outputs": [
    {
     "name": "stdout",
     "output_type": "stream",
     "text": [
      "3840*2160@30Hz\n",
      "1 pixels\n",
      "na\n",
      "17 Inch WQXGA (2560 x 1600)\n",
      "Information Not Avalble pixels\n",
      "4096×2160@30Hz\n",
      "3000 x 2000 pixel (267ppi)\n",
      "0.001x0.001\n",
      "1 pixels\n",
      "1900 pixels\n",
      "pixels\n",
      "1 pixels\n",
      "1280x800\",\" Max 2560x1600\n",
      "2560x1600 1280x800\n",
      "N/A pixels\n",
      "1 pixels\n",
      "1\n",
      "1024 pixels\n",
      "4K Ultra HD ( 3840 x 2160 ) IPS Touchscreen\n",
      "HD\n",
      "1536 pixels\n",
      "4K\n",
      "4K\n",
      "1\",920 x 1,\"080 pixels\n",
      "Full-HD\n",
      "1\",920 x 1,\"200 pixels\n",
      "2736 x 1824\",\" 267 PPI pixels\n",
      "1\",\"280 x 800 pixels\n",
      "13.66x768 pixels\n",
      "1\n",
      "1\n",
      "1 pixels\n",
      "1 pixels\n",
      "3000 x 2000 (267 PPI) pixels\n",
      "1 pixels\n",
      "564 PPI\n",
      "1 pixels\n",
      "3840 x 2160 4K IPS Touchscreen\n",
      "1\n",
      "2736 x 1824 (267 PPI)\n",
      "8.0\"\" Full HD IPS Display (1920x1200)\n",
      "4K Ultra HD ( 3840 x 2160 ) IPS Touchscreen\n",
      "1536 pixels\n",
      "1\n",
      "4K Ultra HD ( 3840 x 2160 )\n",
      "1 pixels\n",
      "1\n",
      "1\",\"280 x 800 pixels\n",
      "720P\n",
      "1 pixels\n",
      "1 pixels\n",
      "1 pixels\n",
      "214 pixels\n",
      "1\n",
      "1\n",
      "1536 pixels\n",
      "1\n",
      "1280 pixels\n",
      "1 pixels\n",
      "1080p\n"
     ]
    },
    {
     "data": {
      "text/plain": [
       "0       None\n",
       "1       None\n",
       "2       None\n",
       "3       None\n",
       "4       None\n",
       "        ... \n",
       "5759    None\n",
       "5760    None\n",
       "5761    None\n",
       "5762    None\n",
       "5763    None\n",
       "Name: Screen Resolution, Length: 5675, dtype: object"
      ]
     },
     "execution_count": 13,
     "metadata": {},
     "output_type": "execute_result"
    }
   ],
   "source": [
    "df['Screen Resolution'].map(check_screen_resolution)"
   ]
  },
  {
   "cell_type": "code",
   "execution_count": 14,
   "metadata": {
    "Collapsed": "false"
   },
   "outputs": [],
   "source": [
    "df['Screen Resolution'] = df['Screen Resolution'].replace(['1 pixels','1','N/A pixels', 'Information Not Avalble pixels',\\\n",
    "                                                          'na', '0.001x0.001', '1900 pixels', 'pixels', '1\",920 x 1,\"080 pixels',\\\n",
    "                                                           'Full-HD', '1080p','214 pixels'] \\\n",
    "                                                          ,'1920 x 1080')\n",
    "df['Screen Resolution'] = df['Screen Resolution'].replace(\"1024 pixels\", \"1024x576\")\n",
    "df['Screen Resolution'] = df['Screen Resolution'].replace([\"HD\", \"720P\", \"1280 pixels\"], \"1280 x 720\")\n",
    "df['Screen Resolution'] = df['Screen Resolution'].replace(\"1536 pixels\", \"2048 × 1536\")\n",
    "df['Screen Resolution'] = df['Screen Resolution'].replace(\"564 PPI\", \"2560 x 1440\")\n",
    "df['Screen Resolution'] = df['Screen Resolution'].replace(['2736 x 1824 (267 PPI)', '3000 x 2000 pixel (267ppi)', '2736 x 1824\",\" 267 PPI pixels'\\\n",
    "                                                          ,'2736 x 1824\",\" 267 PPI pixels', '3000 x 2000 (267 PPI) pixels'], \"2736 x 1824\")\n",
    "df['Screen Resolution'] = df['Screen Resolution'].replace(['4K', '4K Ultra HD ( 3840 x 2160 ) IPS Touchscreen', \\\n",
    "                                                           '3840 x 2160 4K IPS Touchscreen', '3840*2160@30Hz', \\\n",
    "                                                          '4K Ultra HD ( 3840 x 2160 )', '4K Ultra HD ( 3840 x 2160 ) IPS Touchscreen',\\\n",
    "                                                           '4K Ultra HD ( 3840 x 2160 ) IPS Touchscreen','4K@60Hz',\n",
    "                                                          '4K Ultra HD ( 3840 x 2160 ) IPS Touchscreen'], '3840 x 2160')\n",
    "df['Screen Resolution'] = df['Screen Resolution'].replace(['8.0\"\" Full HD IPS Display (1920x1200)', '1\",920 x 1,\"200 pixels'], \"1920 x 1200\")\n",
    "df['Screen Resolution'] = df['Screen Resolution'].replace(['17 Inch WQXGA (2560 x 1600)', '2560x1600 1280x800'], '2560 x 1600')\n",
    "df['Screen Resolution'] = df['Screen Resolution'].replace('4096×2160@30Hz', '4096×2160')\n",
    "df['Screen Resolution'] = df['Screen Resolution'].replace(['1280x800\",\" Max 2560x1600', '1\",\"280 x 800 pixels'], '1280 x 800')\n",
    "df['Screen Resolution'] = df['Screen Resolution'].replace('13.66x768 pixels', '1366 x 768')"
   ]
  },
  {
   "cell_type": "code",
   "execution_count": 15,
   "metadata": {
    "Collapsed": "false"
   },
   "outputs": [],
   "source": [
    "def get_screen_resolution(x):\n",
    "    xs = re.findall(r'\\d+', x)\n",
    "    xs = [int(x) for x in xs]\n",
    "    xs.sort(reverse = True)\n",
    "    return str(xs[0]) + ' '+ str(xs[1])"
   ]
  },
  {
   "cell_type": "code",
   "execution_count": 16,
   "metadata": {
    "Collapsed": "false"
   },
   "outputs": [
    {
     "data": {
      "text/plain": [
       "4032    4K Ultra HD ( 3840 x 2160 ) IPS Touchscreen\n",
       "Name: Screen Resolution, dtype: object"
      ]
     },
     "execution_count": 16,
     "metadata": {},
     "output_type": "execute_result"
    }
   ],
   "source": [
    "df[df['Screen Resolution'].str.contains(\"4K\")]['Screen Resolution']"
   ]
  },
  {
   "cell_type": "code",
   "execution_count": 17,
   "metadata": {
    "Collapsed": "false"
   },
   "outputs": [],
   "source": [
    "df['Screen Resolution'] = df['Screen Resolution'].map(get_screen_resolution)"
   ]
  },
  {
   "cell_type": "code",
   "execution_count": 18,
   "metadata": {
    "Collapsed": "false"
   },
   "outputs": [],
   "source": [
    "df['Screen Resolution Width'], df['Screen Resolution Height'] = df['Screen Resolution'].str.split(' ', 1).str\n",
    "df.drop(columns=['Screen Resolution'], axis=1, inplace=True)"
   ]
  },
  {
   "cell_type": "code",
   "execution_count": 19,
   "metadata": {
    "Collapsed": "false"
   },
   "outputs": [],
   "source": [
    "df['Screen Resolution Width'] = df['Screen Resolution Width'].astype(int)\n",
    "df['Screen Resolution Height'] = df['Screen Resolution Height'].astype(int)"
   ]
  },
  {
   "cell_type": "code",
   "execution_count": 20,
   "metadata": {
    "Collapsed": "false"
   },
   "outputs": [
    {
     "data": {
      "text/plain": [
       "<matplotlib.axes._subplots.AxesSubplot at 0x7f208eea5128>"
      ]
     },
     "execution_count": 20,
     "metadata": {},
     "output_type": "execute_result"
    },
    {
     "data": {
      "image/png": "[encoded data removed]",
      "text/plain": [
       "<Figure size 432x288 with 1 Axes>"
      ]
     },
     "metadata": {
      "needs_background": "light"
     },
     "output_type": "display_data"
    }
   ],
   "source": [
    "sns.scatterplot(x=\"Screen Resolution Width\", y=\"Screen Resolution Height\", data=df)"
   ]
  },
  {
   "cell_type": "markdown",
   "metadata": {
    "Collapsed": "false"
   },
   "source": [
    "From chart about, it should be remove outline (avoid noise)"
   ]
  },
  {
   "cell_type": "code",
   "execution_count": 21,
   "metadata": {
    "Collapsed": "false"
   },
   "outputs": [],
   "source": [
    "df.drop(df['Screen Resolution Width'].idxmax(), inplace=True)\n",
    "df.drop(df['Screen Resolution Width'].idxmin(), inplace=True)"
   ]
  },
  {
   "cell_type": "code",
   "execution_count": 22,
   "metadata": {
    "Collapsed": "false"
   },
   "outputs": [
    {
     "data": {
      "text/html": [
       "<div>\n",
       "<style scoped>\n",
       "    .dataframe tbody tr th:only-of-type {\n",
       "        vertical-align: middle;\n",
       "    }\n",
       "\n",
       "    .dataframe tbody tr th {\n",
       "        vertical-align: top;\n",
       "    }\n",
       "\n",
       "    .dataframe thead th {\n",
       "        text-align: right;\n",
       "    }\n",
       "</style>\n",
       "<table border=\"1\" class=\"dataframe\">\n",
       "  <thead>\n",
       "    <tr style=\"text-align: right;\">\n",
       "      <th></th>\n",
       "      <th>Screen Resolution Width</th>\n",
       "      <th>Screen Resolution Height</th>\n",
       "    </tr>\n",
       "  </thead>\n",
       "  <tbody>\n",
       "    <tr>\n",
       "      <td>count</td>\n",
       "      <td>5673.000000</td>\n",
       "      <td>5673.000000</td>\n",
       "    </tr>\n",
       "    <tr>\n",
       "      <td>mean</td>\n",
       "      <td>1816.966508</td>\n",
       "      <td>1038.381103</td>\n",
       "    </tr>\n",
       "    <tr>\n",
       "      <td>std</td>\n",
       "      <td>469.960487</td>\n",
       "      <td>278.581371</td>\n",
       "    </tr>\n",
       "    <tr>\n",
       "      <td>min</td>\n",
       "      <td>640.000000</td>\n",
       "      <td>480.000000</td>\n",
       "    </tr>\n",
       "    <tr>\n",
       "      <td>25%</td>\n",
       "      <td>1366.000000</td>\n",
       "      <td>768.000000</td>\n",
       "    </tr>\n",
       "    <tr>\n",
       "      <td>50%</td>\n",
       "      <td>1920.000000</td>\n",
       "      <td>1080.000000</td>\n",
       "    </tr>\n",
       "    <tr>\n",
       "      <td>75%</td>\n",
       "      <td>1920.000000</td>\n",
       "      <td>1080.000000</td>\n",
       "    </tr>\n",
       "    <tr>\n",
       "      <td>max</td>\n",
       "      <td>4096.000000</td>\n",
       "      <td>2560.000000</td>\n",
       "    </tr>\n",
       "  </tbody>\n",
       "</table>\n",
       "</div>"
      ],
      "text/plain": [
       "       Screen Resolution Width  Screen Resolution Height\n",
       "count              5673.000000               5673.000000\n",
       "mean               1816.966508               1038.381103\n",
       "std                 469.960487                278.581371\n",
       "min                 640.000000                480.000000\n",
       "25%                1366.000000                768.000000\n",
       "50%                1920.000000               1080.000000\n",
       "75%                1920.000000               1080.000000\n",
       "max                4096.000000               2560.000000"
      ]
     },
     "execution_count": 22,
     "metadata": {},
     "output_type": "execute_result"
    }
   ],
   "source": [
    "df[['Screen Resolution Width', 'Screen Resolution Height']].describe()"
   ]
  },
  {
   "cell_type": "markdown",
   "metadata": {
    "Collapsed": "true"
   },
   "source": [
    "#### __Screen Size__\n",
    "\n",
    "Just get value and convert type\n",
    "\n",
    "> - Column Name: Screen Size\n",
    "- Type: float"
   ]
  },
  {
   "cell_type": "code",
   "execution_count": 23,
   "metadata": {
    "Collapsed": "false"
   },
   "outputs": [],
   "source": [
    "df['Screen Size'] = df['Screen Size'].astype('str')"
   ]
  },
  {
   "cell_type": "code",
   "execution_count": 24,
   "metadata": {
    "Collapsed": "false"
   },
   "outputs": [
    {
     "data": {
      "text/plain": [
       "count            5673\n",
       "unique             93\n",
       "top       15.6 inches\n",
       "freq             2039\n",
       "Name: Screen Size, dtype: object"
      ]
     },
     "execution_count": 24,
     "metadata": {},
     "output_type": "execute_result"
    }
   ],
   "source": [
    "df['Screen Size'].describe()"
   ]
  },
  {
   "cell_type": "markdown",
   "metadata": {
    "Collapsed": "false"
   },
   "source": [
    "*Screen Size* will fill NA by most appear in df"
   ]
  },
  {
   "cell_type": "code",
   "execution_count": 25,
   "metadata": {
    "Collapsed": "false"
   },
   "outputs": [],
   "source": [
    "value = \"15.6 inches\""
   ]
  },
  {
   "cell_type": "code",
   "execution_count": 26,
   "metadata": {
    "Collapsed": "false"
   },
   "outputs": [],
   "source": [
    "# Will updated\n",
    "df['Screen Size'] = df['Screen Size'].fillna(value)\n",
    "df['Screen Size'] = df['Screen Size'].replace(['nan','1 centimeters','1', '1 inches', '0.1 inches', '0.1 centimeters', '0.01 inches', \\\n",
    "                                                '0.01 centimeters', '1080', '156 inches'], value)\n",
    "df['Screen Size'] = df['Screen Size'].replace(['100 inches'], '10.1 inches')\n",
    "df['Screen Size'] = df['Screen Size'].replace(['114 inches'], '11.4 inches')"
   ]
  },
  {
   "cell_type": "code",
   "execution_count": 27,
   "metadata": {
    "Collapsed": "false"
   },
   "outputs": [
    {
     "data": {
      "text/plain": [
       "array(['10.1 inches', '11 inches', '14.1 inches', '7.1 inches',\n",
       "       '21 inches', '10.1 Feet', '16.1 inches'], dtype=object)"
      ]
     },
     "execution_count": 27,
     "metadata": {},
     "output_type": "execute_result"
    }
   ],
   "source": [
    "# Just for test\n",
    "df[df['Screen Size'].str.contains('1 ')]['Screen Size'].unique()"
   ]
  },
  {
   "cell_type": "code",
   "execution_count": 28,
   "metadata": {
    "Collapsed": "false"
   },
   "outputs": [],
   "source": [
    "def get_screen_size(x):\n",
    "    arr = x.split()\n",
    "    if len(arr) > 0:\n",
    "        return arr[0]\n",
    "    return x"
   ]
  },
  {
   "cell_type": "code",
   "execution_count": 29,
   "metadata": {
    "Collapsed": "false"
   },
   "outputs": [
    {
     "data": {
      "text/plain": [
       "array(['15.6', '10.1', '11.6', '14', '12.3', '9.7', '10.5', '0.01', '7',\n",
       "       '12.9', '23.8', '11', '13.3', '17.3', '10', '8', '7.9', '13.5',\n",
       "       '15', '14.1', '12.2', '9.6', '17', '20', '13', '12.5', '10.8',\n",
       "       '13.9', '11.5', '3', '28', '27', '0.1', '15.4', '12', '5', '8.4',\n",
       "       '6', '11.4', '20.32', '100', '9', '8.9', '19.5', '24', '21.5',\n",
       "       '17.25', '7.1', '10.2', '21', '10.6', '14.7', '7.85', '2.5',\n",
       "       '33.78', '4.3', '12.4', '23', '14.4', '8.3', '18.4', '16', '22',\n",
       "       '39.624', '2.7', '32', '15.5', '6.9', '19', '16.1', '11.2', '32.8',\n",
       "       '18.5', '3.8'], dtype=object)"
      ]
     },
     "execution_count": 29,
     "metadata": {},
     "output_type": "execute_result"
    }
   ],
   "source": [
    "df['Screen Size'].map(get_screen_size).unique()"
   ]
  },
  {
   "cell_type": "markdown",
   "metadata": {
    "Collapsed": "false"
   },
   "source": [
    "In this result abouve, some value need to replace.\n",
    "\n",
    "Code will updated in cell above.\n",
    "\n",
    "Value need to replaced: \n",
    "- ['1', '0.1', '0.01', '1080', '156']: 15.6\n",
    "- 100: 10.1\n",
    "- 114: 11.4"
   ]
  },
  {
   "cell_type": "code",
   "execution_count": 30,
   "metadata": {
    "Collapsed": "false"
   },
   "outputs": [],
   "source": [
    "# Apply\n",
    "df['Screen Size'] = df['Screen Size'].map(get_screen_size)"
   ]
  },
  {
   "cell_type": "code",
   "execution_count": 31,
   "metadata": {
    "Collapsed": "false"
   },
   "outputs": [],
   "source": [
    "df['Screen Size'] = df['Screen Size'].astype(float)"
   ]
  },
  {
   "cell_type": "markdown",
   "metadata": {
    "Collapsed": "false"
   },
   "source": [
    "Remove outline value"
   ]
  },
  {
   "cell_type": "code",
   "execution_count": 32,
   "metadata": {
    "Collapsed": "false"
   },
   "outputs": [
    {
     "data": {
      "text/plain": [
       "<matplotlib.axes._subplots.AxesSubplot at 0x7f208e674160>"
      ]
     },
     "execution_count": 32,
     "metadata": {},
     "output_type": "execute_result"
    },
    {
     "data": {
      "image/png": "[encoded data removed]",
      "text/plain": [
       "<Figure size 432x288 with 1 Axes>"
      ]
     },
     "metadata": {
      "needs_background": "light"
     },
     "output_type": "display_data"
    }
   ],
   "source": [
    "sns.boxplot(x=df['Screen Size'])"
   ]
  },
  {
   "cell_type": "code",
   "execution_count": 33,
   "metadata": {
    "Collapsed": "false"
   },
   "outputs": [
    {
     "data": {
      "text/plain": [
       "0"
      ]
     },
     "execution_count": 33,
     "metadata": {},
     "output_type": "execute_result"
    }
   ],
   "source": [
    "df['Screen Size'].isna().sum()"
   ]
  },
  {
   "cell_type": "code",
   "execution_count": 34,
   "metadata": {
    "Collapsed": "false"
   },
   "outputs": [
    {
     "data": {
      "text/plain": [
       "count    5673.000000\n",
       "mean       14.139474\n",
       "std         3.366125\n",
       "min         0.010000\n",
       "25%        13.300000\n",
       "50%        15.600000\n",
       "75%        15.600000\n",
       "max       100.000000\n",
       "Name: Screen Size, dtype: float64"
      ]
     },
     "execution_count": 34,
     "metadata": {},
     "output_type": "execute_result"
    }
   ],
   "source": [
    "df['Screen Size'].describe()"
   ]
  },
  {
   "cell_type": "code",
   "execution_count": 35,
   "metadata": {
    "Collapsed": "false"
   },
   "outputs": [],
   "source": [
    "df = df[(df['Screen Size'] >= 7) & (df['Screen Size'] <= 64)]"
   ]
  },
  {
   "cell_type": "code",
   "execution_count": 36,
   "metadata": {
    "Collapsed": "false"
   },
   "outputs": [
    {
     "data": {
      "image/png": "[encoded data removed]",
      "text/plain": [
       "<Figure size 432x288 with 1 Axes>"
      ]
     },
     "metadata": {
      "needs_background": "light"
     },
     "output_type": "display_data"
    }
   ],
   "source": [
    "sns.distplot(df['Screen Size'], kde=False);"
   ]
  },
  {
   "cell_type": "markdown",
   "metadata": {
    "Collapsed": "false"
   },
   "source": [
    "#### __Processor__"
   ]
  },
  {
   "cell_type": "code",
   "execution_count": 38,
   "metadata": {
    "Collapsed": "false"
   },
   "outputs": [
    {
     "data": {
      "text/plain": [
       "0         3.5 GHz Ryzen 3 2200U\n",
       "1                  1.8 GHz 8032\n",
       "2       2.1 GHz MediaTek_MT8127\n",
       "3         4.5 GHz Intel Core i7\n",
       "4       2.1 GHz MediaTek MT8125\n",
       "                 ...           \n",
       "5759             1.2 GHz Cortex\n",
       "5760            1.8 GHz Pentium\n",
       "5761      1.1 GHz Intel Celeron\n",
       "5762      1.8 GHz Intel Core i7\n",
       "5763      2.1 GHz Intel Core i7\n",
       "Name: Processor, Length: 5596, dtype: object"
      ]
     },
     "execution_count": 38,
     "metadata": {},
     "output_type": "execute_result"
    }
   ],
   "source": [
    "df['Processor']"
   ]
  },
  {
   "cell_type": "markdown",
   "metadata": {
    "Collapsed": "true"
   },
   "source": [
    "#### __RAM__\n",
    "Get RAM. ex: 8GB convert to 8\n",
    "\n",
    "> - Column Name: RAM\n",
    "-Type: int\n"
   ]
  },
  {
   "cell_type": "code",
   "execution_count": 825,
   "metadata": {
    "Collapsed": "false"
   },
   "outputs": [
    {
     "data": {
      "text/plain": [
       "count     5496\n",
       "unique     317\n",
       "top       8 GB\n",
       "freq       682\n",
       "Name: RAM, dtype: object"
      ]
     },
     "execution_count": 825,
     "metadata": {},
     "output_type": "execute_result"
    }
   ],
   "source": [
    "df['RAM'].describe()"
   ]
  },
  {
   "cell_type": "code",
   "execution_count": 826,
   "metadata": {
    "Collapsed": "false"
   },
   "outputs": [],
   "source": [
    "df['RAM'] = df['RAM'].fillna(\"8 GB\")"
   ]
  },
  {
   "cell_type": "code",
   "execution_count": 827,
   "metadata": {
    "Collapsed": "false"
   },
   "outputs": [
    {
     "data": {
      "text/plain": [
       "2292           8 GB DDR3\n",
       "3646           1 GB DDR2\n",
       "1059                8 GB\n",
       "3403    16 GB ddr4_sdram\n",
       "3516                8 GB\n",
       "4702           16 GB DDR\n",
       "4698                4 GB\n",
       "2896           8 GB DDR4\n",
       "4350           8 GB DDR4\n",
       "901           16 GB DDR4\n",
       "Name: RAM, dtype: object"
      ]
     },
     "execution_count": 827,
     "metadata": {},
     "output_type": "execute_result"
    }
   ],
   "source": [
    "df['RAM'].sample(10)"
   ]
  },
  {
   "cell_type": "code",
   "execution_count": 828,
   "metadata": {
    "Collapsed": "false"
   },
   "outputs": [],
   "source": [
    "RAM_FILL = 8"
   ]
  },
  {
   "cell_type": "code",
   "execution_count": 829,
   "metadata": {
    "Collapsed": "false"
   },
   "outputs": [],
   "source": [
    "def get_ram(x):\n",
    "    x = x.upper()\n",
    "    xs = re.findall('\\d+ GB|\\d+ DDR4', x)\n",
    "    \n",
    "    if len(xs)>0:\n",
    "        return xs[0].split()[0]\n",
    "    return RAM_FILL"
   ]
  },
  {
   "cell_type": "code",
   "execution_count": 830,
   "metadata": {
    "Collapsed": "false"
   },
   "outputs": [],
   "source": [
    "df['RAM'] = df['RAM'].map(get_ram)\n"
   ]
  },
  {
   "cell_type": "code",
   "execution_count": 831,
   "metadata": {
    "Collapsed": "false"
   },
   "outputs": [],
   "source": [
    "df['RAM'] = df['RAM'].astype(int)"
   ]
  },
  {
   "cell_type": "code",
   "execution_count": 841,
   "metadata": {
    "Collapsed": "false"
   },
   "outputs": [
    {
     "data": {
      "text/plain": [
       "count    5596.000000\n",
       "mean       10.498392\n",
       "std        21.604194\n",
       "min         1.000000\n",
       "25%         4.000000\n",
       "50%         8.000000\n",
       "75%        12.000000\n",
       "max       512.000000\n",
       "Name: RAM, dtype: float64"
      ]
     },
     "execution_count": 841,
     "metadata": {},
     "output_type": "execute_result"
    }
   ],
   "source": [
    "df['RAM'].describe()"
   ]
  },
  {
   "cell_type": "markdown",
   "metadata": {
    "Collapsed": "false"
   },
   "source": [
    "#### __Hard Drive__"
   ]
  },
  {
   "cell_type": "code",
   "execution_count": 39,
   "metadata": {
    "Collapsed": "false"
   },
   "outputs": [
    {
     "data": {
      "text/plain": [
       "0       128 GB Flash Memory Solid State\n",
       "1                                 32 GB\n",
       "2        64 GB Flash Memory Solid State\n",
       "3       256 GB Flash Memory Solid State\n",
       "4              Flash Memory Solid State\n",
       "                     ...               \n",
       "5759                               8 GB\n",
       "5760                         128 GB SSD\n",
       "5761                         128 GB SSD\n",
       "5762    256 GB flash_memory_solid_state\n",
       "5763               16 GB Serial ATA-600\n",
       "Name: Hard Drive, Length: 5596, dtype: object"
      ]
     },
     "execution_count": 39,
     "metadata": {},
     "output_type": "execute_result"
    }
   ],
   "source": [
    "df['Hard Drive']"
   ]
  },
  {
   "cell_type": "markdown",
   "metadata": {
    "Collapsed": "false"
   },
   "source": [
    "#### __Brand Name__"
   ]
  },
  {
   "cell_type": "code",
   "execution_count": 40,
   "metadata": {
    "Collapsed": "false"
   },
   "outputs": [
    {
     "data": {
      "text/plain": [
       "0          Acer\n",
       "1       Samsung\n",
       "2        Lenovo\n",
       "3          Acer\n",
       "4        Lenovo\n",
       "         ...   \n",
       "5759     Padcod\n",
       "5760         HP\n",
       "5761     Lenovo\n",
       "5762       Dell\n",
       "5763     Lenovo\n",
       "Name: Brand Name, Length: 5596, dtype: object"
      ]
     },
     "execution_count": 40,
     "metadata": {},
     "output_type": "execute_result"
    }
   ],
   "source": [
    "df['Brand Name']"
   ]
  },
  {
   "cell_type": "markdown",
   "metadata": {
    "Collapsed": "false"
   },
   "source": [
    "#### __Series__"
   ]
  },
  {
   "cell_type": "code",
   "execution_count": 41,
   "metadata": {
    "Collapsed": "false"
   },
   "outputs": [
    {
     "data": {
      "text/plain": [
       "0                     A515-43-R19L\n",
       "1       Galaxy Tab A 10.1\"\" (T510)\n",
       "2                     IdeaPad C330\n",
       "3                    PH315-52-78VL\n",
       "4          100e Chromebook 2nd Gen\n",
       "                   ...            \n",
       "5759                         Touch\n",
       "5760                            HP\n",
       "5761                Lenovo Ideapad\n",
       "5762                      Dell XPS\n",
       "5763                 ThinkPad T440\n",
       "Name: Series, Length: 5596, dtype: object"
      ]
     },
     "execution_count": 41,
     "metadata": {},
     "output_type": "execute_result"
    }
   ],
   "source": [
    "df['Series']"
   ]
  },
  {
   "cell_type": "markdown",
   "metadata": {
    "Collapsed": "false"
   },
   "source": [
    "#### __Operating System__"
   ]
  },
  {
   "cell_type": "code",
   "execution_count": 43,
   "metadata": {
    "Collapsed": "false"
   },
   "outputs": [
    {
     "data": {
      "text/plain": [
       "0            Windows 10 Home\n",
       "1              Android 9 Pie\n",
       "2                  Chrome OS\n",
       "3            Windows 10 Home\n",
       "4                  Chrome OS\n",
       "                ...         \n",
       "5759    Android 5.1 Lollipop\n",
       "5760              Windows 10\n",
       "5761         Windows 10 Home\n",
       "5762              Windows 10\n",
       "5763               Windows 7\n",
       "Name: Operating System, Length: 5596, dtype: object"
      ]
     },
     "execution_count": 43,
     "metadata": {},
     "output_type": "execute_result"
    }
   ],
   "source": [
    "df['Operating System']"
   ]
  },
  {
   "cell_type": "markdown",
   "metadata": {
    "Collapsed": "false"
   },
   "source": [
    "#### __Item Weight__"
   ]
  },
  {
   "cell_type": "code",
   "execution_count": 44,
   "metadata": {
    "Collapsed": "false"
   },
   "outputs": [
    {
     "data": {
      "text/plain": [
       "0       3.97 pounds\n",
       "1       3.84 ounces\n",
       "2       2.64 pounds\n",
       "3       5.07 pounds\n",
       "4       2.66 pounds\n",
       "           ...     \n",
       "5759    14.4 ounces\n",
       "5760     4.7 pounds\n",
       "5761    5.75 pounds\n",
       "5762    5.47 pounds\n",
       "5763     4.3 pounds\n",
       "Name: Item Weight, Length: 5596, dtype: object"
      ]
     },
     "execution_count": 44,
     "metadata": {},
     "output_type": "execute_result"
    }
   ],
   "source": [
    "df['Item Weight']"
   ]
  },
  {
   "cell_type": "markdown",
   "metadata": {
    "Collapsed": "false"
   },
   "source": [
    "#### __Processor Brand__"
   ]
  },
  {
   "cell_type": "code",
   "execution_count": 45,
   "metadata": {
    "Collapsed": "false"
   },
   "outputs": [
    {
     "data": {
      "text/plain": [
       "0            AMD\n",
       "1        Samsung\n",
       "2       Mediatek\n",
       "3          Intel\n",
       "4          Intel\n",
       "          ...   \n",
       "5759         NaN\n",
       "5760       Intel\n",
       "5761       Intel\n",
       "5762       Intel\n",
       "5763       Intel\n",
       "Name: Processor Brand, Length: 5596, dtype: object"
      ]
     },
     "execution_count": 45,
     "metadata": {},
     "output_type": "execute_result"
    }
   ],
   "source": [
    "df['Processor Brand']"
   ]
  },
  {
   "cell_type": "markdown",
   "metadata": {
    "Collapsed": "false"
   },
   "source": [
    "#### __Processor Count__"
   ]
  },
  {
   "cell_type": "code",
   "execution_count": 46,
   "metadata": {
    "Collapsed": "false"
   },
   "outputs": [
    {
     "data": {
      "text/plain": [
       "0       2.0\n",
       "1       8.0\n",
       "2       4.0\n",
       "3       6.0\n",
       "4       4.0\n",
       "       ... \n",
       "5759    NaN\n",
       "5760    4.0\n",
       "5761    2.0\n",
       "5762    2.0\n",
       "5763    1.0\n",
       "Name: Processor Count, Length: 5596, dtype: float64"
      ]
     },
     "execution_count": 46,
     "metadata": {},
     "output_type": "execute_result"
    }
   ],
   "source": [
    "df['Processor Count']"
   ]
  },
  {
   "cell_type": "markdown",
   "metadata": {
    "Collapsed": "false"
   },
   "source": [
    "#### __Card Description__"
   ]
  },
  {
   "cell_type": "code",
   "execution_count": 47,
   "metadata": {
    "Collapsed": "false"
   },
   "outputs": [
    {
     "data": {
      "text/plain": [
       "0       Integrated\n",
       "1       Integrated\n",
       "2       Integrated\n",
       "3        Dedicated\n",
       "4         Mediatek\n",
       "           ...    \n",
       "5759           NaN\n",
       "5760    Integrated\n",
       "5761           NaN\n",
       "5762    Integrated\n",
       "5763    Integrated\n",
       "Name: Card Description, Length: 5596, dtype: object"
      ]
     },
     "execution_count": 47,
     "metadata": {},
     "output_type": "execute_result"
    }
   ],
   "source": [
    "df['Card Description']"
   ]
  },
  {
   "cell_type": "markdown",
   "metadata": {
    "Collapsed": "false"
   },
   "source": [
    "#### __Wireless Type__"
   ]
  },
  {
   "cell_type": "code",
   "execution_count": 48,
   "metadata": {
    "Collapsed": "false"
   },
   "outputs": [
    {
     "data": {
      "text/plain": [
       "0                                                802.11ac\n",
       "1       802.11a/b/g/n/ac\", 2.4 GHz Radio Frequency,\" 5...\n",
       "2                             802.11a\", 802.11b,\" 802.11g\n",
       "3                                                802.11ac\n",
       "4                                               Bluetooth\n",
       "                              ...                        \n",
       "5759                      802.11b/g\", 802.11bgn,\" 802.11b\n",
       "5760                      802.11b/g\", 802.11bgn,\" 802.11b\n",
       "5761                                Bluetooth\",\" 802.11ac\n",
       "5762                                                  NaN\n",
       "5763                                             802.11ac\n",
       "Name: Wireless Type, Length: 5596, dtype: object"
      ]
     },
     "execution_count": 48,
     "metadata": {},
     "output_type": "execute_result"
    }
   ],
   "source": [
    "df['Wireless Type']"
   ]
  },
  {
   "cell_type": "markdown",
   "metadata": {
    "Collapsed": "false"
   },
   "source": [
    "#### __Item model number__"
   ]
  },
  {
   "cell_type": "code",
   "execution_count": 49,
   "metadata": {
    "Collapsed": "false"
   },
   "outputs": [
    {
     "data": {
      "text/plain": [
       "0         A515-43-R19L\n",
       "1       SM-T510NZKAXAR\n",
       "2           81HY0000US\n",
       "3        PH315-52-78VL\n",
       "4           81QB000AUS\n",
       "             ...      \n",
       "5759               NaN\n",
       "5760                HP\n",
       "5761               NaN\n",
       "5762           unknown\n",
       "5763        20B6005EUS\n",
       "Name: Item model number, Length: 5596, dtype: object"
      ]
     },
     "execution_count": 49,
     "metadata": {},
     "output_type": "execute_result"
    }
   ],
   "source": [
    "df['Item model number']"
   ]
  },
  {
   "cell_type": "markdown",
   "metadata": {
    "Collapsed": "false"
   },
   "source": [
    "#### __Product Dimensions__"
   ]
  },
  {
   "cell_type": "code",
   "execution_count": 50,
   "metadata": {
    "Collapsed": "false"
   },
   "outputs": [
    {
     "data": {
      "text/plain": [
       "0        14.3 x 9.7 x 0.7 inches\n",
       "1         0.3 x 5.9 x 9.7 inches\n",
       "2        11.5 x 0.8 x 8.5 inches\n",
       "3         14.2 x 10 x 0.9 inches\n",
       "4          11.4 x 8 x 0.8 inches\n",
       "                  ...           \n",
       "5759      7.9 x 4.9 x 0.5 inches\n",
       "5760      10.9 x 15.3 x 1 inches\n",
       "5761    10.5 x 14.9 x 0.9 inches\n",
       "5762       12 x 7.8 x 0.5 inches\n",
       "5763     13.3 x 0.8 x 9.2 inches\n",
       "Name: Product Dimensions, Length: 5596, dtype: object"
      ]
     },
     "execution_count": 50,
     "metadata": {},
     "output_type": "execute_result"
    }
   ],
   "source": [
    "df['Product Dimensions']"
   ]
  },
  {
   "cell_type": "markdown",
   "metadata": {
    "Collapsed": "false"
   },
   "source": [
    "#### __Item Dimensions L x W x H__"
   ]
  },
  {
   "cell_type": "code",
   "execution_count": 51,
   "metadata": {
    "Collapsed": "false"
   },
   "outputs": [
    {
     "data": {
      "text/plain": [
       "0       14.31 x 9.74 x 0.71 inches\n",
       "1         0.3 x 5.88 x 9.65 inches\n",
       "2        11.5 x 0.77 x 8.48 inches\n",
       "3       14.23 x 10.01 x 0.9 inches\n",
       "4        11.42 x 8.03 x 0.8 inches\n",
       "                   ...            \n",
       "5759     7.87 x 4.92 x 0.45 inches\n",
       "5760        10.9 x 15.3 x 1 inches\n",
       "5761      10.5 x 14.9 x 0.9 inches\n",
       "5762     11.97 x 7.8 x 0.51 inches\n",
       "5763    13.35 x 0.83 x 9.15 inches\n",
       "Name: Item Dimensions L x W x H, Length: 5596, dtype: object"
      ]
     },
     "execution_count": 51,
     "metadata": {},
     "output_type": "execute_result"
    }
   ],
   "source": [
    "df['Item Dimensions L x W x H']"
   ]
  },
  {
   "cell_type": "markdown",
   "metadata": {
    "Collapsed": "false"
   },
   "source": [
    "#### __Batteries__"
   ]
  },
  {
   "cell_type": "code",
   "execution_count": 52,
   "metadata": {
    "Collapsed": "false"
   },
   "outputs": [
    {
     "data": {
      "text/plain": [
       "0       1 Lithium Polymer batteries required. (included)\n",
       "1       1 Lithium Polymer batteries required. (included)\n",
       "2         1 Lithium Metal batteries required. (included)\n",
       "3       1 Lithium Polymer batteries required. (included)\n",
       "4       1 Lithium Polymer batteries required. (included)\n",
       "                              ...                       \n",
       "5759                                                 NaN\n",
       "5760                                                 NaN\n",
       "5761                                                 NaN\n",
       "5762                   1 Lithium ion batteries required.\n",
       "5763        6 Lithium ion batteries required. (included)\n",
       "Name: Batteries, Length: 5596, dtype: object"
      ]
     },
     "execution_count": 52,
     "metadata": {},
     "output_type": "execute_result"
    }
   ],
   "source": [
    "df['Batteries']"
   ]
  },
  {
   "cell_type": "markdown",
   "metadata": {
    "Collapsed": "false"
   },
   "source": [
    "#### __Hardware Platform__"
   ]
  },
  {
   "cell_type": "code",
   "execution_count": 53,
   "metadata": {
    "Collapsed": "false"
   },
   "outputs": [
    {
     "data": {
      "text/plain": [
       "0                   NaN\n",
       "1               Android\n",
       "2                Chrome\n",
       "3                   NaN\n",
       "4                    PC\n",
       "             ...       \n",
       "5759            Android\n",
       "5760                 PC\n",
       "5761    Business Laptop\n",
       "5762                 PC\n",
       "5763                 PC\n",
       "Name: Hardware Platform, Length: 5596, dtype: object"
      ]
     },
     "execution_count": 53,
     "metadata": {},
     "output_type": "execute_result"
    }
   ],
   "source": [
    "df['Hardware Platform']"
   ]
  },
  {
   "cell_type": "markdown",
   "metadata": {
    "Collapsed": "false"
   },
   "source": [
    "#### __Hard Drive Interface__"
   ]
  },
  {
   "cell_type": "code",
   "execution_count": 54,
   "metadata": {
    "Collapsed": "false"
   },
   "outputs": [
    {
     "data": {
      "text/plain": [
       "0       Solid State\n",
       "1               NaN\n",
       "2       Solid State\n",
       "3       Solid State\n",
       "4             eSATA\n",
       "           ...     \n",
       "5759            NaN\n",
       "5760     Serial ATA\n",
       "5761    Solid State\n",
       "5762          eSATA\n",
       "5763     Serial ATA\n",
       "Name: Hard Drive Interface, Length: 5596, dtype: object"
      ]
     },
     "execution_count": 54,
     "metadata": {},
     "output_type": "execute_result"
    }
   ],
   "source": [
    "df['Hard Drive Interface']"
   ]
  },
  {
   "cell_type": "markdown",
   "metadata": {
    "Collapsed": "false"
   },
   "source": [
    "#### __Computer Memory Type__"
   ]
  },
  {
   "cell_type": "code",
   "execution_count": 55,
   "metadata": {
    "Collapsed": "false"
   },
   "outputs": [
    {
     "data": {
      "text/plain": [
       "0       DDR4 SDRAM\n",
       "1              NaN\n",
       "2        DDR SDRAM\n",
       "3       DDR4 SDRAM\n",
       "4       DDR3 SDRAM\n",
       "           ...    \n",
       "5759           NaN\n",
       "5760    DDR3 SDRAM\n",
       "5761     DDR SDRAM\n",
       "5762    DDR4 SDRAM\n",
       "5763        SODIMM\n",
       "Name: Computer Memory Type, Length: 5596, dtype: object"
      ]
     },
     "execution_count": 55,
     "metadata": {},
     "output_type": "execute_result"
    }
   ],
   "source": [
    "df['Computer Memory Type']"
   ]
  },
  {
   "cell_type": "markdown",
   "metadata": {
    "Collapsed": "true"
   },
   "source": [
    "### Drop column has many NaN value"
   ]
  },
  {
   "cell_type": "code",
   "execution_count": 859,
   "metadata": {
    "Collapsed": "false"
   },
   "outputs": [
    {
     "data": {
      "text/plain": [
       "Price                                 0\n",
       "Screen Size                           0\n",
       "Processor                           217\n",
       "RAM                                   0\n",
       "Hard Drive                          127\n",
       "Graphics Coprocessor                824\n",
       "Chipset Brand                      1745\n",
       "Card Description                   1399\n",
       "Wireless Type                      1380\n",
       "Number of USB 2.0 Ports            3969\n",
       "Number of USB 3.0 Ports            4381\n",
       "Brand Name                           22\n",
       "Series                              396\n",
       "Item model number                  1163\n",
       "Operating System                    556\n",
       "Item Weight                           1\n",
       "Product Dimensions                  882\n",
       "Item Dimensions L x W x H           882\n",
       "Color                              2638\n",
       "Processor Brand                     712\n",
       "Processor Count                     118\n",
       "Computer Memory Type               1484\n",
       "Flash Memory Size                  1692\n",
       "Hard Drive Interface               1406\n",
       "Hard Drive Rotational Speed        3690\n",
       "Optical Drive Type                 4058\n",
       "Batteries                          1323\n",
       "Average Battery Life (in hours)    3775\n",
       "Hardware Platform                  1279\n",
       "Rear Webcam Resolution             4681\n",
       "Power Source                       3838\n",
       "Voltage                            5286\n",
       "Memory Speed                       4316\n",
       "California residents               5528\n",
       "Graphics Card Ram Size             4738\n",
       "National Stock Number              5584\n",
       "Package Dimensions                 4715\n",
       "Audio-out Ports (#)                5567\n",
       "Battery Type                       5572\n",
       "Screen Resolution Width               0\n",
       "Screen Resolution Height              0\n",
       "dtype: int64"
      ]
     },
     "execution_count": 859,
     "metadata": {},
     "output_type": "execute_result"
    }
   ],
   "source": [
    "df.isna().sum()"
   ]
  },
  {
   "cell_type": "code",
   "execution_count": 7,
   "metadata": {
    "Collapsed": "false"
   },
   "outputs": [
    {
     "data": {
      "text/plain": [
       "count      41.000000\n",
       "mean     2412.000000\n",
       "std      1999.674849\n",
       "min         1.000000\n",
       "25%       736.000000\n",
       "50%      1563.000000\n",
       "75%      4156.000000\n",
       "max      5752.000000\n",
       "dtype: float64"
      ]
     },
     "execution_count": 7,
     "metadata": {},
     "output_type": "execute_result"
    }
   ],
   "source": [
    "df.isna().sum().describe()"
   ]
  },
  {
   "cell_type": "code",
   "execution_count": 8,
   "metadata": {
    "Collapsed": "false"
   },
   "outputs": [],
   "source": [
    "# Drop > 75% NaN values of columns\n",
    "MAX_NAN_COUNT = 4156"
   ]
  },
  {
   "cell_type": "code",
   "execution_count": 9,
   "metadata": {
    "Collapsed": "false"
   },
   "outputs": [
    {
     "data": {
      "text/plain": [
       "['Number of USB 3.0 Ports',\n",
       " 'Rear Webcam Resolution',\n",
       " 'Voltage',\n",
       " 'Memory Speed',\n",
       " 'California residents',\n",
       " 'Graphics Card Ram Size',\n",
       " 'National Stock Number',\n",
       " 'Package Dimensions',\n",
       " 'Audio-out Ports (#)',\n",
       " 'Battery Type']"
      ]
     },
     "execution_count": 9,
     "metadata": {},
     "output_type": "execute_result"
    }
   ],
   "source": [
    "drop_cols_name = [col for col in df.columns if df[col].isna().sum() > MAX_NAN_COUNT]\n",
    "drop_cols_name\n",
    "# for i in drop_cols_name:\n",
    "#     print(df[i].isna().sum())"
   ]
  },
  {
   "cell_type": "code",
   "execution_count": 10,
   "metadata": {
    "Collapsed": "false"
   },
   "outputs": [],
   "source": [
    "df.drop(columns=drop_cols_name, axis=1, inplace=True)"
   ]
  },
  {
   "cell_type": "markdown",
   "metadata": {
    "Collapsed": "true"
   },
   "source": [
    "### 3. Get price"
   ]
  },
  {
   "cell_type": "code",
   "execution_count": 12,
   "metadata": {
    "Collapsed": "false"
   },
   "outputs": [],
   "source": [
    "def handle_price(s):\n",
    "    s = str(s)\n",
    "    for ch in ['$', '\"', '\\'', ',', ' ']:\n",
    "        s = s.replace(ch, '')\n",
    "    return s"
   ]
  },
  {
   "cell_type": "code",
   "execution_count": 13,
   "metadata": {
    "Collapsed": "false"
   },
   "outputs": [
    {
     "data": {
      "text/plain": [
       "1343324.2"
      ]
     },
     "execution_count": 13,
     "metadata": {},
     "output_type": "execute_result"
    }
   ],
   "source": [
    "float(handle_price('1,\"343,324.2'))"
   ]
  },
  {
   "cell_type": "code",
   "execution_count": 14,
   "metadata": {
    "Collapsed": "false"
   },
   "outputs": [],
   "source": [
    "df['Price'] = df['Price'].map(handle_price)\n",
    "df['Price'] = df['Price'].astype(float)"
   ]
  },
  {
   "cell_type": "markdown",
   "metadata": {
    "Collapsed": "false"
   },
   "source": [
    "### 4. Handle NaN value"
   ]
  },
  {
   "cell_type": "markdown",
   "metadata": {
    "Collapsed": "false"
   },
   "source": [
    "List all column has NaN value"
   ]
  },
  {
   "cell_type": "code",
   "execution_count": 122,
   "metadata": {
    "Collapsed": "false"
   },
   "outputs": [
    {
     "data": {
      "text/plain": [
       "Price                              False\n",
       "Screen Size                         True\n",
       "Processor                           True\n",
       "RAM                                 True\n",
       "Hard Drive                          True\n",
       "Graphics Coprocessor                True\n",
       "Chipset Brand                       True\n",
       "Card Description                    True\n",
       "Wireless Type                       True\n",
       "Number of USB 2.0 Ports             True\n",
       "Number of USB 3.0 Ports             True\n",
       "Brand Name                          True\n",
       "Series                              True\n",
       "Item model number                   True\n",
       "Operating System                    True\n",
       "Item Weight                         True\n",
       "Product Dimensions                  True\n",
       "Item Dimensions L x W x H           True\n",
       "Color                               True\n",
       "Processor Brand                     True\n",
       "Processor Count                     True\n",
       "Computer Memory Type                True\n",
       "Flash Memory Size                   True\n",
       "Hard Drive Interface                True\n",
       "Hard Drive Rotational Speed         True\n",
       "Optical Drive Type                  True\n",
       "Batteries                           True\n",
       "Screen Resolution                   True\n",
       "Average Battery Life (in hours)     True\n",
       "Hardware Platform                   True\n",
       "Rear Webcam Resolution              True\n",
       "Power Source                        True\n",
       "Voltage                             True\n",
       "Memory Speed                        True\n",
       "California residents                True\n",
       "Graphics Card Ram Size              True\n",
       "National Stock Number               True\n",
       "Package Dimensions                  True\n",
       "Audio-out Ports (#)                 True\n",
       "Battery Type                        True\n",
       "dtype: bool"
      ]
     },
     "execution_count": 122,
     "metadata": {},
     "output_type": "execute_result"
    }
   ],
   "source": [
    "df.isna().any()"
   ]
  },
  {
   "cell_type": "code",
   "execution_count": 49,
   "metadata": {
    "Collapsed": "false"
   },
   "outputs": [],
   "source": [
    "# Fill na \n",
    "df = df.replace('', np.nan)"
   ]
  },
  {
   "cell_type": "markdown",
   "metadata": {
    "Collapsed": "false"
   },
   "source": [
    "#### 4.1 Drop NaN value in __Price__"
   ]
  },
  {
   "cell_type": "code",
   "execution_count": 15,
   "metadata": {
    "Collapsed": "false"
   },
   "outputs": [],
   "source": [
    "df.dropna(subset=['Price'], how='all', inplace=True)"
   ]
  },
  {
   "cell_type": "markdown",
   "metadata": {
    "Collapsed": "false"
   },
   "source": [
    "#### 4.2 __Screeen Resolution__\n",
    "\n",
    "Merge two columns: *Max Screen Resolution* and *Screen Resolutiono*. Since, two columns are same and just keep one columns for prediction.\n",
    "\n",
    "The *Screen Resolution* will be keeped."
   ]
  },
  {
   "cell_type": "code",
   "execution_count": 28,
   "metadata": {
    "Collapsed": "false"
   },
   "outputs": [
    {
     "data": {
      "text/plain": [
       "Max Screen Resolution    1850\n",
       "Screen Resolution        3573\n",
       "dtype: int64"
      ]
     },
     "execution_count": 28,
     "metadata": {},
     "output_type": "execute_result"
    }
   ],
   "source": [
    "df[['Max Screen Resolution', 'Screen Resolution']].isna().sum()"
   ]
  },
  {
   "cell_type": "code",
   "execution_count": 51,
   "metadata": {
    "Collapsed": "false"
   },
   "outputs": [
    {
     "data": {
      "text/html": [
       "<div>\n",
       "<style scoped>\n",
       "    .dataframe tbody tr th:only-of-type {\n",
       "        vertical-align: middle;\n",
       "    }\n",
       "\n",
       "    .dataframe tbody tr th {\n",
       "        vertical-align: top;\n",
       "    }\n",
       "\n",
       "    .dataframe thead th {\n",
       "        text-align: right;\n",
       "    }\n",
       "</style>\n",
       "<table border=\"1\" class=\"dataframe\">\n",
       "  <thead>\n",
       "    <tr style=\"text-align: right;\">\n",
       "      <th></th>\n",
       "      <th>Max Screen Resolution</th>\n",
       "      <th>Screen Resolution</th>\n",
       "    </tr>\n",
       "  </thead>\n",
       "  <tbody>\n",
       "    <tr>\n",
       "      <td>0</td>\n",
       "      <td>1920 x 1080</td>\n",
       "      <td>NaN</td>\n",
       "    </tr>\n",
       "    <tr>\n",
       "      <td>3</td>\n",
       "      <td>1920 x 1080</td>\n",
       "      <td>NaN</td>\n",
       "    </tr>\n",
       "    <tr>\n",
       "      <td>6</td>\n",
       "      <td>1920 x 1080 pixels</td>\n",
       "      <td>NaN</td>\n",
       "    </tr>\n",
       "    <tr>\n",
       "      <td>9</td>\n",
       "      <td>1920 x 1080</td>\n",
       "      <td>NaN</td>\n",
       "    </tr>\n",
       "    <tr>\n",
       "      <td>10</td>\n",
       "      <td>1920 x 1080</td>\n",
       "      <td>NaN</td>\n",
       "    </tr>\n",
       "    <tr>\n",
       "      <td>...</td>\n",
       "      <td>...</td>\n",
       "      <td>...</td>\n",
       "    </tr>\n",
       "    <tr>\n",
       "      <td>5751</td>\n",
       "      <td>800x1280 pixels</td>\n",
       "      <td>NaN</td>\n",
       "    </tr>\n",
       "    <tr>\n",
       "      <td>5753</td>\n",
       "      <td>1366 x 768</td>\n",
       "      <td>NaN</td>\n",
       "    </tr>\n",
       "    <tr>\n",
       "      <td>5755</td>\n",
       "      <td>1366 x 768</td>\n",
       "      <td>NaN</td>\n",
       "    </tr>\n",
       "    <tr>\n",
       "      <td>5756</td>\n",
       "      <td>1024 x 600</td>\n",
       "      <td>NaN</td>\n",
       "    </tr>\n",
       "    <tr>\n",
       "      <td>5758</td>\n",
       "      <td>1920x1080</td>\n",
       "      <td>NaN</td>\n",
       "    </tr>\n",
       "  </tbody>\n",
       "</table>\n",
       "<p>2068 rows × 2 columns</p>\n",
       "</div>"
      ],
      "text/plain": [
       "     Max Screen Resolution Screen Resolution\n",
       "0              1920 x 1080               NaN\n",
       "3              1920 x 1080               NaN\n",
       "6       1920 x 1080 pixels               NaN\n",
       "9              1920 x 1080               NaN\n",
       "10             1920 x 1080               NaN\n",
       "...                    ...               ...\n",
       "5751       800x1280 pixels               NaN\n",
       "5753            1366 x 768               NaN\n",
       "5755            1366 x 768               NaN\n",
       "5756            1024 x 600               NaN\n",
       "5758             1920x1080               NaN\n",
       "\n",
       "[2068 rows x 2 columns]"
      ]
     },
     "execution_count": 51,
     "metadata": {},
     "output_type": "execute_result"
    }
   ],
   "source": [
    "df[df['Max Screen Resolution'].notna() & df['Screen Resolution'].isna()][['Max Screen Resolution', 'Screen Resolution']]"
   ]
  },
  {
   "cell_type": "markdown",
   "metadata": {
    "Collapsed": "false"
   },
   "source": [
    "Fill NA value of *Screen resolution* by value of *Max Screen resolution*"
   ]
  },
  {
   "cell_type": "code",
   "execution_count": 63,
   "metadata": {
    "Collapsed": "false"
   },
   "outputs": [],
   "source": [
    "df['Screen Resolution'] = df['Screen Resolution'].fillna(df['Max Screen Resolution'])"
   ]
  },
  {
   "cell_type": "code",
   "execution_count": 65,
   "metadata": {
    "Collapsed": "false"
   },
   "outputs": [],
   "source": [
    "df.drop(columns=['Max Screen Resolution'], axis=1, inplace=True)"
   ]
  },
  {
   "cell_type": "code",
   "execution_count": 61,
   "metadata": {
    "Collapsed": "false"
   },
   "outputs": [
    {
     "data": {
      "text/plain": [
       "1505"
      ]
     },
     "execution_count": 61,
     "metadata": {},
     "output_type": "execute_result"
    }
   ],
   "source": [
    "df['Screen Resolution'].isna().sum()"
   ]
  },
  {
   "cell_type": "code",
   "execution_count": 76,
   "metadata": {
    "Collapsed": "false"
   },
   "outputs": [
    {
     "data": {
      "text/plain": [
       "26.519823788546255"
      ]
     },
     "execution_count": 76,
     "metadata": {},
     "output_type": "execute_result"
    }
   ],
   "source": [
    "# Percent NA value of Screen resolution\n",
    "df['Screen Resolution'].isna().sum() / len(df['Screen Resolution'])*100"
   ]
  },
  {
   "cell_type": "markdown",
   "metadata": {
    "Collapsed": "false"
   },
   "source": [
    "#### Screen Size"
   ]
  },
  {
   "cell_type": "code",
   "execution_count": 80,
   "metadata": {
    "Collapsed": "false"
   },
   "outputs": [
    {
     "data": {
      "text/plain": [
       "count            5256\n",
       "unique             92\n",
       "top       15.6 inches\n",
       "freq             2039\n",
       "Name: Screen Size, dtype: object"
      ]
     },
     "execution_count": 80,
     "metadata": {},
     "output_type": "execute_result"
    }
   ],
   "source": [
    "df['Screen Size'].describe()"
   ]
  },
  {
   "cell_type": "code",
   "execution_count": null,
   "metadata": {
    "Collapsed": "false"
   },
   "outputs": [],
   "source": [
    "df["
   ]
  },
  {
   "cell_type": "markdown",
   "metadata": {
    "Collapsed": "false"
   },
   "source": [
    "### 5. #"
   ]
  },
  {
   "cell_type": "code",
   "execution_count": 77,
   "metadata": {
    "Collapsed": "false"
   },
   "outputs": [
    {
     "name": "stdout",
     "output_type": "stream",
     "text": [
      "<class 'pandas.core.frame.DataFrame'>\n",
      "Int64Index: 5675 entries, 0 to 5763\n",
      "Data columns (total 30 columns):\n",
      "Price                              5675 non-null float64\n",
      "Screen Size                        5256 non-null object\n",
      "Processor                          5449 non-null object\n",
      "RAM                                5571 non-null object\n",
      "Hard Drive                         5543 non-null object\n",
      "Graphics Coprocessor               4835 non-null object\n",
      "Chipset Brand                      3871 non-null object\n",
      "Card Description                   4264 non-null object\n",
      "Wireless Type                      4232 non-null object\n",
      "Number of USB 2.0 Ports            1675 non-null float64\n",
      "Brand Name                         5653 non-null object\n",
      "Series                             5266 non-null object\n",
      "Item model number                  4503 non-null object\n",
      "Operating System                   5103 non-null object\n",
      "Item Weight                        5674 non-null object\n",
      "Product Dimensions                 4788 non-null object\n",
      "Item Dimensions L x W x H          4788 non-null object\n",
      "Color                              2991 non-null object\n",
      "Processor Brand                    4945 non-null object\n",
      "Processor Count                    5551 non-null float64\n",
      "Computer Memory Type               4134 non-null object\n",
      "Flash Memory Size                  3954 non-null object\n",
      "Hard Drive Interface               4256 non-null object\n",
      "Hard Drive Rotational Speed        1968 non-null object\n",
      "Optical Drive Type                 1602 non-null object\n",
      "Batteries                          4290 non-null object\n",
      "Screen Resolution                  4170 non-null object\n",
      "Average Battery Life (in hours)    1833 non-null object\n",
      "Hardware Platform                  4360 non-null object\n",
      "Power Source                       1772 non-null object\n",
      "dtypes: float64(3), object(27)\n",
      "memory usage: 1.3+ MB\n"
     ]
    }
   ],
   "source": [
    "df.info()"
   ]
  },
  {
   "cell_type": "markdown",
   "metadata": {
    "Collapsed": "true"
   },
   "source": [
    "# Save file"
   ]
  },
  {
   "cell_type": "code",
   "execution_count": null,
   "metadata": {
    "Collapsed": "false"
   },
   "outputs": [],
   "source": [
    "df.to_csv(\"../amazon.csv\",index=0)"
   ]
  },
  {
   "cell_type": "markdown",
   "metadata": {
    "Collapsed": "false"
   },
   "source": [
    "# Other"
   ]
  },
  {
   "cell_type": "code",
   "execution_count": 17,
   "metadata": {
    "Collapsed": "false"
   },
   "outputs": [
    {
     "name": "stdout",
     "output_type": "stream",
     "text": [
      "<class 'pandas.core.frame.DataFrame'>\n",
      "Int64Index: 5675 entries, 0 to 5763\n",
      "Data columns (total 31 columns):\n",
      "Price                              5675 non-null float64\n",
      "Screen Size                        5256 non-null object\n",
      "Max Screen Resolution              3825 non-null object\n",
      "Processor                          5449 non-null object\n",
      "RAM                                5571 non-null object\n",
      "Hard Drive                         5543 non-null object\n",
      "Graphics Coprocessor               4835 non-null object\n",
      "Chipset Brand                      3871 non-null object\n",
      "Card Description                   4264 non-null object\n",
      "Wireless Type                      4232 non-null object\n",
      "Number of USB 2.0 Ports            1675 non-null float64\n",
      "Brand Name                         5653 non-null object\n",
      "Series                             5266 non-null object\n",
      "Item model number                  4503 non-null object\n",
      "Operating System                   5103 non-null object\n",
      "Item Weight                        5674 non-null object\n",
      "Product Dimensions                 4788 non-null object\n",
      "Item Dimensions L x W x H          4788 non-null object\n",
      "Color                              2991 non-null object\n",
      "Processor Brand                    4945 non-null object\n",
      "Processor Count                    5551 non-null float64\n",
      "Computer Memory Type               4134 non-null object\n",
      "Flash Memory Size                  3954 non-null object\n",
      "Hard Drive Interface               4256 non-null object\n",
      "Hard Drive Rotational Speed        1968 non-null object\n",
      "Optical Drive Type                 1602 non-null object\n",
      "Batteries                          4290 non-null object\n",
      "Screen Resolution                  2102 non-null object\n",
      "Average Battery Life (in hours)    1833 non-null object\n",
      "Hardware Platform                  4360 non-null object\n",
      "Power Source                       1772 non-null object\n",
      "dtypes: float64(3), object(28)\n",
      "memory usage: 1.4+ MB\n"
     ]
    }
   ],
   "source": [
    "df.info()"
   ]
  },
  {
   "cell_type": "code",
   "execution_count": null,
   "metadata": {
    "Collapsed": "false"
   },
   "outputs": [],
   "source": [
    "df.iloc[3]"
   ]
  },
  {
   "cell_type": "code",
   "execution_count": null,
   "metadata": {
    "Collapsed": "false"
   },
   "outputs": [],
   "source": [
    "df.iloc[0]"
   ]
  },
  {
   "cell_type": "code",
   "execution_count": null,
   "metadata": {
    "Collapsed": "false"
   },
   "outputs": [],
   "source": []
  },
  {
   "cell_type": "markdown",
   "metadata": {
    "Collapsed": "false"
   },
   "source": [
    "#### EDA"
   ]
  },
  {
   "cell_type": "code",
   "execution_count": null,
   "metadata": {
    "Collapsed": "false"
   },
   "outputs": [],
   "source": [
    "#Visual Exploratory Data Analysis (EDA) And Your First Model\n",
    "#EDA on Feature Variables\n",
    "print(list(set(df.dtypes.tolist())))\n",
    "df_object = df.select_dtypes(include=[\"object\"]).copy()\n",
    "df_int = df.select_dtypes(include=['int64']).copy()\n",
    "\n",
    "categorical = df_object.columns\n",
    "numerical = df_int.columns\n",
    "\n",
    "print(\"Datashape of Object Dataframe:\",df_object.shape)\n",
    "print(\"Datashape of Interger Dataframe:\",df_int.shape)"
   ]
  },
  {
   "cell_type": "code",
   "execution_count": null,
   "metadata": {
    "Collapsed": "false"
   },
   "outputs": [],
   "source": [
    "# Univariate Analysis\n",
    "# EDA with Categorical Variables\n",
    "\n",
    "fig,ax = plt.subplots(5,2, figsize=(20,20))\n",
    "for variable,subplot in zip(categorical,ax.flatten()):\n",
    "    sns.countplot(df[variable],ax=subplot)\n",
    "    for label in subplot.get_xticklabels():\n",
    "        label.set_rotation(20)"
   ]
  },
  {
   "cell_type": "code",
   "execution_count": null,
   "metadata": {
    "Collapsed": "false"
   },
   "outputs": [],
   "source": [
    "# EDA with Numerical Variables\n",
    "# df[numerical].hist(bins=50,figsize=(16,20),layout=(8,3))"
   ]
  },
  {
   "cell_type": "code",
   "execution_count": null,
   "metadata": {
    "Collapsed": "false"
   },
   "outputs": [],
   "source": []
  }
 ],
 "metadata": {
  "kernelspec": {
   "display_name": "Python 3",
   "language": "python",
   "name": "python3"
  },
  "language_info": {
   "codemirror_mode": {
    "name": "ipython",
    "version": 3
   },
   "file_extension": ".py",
   "mimetype": "text/x-python",
   "name": "python",
   "nbconvert_exporter": "python",
   "pygments_lexer": "ipython3",
   "version": "3.7.3"
  }
 },
 "nbformat": 4,
 "nbformat_minor": 4
}
