{
 "cells": [
  {
   "cell_type": "code",
   "execution_count": 1,
   "metadata": {},
   "outputs": [],
   "source": [
    "%matplotlib inline\n",
    "import matplotlib.pyplot as plt\n",
    "import seaborn as sns # seaborn là thư viện được xây trên matplotlib, giúp việc visualization đỡ khổ hơn\n",
    "import pandas as pd\n",
    "import numpy as np\n",
    "\n",
    "from sklearn.model_selection import train_test_split\n",
    "from sklearn.preprocessing import OneHotEncoder, StandardScaler\n",
    "from sklearn.impute import SimpleImputer\n",
    "from sklearn.base import BaseEstimator, TransformerMixin\n",
    "from sklearn.pipeline import Pipeline, make_pipeline\n",
    "from sklearn.compose import ColumnTransformer, make_column_transformer\n",
    "from sklearn.neural_network import MLPClassifier\n",
    "from sklearn.linear_model import LogisticRegression\n",
    "from sklearn import preprocessing"
   ]
  },
  {
   "cell_type": "code",
   "execution_count": 2,
   "metadata": {},
   "outputs": [
    {
     "data": {
      "text/html": [
       "<div>\n",
       "<style scoped>\n",
       "    .dataframe tbody tr th:only-of-type {\n",
       "        vertical-align: middle;\n",
       "    }\n",
       "\n",
       "    .dataframe tbody tr th {\n",
       "        vertical-align: top;\n",
       "    }\n",
       "\n",
       "    .dataframe thead th {\n",
       "        text-align: right;\n",
       "    }\n",
       "</style>\n",
       "<table border=\"1\" class=\"dataframe\">\n",
       "  <thead>\n",
       "    <tr style=\"text-align: right;\">\n",
       "      <th></th>\n",
       "      <th>ChipsetBrand</th>\n",
       "      <th>CardDescription</th>\n",
       "      <th>NumberOfUSB2.0Ports</th>\n",
       "      <th>NumberOfUSB3.0Ports</th>\n",
       "      <th>BrandName</th>\n",
       "      <th>OperatingSystem</th>\n",
       "      <th>ProcessorBrand</th>\n",
       "      <th>ProcessorCount</th>\n",
       "      <th>HardDriveInterface</th>\n",
       "      <th>HardwarePlatform</th>\n",
       "      <th>...</th>\n",
       "      <th>HardDrive_measure_pcs</th>\n",
       "      <th>ItemWeight_pcs</th>\n",
       "      <th>ItemDimensions_L_pcs</th>\n",
       "      <th>ItemDimensions_W_pcs</th>\n",
       "      <th>ItemDimensions_H_pcs</th>\n",
       "      <th>AverageBatteryLife_pcs</th>\n",
       "      <th>Batteries_pcs</th>\n",
       "      <th>GraphicsCardRamSize_pcs</th>\n",
       "      <th>FlashMemorySize_pcs</th>\n",
       "      <th>Processor_ghz_pcs</th>\n",
       "    </tr>\n",
       "  </thead>\n",
       "  <tbody>\n",
       "    <tr>\n",
       "      <th>0</th>\n",
       "      <td>intel</td>\n",
       "      <td>Integrated</td>\n",
       "      <td>2.0</td>\n",
       "      <td>NaN</td>\n",
       "      <td>Dell</td>\n",
       "      <td>Windows 10</td>\n",
       "      <td>Intel</td>\n",
       "      <td>1.0</td>\n",
       "      <td>Serial ATA</td>\n",
       "      <td>PC</td>\n",
       "      <td>...</td>\n",
       "      <td>TB</td>\n",
       "      <td>5.20</td>\n",
       "      <td>14.96</td>\n",
       "      <td>10.25</td>\n",
       "      <td>0.94</td>\n",
       "      <td>5.5</td>\n",
       "      <td>1 Lithium ion batteries required</td>\n",
       "      <td>NaN</td>\n",
       "      <td>NaN</td>\n",
       "      <td>3.1</td>\n",
       "    </tr>\n",
       "    <tr>\n",
       "      <th>1</th>\n",
       "      <td>nvidia</td>\n",
       "      <td>dedicated</td>\n",
       "      <td>2.0</td>\n",
       "      <td>NaN</td>\n",
       "      <td>Lenovo</td>\n",
       "      <td>NaN</td>\n",
       "      <td>NaN</td>\n",
       "      <td>1.0</td>\n",
       "      <td>Serial ATA</td>\n",
       "      <td>NaN</td>\n",
       "      <td>...</td>\n",
       "      <td>NaN</td>\n",
       "      <td>5.51</td>\n",
       "      <td>14.90</td>\n",
       "      <td>9.90</td>\n",
       "      <td>1.20</td>\n",
       "      <td>NaN</td>\n",
       "      <td>NaN</td>\n",
       "      <td>0.0</td>\n",
       "      <td>0.01</td>\n",
       "      <td>NaN</td>\n",
       "    </tr>\n",
       "    <tr>\n",
       "      <th>2</th>\n",
       "      <td>nvidia</td>\n",
       "      <td>dedicated</td>\n",
       "      <td>NaN</td>\n",
       "      <td>NaN</td>\n",
       "      <td>Dell</td>\n",
       "      <td>Windows 10</td>\n",
       "      <td>Intel</td>\n",
       "      <td>4.0</td>\n",
       "      <td>PCIE x 4</td>\n",
       "      <td>PC</td>\n",
       "      <td>...</td>\n",
       "      <td>GB</td>\n",
       "      <td>4.23</td>\n",
       "      <td>14.40</td>\n",
       "      <td>10.00</td>\n",
       "      <td>0.85</td>\n",
       "      <td>NaN</td>\n",
       "      <td>1 Lithium ion batteries required</td>\n",
       "      <td>NaN</td>\n",
       "      <td>512.00</td>\n",
       "      <td>2.4</td>\n",
       "    </tr>\n",
       "    <tr>\n",
       "      <th>3</th>\n",
       "      <td>NaN</td>\n",
       "      <td>integrated</td>\n",
       "      <td>6.0</td>\n",
       "      <td>NaN</td>\n",
       "      <td>Lenovo</td>\n",
       "      <td>Windows 10</td>\n",
       "      <td>Intel</td>\n",
       "      <td>2.0</td>\n",
       "      <td>Serial ATA</td>\n",
       "      <td>PC</td>\n",
       "      <td>...</td>\n",
       "      <td>TB</td>\n",
       "      <td>14.55</td>\n",
       "      <td>15.00</td>\n",
       "      <td>3.90</td>\n",
       "      <td>13.20</td>\n",
       "      <td>NaN</td>\n",
       "      <td>NaN</td>\n",
       "      <td>NaN</td>\n",
       "      <td>NaN</td>\n",
       "      <td>3.3</td>\n",
       "    </tr>\n",
       "    <tr>\n",
       "      <th>4</th>\n",
       "      <td>intel</td>\n",
       "      <td>NaN</td>\n",
       "      <td>NaN</td>\n",
       "      <td>NaN</td>\n",
       "      <td>Dell</td>\n",
       "      <td>NaN</td>\n",
       "      <td>NaN</td>\n",
       "      <td>2.0</td>\n",
       "      <td>NaN</td>\n",
       "      <td>NaN</td>\n",
       "      <td>...</td>\n",
       "      <td>NaN</td>\n",
       "      <td>6.60</td>\n",
       "      <td>21.70</td>\n",
       "      <td>13.80</td>\n",
       "      <td>3.30</td>\n",
       "      <td>NaN</td>\n",
       "      <td>1 Lithium ion batteries required</td>\n",
       "      <td>NaN</td>\n",
       "      <td>512.00</td>\n",
       "      <td>NaN</td>\n",
       "    </tr>\n",
       "  </tbody>\n",
       "</table>\n",
       "<p>5 rows × 27 columns</p>\n",
       "</div>"
      ],
      "text/plain": [
       "  ChipsetBrand CardDescription  NumberOfUSB2.0Ports  NumberOfUSB3.0Ports  \\\n",
       "0        intel      Integrated                  2.0                  NaN   \n",
       "1       nvidia       dedicated                  2.0                  NaN   \n",
       "2       nvidia       dedicated                  NaN                  NaN   \n",
       "3          NaN      integrated                  6.0                  NaN   \n",
       "4        intel             NaN                  NaN                  NaN   \n",
       "\n",
       "  BrandName OperatingSystem ProcessorBrand  ProcessorCount HardDriveInterface  \\\n",
       "0      Dell      Windows 10          Intel             1.0         Serial ATA   \n",
       "1    Lenovo             NaN            NaN             1.0         Serial ATA   \n",
       "2      Dell      Windows 10          Intel             4.0           PCIE x 4   \n",
       "3    Lenovo      Windows 10          Intel             2.0         Serial ATA   \n",
       "4      Dell             NaN            NaN             2.0                NaN   \n",
       "\n",
       "  HardwarePlatform  ...  HardDrive_measure_pcs  ItemWeight_pcs  \\\n",
       "0               PC  ...                     TB            5.20   \n",
       "1              NaN  ...                    NaN            5.51   \n",
       "2               PC  ...                     GB            4.23   \n",
       "3               PC  ...                     TB           14.55   \n",
       "4              NaN  ...                    NaN            6.60   \n",
       "\n",
       "   ItemDimensions_L_pcs  ItemDimensions_W_pcs  ItemDimensions_H_pcs  \\\n",
       "0                 14.96                 10.25                  0.94   \n",
       "1                 14.90                  9.90                  1.20   \n",
       "2                 14.40                 10.00                  0.85   \n",
       "3                 15.00                  3.90                 13.20   \n",
       "4                 21.70                 13.80                  3.30   \n",
       "\n",
       "  AverageBatteryLife_pcs                     Batteries_pcs  \\\n",
       "0                    5.5  1 Lithium ion batteries required   \n",
       "1                    NaN                               NaN   \n",
       "2                    NaN  1 Lithium ion batteries required   \n",
       "3                    NaN                               NaN   \n",
       "4                    NaN  1 Lithium ion batteries required   \n",
       "\n",
       "  GraphicsCardRamSize_pcs  FlashMemorySize_pcs  Processor_ghz_pcs  \n",
       "0                     NaN                  NaN                3.1  \n",
       "1                     0.0                 0.01                NaN  \n",
       "2                     NaN               512.00                2.4  \n",
       "3                     NaN                  NaN                3.3  \n",
       "4                     NaN               512.00                NaN  \n",
       "\n",
       "[5 rows x 27 columns]"
      ]
     },
     "execution_count": 2,
     "metadata": {},
     "output_type": "execute_result"
    }
   ],
   "source": [
    "data_df = pd.read_csv('train_val_data.csv', index_col=False)\n",
    "data_df.head()"
   ]
  },
  {
   "cell_type": "code",
   "execution_count": 3,
   "metadata": {},
   "outputs": [
    {
     "name": "stdout",
     "output_type": "stream",
     "text": [
      "<class 'pandas.core.frame.DataFrame'>\n",
      "RangeIndex: 5107 entries, 0 to 5106\n",
      "Data columns (total 27 columns):\n",
      "ChipsetBrand                      3493 non-null object\n",
      "CardDescription                   3849 non-null object\n",
      "NumberOfUSB2.0Ports               1518 non-null float64\n",
      "NumberOfUSB3.0Ports               1170 non-null float64\n",
      "BrandName                         5087 non-null object\n",
      "OperatingSystem                   4587 non-null object\n",
      "ProcessorBrand                    4450 non-null object\n",
      "ProcessorCount                    5000 non-null float64\n",
      "HardDriveInterface                3827 non-null object\n",
      "HardwarePlatform                  3907 non-null object\n",
      "Price_pcs                         5107 non-null float64\n",
      "ScreenSize_pcs                    4725 non-null float64\n",
      "MaxScreenResolution_width_pcs     3718 non-null float64\n",
      "MaxScreenResolution_height_pcs    3718 non-null float64\n",
      "RAM_capacity_pcs                  4974 non-null float64\n",
      "RAM_type_pcs                      3698 non-null object\n",
      "HardDrive_capacity_pcs            4271 non-null float64\n",
      "HardDrive_measure_pcs             4271 non-null object\n",
      "ItemWeight_pcs                    5107 non-null float64\n",
      "ItemDimensions_L_pcs              5105 non-null float64\n",
      "ItemDimensions_W_pcs              5105 non-null float64\n",
      "ItemDimensions_H_pcs              5105 non-null float64\n",
      "AverageBatteryLife_pcs            1647 non-null float64\n",
      "Batteries_pcs                     3860 non-null object\n",
      "GraphicsCardRamSize_pcs           822 non-null float64\n",
      "FlashMemorySize_pcs               3584 non-null float64\n",
      "Processor_ghz_pcs                 4339 non-null float64\n",
      "dtypes: float64(17), object(10)\n",
      "memory usage: 1.1+ MB\n"
     ]
    }
   ],
   "source": [
    "data_df.info()"
   ]
  },
  {
   "cell_type": "markdown",
   "metadata": {},
   "source": [
    "# Split Data"
   ]
  },
  {
   "cell_type": "code",
   "execution_count": 4,
   "metadata": {},
   "outputs": [],
   "source": [
    "y_sr = data_df['Price_pcs']\n",
    "X_df = data_df.drop('Price_pcs', axis=1)"
   ]
  },
  {
   "cell_type": "code",
   "execution_count": 5,
   "metadata": {},
   "outputs": [],
   "source": [
    "train_X_df, val_X_df, train_y_sr, val_y_sr = train_test_split(X_df, y_sr, test_size=0.15, random_state=0)"
   ]
  },
  {
   "cell_type": "code",
   "execution_count": 6,
   "metadata": {},
   "outputs": [
    {
     "name": "stdout",
     "output_type": "stream",
     "text": [
      "<class 'pandas.core.frame.DataFrame'>\n",
      "Int64Index: 4596 entries, 3775 to 2732\n",
      "Data columns (total 26 columns):\n",
      "ChipsetBrand                      3144 non-null object\n",
      "CardDescription                   3463 non-null object\n",
      "NumberOfUSB2.0Ports               1365 non-null float64\n",
      "NumberOfUSB3.0Ports               1046 non-null float64\n",
      "BrandName                         4578 non-null object\n",
      "OperatingSystem                   4126 non-null object\n",
      "ProcessorBrand                    4008 non-null object\n",
      "ProcessorCount                    4500 non-null float64\n",
      "HardDriveInterface                3460 non-null object\n",
      "HardwarePlatform                  3531 non-null object\n",
      "ScreenSize_pcs                    4247 non-null float64\n",
      "MaxScreenResolution_width_pcs     3339 non-null float64\n",
      "MaxScreenResolution_height_pcs    3339 non-null float64\n",
      "RAM_capacity_pcs                  4480 non-null float64\n",
      "RAM_type_pcs                      3345 non-null object\n",
      "HardDrive_capacity_pcs            3852 non-null float64\n",
      "HardDrive_measure_pcs             3852 non-null object\n",
      "ItemWeight_pcs                    4596 non-null float64\n",
      "ItemDimensions_L_pcs              4594 non-null float64\n",
      "ItemDimensions_W_pcs              4594 non-null float64\n",
      "ItemDimensions_H_pcs              4594 non-null float64\n",
      "AverageBatteryLife_pcs            1491 non-null float64\n",
      "Batteries_pcs                     3473 non-null object\n",
      "GraphicsCardRamSize_pcs           732 non-null float64\n",
      "FlashMemorySize_pcs               3232 non-null float64\n",
      "Processor_ghz_pcs                 3909 non-null float64\n",
      "dtypes: float64(16), object(10)\n",
      "memory usage: 969.5+ KB\n"
     ]
    }
   ],
   "source": [
    "train_X_df.info()"
   ]
  },
  {
   "cell_type": "markdown",
   "metadata": {},
   "source": [
    "# Transform data"
   ]
  },
  {
   "cell_type": "code",
   "execution_count": 7,
   "metadata": {},
   "outputs": [],
   "source": [
    "class ColAdderDropper(BaseEstimator, TransformerMixin):\n",
    "    def fit(self, X_df, y=None):\n",
    "        return self\n",
    "    def transform(self, X_df, y=None):\n",
    "        transformed_X_df = X_df.copy()\n",
    "        transformed_X_df['GraphicsCardRamSize_pcs'] = transformed_X_df['GraphicsCardRamSize_pcs'].fillna(value=0.0, inplace=False)\n",
    "        transformed_X_df = transformed_X_df.drop(['NumberOfUSB2.0Ports', 'NumberOfUSB3.0Ports', 'ScreenSize_pcs', 'FlashMemorySize_pcs'], axis=1)\n",
    "        return transformed_X_df"
   ]
  },
  {
   "cell_type": "code",
   "execution_count": 8,
   "metadata": {},
   "outputs": [],
   "source": [
    "class FillNA(BaseEstimator, TransformerMixin):\n",
    "    def __init__(self):\n",
    "        self.fillna_values = {}\n",
    "    def fit(self, X_df, y=None):\n",
    "        self.fillna_values['ProcessorCount'] = X_df['ProcessorCount'].mean()\n",
    "#         self.fillna_values['ScreenSize_pcs'] = X_df['ScreenSize_pcs'].mean()\n",
    "        self.fillna_values['MaxScreenResolution_width_pcs'] = X_df['MaxScreenResolution_width_pcs'].mean()\n",
    "        self.fillna_values['MaxScreenResolution_height_pcs'] = X_df['MaxScreenResolution_height_pcs'].mean()\n",
    "        self.fillna_values['HardDrive_capacity_pcs'] = X_df['HardDrive_capacity_pcs'].mean()\n",
    "        self.fillna_values['ItemDimensions_L_pcs'] = X_df['ItemDimensions_L_pcs'].mean()\n",
    "        self.fillna_values['ItemDimensions_W_pcs'] = X_df['ItemDimensions_W_pcs'].mean()\n",
    "        self.fillna_values['ItemDimensions_H_pcs'] = X_df['ItemDimensions_H_pcs'].mean()\n",
    "        self.fillna_values['AverageBatteryLife_pcs'] = X_df['AverageBatteryLife_pcs'].mean()\n",
    "        self.fillna_values['GraphicsCardRamSize_pcs'] = X_df['GraphicsCardRamSize_pcs'].mean()\n",
    "#         self.fillna_values['FlashMemorySize_pcs'] = X_df['FlashMemorySize_pcs'].mean()\n",
    "        self.fillna_values['Processor_ghz_pcs'] = X_df['Processor_ghz_pcs'].mean()\n",
    "        self.fillna_values['RAM_capacity_pcs'] = X_df['RAM_capacity_pcs'].mean()\n",
    "        self.fillna_values['ItemWeight_pcs'] = X_df['ItemWeight_pcs'].mean()\n",
    "        \n",
    "        self.fillna_values['ChipsetBrand'] = X_df['ChipsetBrand'].mode()[0]\n",
    "        self.fillna_values['CardDescription'] = X_df['CardDescription'].mode()[0]\n",
    "        self.fillna_values['BrandName'] = X_df['BrandName'].mode()[0]\n",
    "        self.fillna_values['OperatingSystem'] = X_df['OperatingSystem'].mode()[0]\n",
    "        self.fillna_values['ProcessorBrand'] = X_df['ProcessorBrand'].mode()[0]\n",
    "        self.fillna_values['HardDriveInterface'] = X_df['HardDriveInterface'].mode()[0]\n",
    "        self.fillna_values['HardwarePlatform'] = X_df['HardwarePlatform'].mode()[0]\n",
    "        self.fillna_values['RAM_type_pcs'] = X_df['RAM_type_pcs'].mode()[0]\n",
    "        self.fillna_values['HardDrive_measure_pcs'] = X_df['HardDrive_measure_pcs'].mode()[0]\n",
    "        self.fillna_values['Batteries_pcs'] = X_df['Batteries_pcs'].mode()[0]\n",
    "            \n",
    "        return self\n",
    "    \n",
    "    def transform(self, X_df, y=None):\n",
    "        transformed_X_df = X_df.copy()\n",
    "        \n",
    "        transformed_X_df['ProcessorCount'].fillna(value=self.fillna_values['ProcessorCount'], inplace=True)\n",
    "#         transformed_X_df['ScreenSize_pcs'].fillna(value=self.fillna_values['ScreenSize_pcs'], inplace=True)\n",
    "        transformed_X_df['MaxScreenResolution_width_pcs'].fillna(value=self.fillna_values['MaxScreenResolution_width_pcs'], inplace=True)\n",
    "        transformed_X_df['MaxScreenResolution_height_pcs'].fillna(value=self.fillna_values['MaxScreenResolution_height_pcs'], inplace=True)\n",
    "        transformed_X_df['HardDrive_capacity_pcs'].fillna(value=self.fillna_values['HardDrive_capacity_pcs'], inplace=True)\n",
    "        transformed_X_df['ItemDimensions_L_pcs'].fillna(value=self.fillna_values['ItemDimensions_L_pcs'], inplace=True)\n",
    "        transformed_X_df['ItemDimensions_W_pcs'].fillna(value=self.fillna_values['ItemDimensions_W_pcs'], inplace=True)\n",
    "        transformed_X_df['ItemDimensions_H_pcs'].fillna(value=self.fillna_values['ItemDimensions_H_pcs'], inplace=True)\n",
    "        transformed_X_df['AverageBatteryLife_pcs'].fillna(value=self.fillna_values['AverageBatteryLife_pcs'], inplace=True)\n",
    "        transformed_X_df['GraphicsCardRamSize_pcs'].fillna(value=self.fillna_values['GraphicsCardRamSize_pcs'], inplace=True)\n",
    "#         transformed_X_df['FlashMemorySize_pcs'].fillna(value=self.fillna_values['FlashMemorySize_pcs'], inplace=True)\n",
    "        transformed_X_df['Processor_ghz_pcs'].fillna(value=self.fillna_values['Processor_ghz_pcs'], inplace=True)\n",
    "        transformed_X_df['RAM_capacity_pcs'].fillna(value=self.fillna_values['RAM_capacity_pcs'], inplace=True)\n",
    "        transformed_X_df['ItemWeight_pcs'].fillna(value=self.fillna_values['ItemWeight_pcs'], inplace=True)\n",
    "        \n",
    "        transformed_X_df['ChipsetBrand'].fillna(value=self.fillna_values['ChipsetBrand'], inplace=True)\n",
    "        transformed_X_df['CardDescription'].fillna(value=self.fillna_values['CardDescription'], inplace=True)\n",
    "        transformed_X_df['BrandName'].fillna(value=self.fillna_values['BrandName'], inplace=True)\n",
    "        transformed_X_df['OperatingSystem'].fillna(value=self.fillna_values['OperatingSystem'], inplace=True)\n",
    "        transformed_X_df['ProcessorBrand'].fillna(value=self.fillna_values['ProcessorBrand'], inplace=True)\n",
    "        transformed_X_df['HardDriveInterface'].fillna(value=self.fillna_values['HardDriveInterface'], inplace=True)\n",
    "        transformed_X_df['HardwarePlatform'].fillna(value=self.fillna_values['HardwarePlatform'], inplace=True)\n",
    "        transformed_X_df['RAM_type_pcs'].fillna(value=self.fillna_values['RAM_type_pcs'], inplace=True)\n",
    "        transformed_X_df['HardDrive_measure_pcs'].fillna(value=self.fillna_values['HardDrive_measure_pcs'], inplace=True)\n",
    "        transformed_X_df['Batteries_pcs'].fillna(value=self.fillna_values['Batteries_pcs'], inplace=True)\n",
    "        \n",
    "        return transformed_X_df"
   ]
  },
  {
   "cell_type": "code",
   "execution_count": 9,
   "metadata": {},
   "outputs": [],
   "source": [
    "# col_adderdropper = ColAdderDropper()\n",
    "# train_X_df = col_adderdropper.fit_transform(train_X_df)\n",
    "# val_X_df = col_adderdropper.fit_transform(val_X_df)"
   ]
  },
  {
   "cell_type": "code",
   "execution_count": 10,
   "metadata": {},
   "outputs": [],
   "source": [
    "# fillNa = FillNA()\n",
    "# fillNa.fit(train_X_df)\n",
    "# train_X_df = fillNa.transform(train_X_df)\n",
    "# train_X_df.info()"
   ]
  },
  {
   "cell_type": "code",
   "execution_count": 11,
   "metadata": {},
   "outputs": [],
   "source": [
    "# val_X_df = fillNa.transform(val_X_df)\n",
    "# val_X_df.info()"
   ]
  },
  {
   "cell_type": "markdown",
   "metadata": {},
   "source": [
    "# Full Pipeline - Train"
   ]
  },
  {
   "cell_type": "code",
   "execution_count": 12,
   "metadata": {},
   "outputs": [],
   "source": [
    "from sklearn import linear_model, svm"
   ]
  },
  {
   "cell_type": "code",
   "execution_count": 21,
   "metadata": {},
   "outputs": [],
   "source": [
    "numeric_cols = ['ProcessorCount', 'ScreenSize_pcs', 'MaxScreenResolution_width_pcs', 'MaxScreenResolution_height_pcs', 'RAM_capacity_pcs', \n",
    "                'HardDrive_capacity_pcs', 'ItemWeight_pcs', 'ItemDimensions_L_pcs', 'ItemDimensions_W_pcs', 'ItemDimensions_H_pcs', \n",
    "               'AverageBatteryLife_pcs', 'GraphicsCardRamSize_pcs', 'FlashMemorySize_pcs', 'Processor_ghz_pcs']\n",
    "category_cols = ['ChipsetBrand', 'CardDescription', 'BrandName', 'OperatingSystem', 'ProcessorBrand', 'HardDriveInterface', 'HardwarePlatform'\n",
    "               , 'RAM_type_pcs', 'HardDrive_measure_pcs', 'Batteries_pcs']\n",
    "\n",
    "numeric_imputer = Pipeline([('imputer', SimpleImputer(strategy='mean'))])\n",
    "category_imputer = Pipeline([('one_hot_vector', OneHotEncoder(handle_unknown='ignore'))])\n",
    "\n",
    "transform_cols = ColumnTransformer([('category_imputer', category_imputer, category_cols)])\n",
    "reprocess_pipeline = Pipeline([('coladderdropper', ColAdderDropper()), ('fill_na', FillNA()), ('transform_cols', transform_cols), ('std_scaler', StandardScaler(with_mean=False))])"
   ]
  },
  {
   "cell_type": "code",
   "execution_count": null,
   "metadata": {},
   "outputs": [],
   "source": []
  },
  {
   "cell_type": "code",
   "execution_count": 29,
   "metadata": {},
   "outputs": [
    {
     "name": "stdout",
     "output_type": "stream",
     "text": [
      "MaxIter: 50000.000000 - Train acc: 0.615318 - Val acc: 0.532290\n"
     ]
    }
   ],
   "source": [
    "svm_ = svm.SVC(verbose=False, random_state=0, max_iter=100)\n",
    "full_pipeline = Pipeline([('reprocess_data', reprocess_pipeline), ('svm', svm_)])\n",
    "\n",
    "max_iter = [50000]\n",
    "for iter_ in max_iter:\n",
    "    full_pipeline.set_params(svm__max_iter=iter_)\n",
    "    full_pipeline.fit(train_X_df, train_y_sr)\n",
    "    print('MaxIter: %f - Train acc: %f - Val acc: %f' %(iter_, full_pipeline.score(train_X_df, train_y_sr), full_pipeline.score(val_X_df, val_y_sr)))"
   ]
  },
  {
   "cell_type": "code",
   "execution_count": null,
   "metadata": {},
   "outputs": [],
   "source": []
  },
  {
   "cell_type": "markdown",
   "metadata": {},
   "source": [
    "# MLPClassifier"
   ]
  },
  {
   "cell_type": "code",
   "execution_count": 27,
   "metadata": {},
   "outputs": [
    {
     "name": "stderr",
     "output_type": "stream",
     "text": [
      "c:\\users\\huynhnhut\\appdata\\local\\programs\\python\\python37\\lib\\site-packages\\sklearn\\neural_network\\_multilayer_perceptron.py:470: ConvergenceWarning: lbfgs failed to converge (status=1):\n",
      "STOP: TOTAL NO. of ITERATIONS REACHED LIMIT.\n",
      "\n",
      "Increase the number of iterations (max_iter) or scale the data as shown in:\n",
      "    https://scikit-learn.org/stable/modules/preprocessing.html\n",
      "  self.n_iter_ = _check_optimize_result(\"lbfgs\", opt_res, self.max_iter)\n"
     ]
    },
    {
     "name": "stdout",
     "output_type": "stream",
     "text": [
      "Alpha: 0.100000 - MaxIter: 1000.000000 - Train acc: 0.842689 - Val acc: 0.502935\n"
     ]
    },
    {
     "name": "stderr",
     "output_type": "stream",
     "text": [
      "c:\\users\\huynhnhut\\appdata\\local\\programs\\python\\python37\\lib\\site-packages\\sklearn\\neural_network\\_multilayer_perceptron.py:470: ConvergenceWarning: lbfgs failed to converge (status=1):\n",
      "STOP: TOTAL NO. of ITERATIONS REACHED LIMIT.\n",
      "\n",
      "Increase the number of iterations (max_iter) or scale the data as shown in:\n",
      "    https://scikit-learn.org/stable/modules/preprocessing.html\n",
      "  self.n_iter_ = _check_optimize_result(\"lbfgs\", opt_res, self.max_iter)\n"
     ]
    },
    {
     "name": "stdout",
     "output_type": "stream",
     "text": [
      "Alpha: 0.100000 - MaxIter: 2000.000000 - Train acc: 0.842907 - Val acc: 0.508806\n"
     ]
    },
    {
     "name": "stderr",
     "output_type": "stream",
     "text": [
      "c:\\users\\huynhnhut\\appdata\\local\\programs\\python\\python37\\lib\\site-packages\\sklearn\\neural_network\\_multilayer_perceptron.py:470: ConvergenceWarning: lbfgs failed to converge (status=1):\n",
      "STOP: TOTAL NO. of ITERATIONS REACHED LIMIT.\n",
      "\n",
      "Increase the number of iterations (max_iter) or scale the data as shown in:\n",
      "    https://scikit-learn.org/stable/modules/preprocessing.html\n",
      "  self.n_iter_ = _check_optimize_result(\"lbfgs\", opt_res, self.max_iter)\n"
     ]
    },
    {
     "name": "stdout",
     "output_type": "stream",
     "text": [
      "Alpha: 0.100000 - MaxIter: 3000.000000 - Train acc: 0.842907 - Val acc: 0.504892\n"
     ]
    },
    {
     "name": "stderr",
     "output_type": "stream",
     "text": [
      "c:\\users\\huynhnhut\\appdata\\local\\programs\\python\\python37\\lib\\site-packages\\sklearn\\neural_network\\_multilayer_perceptron.py:470: ConvergenceWarning: lbfgs failed to converge (status=1):\n",
      "STOP: TOTAL NO. of ITERATIONS REACHED LIMIT.\n",
      "\n",
      "Increase the number of iterations (max_iter) or scale the data as shown in:\n",
      "    https://scikit-learn.org/stable/modules/preprocessing.html\n",
      "  self.n_iter_ = _check_optimize_result(\"lbfgs\", opt_res, self.max_iter)\n"
     ]
    },
    {
     "name": "stdout",
     "output_type": "stream",
     "text": [
      "Alpha: 1.000000 - MaxIter: 1000.000000 - Train acc: 0.842907 - Val acc: 0.481409\n"
     ]
    },
    {
     "name": "stderr",
     "output_type": "stream",
     "text": [
      "c:\\users\\huynhnhut\\appdata\\local\\programs\\python\\python37\\lib\\site-packages\\sklearn\\neural_network\\_multilayer_perceptron.py:470: ConvergenceWarning: lbfgs failed to converge (status=1):\n",
      "STOP: TOTAL NO. of ITERATIONS REACHED LIMIT.\n",
      "\n",
      "Increase the number of iterations (max_iter) or scale the data as shown in:\n",
      "    https://scikit-learn.org/stable/modules/preprocessing.html\n",
      "  self.n_iter_ = _check_optimize_result(\"lbfgs\", opt_res, self.max_iter)\n"
     ]
    },
    {
     "name": "stdout",
     "output_type": "stream",
     "text": [
      "Alpha: 1.000000 - MaxIter: 2000.000000 - Train acc: 0.842907 - Val acc: 0.502935\n"
     ]
    },
    {
     "name": "stderr",
     "output_type": "stream",
     "text": [
      "c:\\users\\huynhnhut\\appdata\\local\\programs\\python\\python37\\lib\\site-packages\\sklearn\\neural_network\\_multilayer_perceptron.py:470: ConvergenceWarning: lbfgs failed to converge (status=1):\n",
      "STOP: TOTAL NO. of ITERATIONS REACHED LIMIT.\n",
      "\n",
      "Increase the number of iterations (max_iter) or scale the data as shown in:\n",
      "    https://scikit-learn.org/stable/modules/preprocessing.html\n",
      "  self.n_iter_ = _check_optimize_result(\"lbfgs\", opt_res, self.max_iter)\n"
     ]
    },
    {
     "name": "stdout",
     "output_type": "stream",
     "text": [
      "Alpha: 1.000000 - MaxIter: 3000.000000 - Train acc: 0.842907 - Val acc: 0.499022\n"
     ]
    },
    {
     "name": "stderr",
     "output_type": "stream",
     "text": [
      "c:\\users\\huynhnhut\\appdata\\local\\programs\\python\\python37\\lib\\site-packages\\sklearn\\neural_network\\_multilayer_perceptron.py:470: ConvergenceWarning: lbfgs failed to converge (status=1):\n",
      "STOP: TOTAL NO. of ITERATIONS REACHED LIMIT.\n",
      "\n",
      "Increase the number of iterations (max_iter) or scale the data as shown in:\n",
      "    https://scikit-learn.org/stable/modules/preprocessing.html\n",
      "  self.n_iter_ = _check_optimize_result(\"lbfgs\", opt_res, self.max_iter)\n"
     ]
    },
    {
     "name": "stdout",
     "output_type": "stream",
     "text": [
      "Alpha: 10.000000 - MaxIter: 1000.000000 - Train acc: 0.833551 - Val acc: 0.526419\n"
     ]
    },
    {
     "name": "stderr",
     "output_type": "stream",
     "text": [
      "c:\\users\\huynhnhut\\appdata\\local\\programs\\python\\python37\\lib\\site-packages\\sklearn\\neural_network\\_multilayer_perceptron.py:470: ConvergenceWarning: lbfgs failed to converge (status=1):\n",
      "STOP: TOTAL NO. of ITERATIONS REACHED LIMIT.\n",
      "\n",
      "Increase the number of iterations (max_iter) or scale the data as shown in:\n",
      "    https://scikit-learn.org/stable/modules/preprocessing.html\n",
      "  self.n_iter_ = _check_optimize_result(\"lbfgs\", opt_res, self.max_iter)\n"
     ]
    },
    {
     "name": "stdout",
     "output_type": "stream",
     "text": [
      "Alpha: 10.000000 - MaxIter: 2000.000000 - Train acc: 0.832245 - Val acc: 0.538160\n",
      "Alpha: 10.000000 - MaxIter: 3000.000000 - Train acc: 0.832681 - Val acc: 0.538160\n"
     ]
    }
   ],
   "source": [
    "mlp_classifier = MLPClassifier((40,), 'tanh', 'lbfgs', max_iter=200, random_state=0, verbose=False)\n",
    "full_pipeline = Pipeline([('reprocess_data', reprocess_pipeline), ('mlp_classifier', mlp_classifier)])\n",
    "\n",
    "alphas = [0.1, 1, 10]\n",
    "max_iter = [200, 500, 1000]\n",
    "for alpha in alphas:\n",
    "    for iter_ in max_iter:\n",
    "        full_pipeline.set_params(mlp_classifier__alpha=alpha, mlp_classifier__max_iter=iter_)\n",
    "        full_pipeline.fit(train_X_df, train_y_sr)\n",
    "        print('Alpha: %f - MaxIter: %f - Train acc: %f - Val acc: %f' %(alpha, iter_, full_pipeline.score(train_X_df, train_y_sr), full_pipeline.score(val_X_df, val_y_sr)))"
   ]
  },
  {
   "cell_type": "markdown",
   "metadata": {},
   "source": [
    "# Logistic regression"
   ]
  },
  {
   "cell_type": "code",
   "execution_count": 23,
   "metadata": {},
   "outputs": [
    {
     "name": "stderr",
     "output_type": "stream",
     "text": [
      "[Parallel(n_jobs=4)]: Using backend LokyBackend with 4 concurrent workers.\n",
      "[Parallel(n_jobs=4)]: Done   1 out of   1 | elapsed:    1.1s finished\n",
      "[Parallel(n_jobs=4)]: Using backend LokyBackend with 4 concurrent workers.\n"
     ]
    },
    {
     "name": "stdout",
     "output_type": "stream",
     "text": [
      "MaxIter: 100.000000 - Train acc: 0.632942 - Val acc: 0.547945\n"
     ]
    },
    {
     "name": "stderr",
     "output_type": "stream",
     "text": [
      "[Parallel(n_jobs=4)]: Done   1 out of   1 | elapsed:    0.8s finished\n",
      "[Parallel(n_jobs=4)]: Using backend LokyBackend with 4 concurrent workers.\n"
     ]
    },
    {
     "name": "stdout",
     "output_type": "stream",
     "text": [
      "MaxIter: 200.000000 - Train acc: 0.633377 - Val acc: 0.547945\n"
     ]
    },
    {
     "name": "stderr",
     "output_type": "stream",
     "text": [
      "[Parallel(n_jobs=4)]: Done   1 out of   1 | elapsed:    0.9s finished\n",
      "[Parallel(n_jobs=4)]: Using backend LokyBackend with 4 concurrent workers.\n"
     ]
    },
    {
     "name": "stdout",
     "output_type": "stream",
     "text": [
      "MaxIter: 300.000000 - Train acc: 0.633594 - Val acc: 0.547945\n"
     ]
    },
    {
     "name": "stderr",
     "output_type": "stream",
     "text": [
      "[Parallel(n_jobs=4)]: Done   1 out of   1 | elapsed:    1.3s finished\n",
      "[Parallel(n_jobs=4)]: Using backend LokyBackend with 4 concurrent workers.\n"
     ]
    },
    {
     "name": "stdout",
     "output_type": "stream",
     "text": [
      "MaxIter: 500.000000 - Train acc: 0.633594 - Val acc: 0.544031\n",
      "MaxIter: 1000.000000 - Train acc: 0.633594 - Val acc: 0.542074\n"
     ]
    },
    {
     "name": "stderr",
     "output_type": "stream",
     "text": [
      "[Parallel(n_jobs=4)]: Done   1 out of   1 | elapsed:    1.0s finished\n"
     ]
    }
   ],
   "source": [
    "logistic_regression = LogisticRegression(solver='lbfgs', max_iter=500, verbose=0, n_jobs=4, random_state=0)\n",
    "full_pipeline = Pipeline([('reprocess_data', reprocess_pipeline), ('logistic_regression', logistic_regression)])\n",
    "\n",
    "max_iter = [100, 200, 300, 500, 1000]\n",
    "for iter_ in max_iter:\n",
    "    full_pipeline.set_params(logistic_regression__max_iter=iter_)\n",
    "    full_pipeline.fit(train_X_df, train_y_sr)\n",
    "    print('MaxIter: %f - Train acc: %f - Val acc: %f' %(iter_, full_pipeline.score(train_X_df, train_y_sr), full_pipeline.score(val_X_df, val_y_sr)))"
   ]
  },
  {
   "cell_type": "markdown",
   "metadata": {},
   "source": [
    "# SVM"
   ]
  },
  {
   "cell_type": "code",
   "execution_count": 24,
   "metadata": {},
   "outputs": [
    {
     "name": "stdout",
     "output_type": "stream",
     "text": [
      "[LibSVM]"
     ]
    },
    {
     "name": "stderr",
     "output_type": "stream",
     "text": [
      "c:\\users\\huynhnhut\\appdata\\local\\programs\\python\\python37\\lib\\site-packages\\sklearn\\svm\\_base.py:231: ConvergenceWarning: Solver terminated early (max_iter=300).  Consider pre-processing your data with StandardScaler or MinMaxScaler.\n",
      "  % self.max_iter, ConvergenceWarning)\n"
     ]
    },
    {
     "name": "stdout",
     "output_type": "stream",
     "text": [
      "MaxIter: 300.000000 - Train acc: 0.374021 - Val acc: 0.375734\n",
      "[LibSVM]"
     ]
    },
    {
     "name": "stderr",
     "output_type": "stream",
     "text": [
      "c:\\users\\huynhnhut\\appdata\\local\\programs\\python\\python37\\lib\\site-packages\\sklearn\\svm\\_base.py:231: ConvergenceWarning: Solver terminated early (max_iter=500).  Consider pre-processing your data with StandardScaler or MinMaxScaler.\n",
      "  % self.max_iter, ConvergenceWarning)\n"
     ]
    },
    {
     "name": "stdout",
     "output_type": "stream",
     "text": [
      "MaxIter: 500.000000 - Train acc: 0.367058 - Val acc: 0.365949\n",
      "[LibSVM]"
     ]
    },
    {
     "name": "stderr",
     "output_type": "stream",
     "text": [
      "c:\\users\\huynhnhut\\appdata\\local\\programs\\python\\python37\\lib\\site-packages\\sklearn\\svm\\_base.py:231: ConvergenceWarning: Solver terminated early (max_iter=1000).  Consider pre-processing your data with StandardScaler or MinMaxScaler.\n",
      "  % self.max_iter, ConvergenceWarning)\n"
     ]
    },
    {
     "name": "stdout",
     "output_type": "stream",
     "text": [
      "MaxIter: 1000.000000 - Train acc: 0.562228 - Val acc: 0.510763\n",
      "[LibSVM]"
     ]
    },
    {
     "name": "stderr",
     "output_type": "stream",
     "text": [
      "c:\\users\\huynhnhut\\appdata\\local\\programs\\python\\python37\\lib\\site-packages\\sklearn\\svm\\_base.py:231: ConvergenceWarning: Solver terminated early (max_iter=2000).  Consider pre-processing your data with StandardScaler or MinMaxScaler.\n",
      "  % self.max_iter, ConvergenceWarning)\n"
     ]
    },
    {
     "name": "stdout",
     "output_type": "stream",
     "text": [
      "MaxIter: 2000.000000 - Train acc: 0.614883 - Val acc: 0.530333\n",
      "[LibSVM]MaxIter: 4000.000000 - Train acc: 0.615318 - Val acc: 0.532290\n"
     ]
    }
   ],
   "source": [
    "svm_ = svm.SVC(verbose=False, random_state=0, max_iter=100)\n",
    "full_pipeline = Pipeline([('reprocess_data', reprocess_pipeline), ('svm', svm_)])\n",
    "\n",
    "max_iter = [300, 500, 1000, 2000, 4000]\n",
    "for iter_ in max_iter:\n",
    "    full_pipeline.set_params(svm__max_iter=iter_)\n",
    "    full_pipeline.fit(train_X_df, train_y_sr)\n",
    "    print('MaxIter: %f - Train acc: %f - Val acc: %f' %(iter_, full_pipeline.score(train_X_df, train_y_sr), full_pipeline.score(val_X_df, val_y_sr)))"
   ]
  },
  {
   "cell_type": "markdown",
   "metadata": {},
   "source": [
    "# Randomforest"
   ]
  },
  {
   "cell_type": "code",
   "execution_count": 25,
   "metadata": {},
   "outputs": [],
   "source": [
    "from sklearn.ensemble import RandomForestClassifier"
   ]
  },
  {
   "cell_type": "code",
   "execution_count": 26,
   "metadata": {},
   "outputs": [
    {
     "name": "stderr",
     "output_type": "stream",
     "text": [
      "[Parallel(n_jobs=4)]: Using backend ThreadingBackend with 4 concurrent workers.\n",
      "[Parallel(n_jobs=4)]: Done  42 tasks      | elapsed:    0.5s\n",
      "[Parallel(n_jobs=4)]: Done 100 out of 100 | elapsed:    1.3s finished\n",
      "[Parallel(n_jobs=4)]: Using backend ThreadingBackend with 4 concurrent workers.\n",
      "[Parallel(n_jobs=4)]: Done  42 tasks      | elapsed:    0.0s\n",
      "[Parallel(n_jobs=4)]: Done 100 out of 100 | elapsed:    0.0s finished\n",
      "[Parallel(n_jobs=4)]: Using backend ThreadingBackend with 4 concurrent workers.\n",
      "[Parallel(n_jobs=4)]: Done  42 tasks      | elapsed:    0.0s\n",
      "[Parallel(n_jobs=4)]: Done 100 out of 100 | elapsed:    0.0s finished\n"
     ]
    },
    {
     "name": "stdout",
     "output_type": "stream",
     "text": [
      "n_estimator: 100 - Train acc: 0.842907 - Val acc: 0.536204\n"
     ]
    },
    {
     "name": "stderr",
     "output_type": "stream",
     "text": [
      "[Parallel(n_jobs=4)]: Using backend ThreadingBackend with 4 concurrent workers.\n",
      "[Parallel(n_jobs=4)]: Done  42 tasks      | elapsed:    0.5s\n",
      "[Parallel(n_jobs=4)]: Done 192 tasks      | elapsed:    2.5s\n",
      "[Parallel(n_jobs=4)]: Done 200 out of 200 | elapsed:    2.6s finished\n",
      "[Parallel(n_jobs=4)]: Using backend ThreadingBackend with 4 concurrent workers.\n",
      "[Parallel(n_jobs=4)]: Done  42 tasks      | elapsed:    0.0s\n",
      "[Parallel(n_jobs=4)]: Done 192 tasks      | elapsed:    0.0s\n",
      "[Parallel(n_jobs=4)]: Done 200 out of 200 | elapsed:    0.0s finished\n",
      "[Parallel(n_jobs=4)]: Using backend ThreadingBackend with 4 concurrent workers.\n",
      "[Parallel(n_jobs=4)]: Done  42 tasks      | elapsed:    0.0s\n",
      "[Parallel(n_jobs=4)]: Done 192 tasks      | elapsed:    0.0s\n",
      "[Parallel(n_jobs=4)]: Done 200 out of 200 | elapsed:    0.0s finished\n"
     ]
    },
    {
     "name": "stdout",
     "output_type": "stream",
     "text": [
      "n_estimator: 200 - Train acc: 0.842907 - Val acc: 0.528376\n"
     ]
    },
    {
     "name": "stderr",
     "output_type": "stream",
     "text": [
      "[Parallel(n_jobs=4)]: Using backend ThreadingBackend with 4 concurrent workers.\n",
      "[Parallel(n_jobs=4)]: Done  42 tasks      | elapsed:    0.5s\n",
      "[Parallel(n_jobs=4)]: Done 192 tasks      | elapsed:    2.5s\n",
      "[Parallel(n_jobs=4)]: Done 300 out of 300 | elapsed:    3.9s finished\n",
      "[Parallel(n_jobs=4)]: Using backend ThreadingBackend with 4 concurrent workers.\n",
      "[Parallel(n_jobs=4)]: Done  42 tasks      | elapsed:    0.0s\n",
      "[Parallel(n_jobs=4)]: Done 192 tasks      | elapsed:    0.0s\n",
      "[Parallel(n_jobs=4)]: Done 300 out of 300 | elapsed:    0.0s finished\n"
     ]
    },
    {
     "name": "stdout",
     "output_type": "stream",
     "text": [
      "n_estimator: 300 - Train acc: 0.842907 - Val acc: 0.538160\n"
     ]
    },
    {
     "name": "stderr",
     "output_type": "stream",
     "text": [
      "[Parallel(n_jobs=4)]: Using backend ThreadingBackend with 4 concurrent workers.\n",
      "[Parallel(n_jobs=4)]: Done  42 tasks      | elapsed:    0.0s\n",
      "[Parallel(n_jobs=4)]: Done 192 tasks      | elapsed:    0.0s\n",
      "[Parallel(n_jobs=4)]: Done 300 out of 300 | elapsed:    0.0s finished\n"
     ]
    }
   ],
   "source": [
    "random_forest = RandomForestClassifier(n_estimators=200, verbose=0, n_jobs=4, random_state=0, oob_score=True)\n",
    "full_pipeline = Pipeline([('reprocess_data', reprocess_pipeline), ('random_forest', random_forest)])\n",
    "\n",
    "n_estimators = [100, 200, 300]\n",
    "for n_es_ in n_estimators:\n",
    "    full_pipeline.set_params(random_forest__n_estimators=n_es_)\n",
    "    full_pipeline.fit(train_X_df, train_y_sr)\n",
    "    print('n_estimator: %d - Train acc: %f - Val acc: %f' %(n_es_, full_pipeline.score(train_X_df, train_y_sr), full_pipeline.score(val_X_df, val_y_sr)))"
   ]
  },
  {
   "cell_type": "code",
   "execution_count": null,
   "metadata": {},
   "outputs": [],
   "source": []
  }
 ],
 "metadata": {
  "kernelspec": {
   "display_name": "Python 3",
   "language": "python",
   "name": "python3"
  },
  "language_info": {
   "codemirror_mode": {
    "name": "ipython",
    "version": 3
   },
   "file_extension": ".py",
   "mimetype": "text/x-python",
   "name": "python",
   "nbconvert_exporter": "python",
   "pygments_lexer": "ipython3",
   "version": "3.7.4"
  }
 },
 "nbformat": 4,
 "nbformat_minor": 4
}
