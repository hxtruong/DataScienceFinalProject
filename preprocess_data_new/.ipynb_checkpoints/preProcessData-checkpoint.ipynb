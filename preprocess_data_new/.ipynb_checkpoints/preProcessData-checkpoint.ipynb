{
 "cells": [
  {
   "cell_type": "code",
   "execution_count": 1,
   "metadata": {},
   "outputs": [],
   "source": [
    "%matplotlib inline\n",
    "import pandas as pd\n",
    "import numpy as np\n",
    "import matplotlib.pyplot as plt"
   ]
  },
  {
   "cell_type": "code",
   "execution_count": 2,
   "metadata": {},
   "outputs": [],
   "source": [
    "from pandas.plotting import register_matplotlib_converters"
   ]
  },
  {
   "cell_type": "code",
   "execution_count": 3,
   "metadata": {},
   "outputs": [],
   "source": [
    "import re"
   ]
  },
  {
   "cell_type": "code",
   "execution_count": 4,
   "metadata": {},
   "outputs": [
    {
     "name": "stdout",
     "output_type": "stream",
     "text": [
      "<class 'pandas.core.frame.DataFrame'>\n",
      "RangeIndex: 5764 entries, 0 to 5763\n",
      "Data columns (total 41 columns):\n",
      "Price                       5675 non-null object\n",
      "ScreenSize                  5338 non-null object\n",
      "MaxScreenResolution         3889 non-null object\n",
      "Processor                   5530 non-null object\n",
      "RAM                         5660 non-null object\n",
      "HardDrive                   5632 non-null object\n",
      "GraphicsCoprocessor         4912 non-null object\n",
      "ChipsetBrand                3932 non-null object\n",
      "CardDescription             4325 non-null object\n",
      "WirelessType                4303 non-null object\n",
      "NumberOfUSB2.0Ports         1696 non-null float64\n",
      "NumberOfUSB3.0Ports         1270 non-null float64\n",
      "BrandName                   5742 non-null object\n",
      "Series                      5347 non-null object\n",
      "ItemModelNumber             4558 non-null object\n",
      "OperatingSystem             5191 non-null object\n",
      "ItemWeight                  5763 non-null object\n",
      "ProductDimensions           4859 non-null object\n",
      "ItemDimensions_L_W_H        4859 non-null object\n",
      "Color                       3046 non-null object\n",
      "ProcessorBrand              5028 non-null object\n",
      "ProcessorCount              5636 non-null float64\n",
      "ComputerMemoryType          4201 non-null object\n",
      "FlashMemorySize             4021 non-null object\n",
      "HardDriveInterface          4310 non-null object\n",
      "HardDriveRotationalSpeed    1990 non-null object\n",
      "OpticalDriveType            1608 non-null object\n",
      "Batteries                   4352 non-null object\n",
      "ScreenResolution            2134 non-null object\n",
      "AverageBatteryLife          1864 non-null object\n",
      "HardwarePlatform            4426 non-null object\n",
      "RearWebcamResolution        945 non-null object\n",
      "PowerSource                 1804 non-null object\n",
      "Voltage                     317 non-null object\n",
      "MemorySpeed                 1315 non-null object\n",
      "CaliforniaResidents         75 non-null object\n",
      "GraphicsCardRamSize         908 non-null object\n",
      "NationalStockNumber         12 non-null object\n",
      "PackageDimensions           904 non-null object\n",
      "Audio-outPorts              30 non-null float64\n",
      "BatteryType                 25 non-null object\n",
      "dtypes: float64(4), object(37)\n",
      "memory usage: 1.8+ MB\n"
     ]
    }
   ],
   "source": [
    "colnames = ['Price', 'ScreenSize', 'MaxScreenResolution', 'Processor', 'RAM',\n",
    "       'HardDrive', 'GraphicsCoprocessor', 'ChipsetBrand',\n",
    "       'CardDescription', 'WirelessType', 'NumberOfUSB2.0Ports',\n",
    "       'NumberOfUSB3.0Ports', 'BrandName', 'Series', 'ItemModelNumber',\n",
    "       'OperatingSystem', 'ItemWeight', 'ProductDimensions',\n",
    "       'ItemDimensions_L_W_H', 'Color', 'ProcessorBrand',\n",
    "       'ProcessorCount', 'ComputerMemoryType', 'FlashMemorySize',\n",
    "       'HardDriveInterface', 'HardDriveRotationalSpeed',\n",
    "       'OpticalDriveType', 'Batteries', 'ScreenResolution',\n",
    "       'AverageBatteryLife', 'HardwarePlatform',\n",
    "       'RearWebcamResolution', 'PowerSource', 'Voltage', 'MemorySpeed',\n",
    "       'CaliforniaResidents', 'GraphicsCardRamSize',\n",
    "       'NationalStockNumber', 'PackageDimensions', 'Audio-outPorts',\n",
    "       'BatteryType']\n",
    "amazon_data = pd.read_csv('amazon_product_infos_1.csv', sep='\\t', names=colnames, index_col=False)#, encoding='unicode_escape')#, error_bad_lines=False)\n",
    "amazon_data.info()"
   ]
  },
  {
   "cell_type": "code",
   "execution_count": 5,
   "metadata": {},
   "outputs": [
    {
     "data": {
      "text/html": [
       "<div>\n",
       "<style scoped>\n",
       "    .dataframe tbody tr th:only-of-type {\n",
       "        vertical-align: middle;\n",
       "    }\n",
       "\n",
       "    .dataframe tbody tr th {\n",
       "        vertical-align: top;\n",
       "    }\n",
       "\n",
       "    .dataframe thead th {\n",
       "        text-align: right;\n",
       "    }\n",
       "</style>\n",
       "<table border=\"1\" class=\"dataframe\">\n",
       "  <thead>\n",
       "    <tr style=\"text-align: right;\">\n",
       "      <th></th>\n",
       "      <th>Price</th>\n",
       "      <th>ScreenSize</th>\n",
       "      <th>MaxScreenResolution</th>\n",
       "      <th>Processor</th>\n",
       "      <th>RAM</th>\n",
       "      <th>HardDrive</th>\n",
       "      <th>GraphicsCoprocessor</th>\n",
       "      <th>ChipsetBrand</th>\n",
       "      <th>CardDescription</th>\n",
       "      <th>WirelessType</th>\n",
       "      <th>...</th>\n",
       "      <th>RearWebcamResolution</th>\n",
       "      <th>PowerSource</th>\n",
       "      <th>Voltage</th>\n",
       "      <th>MemorySpeed</th>\n",
       "      <th>CaliforniaResidents</th>\n",
       "      <th>GraphicsCardRamSize</th>\n",
       "      <th>NationalStockNumber</th>\n",
       "      <th>PackageDimensions</th>\n",
       "      <th>Audio-outPorts</th>\n",
       "      <th>BatteryType</th>\n",
       "    </tr>\n",
       "  </thead>\n",
       "  <tbody>\n",
       "    <tr>\n",
       "      <th>0</th>\n",
       "      <td>$309.99</td>\n",
       "      <td>15.6 inches</td>\n",
       "      <td>1920 x 1080</td>\n",
       "      <td>3.5 GHz Ryzen 3 2200U</td>\n",
       "      <td>4 GB DDR4</td>\n",
       "      <td>128 GB Flash Memory Solid State</td>\n",
       "      <td>AMD Radeon Vega 3</td>\n",
       "      <td>AMD</td>\n",
       "      <td>Integrated</td>\n",
       "      <td>802.11ac</td>\n",
       "      <td>...</td>\n",
       "      <td>NaN</td>\n",
       "      <td>NaN</td>\n",
       "      <td>NaN</td>\n",
       "      <td>NaN</td>\n",
       "      <td>NaN</td>\n",
       "      <td>NaN</td>\n",
       "      <td>NaN</td>\n",
       "      <td>NaN</td>\n",
       "      <td>NaN</td>\n",
       "      <td>NaN</td>\n",
       "    </tr>\n",
       "    <tr>\n",
       "      <th>1</th>\n",
       "      <td>$162.92</td>\n",
       "      <td>10.1 inches</td>\n",
       "      <td>1920x1200 pixels</td>\n",
       "      <td>1.8 GHz 8032</td>\n",
       "      <td>2 GB</td>\n",
       "      <td>32 GB</td>\n",
       "      <td>Mali-G71 MP2</td>\n",
       "      <td>NaN</td>\n",
       "      <td>Integrated</td>\n",
       "      <td>802.11a/b/g/n/ac, 2.4 GHz Radio Frequency, 5 G...</td>\n",
       "      <td>...</td>\n",
       "      <td>8 MP</td>\n",
       "      <td>Battery</td>\n",
       "      <td>5 volts</td>\n",
       "      <td>NaN</td>\n",
       "      <td>NaN</td>\n",
       "      <td>NaN</td>\n",
       "      <td>NaN</td>\n",
       "      <td>NaN</td>\n",
       "      <td>NaN</td>\n",
       "      <td>NaN</td>\n",
       "    </tr>\n",
       "    <tr>\n",
       "      <th>2</th>\n",
       "      <td>$246.99</td>\n",
       "      <td>11.6 inches</td>\n",
       "      <td>1366X768 pixels</td>\n",
       "      <td>2.1 GHz MediaTek_MT8127</td>\n",
       "      <td>4 GB LPDDR3</td>\n",
       "      <td>64 GB Flash Memory Solid State</td>\n",
       "      <td>PowerVR SGX543</td>\n",
       "      <td>Intel</td>\n",
       "      <td>Integrated</td>\n",
       "      <td>802.11a, 802.11b, 802.11g</td>\n",
       "      <td>...</td>\n",
       "      <td>NaN</td>\n",
       "      <td>NaN</td>\n",
       "      <td>NaN</td>\n",
       "      <td>1600 MHz</td>\n",
       "      <td>Click here for Proposition 65 warning</td>\n",
       "      <td>NaN</td>\n",
       "      <td>NaN</td>\n",
       "      <td>NaN</td>\n",
       "      <td>NaN</td>\n",
       "      <td>NaN</td>\n",
       "    </tr>\n",
       "    <tr>\n",
       "      <th>3</th>\n",
       "      <td>$1,089.00</td>\n",
       "      <td>15.6 inches</td>\n",
       "      <td>1920 x 1080</td>\n",
       "      <td>4.5 GHz Intel Core i7</td>\n",
       "      <td>16 GB DDR4</td>\n",
       "      <td>256 GB Flash Memory Solid State</td>\n",
       "      <td>NaN</td>\n",
       "      <td>NVIDIA</td>\n",
       "      <td>Dedicated</td>\n",
       "      <td>802.11ac</td>\n",
       "      <td>...</td>\n",
       "      <td>NaN</td>\n",
       "      <td>NaN</td>\n",
       "      <td>NaN</td>\n",
       "      <td>NaN</td>\n",
       "      <td>NaN</td>\n",
       "      <td>6 GB</td>\n",
       "      <td>NaN</td>\n",
       "      <td>NaN</td>\n",
       "      <td>NaN</td>\n",
       "      <td>NaN</td>\n",
       "    </tr>\n",
       "    <tr>\n",
       "      <th>4</th>\n",
       "      <td>$127.97</td>\n",
       "      <td>11.6 inches</td>\n",
       "      <td>1366 x 768 pixels</td>\n",
       "      <td>2.1 GHz MediaTek MT8125</td>\n",
       "      <td>4 GB DDR4</td>\n",
       "      <td>Flash Memory Solid State</td>\n",
       "      <td>PowerVR GX6250</td>\n",
       "      <td>Chromebook</td>\n",
       "      <td>Mediatek</td>\n",
       "      <td>Bluetooth</td>\n",
       "      <td>...</td>\n",
       "      <td>NaN</td>\n",
       "      <td>NaN</td>\n",
       "      <td>NaN</td>\n",
       "      <td>NaN</td>\n",
       "      <td>NaN</td>\n",
       "      <td>NaN</td>\n",
       "      <td>NaN</td>\n",
       "      <td>NaN</td>\n",
       "      <td>NaN</td>\n",
       "      <td>NaN</td>\n",
       "    </tr>\n",
       "  </tbody>\n",
       "</table>\n",
       "<p>5 rows × 41 columns</p>\n",
       "</div>"
      ],
      "text/plain": [
       "       Price   ScreenSize MaxScreenResolution                Processor  \\\n",
       "0    $309.99  15.6 inches         1920 x 1080    3.5 GHz Ryzen 3 2200U   \n",
       "1    $162.92  10.1 inches    1920x1200 pixels             1.8 GHz 8032   \n",
       "2    $246.99  11.6 inches     1366X768 pixels  2.1 GHz MediaTek_MT8127   \n",
       "3  $1,089.00  15.6 inches         1920 x 1080    4.5 GHz Intel Core i7   \n",
       "4    $127.97  11.6 inches   1366 x 768 pixels  2.1 GHz MediaTek MT8125   \n",
       "\n",
       "           RAM                        HardDrive GraphicsCoprocessor  \\\n",
       "0    4 GB DDR4  128 GB Flash Memory Solid State   AMD Radeon Vega 3   \n",
       "1         2 GB                            32 GB        Mali-G71 MP2   \n",
       "2  4 GB LPDDR3   64 GB Flash Memory Solid State      PowerVR SGX543   \n",
       "3   16 GB DDR4  256 GB Flash Memory Solid State                 NaN   \n",
       "4    4 GB DDR4         Flash Memory Solid State      PowerVR GX6250   \n",
       "\n",
       "  ChipsetBrand CardDescription  \\\n",
       "0          AMD      Integrated   \n",
       "1          NaN      Integrated   \n",
       "2        Intel      Integrated   \n",
       "3       NVIDIA       Dedicated   \n",
       "4   Chromebook        Mediatek   \n",
       "\n",
       "                                        WirelessType  ...  \\\n",
       "0                                           802.11ac  ...   \n",
       "1  802.11a/b/g/n/ac, 2.4 GHz Radio Frequency, 5 G...  ...   \n",
       "2                          802.11a, 802.11b, 802.11g  ...   \n",
       "3                                           802.11ac  ...   \n",
       "4                                          Bluetooth  ...   \n",
       "\n",
       "   RearWebcamResolution  PowerSource  Voltage MemorySpeed  \\\n",
       "0                   NaN          NaN      NaN         NaN   \n",
       "1                  8 MP      Battery  5 volts         NaN   \n",
       "2                   NaN          NaN      NaN    1600 MHz   \n",
       "3                   NaN          NaN      NaN         NaN   \n",
       "4                   NaN          NaN      NaN         NaN   \n",
       "\n",
       "                     CaliforniaResidents GraphicsCardRamSize  \\\n",
       "0                                    NaN                 NaN   \n",
       "1                                    NaN                 NaN   \n",
       "2  Click here for Proposition 65 warning                 NaN   \n",
       "3                                    NaN                6 GB   \n",
       "4                                    NaN                 NaN   \n",
       "\n",
       "  NationalStockNumber PackageDimensions Audio-outPorts BatteryType  \n",
       "0                 NaN               NaN            NaN         NaN  \n",
       "1                 NaN               NaN            NaN         NaN  \n",
       "2                 NaN               NaN            NaN         NaN  \n",
       "3                 NaN               NaN            NaN         NaN  \n",
       "4                 NaN               NaN            NaN         NaN  \n",
       "\n",
       "[5 rows x 41 columns]"
      ]
     },
     "execution_count": 5,
     "metadata": {},
     "output_type": "execute_result"
    }
   ],
   "source": [
    "amazon_data.head(5)"
   ]
  },
  {
   "cell_type": "code",
   "execution_count": 6,
   "metadata": {},
   "outputs": [
    {
     "data": {
      "text/html": [
       "<div>\n",
       "<style scoped>\n",
       "    .dataframe tbody tr th:only-of-type {\n",
       "        vertical-align: middle;\n",
       "    }\n",
       "\n",
       "    .dataframe tbody tr th {\n",
       "        vertical-align: top;\n",
       "    }\n",
       "\n",
       "    .dataframe thead th {\n",
       "        text-align: right;\n",
       "    }\n",
       "</style>\n",
       "<table border=\"1\" class=\"dataframe\">\n",
       "  <thead>\n",
       "    <tr style=\"text-align: right;\">\n",
       "      <th></th>\n",
       "      <th>NumberOfUSB2.0Ports</th>\n",
       "      <th>NumberOfUSB3.0Ports</th>\n",
       "      <th>ProcessorCount</th>\n",
       "      <th>Audio-outPorts</th>\n",
       "    </tr>\n",
       "  </thead>\n",
       "  <tbody>\n",
       "    <tr>\n",
       "      <th>count</th>\n",
       "      <td>1696.000000</td>\n",
       "      <td>1270.000000</td>\n",
       "      <td>5636.000000</td>\n",
       "      <td>30.000000</td>\n",
       "    </tr>\n",
       "    <tr>\n",
       "      <th>mean</th>\n",
       "      <td>1.763561</td>\n",
       "      <td>2.476378</td>\n",
       "      <td>3.128282</td>\n",
       "      <td>1.033333</td>\n",
       "    </tr>\n",
       "    <tr>\n",
       "      <th>std</th>\n",
       "      <td>1.334849</td>\n",
       "      <td>1.662830</td>\n",
       "      <td>1.761274</td>\n",
       "      <td>0.182574</td>\n",
       "    </tr>\n",
       "    <tr>\n",
       "      <th>min</th>\n",
       "      <td>1.000000</td>\n",
       "      <td>1.000000</td>\n",
       "      <td>1.000000</td>\n",
       "      <td>1.000000</td>\n",
       "    </tr>\n",
       "    <tr>\n",
       "      <th>25%</th>\n",
       "      <td>1.000000</td>\n",
       "      <td>1.000000</td>\n",
       "      <td>2.000000</td>\n",
       "      <td>1.000000</td>\n",
       "    </tr>\n",
       "    <tr>\n",
       "      <th>50%</th>\n",
       "      <td>1.000000</td>\n",
       "      <td>2.000000</td>\n",
       "      <td>2.000000</td>\n",
       "      <td>1.000000</td>\n",
       "    </tr>\n",
       "    <tr>\n",
       "      <th>75%</th>\n",
       "      <td>2.000000</td>\n",
       "      <td>3.000000</td>\n",
       "      <td>4.000000</td>\n",
       "      <td>1.000000</td>\n",
       "    </tr>\n",
       "    <tr>\n",
       "      <th>max</th>\n",
       "      <td>16.000000</td>\n",
       "      <td>16.000000</td>\n",
       "      <td>16.000000</td>\n",
       "      <td>2.000000</td>\n",
       "    </tr>\n",
       "  </tbody>\n",
       "</table>\n",
       "</div>"
      ],
      "text/plain": [
       "       NumberOfUSB2.0Ports  NumberOfUSB3.0Ports  ProcessorCount  \\\n",
       "count          1696.000000          1270.000000     5636.000000   \n",
       "mean              1.763561             2.476378        3.128282   \n",
       "std               1.334849             1.662830        1.761274   \n",
       "min               1.000000             1.000000        1.000000   \n",
       "25%               1.000000             1.000000        2.000000   \n",
       "50%               1.000000             2.000000        2.000000   \n",
       "75%               2.000000             3.000000        4.000000   \n",
       "max              16.000000            16.000000       16.000000   \n",
       "\n",
       "       Audio-outPorts  \n",
       "count       30.000000  \n",
       "mean         1.033333  \n",
       "std          0.182574  \n",
       "min          1.000000  \n",
       "25%          1.000000  \n",
       "50%          1.000000  \n",
       "75%          1.000000  \n",
       "max          2.000000  "
      ]
     },
     "execution_count": 6,
     "metadata": {},
     "output_type": "execute_result"
    }
   ],
   "source": [
    "amazon_data.describe()"
   ]
  },
  {
   "cell_type": "markdown",
   "metadata": {},
   "source": [
    "# Price"
   ]
  },
  {
   "cell_type": "code",
   "execution_count": 7,
   "metadata": {},
   "outputs": [
    {
     "data": {
      "text/plain": [
       "0         $309.99\n",
       "1         $162.92\n",
       "2         $246.99\n",
       "3       $1,089.00\n",
       "4         $127.97\n",
       "          ...    \n",
       "5759       $51.97\n",
       "5760      $369.99\n",
       "5761      $339.00\n",
       "5762    $1,099.93\n",
       "5763      $199.99\n",
       "Name: Price, Length: 5764, dtype: object"
      ]
     },
     "execution_count": 7,
     "metadata": {},
     "output_type": "execute_result"
    }
   ],
   "source": [
    "amazon_data['Price']"
   ]
  },
  {
   "cell_type": "code",
   "execution_count": 8,
   "metadata": {},
   "outputs": [
    {
     "data": {
      "text/plain": [
       "0        309.99\n",
       "1        162.92\n",
       "2        246.99\n",
       "3       1089.00\n",
       "4        127.97\n",
       "         ...   \n",
       "5759      51.97\n",
       "5760     369.99\n",
       "5761     339.00\n",
       "5762    1099.93\n",
       "5763     199.99\n",
       "Name: Price_pcs, Length: 5675, dtype: float64"
      ]
     },
     "execution_count": 8,
     "metadata": {},
     "output_type": "execute_result"
    }
   ],
   "source": [
    "amazon_data['Price_pcs'] = amazon_data.Price.str.extract(r\"(\\d+\\,?\\d?\\d?\\d?\\d?\\d?\\.\\d+)\", expand=False)\n",
    "amazon_data = amazon_data.dropna(axis=0, subset=['Price_pcs'])\n",
    "amazon_data = amazon_data.dropna(axis=0, subset=['Price_pcs'])\n",
    "prices = []\n",
    "for price_ in amazon_data['Price_pcs']:\n",
    "    prices.append(float(price_.replace(',', '')))\n",
    "amazon_data['Price_pcs'] = prices\n",
    "amazon_data['Price_pcs']"
   ]
  },
  {
   "cell_type": "code",
   "execution_count": 9,
   "metadata": {},
   "outputs": [
    {
     "name": "stdout",
     "output_type": "stream",
     "text": [
      "Null count: 0\n"
     ]
    },
    {
     "data": {
      "text/plain": [
       "0       0\n",
       "1       0\n",
       "2       0\n",
       "3       1\n",
       "4       0\n",
       "       ..\n",
       "5759    0\n",
       "5760    0\n",
       "5761    0\n",
       "5762    1\n",
       "5763    0\n",
       "Name: Price_pcs, Length: 5675, dtype: int64"
      ]
     },
     "execution_count": 9,
     "metadata": {},
     "output_type": "execute_result"
    }
   ],
   "source": [
    "step_ = amazon_data['Price_pcs'].max()/5\n",
    "price_rank = []\n",
    "for price in amazon_data['Price_pcs']:\n",
    "    if price < step_:\n",
    "        price_rank.append(0)\n",
    "    elif price < step_*2:\n",
    "        price_rank.append(1)\n",
    "    elif price < step_*3:\n",
    "        price_rank.append(2)\n",
    "    elif price < step_*4:\n",
    "        price_rank.append(3)\n",
    "    else:\n",
    "        price_rank.append(4)\n",
    "amazon_data['Price_pcs'] = price_rank\n",
    "print('Null count: %d'%amazon_data['Price_pcs'].isna().values.sum())\n",
    "amazon_data['Price_pcs']"
   ]
  },
  {
   "cell_type": "code",
   "execution_count": 10,
   "metadata": {},
   "outputs": [],
   "source": [
    "# amazon_data['Price_pcs'] = amazon_data.Price.str.extract(r\"(\\d+\\.\\d+)\", expand=False)\n",
    "# assert amazon_data['Price_pcs'].isna().values.sum()==amazon_data['Price'].isna().values.sum()\n",
    "# amazon_data = amazon_data.dropna(axis=0, subset=['Price_pcs'])\n",
    "# print('Null count: %d'%amazon_data['Price_pcs'].isna().values.sum())\n",
    "# amazon_data['Price_pcs']"
   ]
  },
  {
   "cell_type": "code",
   "execution_count": null,
   "metadata": {},
   "outputs": [],
   "source": []
  },
  {
   "cell_type": "code",
   "execution_count": 11,
   "metadata": {},
   "outputs": [
    {
     "data": {
      "text/plain": [
       "0       0.0\n",
       "1       0.0\n",
       "2       0.0\n",
       "3       1.0\n",
       "4       0.0\n",
       "       ... \n",
       "5759    0.0\n",
       "5760    0.0\n",
       "5761    0.0\n",
       "5762    1.0\n",
       "5763    0.0\n",
       "Name: Price_pcs, Length: 5675, dtype: float64"
      ]
     },
     "execution_count": 11,
     "metadata": {},
     "output_type": "execute_result"
    }
   ],
   "source": [
    "amazon_data['Price_pcs'] = amazon_data['Price_pcs'].astype(float)\n",
    "amazon_data['Price_pcs']"
   ]
  },
  {
   "cell_type": "code",
   "execution_count": 12,
   "metadata": {},
   "outputs": [
    {
     "data": {
      "text/html": [
       "<div>\n",
       "<style scoped>\n",
       "    .dataframe tbody tr th:only-of-type {\n",
       "        vertical-align: middle;\n",
       "    }\n",
       "\n",
       "    .dataframe tbody tr th {\n",
       "        vertical-align: top;\n",
       "    }\n",
       "\n",
       "    .dataframe thead th {\n",
       "        text-align: right;\n",
       "    }\n",
       "</style>\n",
       "<table border=\"1\" class=\"dataframe\">\n",
       "  <thead>\n",
       "    <tr style=\"text-align: right;\">\n",
       "      <th></th>\n",
       "      <th>Price</th>\n",
       "      <th>ScreenSize</th>\n",
       "      <th>MaxScreenResolution</th>\n",
       "      <th>Processor</th>\n",
       "      <th>RAM</th>\n",
       "      <th>HardDrive</th>\n",
       "      <th>GraphicsCoprocessor</th>\n",
       "      <th>ChipsetBrand</th>\n",
       "      <th>CardDescription</th>\n",
       "      <th>WirelessType</th>\n",
       "      <th>...</th>\n",
       "      <th>PowerSource</th>\n",
       "      <th>Voltage</th>\n",
       "      <th>MemorySpeed</th>\n",
       "      <th>CaliforniaResidents</th>\n",
       "      <th>GraphicsCardRamSize</th>\n",
       "      <th>NationalStockNumber</th>\n",
       "      <th>PackageDimensions</th>\n",
       "      <th>Audio-outPorts</th>\n",
       "      <th>BatteryType</th>\n",
       "      <th>Price_pcs</th>\n",
       "    </tr>\n",
       "  </thead>\n",
       "  <tbody>\n",
       "    <tr>\n",
       "      <th>0</th>\n",
       "      <td>$309.99</td>\n",
       "      <td>15.6 inches</td>\n",
       "      <td>1920 x 1080</td>\n",
       "      <td>3.5 GHz Ryzen 3 2200U</td>\n",
       "      <td>4 GB DDR4</td>\n",
       "      <td>128 GB Flash Memory Solid State</td>\n",
       "      <td>AMD Radeon Vega 3</td>\n",
       "      <td>AMD</td>\n",
       "      <td>Integrated</td>\n",
       "      <td>802.11ac</td>\n",
       "      <td>...</td>\n",
       "      <td>NaN</td>\n",
       "      <td>NaN</td>\n",
       "      <td>NaN</td>\n",
       "      <td>NaN</td>\n",
       "      <td>NaN</td>\n",
       "      <td>NaN</td>\n",
       "      <td>NaN</td>\n",
       "      <td>NaN</td>\n",
       "      <td>NaN</td>\n",
       "      <td>0.0</td>\n",
       "    </tr>\n",
       "    <tr>\n",
       "      <th>1</th>\n",
       "      <td>$162.92</td>\n",
       "      <td>10.1 inches</td>\n",
       "      <td>1920x1200 pixels</td>\n",
       "      <td>1.8 GHz 8032</td>\n",
       "      <td>2 GB</td>\n",
       "      <td>32 GB</td>\n",
       "      <td>Mali-G71 MP2</td>\n",
       "      <td>NaN</td>\n",
       "      <td>Integrated</td>\n",
       "      <td>802.11a/b/g/n/ac, 2.4 GHz Radio Frequency, 5 G...</td>\n",
       "      <td>...</td>\n",
       "      <td>Battery</td>\n",
       "      <td>5 volts</td>\n",
       "      <td>NaN</td>\n",
       "      <td>NaN</td>\n",
       "      <td>NaN</td>\n",
       "      <td>NaN</td>\n",
       "      <td>NaN</td>\n",
       "      <td>NaN</td>\n",
       "      <td>NaN</td>\n",
       "      <td>0.0</td>\n",
       "    </tr>\n",
       "    <tr>\n",
       "      <th>2</th>\n",
       "      <td>$246.99</td>\n",
       "      <td>11.6 inches</td>\n",
       "      <td>1366X768 pixels</td>\n",
       "      <td>2.1 GHz MediaTek_MT8127</td>\n",
       "      <td>4 GB LPDDR3</td>\n",
       "      <td>64 GB Flash Memory Solid State</td>\n",
       "      <td>PowerVR SGX543</td>\n",
       "      <td>Intel</td>\n",
       "      <td>Integrated</td>\n",
       "      <td>802.11a, 802.11b, 802.11g</td>\n",
       "      <td>...</td>\n",
       "      <td>NaN</td>\n",
       "      <td>NaN</td>\n",
       "      <td>1600 MHz</td>\n",
       "      <td>Click here for Proposition 65 warning</td>\n",
       "      <td>NaN</td>\n",
       "      <td>NaN</td>\n",
       "      <td>NaN</td>\n",
       "      <td>NaN</td>\n",
       "      <td>NaN</td>\n",
       "      <td>0.0</td>\n",
       "    </tr>\n",
       "    <tr>\n",
       "      <th>3</th>\n",
       "      <td>$1,089.00</td>\n",
       "      <td>15.6 inches</td>\n",
       "      <td>1920 x 1080</td>\n",
       "      <td>4.5 GHz Intel Core i7</td>\n",
       "      <td>16 GB DDR4</td>\n",
       "      <td>256 GB Flash Memory Solid State</td>\n",
       "      <td>NaN</td>\n",
       "      <td>NVIDIA</td>\n",
       "      <td>Dedicated</td>\n",
       "      <td>802.11ac</td>\n",
       "      <td>...</td>\n",
       "      <td>NaN</td>\n",
       "      <td>NaN</td>\n",
       "      <td>NaN</td>\n",
       "      <td>NaN</td>\n",
       "      <td>6 GB</td>\n",
       "      <td>NaN</td>\n",
       "      <td>NaN</td>\n",
       "      <td>NaN</td>\n",
       "      <td>NaN</td>\n",
       "      <td>1.0</td>\n",
       "    </tr>\n",
       "    <tr>\n",
       "      <th>4</th>\n",
       "      <td>$127.97</td>\n",
       "      <td>11.6 inches</td>\n",
       "      <td>1366 x 768 pixels</td>\n",
       "      <td>2.1 GHz MediaTek MT8125</td>\n",
       "      <td>4 GB DDR4</td>\n",
       "      <td>Flash Memory Solid State</td>\n",
       "      <td>PowerVR GX6250</td>\n",
       "      <td>Chromebook</td>\n",
       "      <td>Mediatek</td>\n",
       "      <td>Bluetooth</td>\n",
       "      <td>...</td>\n",
       "      <td>NaN</td>\n",
       "      <td>NaN</td>\n",
       "      <td>NaN</td>\n",
       "      <td>NaN</td>\n",
       "      <td>NaN</td>\n",
       "      <td>NaN</td>\n",
       "      <td>NaN</td>\n",
       "      <td>NaN</td>\n",
       "      <td>NaN</td>\n",
       "      <td>0.0</td>\n",
       "    </tr>\n",
       "  </tbody>\n",
       "</table>\n",
       "<p>5 rows × 42 columns</p>\n",
       "</div>"
      ],
      "text/plain": [
       "       Price   ScreenSize MaxScreenResolution                Processor  \\\n",
       "0    $309.99  15.6 inches         1920 x 1080    3.5 GHz Ryzen 3 2200U   \n",
       "1    $162.92  10.1 inches    1920x1200 pixels             1.8 GHz 8032   \n",
       "2    $246.99  11.6 inches     1366X768 pixels  2.1 GHz MediaTek_MT8127   \n",
       "3  $1,089.00  15.6 inches         1920 x 1080    4.5 GHz Intel Core i7   \n",
       "4    $127.97  11.6 inches   1366 x 768 pixels  2.1 GHz MediaTek MT8125   \n",
       "\n",
       "           RAM                        HardDrive GraphicsCoprocessor  \\\n",
       "0    4 GB DDR4  128 GB Flash Memory Solid State   AMD Radeon Vega 3   \n",
       "1         2 GB                            32 GB        Mali-G71 MP2   \n",
       "2  4 GB LPDDR3   64 GB Flash Memory Solid State      PowerVR SGX543   \n",
       "3   16 GB DDR4  256 GB Flash Memory Solid State                 NaN   \n",
       "4    4 GB DDR4         Flash Memory Solid State      PowerVR GX6250   \n",
       "\n",
       "  ChipsetBrand CardDescription  \\\n",
       "0          AMD      Integrated   \n",
       "1          NaN      Integrated   \n",
       "2        Intel      Integrated   \n",
       "3       NVIDIA       Dedicated   \n",
       "4   Chromebook        Mediatek   \n",
       "\n",
       "                                        WirelessType  ...  PowerSource  \\\n",
       "0                                           802.11ac  ...          NaN   \n",
       "1  802.11a/b/g/n/ac, 2.4 GHz Radio Frequency, 5 G...  ...      Battery   \n",
       "2                          802.11a, 802.11b, 802.11g  ...          NaN   \n",
       "3                                           802.11ac  ...          NaN   \n",
       "4                                          Bluetooth  ...          NaN   \n",
       "\n",
       "   Voltage MemorySpeed                    CaliforniaResidents  \\\n",
       "0      NaN         NaN                                    NaN   \n",
       "1  5 volts         NaN                                    NaN   \n",
       "2      NaN    1600 MHz  Click here for Proposition 65 warning   \n",
       "3      NaN         NaN                                    NaN   \n",
       "4      NaN         NaN                                    NaN   \n",
       "\n",
       "  GraphicsCardRamSize NationalStockNumber PackageDimensions Audio-outPorts  \\\n",
       "0                 NaN                 NaN               NaN            NaN   \n",
       "1                 NaN                 NaN               NaN            NaN   \n",
       "2                 NaN                 NaN               NaN            NaN   \n",
       "3                6 GB                 NaN               NaN            NaN   \n",
       "4                 NaN                 NaN               NaN            NaN   \n",
       "\n",
       "  BatteryType Price_pcs  \n",
       "0         NaN       0.0  \n",
       "1         NaN       0.0  \n",
       "2         NaN       0.0  \n",
       "3         NaN       1.0  \n",
       "4         NaN       0.0  \n",
       "\n",
       "[5 rows x 42 columns]"
      ]
     },
     "execution_count": 12,
     "metadata": {},
     "output_type": "execute_result"
    }
   ],
   "source": [
    "amazon_data.head()"
   ]
  },
  {
   "cell_type": "code",
   "execution_count": 13,
   "metadata": {},
   "outputs": [
    {
     "data": {
      "text/plain": [
       "0       0.0\n",
       "1       0.0\n",
       "2       0.0\n",
       "3       1.0\n",
       "4       0.0\n",
       "       ... \n",
       "5759    0.0\n",
       "5760    0.0\n",
       "5761    0.0\n",
       "5762    1.0\n",
       "5763    0.0\n",
       "Name: Price_pcs, Length: 5675, dtype: float64"
      ]
     },
     "execution_count": 13,
     "metadata": {},
     "output_type": "execute_result"
    }
   ],
   "source": [
    "amazon_data[\"Price_pcs\"] = amazon_data['Price_pcs'].astype(float)\n",
    "amazon_data[\"Price_pcs\"]"
   ]
  },
  {
   "cell_type": "code",
   "execution_count": 14,
   "metadata": {},
   "outputs": [
    {
     "data": {
      "text/plain": [
       "0       0.0\n",
       "1       0.0\n",
       "2       0.0\n",
       "3       1.0\n",
       "4       0.0\n",
       "       ... \n",
       "5759    0.0\n",
       "5760    0.0\n",
       "5761    0.0\n",
       "5762    1.0\n",
       "5763    0.0\n",
       "Name: Price_pcs, Length: 5675, dtype: float64"
      ]
     },
     "execution_count": 14,
     "metadata": {},
     "output_type": "execute_result"
    }
   ],
   "source": [
    "amazon_data['Price_pcs']"
   ]
  },
  {
   "cell_type": "markdown",
   "metadata": {},
   "source": [
    "# Screen Size"
   ]
  },
  {
   "cell_type": "code",
   "execution_count": 15,
   "metadata": {},
   "outputs": [
    {
     "data": {
      "text/plain": [
       "0       15.6 inches\n",
       "1       10.1 inches\n",
       "2       11.6 inches\n",
       "3       15.6 inches\n",
       "4       11.6 inches\n",
       "           ...     \n",
       "5759       7 inches\n",
       "5760    15.6 inches\n",
       "5761    15.6 inches\n",
       "5762    13.3 inches\n",
       "5763      14 inches\n",
       "Name: ScreenSize, Length: 5675, dtype: object"
      ]
     },
     "execution_count": 15,
     "metadata": {},
     "output_type": "execute_result"
    }
   ],
   "source": [
    "amazon_data['ScreenSize']"
   ]
  },
  {
   "cell_type": "code",
   "execution_count": 16,
   "metadata": {},
   "outputs": [
    {
     "name": "stdout",
     "output_type": "stream",
     "text": [
      "Unique values: 78 - Null count: 419\n"
     ]
    }
   ],
   "source": [
    "amazon_data['ScreenSize_pcs'] = amazon_data.ScreenSize.str.extract(r\"(\\d+\\.?\\d?)\", expand=False)\n",
    "assert amazon_data['ScreenSize_pcs'].isna().values.sum()==amazon_data['ScreenSize'].isna().values.sum()\n",
    "# amazon_data['ScreenSize_pcs']\n",
    "print('Unique values: %d - Null count: %d'%(amazon_data['ScreenSize_pcs'].nunique(), amazon_data['ScreenSize_pcs'].isna().values.sum()))"
   ]
  },
  {
   "cell_type": "markdown",
   "metadata": {},
   "source": [
    "# Max Screen Resolution"
   ]
  },
  {
   "cell_type": "code",
   "execution_count": 17,
   "metadata": {},
   "outputs": [
    {
     "data": {
      "text/plain": [
       "0             1920 x 1080\n",
       "1        1920x1200 pixels\n",
       "2         1366X768 pixels\n",
       "3             1920 x 1080\n",
       "4       1366 x 768 pixels\n",
       "              ...        \n",
       "5759           1280 x 800\n",
       "5760             1366x768\n",
       "5761    HD ( 1366 x 768 )\n",
       "5762                  NaN\n",
       "5763      1600x900 pixels\n",
       "Name: MaxScreenResolution, Length: 5675, dtype: object"
      ]
     },
     "execution_count": 17,
     "metadata": {},
     "output_type": "execute_result"
    }
   ],
   "source": [
    "amazon_data['MaxScreenResolution']"
   ]
  },
  {
   "cell_type": "code",
   "execution_count": 18,
   "metadata": {},
   "outputs": [
    {
     "name": "stdout",
     "output_type": "stream",
     "text": [
      "Unique values: 49 - Null count: 1558\n",
      "Unique values: 33 - Null count: 1558\n"
     ]
    }
   ],
   "source": [
    "res = amazon_data.MaxScreenResolution.str.extract(r\"(\\d+)[ xX*]+(\\d+)\", expand=True)\n",
    "amazon_data['MaxScreenResolution_width_pcs'] = res[0]\n",
    "amazon_data['MaxScreenResolution_height_pcs'] = res[1]\n",
    "# print(amazon_data['MaxScreenResolution'].isna().values.sum())\n",
    "# print(amazon_data['MaxScreenResolution_width_pcs'].isna().values.sum())\n",
    "\n",
    "res = amazon_data.ScreenResolution.str.extract(r\"(\\d+)[ xX*]+(\\d+)\", expand=True)\n",
    "amazon_data['MaxScreenResolution_width_pcs'] = amazon_data['MaxScreenResolution_width_pcs'].fillna(res[0])\n",
    "amazon_data['MaxScreenResolution_height_pcs'] = amazon_data['MaxScreenResolution_height_pcs'].fillna(res[1])\n",
    "# print(amazon_data['MaxScreenResolution_width_pcs'].isna().values.sum())\n",
    "# amazon_data.head()\n",
    "print('Unique values: %d - Null count: %d'%(amazon_data['MaxScreenResolution_width_pcs'].nunique(), amazon_data['MaxScreenResolution_width_pcs'].isna().values.sum()))\n",
    "print('Unique values: %d - Null count: %d'%(amazon_data['MaxScreenResolution_height_pcs'].nunique(), amazon_data['MaxScreenResolution_height_pcs'].isna().values.sum()))"
   ]
  },
  {
   "cell_type": "markdown",
   "metadata": {},
   "source": [
    "# Ram"
   ]
  },
  {
   "cell_type": "code",
   "execution_count": 19,
   "metadata": {},
   "outputs": [
    {
     "data": {
      "text/plain": [
       "0            4 GB DDR4\n",
       "1                 2 GB\n",
       "2          4 GB LPDDR3\n",
       "3           16 GB DDR4\n",
       "4            4 GB DDR4\n",
       "             ...      \n",
       "5759              1 GB\n",
       "5760         8 GB DDR3\n",
       "5761    4 GB SDRAM DDR\n",
       "5762              8 GB\n",
       "5763         4 GB DDR3\n",
       "Name: RAM, Length: 5675, dtype: object"
      ]
     },
     "execution_count": 19,
     "metadata": {},
     "output_type": "execute_result"
    }
   ],
   "source": [
    "amazon_data['RAM']"
   ]
  },
  {
   "cell_type": "code",
   "execution_count": 20,
   "metadata": {},
   "outputs": [
    {
     "name": "stdout",
     "output_type": "stream",
     "text": [
      "Unique values: 20 - Null count: 148\n",
      "Unique values: 26 - Null count: 1541\n"
     ]
    }
   ],
   "source": [
    "res = amazon_data.RAM.str.extract(r\"(\\d+)\", expand=True)\n",
    "amazon_data['RAM_capacity_pcs'] = res[0]\n",
    "res = amazon_data.ComputerMemoryType.str.extract(r\"([A-Z0-9]+)\", expand=True)\n",
    "amazon_data['RAM_type_pcs'] = res[0]\n",
    "# amazon_data.head()\n",
    "print('Unique values: %d - Null count: %d'%(amazon_data['RAM_capacity_pcs'].nunique(), amazon_data['RAM_capacity_pcs'].isna().values.sum()))\n",
    "print('Unique values: %d - Null count: %d'%(amazon_data['RAM_type_pcs'].nunique(), amazon_data['RAM_type_pcs'].isna().values.sum()))"
   ]
  },
  {
   "cell_type": "markdown",
   "metadata": {},
   "source": [
    "# Hard Drive"
   ]
  },
  {
   "cell_type": "code",
   "execution_count": 21,
   "metadata": {},
   "outputs": [
    {
     "data": {
      "text/plain": [
       "0       128 GB Flash Memory Solid State\n",
       "1                                 32 GB\n",
       "2        64 GB Flash Memory Solid State\n",
       "3       256 GB Flash Memory Solid State\n",
       "4              Flash Memory Solid State\n",
       "                     ...               \n",
       "5759                               8 GB\n",
       "5760                         128 GB SSD\n",
       "5761                         128 GB SSD\n",
       "5762    256 GB flash_memory_solid_state\n",
       "5763               16 GB Serial ATA-600\n",
       "Name: HardDrive, Length: 5675, dtype: object"
      ]
     },
     "execution_count": 21,
     "metadata": {},
     "output_type": "execute_result"
    }
   ],
   "source": [
    "amazon_data['HardDrive']"
   ]
  },
  {
   "cell_type": "code",
   "execution_count": 22,
   "metadata": {},
   "outputs": [
    {
     "name": "stdout",
     "output_type": "stream",
     "text": [
      "Unique values: 51 - Null count: 918\n",
      "Unique values: 2 - Null count: 918\n"
     ]
    }
   ],
   "source": [
    "res = amazon_data.HardDrive.str.extract(r\"(\\d+)[ ]+([GBT]+)\", expand=True)\n",
    "amazon_data['HardDrive_capacity_pcs'] = res[0]\n",
    "amazon_data['HardDrive_measure_pcs'] = res[1]\n",
    "# print(amazon_data['HardDrive'].isna().values.sum())\n",
    "# print(amazon_data['HardDrive_capacity_pcs'].isna().values.sum())\n",
    "# print(amazon_data['HardDrive_measure_pcs'].isna().values.sum())\n",
    "# amazon_data.head()\n",
    "print('Unique values: %d - Null count: %d'%(amazon_data['HardDrive_capacity_pcs'].nunique(), amazon_data['HardDrive_capacity_pcs'].isna().values.sum()))\n",
    "print('Unique values: %d - Null count: %d'%(amazon_data['HardDrive_measure_pcs'].nunique(), amazon_data['HardDrive_measure_pcs'].isna().values.sum()))"
   ]
  },
  {
   "cell_type": "markdown",
   "metadata": {},
   "source": [
    "# Item Weight"
   ]
  },
  {
   "cell_type": "code",
   "execution_count": 23,
   "metadata": {},
   "outputs": [
    {
     "data": {
      "text/plain": [
       "0       3.97 pounds\n",
       "1       3.84 ounces\n",
       "2       2.64 pounds\n",
       "3       5.07 pounds\n",
       "4       2.66 pounds\n",
       "           ...     \n",
       "5759    14.4 ounces\n",
       "5760     4.7 pounds\n",
       "5761    5.75 pounds\n",
       "5762    5.47 pounds\n",
       "5763     4.3 pounds\n",
       "Name: ItemWeight, Length: 5675, dtype: object"
      ]
     },
     "execution_count": 23,
     "metadata": {},
     "output_type": "execute_result"
    }
   ],
   "source": [
    "amazon_data['ItemWeight']"
   ]
  },
  {
   "cell_type": "code",
   "execution_count": 24,
   "metadata": {},
   "outputs": [
    {
     "name": "stdout",
     "output_type": "stream",
     "text": [
      "Unique values: 901 - Null count: 1\n"
     ]
    }
   ],
   "source": [
    "res = amazon_data.ItemWeight.str.extract(r\"(\\d+\\.?\\d?\\d?)\", expand=True)\n",
    "amazon_data['ItemWeight_pcs'] = res[0]\n",
    "# print(amazon_data['ItemWeight'].isna().values.sum())\n",
    "# print(amazon_data['ItemWeight_pcs'].isna().values.sum())\n",
    "print('Unique values: %d - Null count: %d'%(amazon_data['ItemWeight_pcs'].nunique(), amazon_data['ItemWeight_pcs'].isna().values.sum()))"
   ]
  },
  {
   "cell_type": "markdown",
   "metadata": {},
   "source": [
    "# Dimesions"
   ]
  },
  {
   "cell_type": "code",
   "execution_count": 25,
   "metadata": {},
   "outputs": [
    {
     "data": {
      "text/plain": [
       "0       14.31 x 9.74 x 0.71 inches\n",
       "1         0.3 x 5.88 x 9.65 inches\n",
       "2        11.5 x 0.77 x 8.48 inches\n",
       "3       14.23 x 10.01 x 0.9 inches\n",
       "4        11.42 x 8.03 x 0.8 inches\n",
       "                   ...            \n",
       "5759     7.87 x 4.92 x 0.45 inches\n",
       "5760        10.9 x 15.3 x 1 inches\n",
       "5761      10.5 x 14.9 x 0.9 inches\n",
       "5762     11.97 x 7.8 x 0.51 inches\n",
       "5763    13.35 x 0.83 x 9.15 inches\n",
       "Name: ItemDimensions_L_W_H, Length: 5675, dtype: object"
      ]
     },
     "execution_count": 25,
     "metadata": {},
     "output_type": "execute_result"
    }
   ],
   "source": [
    "amazon_data['ItemDimensions_L_W_H']"
   ]
  },
  {
   "cell_type": "code",
   "execution_count": 26,
   "metadata": {},
   "outputs": [
    {
     "name": "stdout",
     "output_type": "stream",
     "text": [
      "Unique values: 735 - Null count: 3\n",
      "Unique values: 754 - Null count: 3\n",
      "Unique values: 551 - Null count: 3\n"
     ]
    }
   ],
   "source": [
    "res = amazon_data.ItemDimensions_L_W_H.str.extract(r\"(\\d+\\.?\\d?\\d?)[ x]+(\\d+\\.?\\d?\\d?)[ x]+(\\d+\\.?\\d?\\d?)\", expand=True)\n",
    "amazon_data['ItemDimensions_L_pcs'] = res[0]\n",
    "amazon_data['ItemDimensions_W_pcs'] = res[1]\n",
    "amazon_data['ItemDimensions_H_pcs'] = res[2]\n",
    "# print(amazon_data['ItemDimensions_L_W_H'].isna().values.sum())\n",
    "\n",
    "res = amazon_data.PackageDimensions.str.extract(r\"(\\d+\\.?\\d?\\d?)[ x]+(\\d+\\.?\\d?\\d?)[ x]+(\\d+\\.?\\d?\\d?)\", expand=True)\n",
    "# print(amazon_data['PackageDimensions'].isna().values.sum())\n",
    "# print(res[0].isna().values.sum())\n",
    "# print(res[1].isna().values.sum())\n",
    "# print(res[2].isna().values.sum())\n",
    "# amazon_data['ItemDimensions_L_pcs'].fillna(res[0])\n",
    "amazon_data['ItemDimensions_L_pcs'] = amazon_data['ItemDimensions_L_pcs'].fillna(res[0])\n",
    "amazon_data['ItemDimensions_W_pcs'] = amazon_data['ItemDimensions_W_pcs'].fillna(res[1])\n",
    "amazon_data['ItemDimensions_H_pcs'] = amazon_data['ItemDimensions_H_pcs'].fillna(res[2])\n",
    "# print(amazon_data['ItemDimensions_L_pcs'].isna().values.sum())\n",
    "# print(amazon_data['ItemDimensions_W_pcs'].isna().values.sum())\n",
    "# print(amazon_data['ItemDimensions_H_pcs'].isna().values.sum())\n",
    "# amazon_data.head()\n",
    "print('Unique values: %d - Null count: %d'%(amazon_data['ItemDimensions_L_pcs'].nunique(), amazon_data['ItemDimensions_L_pcs'].isna().values.sum()))\n",
    "print('Unique values: %d - Null count: %d'%(amazon_data['ItemDimensions_W_pcs'].nunique(), amazon_data['ItemDimensions_W_pcs'].isna().values.sum()))\n",
    "print('Unique values: %d - Null count: %d'%(amazon_data['ItemDimensions_H_pcs'].nunique(), amazon_data['ItemDimensions_H_pcs'].isna().values.sum()))"
   ]
  },
  {
   "cell_type": "markdown",
   "metadata": {},
   "source": [
    "# Battery"
   ]
  },
  {
   "cell_type": "code",
   "execution_count": 27,
   "metadata": {},
   "outputs": [
    {
     "data": {
      "text/plain": [
       "0            NaN\n",
       "1       10 years\n",
       "2            NaN\n",
       "3            NaN\n",
       "4       10 hours\n",
       "          ...   \n",
       "5759     5 years\n",
       "5760     5 hours\n",
       "5761     5 hours\n",
       "5762    11 hours\n",
       "5763     8 hours\n",
       "Name: AverageBatteryLife, Length: 5675, dtype: object"
      ]
     },
     "execution_count": 27,
     "metadata": {},
     "output_type": "execute_result"
    }
   ],
   "source": [
    "amazon_data['AverageBatteryLife']"
   ]
  },
  {
   "cell_type": "code",
   "execution_count": 28,
   "metadata": {},
   "outputs": [
    {
     "name": "stdout",
     "output_type": "stream",
     "text": [
      "Unique values: 84 - Null count: 3842\n"
     ]
    }
   ],
   "source": [
    "res = amazon_data.AverageBatteryLife.str.extract(r\"(\\d+\\.?\\d?\\d?)\", expand=True)\n",
    "amazon_data['AverageBatteryLife_pcs'] = res[0]\n",
    "# print(amazon_data['AverageBatteryLife'].isna().values.sum())\n",
    "# print(amazon_data['AverageBatteryLife_pcs'].isna().values.sum())\n",
    "# amazon_data.head()\n",
    "print('Unique values: %d - Null count: %d'%(amazon_data['AverageBatteryLife_pcs'].nunique(), amazon_data['AverageBatteryLife_pcs'].isna().values.sum()))"
   ]
  },
  {
   "cell_type": "code",
   "execution_count": 29,
   "metadata": {},
   "outputs": [
    {
     "data": {
      "text/plain": [
       "0       1 Lithium Polymer batteries required. (included)\n",
       "1       1 Lithium Polymer batteries required. (included)\n",
       "2         1 Lithium Metal batteries required. (included)\n",
       "3       1 Lithium Polymer batteries required. (included)\n",
       "4       1 Lithium Polymer batteries required. (included)\n",
       "                              ...                       \n",
       "5759                                                 NaN\n",
       "5760                                                 NaN\n",
       "5761                                                 NaN\n",
       "5762                   1 Lithium ion batteries required.\n",
       "5763        6 Lithium ion batteries required. (included)\n",
       "Name: Batteries, Length: 5675, dtype: object"
      ]
     },
     "execution_count": 29,
     "metadata": {},
     "output_type": "execute_result"
    }
   ],
   "source": [
    "amazon_data['Batteries']"
   ]
  },
  {
   "cell_type": "code",
   "execution_count": 30,
   "metadata": {},
   "outputs": [
    {
     "name": "stdout",
     "output_type": "stream",
     "text": [
      "Unique values: 34 - Null count: 1385\n"
     ]
    }
   ],
   "source": [
    "res = amazon_data.Batteries.str.extract(r\"([a-zA-Z0-9 ]+)\\.\", expand=True)\n",
    "amazon_data['Batteries_pcs'] = res[0]\n",
    "# print(amazon_data['Batteries'].isna().values.sum())\n",
    "# print(amazon_data['Batteries_pcs'].isna().values.sum())\n",
    "print('Unique values: %d - Null count: %d'%(amazon_data['Batteries_pcs'].nunique(), amazon_data['Batteries_pcs'].isna().values.sum()))"
   ]
  },
  {
   "cell_type": "markdown",
   "metadata": {},
   "source": [
    "# Graphic card RAM size"
   ]
  },
  {
   "cell_type": "code",
   "execution_count": 31,
   "metadata": {},
   "outputs": [
    {
     "data": {
      "text/plain": [
       "0        NaN\n",
       "1        NaN\n",
       "2        NaN\n",
       "3       6 GB\n",
       "4        NaN\n",
       "        ... \n",
       "5759     NaN\n",
       "5760     NaN\n",
       "5761     NaN\n",
       "5762     NaN\n",
       "5763     NaN\n",
       "Name: GraphicsCardRamSize, Length: 5675, dtype: object"
      ]
     },
     "execution_count": 31,
     "metadata": {},
     "output_type": "execute_result"
    }
   ],
   "source": [
    "amazon_data['GraphicsCardRamSize']"
   ]
  },
  {
   "cell_type": "code",
   "execution_count": 32,
   "metadata": {},
   "outputs": [
    {
     "name": "stdout",
     "output_type": "stream",
     "text": [
      "Unique values: 30 - Null count: 4776\n"
     ]
    }
   ],
   "source": [
    "res = amazon_data.GraphicsCardRamSize.str.extract(r\"(\\d+)\", expand=True)\n",
    "amazon_data['GraphicsCardRamSize_pcs'] = res[0]\n",
    "# print(amazon_data['GraphicsCardRamSize'].isna().values.sum())\n",
    "# print(amazon_data['GraphicsCardRamSize_pcs'].isna().values.sum())\n",
    "# amazon_data.head()\n",
    "print('Unique values: %d - Null count: %d'%(amazon_data['GraphicsCardRamSize_pcs'].nunique(), amazon_data['GraphicsCardRamSize_pcs'].isna().values.sum()))"
   ]
  },
  {
   "cell_type": "markdown",
   "metadata": {},
   "source": [
    "# Flash Memory Size"
   ]
  },
  {
   "cell_type": "code",
   "execution_count": 33,
   "metadata": {},
   "outputs": [
    {
     "data": {
      "text/plain": [
       "0       128.00\n",
       "1        32 GB\n",
       "2        64.00\n",
       "3       256.00\n",
       "4         16.0\n",
       "         ...  \n",
       "5759      8 GB\n",
       "5760    128 GB\n",
       "5761       NaN\n",
       "5762    256 GB\n",
       "5763      16.0\n",
       "Name: FlashMemorySize, Length: 5675, dtype: object"
      ]
     },
     "execution_count": 33,
     "metadata": {},
     "output_type": "execute_result"
    }
   ],
   "source": [
    "amazon_data['FlashMemorySize']"
   ]
  },
  {
   "cell_type": "code",
   "execution_count": 34,
   "metadata": {},
   "outputs": [
    {
     "name": "stdout",
     "output_type": "stream",
     "text": [
      "Unique values: 59 - Null count: 1721\n"
     ]
    }
   ],
   "source": [
    "res = amazon_data.FlashMemorySize.str.extract(r\"(\\d+\\.?\\d?\\d?)\", expand=True)\n",
    "amazon_data['FlashMemorySize_pcs'] = res[0]\n",
    "# print(amazon_data['FlashMemorySize'].isna().values.sum())\n",
    "# print(amazon_data['FlashMemorySize_pcs'].isna().values.sum())\n",
    "# amazon_data.head()\n",
    "print('Unique values: %d - Null count: %d'%(amazon_data['FlashMemorySize_pcs'].nunique(), amazon_data['FlashMemorySize_pcs'].isna().values.sum()))"
   ]
  },
  {
   "cell_type": "markdown",
   "metadata": {},
   "source": [
    "# Processor"
   ]
  },
  {
   "cell_type": "code",
   "execution_count": 35,
   "metadata": {},
   "outputs": [
    {
     "data": {
      "text/plain": [
       "0         3.5 GHz Ryzen 3 2200U\n",
       "1                  1.8 GHz 8032\n",
       "2       2.1 GHz MediaTek_MT8127\n",
       "3         4.5 GHz Intel Core i7\n",
       "4       2.1 GHz MediaTek MT8125\n",
       "                 ...           \n",
       "5759             1.2 GHz Cortex\n",
       "5760            1.8 GHz Pentium\n",
       "5761      1.1 GHz Intel Celeron\n",
       "5762      1.8 GHz Intel Core i7\n",
       "5763      2.1 GHz Intel Core i7\n",
       "Name: Processor, Length: 5675, dtype: object"
      ]
     },
     "execution_count": 35,
     "metadata": {},
     "output_type": "execute_result"
    }
   ],
   "source": [
    "amazon_data['Processor']"
   ]
  },
  {
   "cell_type": "code",
   "execution_count": 36,
   "metadata": {},
   "outputs": [
    {
     "name": "stdout",
     "output_type": "stream",
     "text": [
      "Unique values: 88 - Null count: 854\n"
     ]
    }
   ],
   "source": [
    "res = amazon_data.Processor.str.extract(r\"(\\d+\\.?\\d?\\d?)\", expand=True)\n",
    "amazon_data['Processor_ghz_pcs'] = res[0]\n",
    "amazon_data.loc[amazon_data['Processor_ghz_pcs'] > '4.5', 'Processor_ghz_pcs'] = None\n",
    "# print(amazon_data['Processor'].isna().values.sum())\n",
    "# print(amazon_data['Processor_ghz_pcs'].isna().values.sum())\n",
    "# amazon_data.head()\n",
    "print('Unique values: %d - Null count: %d'%(amazon_data['Processor_ghz_pcs'].nunique(), amazon_data['Processor_ghz_pcs'].isna().values.sum()))"
   ]
  },
  {
   "cell_type": "markdown",
   "metadata": {},
   "source": [
    "# Other"
   ]
  },
  {
   "cell_type": "code",
   "execution_count": 37,
   "metadata": {},
   "outputs": [
    {
     "name": "stdout",
     "output_type": "stream",
     "text": [
      "<class 'pandas.core.frame.DataFrame'>\n",
      "Int64Index: 5675 entries, 0 to 5763\n",
      "Data columns (total 27 columns):\n",
      "ChipsetBrand                      3871 non-null object\n",
      "CardDescription                   4264 non-null object\n",
      "NumberOfUSB2.0Ports               1675 non-null float64\n",
      "NumberOfUSB3.0Ports               1267 non-null float64\n",
      "BrandName                         5653 non-null object\n",
      "OperatingSystem                   5103 non-null object\n",
      "ProcessorBrand                    4945 non-null object\n",
      "ProcessorCount                    5551 non-null float64\n",
      "HardDriveInterface                4256 non-null object\n",
      "HardwarePlatform                  4360 non-null object\n",
      "Price_pcs                         5675 non-null float64\n",
      "ScreenSize_pcs                    5256 non-null object\n",
      "MaxScreenResolution_width_pcs     4117 non-null object\n",
      "MaxScreenResolution_height_pcs    4117 non-null object\n",
      "RAM_capacity_pcs                  5527 non-null object\n",
      "RAM_type_pcs                      4134 non-null object\n",
      "HardDrive_capacity_pcs            4757 non-null object\n",
      "HardDrive_measure_pcs             4757 non-null object\n",
      "ItemWeight_pcs                    5674 non-null object\n",
      "ItemDimensions_L_pcs              5672 non-null object\n",
      "ItemDimensions_W_pcs              5672 non-null object\n",
      "ItemDimensions_H_pcs              5672 non-null object\n",
      "AverageBatteryLife_pcs            1833 non-null object\n",
      "Batteries_pcs                     4290 non-null object\n",
      "GraphicsCardRamSize_pcs           899 non-null object\n",
      "FlashMemorySize_pcs               3954 non-null object\n",
      "Processor_ghz_pcs                 4821 non-null object\n",
      "dtypes: float64(4), object(23)\n",
      "memory usage: 1.2+ MB\n"
     ]
    }
   ],
   "source": [
    "amazon_data = amazon_data.drop(['Batteries', 'OpticalDriveType', 'Processor', 'FlashMemorySize', 'HardDriveRotationalSpeed', 'GraphicsCardRamSize', 'RearWebcamResolution', 'CaliforniaResidents', 'MemorySpeed', 'Voltage', 'PowerSource','GraphicsCoprocessor', 'ScreenResolution', 'AverageBatteryLife', 'ItemWeight', 'PackageDimensions', 'ProductDimensions', 'ItemDimensions_L_W_H', 'NationalStockNumber', 'ComputerMemoryType','Price', 'MaxScreenResolution', 'RAM', 'ScreenSize', 'HardDrive','Audio-outPorts', 'BatteryType', 'Series', 'ItemModelNumber', 'Color', 'WirelessType'], axis=1)\n",
    "amazon_data.info()"
   ]
  },
  {
   "cell_type": "code",
   "execution_count": 38,
   "metadata": {},
   "outputs": [
    {
     "data": {
      "text/html": [
       "<div>\n",
       "<style scoped>\n",
       "    .dataframe tbody tr th:only-of-type {\n",
       "        vertical-align: middle;\n",
       "    }\n",
       "\n",
       "    .dataframe tbody tr th {\n",
       "        vertical-align: top;\n",
       "    }\n",
       "\n",
       "    .dataframe thead th {\n",
       "        text-align: right;\n",
       "    }\n",
       "</style>\n",
       "<table border=\"1\" class=\"dataframe\">\n",
       "  <thead>\n",
       "    <tr style=\"text-align: right;\">\n",
       "      <th></th>\n",
       "      <th>ChipsetBrand</th>\n",
       "      <th>CardDescription</th>\n",
       "      <th>NumberOfUSB2.0Ports</th>\n",
       "      <th>NumberOfUSB3.0Ports</th>\n",
       "      <th>BrandName</th>\n",
       "      <th>OperatingSystem</th>\n",
       "      <th>ProcessorBrand</th>\n",
       "      <th>ProcessorCount</th>\n",
       "      <th>HardDriveInterface</th>\n",
       "      <th>HardwarePlatform</th>\n",
       "      <th>...</th>\n",
       "      <th>HardDrive_measure_pcs</th>\n",
       "      <th>ItemWeight_pcs</th>\n",
       "      <th>ItemDimensions_L_pcs</th>\n",
       "      <th>ItemDimensions_W_pcs</th>\n",
       "      <th>ItemDimensions_H_pcs</th>\n",
       "      <th>AverageBatteryLife_pcs</th>\n",
       "      <th>Batteries_pcs</th>\n",
       "      <th>GraphicsCardRamSize_pcs</th>\n",
       "      <th>FlashMemorySize_pcs</th>\n",
       "      <th>Processor_ghz_pcs</th>\n",
       "    </tr>\n",
       "  </thead>\n",
       "  <tbody>\n",
       "    <tr>\n",
       "      <th>0</th>\n",
       "      <td>AMD</td>\n",
       "      <td>Integrated</td>\n",
       "      <td>2.0</td>\n",
       "      <td>1.0</td>\n",
       "      <td>Acer</td>\n",
       "      <td>Windows 10 Home</td>\n",
       "      <td>AMD</td>\n",
       "      <td>2.0</td>\n",
       "      <td>Solid State</td>\n",
       "      <td>NaN</td>\n",
       "      <td>...</td>\n",
       "      <td>GB</td>\n",
       "      <td>3.97</td>\n",
       "      <td>14.31</td>\n",
       "      <td>9.74</td>\n",
       "      <td>0.71</td>\n",
       "      <td>NaN</td>\n",
       "      <td>1 Lithium Polymer batteries required</td>\n",
       "      <td>NaN</td>\n",
       "      <td>128.00</td>\n",
       "      <td>3.5</td>\n",
       "    </tr>\n",
       "    <tr>\n",
       "      <th>1</th>\n",
       "      <td>NaN</td>\n",
       "      <td>Integrated</td>\n",
       "      <td>1.0</td>\n",
       "      <td>NaN</td>\n",
       "      <td>Samsung</td>\n",
       "      <td>Android 9 Pie</td>\n",
       "      <td>Samsung</td>\n",
       "      <td>8.0</td>\n",
       "      <td>NaN</td>\n",
       "      <td>Android</td>\n",
       "      <td>...</td>\n",
       "      <td>GB</td>\n",
       "      <td>3.84</td>\n",
       "      <td>0.3</td>\n",
       "      <td>5.88</td>\n",
       "      <td>9.65</td>\n",
       "      <td>10</td>\n",
       "      <td>1 Lithium Polymer batteries required</td>\n",
       "      <td>NaN</td>\n",
       "      <td>32</td>\n",
       "      <td>1.8</td>\n",
       "    </tr>\n",
       "    <tr>\n",
       "      <th>2</th>\n",
       "      <td>Intel</td>\n",
       "      <td>Integrated</td>\n",
       "      <td>NaN</td>\n",
       "      <td>1.0</td>\n",
       "      <td>Lenovo</td>\n",
       "      <td>Chrome OS</td>\n",
       "      <td>Mediatek</td>\n",
       "      <td>4.0</td>\n",
       "      <td>Solid State</td>\n",
       "      <td>Chrome</td>\n",
       "      <td>...</td>\n",
       "      <td>GB</td>\n",
       "      <td>2.64</td>\n",
       "      <td>11.5</td>\n",
       "      <td>0.77</td>\n",
       "      <td>8.48</td>\n",
       "      <td>NaN</td>\n",
       "      <td>1 Lithium Metal batteries required</td>\n",
       "      <td>NaN</td>\n",
       "      <td>64.00</td>\n",
       "      <td>2.1</td>\n",
       "    </tr>\n",
       "  </tbody>\n",
       "</table>\n",
       "<p>3 rows × 27 columns</p>\n",
       "</div>"
      ],
      "text/plain": [
       "  ChipsetBrand CardDescription  NumberOfUSB2.0Ports  NumberOfUSB3.0Ports  \\\n",
       "0          AMD      Integrated                  2.0                  1.0   \n",
       "1          NaN      Integrated                  1.0                  NaN   \n",
       "2        Intel      Integrated                  NaN                  1.0   \n",
       "\n",
       "  BrandName  OperatingSystem ProcessorBrand  ProcessorCount  \\\n",
       "0      Acer  Windows 10 Home            AMD             2.0   \n",
       "1   Samsung    Android 9 Pie        Samsung             8.0   \n",
       "2    Lenovo        Chrome OS       Mediatek             4.0   \n",
       "\n",
       "  HardDriveInterface HardwarePlatform  ...  HardDrive_measure_pcs  \\\n",
       "0        Solid State              NaN  ...                     GB   \n",
       "1                NaN          Android  ...                     GB   \n",
       "2        Solid State           Chrome  ...                     GB   \n",
       "\n",
       "  ItemWeight_pcs ItemDimensions_L_pcs ItemDimensions_W_pcs  \\\n",
       "0           3.97                14.31                 9.74   \n",
       "1           3.84                  0.3                 5.88   \n",
       "2           2.64                 11.5                 0.77   \n",
       "\n",
       "  ItemDimensions_H_pcs AverageBatteryLife_pcs  \\\n",
       "0                 0.71                    NaN   \n",
       "1                 9.65                     10   \n",
       "2                 8.48                    NaN   \n",
       "\n",
       "                          Batteries_pcs GraphicsCardRamSize_pcs  \\\n",
       "0  1 Lithium Polymer batteries required                     NaN   \n",
       "1  1 Lithium Polymer batteries required                     NaN   \n",
       "2    1 Lithium Metal batteries required                     NaN   \n",
       "\n",
       "  FlashMemorySize_pcs Processor_ghz_pcs  \n",
       "0              128.00               3.5  \n",
       "1                  32               1.8  \n",
       "2               64.00               2.1  \n",
       "\n",
       "[3 rows x 27 columns]"
      ]
     },
     "execution_count": 38,
     "metadata": {},
     "output_type": "execute_result"
    }
   ],
   "source": [
    "amazon_data.head(3)"
   ]
  },
  {
   "cell_type": "code",
   "execution_count": 39,
   "metadata": {},
   "outputs": [
    {
     "data": {
      "text/html": [
       "<div>\n",
       "<style scoped>\n",
       "    .dataframe tbody tr th:only-of-type {\n",
       "        vertical-align: middle;\n",
       "    }\n",
       "\n",
       "    .dataframe tbody tr th {\n",
       "        vertical-align: top;\n",
       "    }\n",
       "\n",
       "    .dataframe thead th {\n",
       "        text-align: right;\n",
       "    }\n",
       "</style>\n",
       "<table border=\"1\" class=\"dataframe\">\n",
       "  <thead>\n",
       "    <tr style=\"text-align: right;\">\n",
       "      <th></th>\n",
       "      <th>NumberOfUSB2.0Ports</th>\n",
       "      <th>NumberOfUSB3.0Ports</th>\n",
       "      <th>ProcessorCount</th>\n",
       "      <th>Price_pcs</th>\n",
       "    </tr>\n",
       "  </thead>\n",
       "  <tbody>\n",
       "    <tr>\n",
       "      <th>count</th>\n",
       "      <td>1675.000000</td>\n",
       "      <td>1267.000000</td>\n",
       "      <td>5551.000000</td>\n",
       "      <td>5675.000000</td>\n",
       "    </tr>\n",
       "    <tr>\n",
       "      <th>mean</th>\n",
       "      <td>1.762985</td>\n",
       "      <td>2.476717</td>\n",
       "      <td>3.128625</td>\n",
       "      <td>0.186256</td>\n",
       "    </tr>\n",
       "    <tr>\n",
       "      <th>std</th>\n",
       "      <td>1.338455</td>\n",
       "      <td>1.663677</td>\n",
       "      <td>1.752330</td>\n",
       "      <td>0.447081</td>\n",
       "    </tr>\n",
       "    <tr>\n",
       "      <th>min</th>\n",
       "      <td>1.000000</td>\n",
       "      <td>1.000000</td>\n",
       "      <td>1.000000</td>\n",
       "      <td>0.000000</td>\n",
       "    </tr>\n",
       "    <tr>\n",
       "      <th>25%</th>\n",
       "      <td>1.000000</td>\n",
       "      <td>1.000000</td>\n",
       "      <td>2.000000</td>\n",
       "      <td>0.000000</td>\n",
       "    </tr>\n",
       "    <tr>\n",
       "      <th>50%</th>\n",
       "      <td>1.000000</td>\n",
       "      <td>2.000000</td>\n",
       "      <td>3.000000</td>\n",
       "      <td>0.000000</td>\n",
       "    </tr>\n",
       "    <tr>\n",
       "      <th>75%</th>\n",
       "      <td>2.000000</td>\n",
       "      <td>3.000000</td>\n",
       "      <td>4.000000</td>\n",
       "      <td>0.000000</td>\n",
       "    </tr>\n",
       "    <tr>\n",
       "      <th>max</th>\n",
       "      <td>16.000000</td>\n",
       "      <td>16.000000</td>\n",
       "      <td>16.000000</td>\n",
       "      <td>4.000000</td>\n",
       "    </tr>\n",
       "  </tbody>\n",
       "</table>\n",
       "</div>"
      ],
      "text/plain": [
       "       NumberOfUSB2.0Ports  NumberOfUSB3.0Ports  ProcessorCount    Price_pcs\n",
       "count          1675.000000          1267.000000     5551.000000  5675.000000\n",
       "mean              1.762985             2.476717        3.128625     0.186256\n",
       "std               1.338455             1.663677        1.752330     0.447081\n",
       "min               1.000000             1.000000        1.000000     0.000000\n",
       "25%               1.000000             1.000000        2.000000     0.000000\n",
       "50%               1.000000             2.000000        3.000000     0.000000\n",
       "75%               2.000000             3.000000        4.000000     0.000000\n",
       "max              16.000000            16.000000       16.000000     4.000000"
      ]
     },
     "execution_count": 39,
     "metadata": {},
     "output_type": "execute_result"
    }
   ],
   "source": [
    "amazon_data.describe()"
   ]
  },
  {
   "cell_type": "markdown",
   "metadata": {},
   "source": [
    "# Save ProProcess_Data"
   ]
  },
  {
   "cell_type": "code",
   "execution_count": 40,
   "metadata": {},
   "outputs": [],
   "source": [
    "from sklearn.model_selection import train_test_split"
   ]
  },
  {
   "cell_type": "code",
   "execution_count": 41,
   "metadata": {},
   "outputs": [],
   "source": [
    "train_df, test_df= train_test_split(amazon_data, test_size=0.1, random_state=0)"
   ]
  },
  {
   "cell_type": "code",
   "execution_count": 42,
   "metadata": {},
   "outputs": [],
   "source": [
    "train_df.to_csv('train_val_data.csv', index=False)"
   ]
  },
  {
   "cell_type": "code",
   "execution_count": 43,
   "metadata": {},
   "outputs": [],
   "source": [
    "# test_df = test_df.drop(['Price_pcs'], axis=1)"
   ]
  },
  {
   "cell_type": "code",
   "execution_count": 44,
   "metadata": {},
   "outputs": [],
   "source": [
    "test_df.to_csv('test_data.csv', index=False)"
   ]
  }
 ],
 "metadata": {
  "kernelspec": {
   "display_name": "Python 3",
   "language": "python",
   "name": "python3"
  },
  "language_info": {
   "codemirror_mode": {
    "name": "ipython",
    "version": 3
   },
   "file_extension": ".py",
   "mimetype": "text/x-python",
   "name": "python",
   "nbconvert_exporter": "python",
   "pygments_lexer": "ipython3",
   "version": "3.7.4"
  }
 },
 "nbformat": 4,
 "nbformat_minor": 4
}
