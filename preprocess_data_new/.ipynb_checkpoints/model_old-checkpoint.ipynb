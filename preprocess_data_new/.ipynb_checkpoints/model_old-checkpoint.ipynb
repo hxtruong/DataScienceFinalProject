{
 "cells": [
  {
   "cell_type": "code",
   "execution_count": 1,
   "metadata": {},
   "outputs": [],
   "source": [
    "%matplotlib inline\n",
    "import matplotlib.pyplot as plt\n",
    "import seaborn as sns # seaborn là thư viện được xây trên matplotlib, giúp việc visualization đỡ khổ hơn\n",
    "import pandas as pd\n",
    "import numpy as np\n",
    "\n",
    "from sklearn.model_selection import train_test_split\n",
    "from sklearn.preprocessing import OneHotEncoder, StandardScaler\n",
    "from sklearn.impute import SimpleImputer\n",
    "from sklearn.base import BaseEstimator, TransformerMixin\n",
    "from sklearn.pipeline import Pipeline, make_pipeline\n",
    "from sklearn.compose import ColumnTransformer, make_column_transformer\n",
    "from sklearn.neural_network import MLPClassifier\n",
    "from sklearn.linear_model import LogisticRegression\n",
    "from sklearn import preprocessing\n",
    "\n",
    "import warnings\n",
    "from sklearn.exceptions import DataConversionWarning\n",
    "warnings.filterwarnings(action='ignore', category=DataConversionWarning)\n",
    "\n",
    "from sklearn.linear_model import LinearRegression, Lasso, Ridge, ElasticNet\n",
    "from sklearn.neighbors import KNeighborsRegressor\n",
    "from sklearn.dummy import DummyRegressor\n",
    "from sklearn.ensemble import GradientBoostingRegressor, RandomForestRegressor\n",
    "from sklearn.tree import DecisionTreeRegressor\n",
    "\n",
    "from sklearn import metrics\n",
    "\n",
    "import matplotlib.pyplot as plt"
   ]
  },
  {
   "cell_type": "code",
   "execution_count": 2,
   "metadata": {},
   "outputs": [
    {
     "data": {
      "text/html": [
       "<div>\n",
       "<style scoped>\n",
       "    .dataframe tbody tr th:only-of-type {\n",
       "        vertical-align: middle;\n",
       "    }\n",
       "\n",
       "    .dataframe tbody tr th {\n",
       "        vertical-align: top;\n",
       "    }\n",
       "\n",
       "    .dataframe thead th {\n",
       "        text-align: right;\n",
       "    }\n",
       "</style>\n",
       "<table border=\"1\" class=\"dataframe\">\n",
       "  <thead>\n",
       "    <tr style=\"text-align: right;\">\n",
       "      <th></th>\n",
       "      <th>ChipsetBrand</th>\n",
       "      <th>CardDescription</th>\n",
       "      <th>NumberOfUSB2.0Ports</th>\n",
       "      <th>NumberOfUSB3.0Ports</th>\n",
       "      <th>BrandName</th>\n",
       "      <th>OperatingSystem</th>\n",
       "      <th>ProcessorBrand</th>\n",
       "      <th>ProcessorCount</th>\n",
       "      <th>HardDriveInterface</th>\n",
       "      <th>HardwarePlatform</th>\n",
       "      <th>...</th>\n",
       "      <th>HardDrive_measure_pcs</th>\n",
       "      <th>ItemWeight_pcs</th>\n",
       "      <th>ItemDimensions_L_pcs</th>\n",
       "      <th>ItemDimensions_W_pcs</th>\n",
       "      <th>ItemDimensions_H_pcs</th>\n",
       "      <th>AverageBatteryLife_pcs</th>\n",
       "      <th>Batteries_pcs</th>\n",
       "      <th>GraphicsCardRamSize_pcs</th>\n",
       "      <th>FlashMemorySize_pcs</th>\n",
       "      <th>Processor_ghz_pcs</th>\n",
       "    </tr>\n",
       "  </thead>\n",
       "  <tbody>\n",
       "    <tr>\n",
       "      <th>0</th>\n",
       "      <td>intel</td>\n",
       "      <td>Integrated</td>\n",
       "      <td>2.0</td>\n",
       "      <td>NaN</td>\n",
       "      <td>Dell</td>\n",
       "      <td>Windows 10</td>\n",
       "      <td>Intel</td>\n",
       "      <td>1.0</td>\n",
       "      <td>Serial ATA</td>\n",
       "      <td>PC</td>\n",
       "      <td>...</td>\n",
       "      <td>TB</td>\n",
       "      <td>5.20</td>\n",
       "      <td>14.96</td>\n",
       "      <td>10.25</td>\n",
       "      <td>0.94</td>\n",
       "      <td>5.5</td>\n",
       "      <td>1 Lithium ion batteries required</td>\n",
       "      <td>NaN</td>\n",
       "      <td>NaN</td>\n",
       "      <td>3.1</td>\n",
       "    </tr>\n",
       "    <tr>\n",
       "      <th>1</th>\n",
       "      <td>nvidia</td>\n",
       "      <td>dedicated</td>\n",
       "      <td>2.0</td>\n",
       "      <td>NaN</td>\n",
       "      <td>Lenovo</td>\n",
       "      <td>NaN</td>\n",
       "      <td>NaN</td>\n",
       "      <td>1.0</td>\n",
       "      <td>Serial ATA</td>\n",
       "      <td>NaN</td>\n",
       "      <td>...</td>\n",
       "      <td>NaN</td>\n",
       "      <td>5.51</td>\n",
       "      <td>14.90</td>\n",
       "      <td>9.90</td>\n",
       "      <td>1.20</td>\n",
       "      <td>NaN</td>\n",
       "      <td>NaN</td>\n",
       "      <td>0.0</td>\n",
       "      <td>0.01</td>\n",
       "      <td>NaN</td>\n",
       "    </tr>\n",
       "    <tr>\n",
       "      <th>2</th>\n",
       "      <td>nvidia</td>\n",
       "      <td>dedicated</td>\n",
       "      <td>NaN</td>\n",
       "      <td>NaN</td>\n",
       "      <td>Dell</td>\n",
       "      <td>Windows 10</td>\n",
       "      <td>Intel</td>\n",
       "      <td>4.0</td>\n",
       "      <td>PCIE x 4</td>\n",
       "      <td>PC</td>\n",
       "      <td>...</td>\n",
       "      <td>GB</td>\n",
       "      <td>4.23</td>\n",
       "      <td>14.40</td>\n",
       "      <td>10.00</td>\n",
       "      <td>0.85</td>\n",
       "      <td>NaN</td>\n",
       "      <td>1 Lithium ion batteries required</td>\n",
       "      <td>NaN</td>\n",
       "      <td>512.00</td>\n",
       "      <td>2.4</td>\n",
       "    </tr>\n",
       "    <tr>\n",
       "      <th>3</th>\n",
       "      <td>NaN</td>\n",
       "      <td>integrated</td>\n",
       "      <td>6.0</td>\n",
       "      <td>NaN</td>\n",
       "      <td>Lenovo</td>\n",
       "      <td>Windows 10</td>\n",
       "      <td>Intel</td>\n",
       "      <td>2.0</td>\n",
       "      <td>Serial ATA</td>\n",
       "      <td>PC</td>\n",
       "      <td>...</td>\n",
       "      <td>TB</td>\n",
       "      <td>14.55</td>\n",
       "      <td>15.00</td>\n",
       "      <td>3.90</td>\n",
       "      <td>13.20</td>\n",
       "      <td>NaN</td>\n",
       "      <td>NaN</td>\n",
       "      <td>NaN</td>\n",
       "      <td>NaN</td>\n",
       "      <td>3.3</td>\n",
       "    </tr>\n",
       "    <tr>\n",
       "      <th>4</th>\n",
       "      <td>intel</td>\n",
       "      <td>NaN</td>\n",
       "      <td>NaN</td>\n",
       "      <td>NaN</td>\n",
       "      <td>Dell</td>\n",
       "      <td>NaN</td>\n",
       "      <td>NaN</td>\n",
       "      <td>2.0</td>\n",
       "      <td>NaN</td>\n",
       "      <td>NaN</td>\n",
       "      <td>...</td>\n",
       "      <td>NaN</td>\n",
       "      <td>6.60</td>\n",
       "      <td>21.70</td>\n",
       "      <td>13.80</td>\n",
       "      <td>3.30</td>\n",
       "      <td>NaN</td>\n",
       "      <td>1 Lithium ion batteries required</td>\n",
       "      <td>NaN</td>\n",
       "      <td>512.00</td>\n",
       "      <td>NaN</td>\n",
       "    </tr>\n",
       "  </tbody>\n",
       "</table>\n",
       "<p>5 rows × 27 columns</p>\n",
       "</div>"
      ],
      "text/plain": [
       "  ChipsetBrand CardDescription  NumberOfUSB2.0Ports  NumberOfUSB3.0Ports  \\\n",
       "0        intel      Integrated                  2.0                  NaN   \n",
       "1       nvidia       dedicated                  2.0                  NaN   \n",
       "2       nvidia       dedicated                  NaN                  NaN   \n",
       "3          NaN      integrated                  6.0                  NaN   \n",
       "4        intel             NaN                  NaN                  NaN   \n",
       "\n",
       "  BrandName OperatingSystem ProcessorBrand  ProcessorCount HardDriveInterface  \\\n",
       "0      Dell      Windows 10          Intel             1.0         Serial ATA   \n",
       "1    Lenovo             NaN            NaN             1.0         Serial ATA   \n",
       "2      Dell      Windows 10          Intel             4.0           PCIE x 4   \n",
       "3    Lenovo      Windows 10          Intel             2.0         Serial ATA   \n",
       "4      Dell             NaN            NaN             2.0                NaN   \n",
       "\n",
       "  HardwarePlatform  ...  HardDrive_measure_pcs  ItemWeight_pcs  \\\n",
       "0               PC  ...                     TB            5.20   \n",
       "1              NaN  ...                    NaN            5.51   \n",
       "2               PC  ...                     GB            4.23   \n",
       "3               PC  ...                     TB           14.55   \n",
       "4              NaN  ...                    NaN            6.60   \n",
       "\n",
       "   ItemDimensions_L_pcs  ItemDimensions_W_pcs  ItemDimensions_H_pcs  \\\n",
       "0                 14.96                 10.25                  0.94   \n",
       "1                 14.90                  9.90                  1.20   \n",
       "2                 14.40                 10.00                  0.85   \n",
       "3                 15.00                  3.90                 13.20   \n",
       "4                 21.70                 13.80                  3.30   \n",
       "\n",
       "  AverageBatteryLife_pcs                     Batteries_pcs  \\\n",
       "0                    5.5  1 Lithium ion batteries required   \n",
       "1                    NaN                               NaN   \n",
       "2                    NaN  1 Lithium ion batteries required   \n",
       "3                    NaN                               NaN   \n",
       "4                    NaN  1 Lithium ion batteries required   \n",
       "\n",
       "  GraphicsCardRamSize_pcs  FlashMemorySize_pcs  Processor_ghz_pcs  \n",
       "0                     NaN                  NaN                3.1  \n",
       "1                     0.0                 0.01                NaN  \n",
       "2                     NaN               512.00                2.4  \n",
       "3                     NaN                  NaN                3.3  \n",
       "4                     NaN               512.00                NaN  \n",
       "\n",
       "[5 rows x 27 columns]"
      ]
     },
     "execution_count": 2,
     "metadata": {},
     "output_type": "execute_result"
    }
   ],
   "source": [
    "data_df = pd.read_csv('train_val_data_old.csv', index_col=False)\n",
    "data_df.head()"
   ]
  },
  {
   "cell_type": "code",
   "execution_count": 3,
   "metadata": {},
   "outputs": [
    {
     "name": "stdout",
     "output_type": "stream",
     "text": [
      "<class 'pandas.core.frame.DataFrame'>\n",
      "RangeIndex: 5107 entries, 0 to 5106\n",
      "Data columns (total 27 columns):\n",
      "ChipsetBrand                      3493 non-null object\n",
      "CardDescription                   3849 non-null object\n",
      "NumberOfUSB2.0Ports               1518 non-null float64\n",
      "NumberOfUSB3.0Ports               1170 non-null float64\n",
      "BrandName                         5087 non-null object\n",
      "OperatingSystem                   4587 non-null object\n",
      "ProcessorBrand                    4450 non-null object\n",
      "ProcessorCount                    5000 non-null float64\n",
      "HardDriveInterface                3827 non-null object\n",
      "HardwarePlatform                  3907 non-null object\n",
      "Price_pcs                         5107 non-null float64\n",
      "ScreenSize_pcs                    4725 non-null float64\n",
      "MaxScreenResolution_width_pcs     3718 non-null float64\n",
      "MaxScreenResolution_height_pcs    3718 non-null float64\n",
      "RAM_capacity_pcs                  4974 non-null float64\n",
      "RAM_type_pcs                      3698 non-null object\n",
      "HardDrive_capacity_pcs            4271 non-null float64\n",
      "HardDrive_measure_pcs             4271 non-null object\n",
      "ItemWeight_pcs                    5107 non-null float64\n",
      "ItemDimensions_L_pcs              5105 non-null float64\n",
      "ItemDimensions_W_pcs              5105 non-null float64\n",
      "ItemDimensions_H_pcs              5105 non-null float64\n",
      "AverageBatteryLife_pcs            1647 non-null float64\n",
      "Batteries_pcs                     3860 non-null object\n",
      "GraphicsCardRamSize_pcs           822 non-null float64\n",
      "FlashMemorySize_pcs               3584 non-null float64\n",
      "Processor_ghz_pcs                 4339 non-null float64\n",
      "dtypes: float64(17), object(10)\n",
      "memory usage: 1.1+ MB\n"
     ]
    }
   ],
   "source": [
    "data_df.info()"
   ]
  },
  {
   "cell_type": "markdown",
   "metadata": {},
   "source": [
    "# Split Data"
   ]
  },
  {
   "cell_type": "code",
   "execution_count": 4,
   "metadata": {},
   "outputs": [],
   "source": [
    "y_sr = data_df['Price_pcs']\n",
    "X_df = data_df.drop('Price_pcs', axis=1)"
   ]
  },
  {
   "cell_type": "code",
   "execution_count": 5,
   "metadata": {},
   "outputs": [],
   "source": [
    "train_X_df, val_X_df, train_y_sr, val_y_sr = train_test_split(X_df, y_sr, test_size=0.15, random_state=0)"
   ]
  },
  {
   "cell_type": "code",
   "execution_count": 6,
   "metadata": {},
   "outputs": [
    {
     "name": "stdout",
     "output_type": "stream",
     "text": [
      "<class 'pandas.core.frame.DataFrame'>\n",
      "Int64Index: 4340 entries, 496 to 2732\n",
      "Data columns (total 26 columns):\n",
      "ChipsetBrand                      2967 non-null object\n",
      "CardDescription                   3266 non-null object\n",
      "NumberOfUSB2.0Ports               1294 non-null float64\n",
      "NumberOfUSB3.0Ports               986 non-null float64\n",
      "BrandName                         4324 non-null object\n",
      "OperatingSystem                   3903 non-null object\n",
      "ProcessorBrand                    3784 non-null object\n",
      "ProcessorCount                    4249 non-null float64\n",
      "HardDriveInterface                3257 non-null object\n",
      "HardwarePlatform                  3339 non-null object\n",
      "ScreenSize_pcs                    4011 non-null float64\n",
      "MaxScreenResolution_width_pcs     3157 non-null float64\n",
      "MaxScreenResolution_height_pcs    3157 non-null float64\n",
      "RAM_capacity_pcs                  4233 non-null float64\n",
      "RAM_type_pcs                      3156 non-null object\n",
      "HardDrive_capacity_pcs            3637 non-null float64\n",
      "HardDrive_measure_pcs             3637 non-null object\n",
      "ItemWeight_pcs                    4340 non-null float64\n",
      "ItemDimensions_L_pcs              4338 non-null float64\n",
      "ItemDimensions_W_pcs              4338 non-null float64\n",
      "ItemDimensions_H_pcs              4338 non-null float64\n",
      "AverageBatteryLife_pcs            1414 non-null float64\n",
      "Batteries_pcs                     3283 non-null object\n",
      "GraphicsCardRamSize_pcs           694 non-null float64\n",
      "FlashMemorySize_pcs               3042 non-null float64\n",
      "Processor_ghz_pcs                 3693 non-null float64\n",
      "dtypes: float64(16), object(10)\n",
      "memory usage: 915.5+ KB\n"
     ]
    }
   ],
   "source": [
    "train_X_df.info()"
   ]
  },
  {
   "cell_type": "markdown",
   "metadata": {},
   "source": [
    "# Transform data"
   ]
  },
  {
   "cell_type": "code",
   "execution_count": 7,
   "metadata": {},
   "outputs": [],
   "source": [
    "class ColAdderDropper(BaseEstimator, TransformerMixin):\n",
    "    def fit(self, X_df, y=None):\n",
    "        return self\n",
    "    def transform(self, X_df, y=None):\n",
    "        transformed_X_df = X_df.copy()\n",
    "        transformed_X_df['GraphicsCardRamSize_pcs'] = transformed_X_df['GraphicsCardRamSize_pcs'].fillna(value=0.0, inplace=False)\n",
    "        transformed_X_df = transformed_X_df.drop(['NumberOfUSB2.0Ports', 'NumberOfUSB3.0Ports', 'Batteries_pcs'], axis=1)\n",
    "        return transformed_X_df"
   ]
  },
  {
   "cell_type": "code",
   "execution_count": 8,
   "metadata": {},
   "outputs": [],
   "source": [
    "class FillNA(BaseEstimator, TransformerMixin):\n",
    "    def __init__(self):\n",
    "        self.fillna_values = {}\n",
    "    def fit(self, X_df, y=None):\n",
    "        self.fillna_values['ProcessorCount'] = X_df['ProcessorCount'].mean()\n",
    "        self.fillna_values['ScreenSize_pcs'] = X_df['ScreenSize_pcs'].mean()\n",
    "        self.fillna_values['MaxScreenResolution_width_pcs'] = X_df['MaxScreenResolution_width_pcs'].mean()\n",
    "        self.fillna_values['MaxScreenResolution_height_pcs'] = X_df['MaxScreenResolution_height_pcs'].mean()\n",
    "        self.fillna_values['HardDrive_capacity_pcs'] = X_df['HardDrive_capacity_pcs'].mean()\n",
    "        self.fillna_values['ItemDimensions_L_pcs'] = X_df['ItemDimensions_L_pcs'].mean()\n",
    "        self.fillna_values['ItemDimensions_W_pcs'] = X_df['ItemDimensions_W_pcs'].mean()\n",
    "        self.fillna_values['ItemDimensions_H_pcs'] = X_df['ItemDimensions_H_pcs'].mean()\n",
    "        self.fillna_values['AverageBatteryLife_pcs'] = X_df['AverageBatteryLife_pcs'].mean()\n",
    "        self.fillna_values['GraphicsCardRamSize_pcs'] = X_df['GraphicsCardRamSize_pcs'].mean()\n",
    "        self.fillna_values['FlashMemorySize_pcs'] = X_df['FlashMemorySize_pcs'].mean()#0.0\n",
    "        self.fillna_values['Processor_ghz_pcs'] = X_df['Processor_ghz_pcs'].mean()\n",
    "        self.fillna_values['RAM_capacity_pcs'] = X_df['RAM_capacity_pcs'].mean()\n",
    "        self.fillna_values['ItemWeight_pcs'] = X_df['ItemWeight_pcs'].mean()\n",
    "        \n",
    "        self.fillna_values['ChipsetBrand'] = X_df['ChipsetBrand'].mode()[0]\n",
    "        self.fillna_values['CardDescription'] = X_df['CardDescription'].mode()[0]\n",
    "        self.fillna_values['BrandName'] = X_df['BrandName'].mode()[0]\n",
    "        self.fillna_values['OperatingSystem'] = X_df['OperatingSystem'].mode()[0]\n",
    "        self.fillna_values['ProcessorBrand'] = X_df['ProcessorBrand'].mode()[0]\n",
    "        self.fillna_values['HardDriveInterface'] = X_df['HardDriveInterface'].mode()[0]\n",
    "        self.fillna_values['HardwarePlatform'] = X_df['HardwarePlatform'].mode()[0]#'Others'\n",
    "        self.fillna_values['RAM_type_pcs'] = X_df['RAM_type_pcs'].mode()[0]\n",
    "        self.fillna_values['HardDrive_measure_pcs'] = X_df['HardDrive_measure_pcs'].mode()[0]\n",
    "#         self.fillna_values['Batteries_pcs'] = X_df['Batteries_pcs'].mode()[0]\n",
    "            \n",
    "        return self\n",
    "    \n",
    "    def transform(self, X_df, y=None):\n",
    "        transformed_X_df = X_df.copy()\n",
    "        \n",
    "        transformed_X_df['ProcessorCount'].fillna(value=self.fillna_values['ProcessorCount'], inplace=True)\n",
    "        transformed_X_df['ScreenSize_pcs'].fillna(value=self.fillna_values['ScreenSize_pcs'], inplace=True)\n",
    "        transformed_X_df['MaxScreenResolution_width_pcs'].fillna(value=self.fillna_values['MaxScreenResolution_width_pcs'], inplace=True)\n",
    "        transformed_X_df['MaxScreenResolution_height_pcs'].fillna(value=self.fillna_values['MaxScreenResolution_height_pcs'], inplace=True)\n",
    "        transformed_X_df['HardDrive_capacity_pcs'].fillna(value=self.fillna_values['HardDrive_capacity_pcs'], inplace=True)\n",
    "        transformed_X_df['ItemDimensions_L_pcs'].fillna(value=self.fillna_values['ItemDimensions_L_pcs'], inplace=True)\n",
    "        transformed_X_df['ItemDimensions_W_pcs'].fillna(value=self.fillna_values['ItemDimensions_W_pcs'], inplace=True)\n",
    "        transformed_X_df['ItemDimensions_H_pcs'].fillna(value=self.fillna_values['ItemDimensions_H_pcs'], inplace=True)\n",
    "        transformed_X_df['AverageBatteryLife_pcs'].fillna(value=self.fillna_values['AverageBatteryLife_pcs'], inplace=True)\n",
    "        transformed_X_df['GraphicsCardRamSize_pcs'].fillna(value=self.fillna_values['GraphicsCardRamSize_pcs'], inplace=True)\n",
    "        transformed_X_df['FlashMemorySize_pcs'].fillna(value=self.fillna_values['FlashMemorySize_pcs'], inplace=True)\n",
    "        transformed_X_df['Processor_ghz_pcs'].fillna(value=self.fillna_values['Processor_ghz_pcs'], inplace=True)\n",
    "        transformed_X_df['RAM_capacity_pcs'].fillna(value=self.fillna_values['RAM_capacity_pcs'], inplace=True)\n",
    "        transformed_X_df['ItemWeight_pcs'].fillna(value=self.fillna_values['ItemWeight_pcs'], inplace=True)\n",
    "        \n",
    "        transformed_X_df['ChipsetBrand'].fillna(value=self.fillna_values['ChipsetBrand'], inplace=True)\n",
    "        transformed_X_df['CardDescription'].fillna(value=self.fillna_values['CardDescription'], inplace=True)\n",
    "        transformed_X_df['BrandName'].fillna(value=self.fillna_values['BrandName'], inplace=True)\n",
    "        transformed_X_df['OperatingSystem'].fillna(value=self.fillna_values['OperatingSystem'], inplace=True)\n",
    "        transformed_X_df['ProcessorBrand'].fillna(value=self.fillna_values['ProcessorBrand'], inplace=True)\n",
    "        transformed_X_df['HardDriveInterface'].fillna(value=self.fillna_values['HardDriveInterface'], inplace=True)\n",
    "        transformed_X_df['HardwarePlatform'].fillna(value=self.fillna_values['HardwarePlatform'], inplace=True)\n",
    "        transformed_X_df['RAM_type_pcs'].fillna(value=self.fillna_values['RAM_type_pcs'], inplace=True)\n",
    "        transformed_X_df['HardDrive_measure_pcs'].fillna(value=self.fillna_values['HardDrive_measure_pcs'], inplace=True)\n",
    "#         transformed_X_df['Batteries_pcs'].fillna(value=self.fillna_values['Batteries_pcs'], inplace=True)\n",
    "        \n",
    "        return transformed_X_df"
   ]
  },
  {
   "cell_type": "code",
   "execution_count": 9,
   "metadata": {},
   "outputs": [],
   "source": [
    "# col_adderdropper = ColAdderDropper()\n",
    "# train_X_df = col_adderdropper.fit_transform(train_X_df)\n",
    "# val_X_df = col_adderdropper.fit_transform(val_X_df)"
   ]
  },
  {
   "cell_type": "code",
   "execution_count": 10,
   "metadata": {},
   "outputs": [],
   "source": [
    "# fillNa = FillNA()\n",
    "# fillNa.fit(train_X_df)\n",
    "# train_X_df = fillNa.transform(train_X_df)\n",
    "# train_X_df.info()"
   ]
  },
  {
   "cell_type": "code",
   "execution_count": 11,
   "metadata": {},
   "outputs": [],
   "source": [
    "# val_X_df = fillNa.transform(val_X_df)\n",
    "# val_X_df.info()"
   ]
  },
  {
   "cell_type": "markdown",
   "metadata": {},
   "source": [
    "# Reprocess Pipeline"
   ]
  },
  {
   "cell_type": "code",
   "execution_count": 12,
   "metadata": {},
   "outputs": [],
   "source": [
    "numeric_cols = ['ProcessorCount', 'ScreenSize_pcs', 'MaxScreenResolution_width_pcs', 'MaxScreenResolution_height_pcs', 'RAM_capacity_pcs', \n",
    "                'HardDrive_capacity_pcs', 'ItemWeight_pcs', 'ItemDimensions_L_pcs', 'ItemDimensions_W_pcs', 'ItemDimensions_H_pcs', \n",
    "               'AverageBatteryLife_pcs', 'GraphicsCardRamSize_pcs', 'FlashMemorySize_pcs', 'Processor_ghz_pcs']\n",
    "category_cols = ['ChipsetBrand', 'CardDescription', 'BrandName', 'OperatingSystem', 'ProcessorBrand', 'HardDriveInterface', 'HardwarePlatform'\n",
    "               , 'RAM_type_pcs', 'HardDrive_measure_pcs']\n",
    "\n",
    "numeric_imputer = Pipeline([('imputer', SimpleImputer(strategy='mean'))])\n",
    "category_imputer = Pipeline([('one_hot_vector', OneHotEncoder(handle_unknown='ignore'))])\n",
    "\n",
    "transform_cols = ColumnTransformer([('category_imputer', category_imputer, category_cols)])\n",
    "reprocess_pipeline = Pipeline([('coladderdropper', ColAdderDropper()), ('fill_na', FillNA()), ('transform_cols', transform_cols), ('std_scaler', StandardScaler(with_mean=False))])"
   ]
  },
  {
   "cell_type": "markdown",
   "metadata": {},
   "source": [
    "# Randomforest"
   ]
  },
  {
   "cell_type": "code",
   "execution_count": 13,
   "metadata": {},
   "outputs": [
    {
     "name": "stdout",
     "output_type": "stream",
     "text": [
      "n_estimator: 50 - Train acc: 0.766478 - Val acc: 0.518245\n",
      "n_estimator: 100 - Train acc: 0.767913 - Val acc: 0.519619\n",
      "n_estimator: 200 - Train acc: 0.768643 - Val acc: 0.523389\n",
      "n_estimator: 300 - Train acc: 0.768474 - Val acc: 0.524854\n"
     ]
    }
   ],
   "source": [
    "random_forest = RandomForestRegressor(n_estimators=200, verbose=0, n_jobs=4, random_state=0, oob_score=True)\n",
    "full_pipeline = Pipeline([('reprocess_data', reprocess_pipeline), ('random_forest', random_forest)])\n",
    "\n",
    "n_estimators = [50, 100, 200, 300]\n",
    "for n_es_ in n_estimators:\n",
    "    full_pipeline.set_params(random_forest__n_estimators=n_es_)\n",
    "    full_pipeline.fit(train_X_df, train_y_sr)\n",
    "    print('n_estimator: %d - Train acc: %f - Val acc: %f' %(n_es_, full_pipeline.score(train_X_df, train_y_sr), full_pipeline.score(val_X_df, val_y_sr)))"
   ]
  },
  {
   "cell_type": "markdown",
   "metadata": {},
   "source": [
    "# KNN"
   ]
  },
  {
   "cell_type": "code",
   "execution_count": 14,
   "metadata": {},
   "outputs": [
    {
     "name": "stdout",
     "output_type": "stream",
     "text": [
      "n_neighbors: 3 - Train acc: 0.611938 - Val acc: 0.415590\n",
      "n_neighbors: 5 - Train acc: 0.581098 - Val acc: 0.434289\n",
      "n_neighbors: 10 - Train acc: 0.528211 - Val acc: 0.446391\n",
      "n_neighbors: 15 - Train acc: 0.494543 - Val acc: 0.437543\n",
      "n_neighbors: 20 - Train acc: 0.473277 - Val acc: 0.424778\n",
      "n_neighbors: 30 - Train acc: 0.435985 - Val acc: 0.406617\n",
      "n_neighbors: 40 - Train acc: 0.417681 - Val acc: 0.396772\n",
      "n_neighbors: 50 - Train acc: 0.405348 - Val acc: 0.386473\n"
     ]
    }
   ],
   "source": [
    "k_neighbors = KNeighborsRegressor(n_neighbors=5, n_jobs=4)\n",
    "full_pipeline = Pipeline([('reprocess_data', reprocess_pipeline), ('k_neighbors', k_neighbors)])\n",
    "\n",
    "n_neighbors = [3, 5, 10, 15, 20, 30, 40, 50]\n",
    "for n_nb_ in n_neighbors:\n",
    "    full_pipeline.set_params(k_neighbors__n_neighbors=n_nb_)\n",
    "    full_pipeline.fit(train_X_df, train_y_sr)\n",
    "    print('n_neighbors: %d - Train acc: %f - Val acc: %f' %(n_nb_, full_pipeline.score(train_X_df, train_y_sr), full_pipeline.score(val_X_df, val_y_sr)))"
   ]
  },
  {
   "cell_type": "markdown",
   "metadata": {},
   "source": [
    "# Decision Tree"
   ]
  },
  {
   "cell_type": "code",
   "execution_count": 15,
   "metadata": {},
   "outputs": [],
   "source": [
    "# decision_tree = DecisionTreeRegressor(random_state=0)\n",
    "# full_pipeline = Pipeline([('reprocess_data', reprocess_pipeline), ('decision_tree', decision_tree)])\n",
    "\n",
    "# full_pipeline.fit(train_X_df, train_y_sr)\n",
    "# print('n_neighbors: %d - Train acc: %f - Val acc: %f' %(n_nb_, full_pipeline.score(train_X_df, train_y_sr), full_pipeline.score(val_X_df, val_y_sr)))"
   ]
  },
  {
   "cell_type": "markdown",
   "metadata": {},
   "source": [
    "# Models"
   ]
  },
  {
   "cell_type": "code",
   "execution_count": 16,
   "metadata": {},
   "outputs": [],
   "source": [
    "models = [KNeighborsRegressor(),\n",
    "          LinearRegression(),\n",
    "          Lasso(),\n",
    "          Ridge(),\n",
    "          ElasticNet(),\n",
    "          GradientBoostingRegressor(),\n",
    "          RandomForestRegressor()]\n",
    "\n",
    "models_names = ['K-nn', 'Linear','Lasso','Ridge','Elastic','Boost','Forest']"
   ]
  },
  {
   "cell_type": "code",
   "execution_count": 17,
   "metadata": {},
   "outputs": [
    {
     "name": "stdout",
     "output_type": "stream",
     "text": [
      "[0.43428889155987505, 0.4410496206744783, 0.4503906500085373, 0.44108547552211086, 0.43249029592787147, 0.458130396999324, 0.527888952640954]\n",
      "[174242.971086618, 172160.619317199, 169283.51706502365, 172149.57577379647, 174796.9510987267, 166899.62095442406, 145413.49877587176]\n",
      "[179.41400000000002, 203.72515594318588, 194.19567744765612, 204.11867322354783, 194.0997411849898, 193.12632568031574, 156.7574726444683]\n"
     ]
    }
   ],
   "source": [
    "scores = []\n",
    "mse = []\n",
    "mae = []\n",
    "\n",
    "for model in models:\n",
    "    full_pipeline = Pipeline([('reprocess_data', reprocess_pipeline), ('model', model)])\n",
    "    fits = full_pipeline.fit(train_X_df, train_y_sr)\n",
    "    scores.append(metrics.r2_score(val_y_sr, fits.predict(val_X_df)))\n",
    "    mse.append(metrics.mean_squared_error(val_y_sr, fits.predict(val_X_df)))\n",
    "    mae.append(metrics.median_absolute_error(val_y_sr, fits.predict(val_X_df)))\n",
    "    \n",
    "print(scores)\n",
    "print(mse)\n",
    "print(mae)"
   ]
  },
  {
   "cell_type": "markdown",
   "metadata": {},
   "source": [
    "# Visualize result "
   ]
  },
  {
   "cell_type": "code",
   "execution_count": 18,
   "metadata": {},
   "outputs": [
    {
     "data": {
      "text/plain": [
       "Text(0, 0.5, 'Median absolute error')"
      ]
     },
     "execution_count": 18,
     "metadata": {},
     "output_type": "execute_result"
    },
    {
     "data": {
      "image/png": "[encoded data removed]",
      "text/plain": [
       "<Figure size 1296x432 with 3 Axes>"
      ]
     },
     "metadata": {
      "needs_background": "light"
     },
     "output_type": "display_data"
    }
   ],
   "source": [
    "f, (ax1, ax2, ax3) = plt.subplots(ncols=3, sharex=True, sharey=False, figsize=(18,6))\n",
    "ax1.bar(models_names, scores)\n",
    "ax1.set_ylabel('$R^2$')\n",
    "ax2.bar(models_names, mse)\n",
    "ax2.set_ylabel('Mean squared error')\n",
    "ax3.bar(models_names, mae)\n",
    "ax3.set_ylabel('Median absolute error')"
   ]
  },
  {
   "cell_type": "markdown",
   "metadata": {},
   "source": [
    "# Test"
   ]
  },
  {
   "cell_type": "code",
   "execution_count": 19,
   "metadata": {},
   "outputs": [],
   "source": [
    "test_data_df = pd.read_csv('test_data_old.csv', index_col=False)"
   ]
  },
  {
   "cell_type": "code",
   "execution_count": 20,
   "metadata": {},
   "outputs": [],
   "source": [
    "test_y_sr = test_data_df['Price_pcs']\n",
    "test_X_df = test_data_df.drop('Price_pcs', axis=1)"
   ]
  },
  {
   "cell_type": "code",
   "execution_count": 21,
   "metadata": {},
   "outputs": [],
   "source": [
    "test_model = KNeighborsRegressor(n_jobs=4, n_neighbors=10)\n",
    "full_pipeline = Pipeline([('reprocess_data', reprocess_pipeline), ('test_model', test_model)])\n",
    "\n",
    "fits = full_pipeline.fit(train_X_df, train_y_sr)\n",
    "fits.score(test_X_df, test_y_sr)"
   ]
  },
  {
   "cell_type": "code",
   "execution_count": 22,
   "metadata": {},
   "outputs": [
    {
     "data": {
      "text/html": [
       "<div>\n",
       "<style scoped>\n",
       "    .dataframe tbody tr th:only-of-type {\n",
       "        vertical-align: middle;\n",
       "    }\n",
       "\n",
       "    .dataframe tbody tr th {\n",
       "        vertical-align: top;\n",
       "    }\n",
       "\n",
       "    .dataframe thead th {\n",
       "        text-align: right;\n",
       "    }\n",
       "</style>\n",
       "<table border=\"1\" class=\"dataframe\">\n",
       "  <thead>\n",
       "    <tr style=\"text-align: right;\">\n",
       "      <th></th>\n",
       "      <th>predicted</th>\n",
       "      <th>true</th>\n",
       "      <th>Difference</th>\n",
       "    </tr>\n",
       "  </thead>\n",
       "  <tbody>\n",
       "    <tr>\n",
       "      <th>215</th>\n",
       "      <td>451.82</td>\n",
       "      <td>94.95</td>\n",
       "      <td>356.87</td>\n",
       "    </tr>\n",
       "    <tr>\n",
       "      <th>329</th>\n",
       "      <td>920.18</td>\n",
       "      <td>449.99</td>\n",
       "      <td>470.19</td>\n",
       "    </tr>\n",
       "    <tr>\n",
       "      <th>260</th>\n",
       "      <td>172.22</td>\n",
       "      <td>61.06</td>\n",
       "      <td>111.16</td>\n",
       "    </tr>\n",
       "    <tr>\n",
       "      <th>308</th>\n",
       "      <td>1416.73</td>\n",
       "      <td>1499.99</td>\n",
       "      <td>-83.26</td>\n",
       "    </tr>\n",
       "    <tr>\n",
       "      <th>135</th>\n",
       "      <td>504.08</td>\n",
       "      <td>649.99</td>\n",
       "      <td>-145.92</td>\n",
       "    </tr>\n",
       "    <tr>\n",
       "      <th>272</th>\n",
       "      <td>515.60</td>\n",
       "      <td>900.00</td>\n",
       "      <td>-384.40</td>\n",
       "    </tr>\n",
       "    <tr>\n",
       "      <th>362</th>\n",
       "      <td>221.31</td>\n",
       "      <td>111.99</td>\n",
       "      <td>109.32</td>\n",
       "    </tr>\n",
       "    <tr>\n",
       "      <th>338</th>\n",
       "      <td>516.19</td>\n",
       "      <td>519.00</td>\n",
       "      <td>-2.81</td>\n",
       "    </tr>\n",
       "    <tr>\n",
       "      <th>429</th>\n",
       "      <td>385.42</td>\n",
       "      <td>64.00</td>\n",
       "      <td>321.42</td>\n",
       "    </tr>\n",
       "    <tr>\n",
       "      <th>94</th>\n",
       "      <td>812.26</td>\n",
       "      <td>1299.99</td>\n",
       "      <td>-487.73</td>\n",
       "    </tr>\n",
       "  </tbody>\n",
       "</table>\n",
       "</div>"
      ],
      "text/plain": [
       "     predicted     true  Difference\n",
       "215     451.82    94.95      356.87\n",
       "329     920.18   449.99      470.19\n",
       "260     172.22    61.06      111.16\n",
       "308    1416.73  1499.99      -83.26\n",
       "135     504.08   649.99     -145.92\n",
       "272     515.60   900.00     -384.40\n",
       "362     221.31   111.99      109.32\n",
       "338     516.19   519.00       -2.81\n",
       "429     385.42    64.00      321.42\n",
       "94      812.26  1299.99     -487.73"
      ]
     },
     "execution_count": 22,
     "metadata": {},
     "output_type": "execute_result"
    }
   ],
   "source": [
    "predicted = pd.DataFrame.from_dict({'predicted':fits.predict(test_X_df), 'true':test_y_sr})\n",
    "predicted['Difference'] = predicted.predicted - predicted.true\n",
    "predicted.sample(n=10).round(2)"
   ]
  },
  {
   "cell_type": "code",
   "execution_count": null,
   "metadata": {},
   "outputs": [],
   "source": []
  },
  {
   "cell_type": "code",
   "execution_count": 24,
   "metadata": {},
   "outputs": [
    {
     "data": {
      "text/html": [
       "<div>\n",
       "<style scoped>\n",
       "    .dataframe tbody tr th:only-of-type {\n",
       "        vertical-align: middle;\n",
       "    }\n",
       "\n",
       "    .dataframe tbody tr th {\n",
       "        vertical-align: top;\n",
       "    }\n",
       "\n",
       "    .dataframe thead th {\n",
       "        text-align: right;\n",
       "    }\n",
       "</style>\n",
       "<table border=\"1\" class=\"dataframe\">\n",
       "  <thead>\n",
       "    <tr style=\"text-align: right;\">\n",
       "      <th></th>\n",
       "      <th>predicted</th>\n",
       "      <th>true</th>\n",
       "      <th>Difference</th>\n",
       "    </tr>\n",
       "  </thead>\n",
       "  <tbody>\n",
       "    <tr>\n",
       "      <th>316</th>\n",
       "      <td>1604.95</td>\n",
       "      <td>1684.95</td>\n",
       "      <td>-80.00</td>\n",
       "    </tr>\n",
       "    <tr>\n",
       "      <th>45</th>\n",
       "      <td>629.97</td>\n",
       "      <td>460.39</td>\n",
       "      <td>169.58</td>\n",
       "    </tr>\n",
       "    <tr>\n",
       "      <th>326</th>\n",
       "      <td>781.65</td>\n",
       "      <td>828.99</td>\n",
       "      <td>-47.34</td>\n",
       "    </tr>\n",
       "    <tr>\n",
       "      <th>475</th>\n",
       "      <td>546.70</td>\n",
       "      <td>399.90</td>\n",
       "      <td>146.80</td>\n",
       "    </tr>\n",
       "    <tr>\n",
       "      <th>453</th>\n",
       "      <td>803.80</td>\n",
       "      <td>1199.99</td>\n",
       "      <td>-396.19</td>\n",
       "    </tr>\n",
       "    <tr>\n",
       "      <th>439</th>\n",
       "      <td>608.96</td>\n",
       "      <td>456.99</td>\n",
       "      <td>151.97</td>\n",
       "    </tr>\n",
       "    <tr>\n",
       "      <th>471</th>\n",
       "      <td>900.79</td>\n",
       "      <td>185.00</td>\n",
       "      <td>715.79</td>\n",
       "    </tr>\n",
       "    <tr>\n",
       "      <th>451</th>\n",
       "      <td>114.75</td>\n",
       "      <td>89.99</td>\n",
       "      <td>24.76</td>\n",
       "    </tr>\n",
       "    <tr>\n",
       "      <th>555</th>\n",
       "      <td>649.62</td>\n",
       "      <td>999.99</td>\n",
       "      <td>-350.37</td>\n",
       "    </tr>\n",
       "    <tr>\n",
       "      <th>350</th>\n",
       "      <td>482.12</td>\n",
       "      <td>296.10</td>\n",
       "      <td>186.02</td>\n",
       "    </tr>\n",
       "  </tbody>\n",
       "</table>\n",
       "</div>"
      ],
      "text/plain": [
       "     predicted     true  Difference\n",
       "316    1604.95  1684.95      -80.00\n",
       "45      629.97   460.39      169.58\n",
       "326     781.65   828.99      -47.34\n",
       "475     546.70   399.90      146.80\n",
       "453     803.80  1199.99     -396.19\n",
       "439     608.96   456.99      151.97\n",
       "471     900.79   185.00      715.79\n",
       "451     114.75    89.99       24.76\n",
       "555     649.62   999.99     -350.37\n",
       "350     482.12   296.10      186.02"
      ]
     },
     "execution_count": 24,
     "metadata": {},
     "output_type": "execute_result"
    }
   ],
   "source": [
    "random_forest = KNeighborsRegressor()\n",
    "full_pipeline = Pipeline([('reprocess_data', reprocess_pipeline), ('random_forest', random_forest)])\n",
    "\n",
    "fits = full_pipeline.fit(train_X_df, train_y_sr)\n",
    "fits.score(test_X_df, test_y_sr)\n",
    "\n",
    "predicted = pd.DataFrame.from_dict({'predicted':fits.predict(test_X_df), 'true':test_y_sr})\n",
    "predicted['Difference'] = predicted.predicted - predicted.true\n",
    "predicted.sample(n=10).round(2)"
   ]
  }
 ],
 "metadata": {
  "kernelspec": {
   "display_name": "Python 3",
   "language": "python",
   "name": "python3"
  },
  "language_info": {
   "codemirror_mode": {
    "name": "ipython",
    "version": 3
   },
   "file_extension": ".py",
   "mimetype": "text/x-python",
   "name": "python",
   "nbconvert_exporter": "python",
   "pygments_lexer": "ipython3",
   "version": "3.7.4"
  }
 },
 "nbformat": 4,
 "nbformat_minor": 4
}
