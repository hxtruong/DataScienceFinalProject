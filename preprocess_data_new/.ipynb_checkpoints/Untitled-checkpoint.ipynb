{
 "cells": [
  {
   "cell_type": "code",
   "execution_count": 1,
   "metadata": {},
   "outputs": [],
   "source": [
    "%matplotlib inline\n",
    "import pandas as pd\n",
    "import numpy as np\n",
    "import matplotlib.pyplot as plt"
   ]
  },
  {
   "cell_type": "code",
   "execution_count": 36,
   "metadata": {},
   "outputs": [
    {
     "name": "stdout",
     "output_type": "stream",
     "text": [
      "<class 'pandas.core.frame.DataFrame'>\n",
      "RangeIndex: 5675 entries, 0 to 5674\n",
      "Data columns (total 27 columns):\n",
      "ChipsetBrand                      3871 non-null object\n",
      "CardDescription                   4264 non-null object\n",
      "NumberOfUSB2.0Ports               1675 non-null float64\n",
      "NumberOfUSB3.0Ports               1267 non-null float64\n",
      "BrandName                         5653 non-null object\n",
      "OperatingSystem                   5103 non-null object\n",
      "ProcessorBrand                    4945 non-null object\n",
      "ProcessorCount                    5551 non-null float64\n",
      "HardDriveInterface                4256 non-null object\n",
      "HardwarePlatform                  4360 non-null object\n",
      "Price_pcs                         5675 non-null float64\n",
      "ScreenSize_pcs                    5256 non-null float64\n",
      "MaxScreenResolution_width_pcs     4117 non-null float64\n",
      "MaxScreenResolution_height_pcs    4117 non-null float64\n",
      "RAM_capacity_pcs                  5527 non-null float64\n",
      "RAM_type_pcs                      4134 non-null object\n",
      "HardDrive_capacity_pcs            4757 non-null float64\n",
      "HardDrive_measure_pcs             4757 non-null object\n",
      "ItemWeight_pcs                    5674 non-null float64\n",
      "ItemDimensions_L_pcs              5672 non-null float64\n",
      "ItemDimensions_W_pcs              5672 non-null float64\n",
      "ItemDimensions_H_pcs              5672 non-null float64\n",
      "AverageBatteryLife_pcs            1833 non-null float64\n",
      "Batteries_pcs                     4290 non-null object\n",
      "GraphicsCardRamSize_pcs           899 non-null float64\n",
      "FlashMemorySize_pcs               3954 non-null float64\n",
      "Processor_ghz_pcs                 4821 non-null float64\n",
      "dtypes: float64(17), object(10)\n",
      "memory usage: 1.2+ MB\n"
     ]
    }
   ],
   "source": [
    "amazon_data = pd.read_csv('preprocess_data.csv', index_col=False)\n",
    "amazon_data.info()"
   ]
  },
  {
   "cell_type": "code",
   "execution_count": 31,
   "metadata": {},
   "outputs": [
    {
     "data": {
      "text/plain": [
       "0       NaN\n",
       "1       NaN\n",
       "2       NaN\n",
       "3       6.0\n",
       "4       NaN\n",
       "       ... \n",
       "5670    NaN\n",
       "5671    NaN\n",
       "5672    NaN\n",
       "5673    NaN\n",
       "5674    NaN\n",
       "Name: GraphicsCardRamSize_pcs, Length: 5675, dtype: float64"
      ]
     },
     "execution_count": 31,
     "metadata": {},
     "output_type": "execute_result"
    }
   ],
   "source": [
    "amazon_data['GraphicsCardRamSize_pcs']"
   ]
  },
  {
   "cell_type": "code",
   "execution_count": 39,
   "metadata": {},
   "outputs": [
    {
     "data": {
      "text/plain": [
       "0       0.0\n",
       "1       0.0\n",
       "2       0.0\n",
       "3       6.0\n",
       "4       0.0\n",
       "       ... \n",
       "5670    0.0\n",
       "5671    0.0\n",
       "5672    0.0\n",
       "5673    0.0\n",
       "5674    0.0\n",
       "Name: GraphicsCardRamSize_pcs, Length: 5675, dtype: float64"
      ]
     },
     "execution_count": 39,
     "metadata": {},
     "output_type": "execute_result"
    }
   ],
   "source": [
    "amazon_data['GraphicsCardRamSize_pcs'].fillna(value=0.0, inplace=True)\n",
    "amazon_data['GraphicsCardRamSize_pcs'].isna().values.sum()\n",
    "amazon_data['GraphicsCardRamSize_pcs']"
   ]
  },
  {
   "cell_type": "code",
   "execution_count": 27,
   "metadata": {},
   "outputs": [
    {
     "ename": "TypeError",
     "evalue": "'float' object is not subscriptable",
     "output_type": "error",
     "traceback": [
      "\u001b[1;31m---------------------------------------------------------------------------\u001b[0m",
      "\u001b[1;31mTypeError\u001b[0m                                 Traceback (most recent call last)",
      "\u001b[1;32m<ipython-input-27-d7173e1f51d3>\u001b[0m in \u001b[0;36m<module>\u001b[1;34m\u001b[0m\n\u001b[1;32m----> 1\u001b[1;33m \u001b[0mamazon_data\u001b[0m\u001b[1;33m[\u001b[0m\u001b[1;34m'RAM_type_pcs'\u001b[0m\u001b[1;33m]\u001b[0m\u001b[1;33m.\u001b[0m\u001b[0mtop\u001b[0m\u001b[1;33m(\u001b[0m\u001b[1;33m)\u001b[0m\u001b[1;33m\u001b[0m\u001b[1;33m\u001b[0m\u001b[0m\n\u001b[0m",
      "\u001b[1;31mTypeError\u001b[0m: 'float' object is not subscriptable"
     ]
    }
   ],
   "source": [
    "amazon_data['RAM_type_pcs'].top()"
   ]
  },
  {
   "cell_type": "code",
   "execution_count": 29,
   "metadata": {},
   "outputs": [
    {
     "ename": "TypeError",
     "evalue": "'float' object is not subscriptable",
     "output_type": "error",
     "traceback": [
      "\u001b[1;31m---------------------------------------------------------------------------\u001b[0m",
      "\u001b[1;31mTypeError\u001b[0m                                 Traceback (most recent call last)",
      "\u001b[1;32m<ipython-input-29-bca3764f176b>\u001b[0m in \u001b[0;36m<module>\u001b[1;34m\u001b[0m\n\u001b[1;32m----> 1\u001b[1;33m \u001b[0mamazon_data\u001b[0m\u001b[1;33m[\u001b[0m\u001b[1;34m'ItemDimensions_L_pcs'\u001b[0m\u001b[1;33m]\u001b[0m\u001b[1;33m\u001b[0m\u001b[1;33m\u001b[0m\u001b[0m\n\u001b[0m",
      "\u001b[1;31mTypeError\u001b[0m: 'float' object is not subscriptable"
     ]
    }
   ],
   "source": [
    "amazon_data['ItemDimensions_L_pcs']"
   ]
  },
  {
   "cell_type": "code",
   "execution_count": null,
   "metadata": {},
   "outputs": [],
   "source": []
  },
  {
   "cell_type": "code",
   "execution_count": null,
   "metadata": {},
   "outputs": [],
   "source": []
  },
  {
   "cell_type": "code",
   "execution_count": null,
   "metadata": {},
   "outputs": [],
   "source": []
  },
  {
   "cell_type": "code",
   "execution_count": null,
   "metadata": {},
   "outputs": [],
   "source": []
  },
  {
   "cell_type": "code",
   "execution_count": null,
   "metadata": {},
   "outputs": [],
   "source": [
    "amazon_data['GraphicsCardRamSize_pcs'].fillna(value=0.0, inplace=True)\n"
   ]
  }
 ],
 "metadata": {
  "kernelspec": {
   "display_name": "Python 3",
   "language": "python",
   "name": "python3"
  },
  "language_info": {
   "codemirror_mode": {
    "name": "ipython",
    "version": 3
   },
   "file_extension": ".py",
   "mimetype": "text/x-python",
   "name": "python",
   "nbconvert_exporter": "python",
   "pygments_lexer": "ipython3",
   "version": "3.7.4"
  }
 },
 "nbformat": 4,
 "nbformat_minor": 4
}
