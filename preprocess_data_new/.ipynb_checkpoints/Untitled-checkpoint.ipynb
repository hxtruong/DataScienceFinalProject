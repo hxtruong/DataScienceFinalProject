{
 "cells": [
  {
   "cell_type": "code",
   "execution_count": 2,
   "metadata": {},
   "outputs": [],
   "source": [
    "%matplotlib inline\n",
    "import pandas as pd\n",
    "import numpy as np\n",
    "import matplotlib.pyplot as plt"
   ]
  },
  {
   "cell_type": "code",
   "execution_count": 3,
   "metadata": {},
   "outputs": [
    {
     "name": "stdout",
     "output_type": "stream",
     "text": [
      "<class 'pandas.core.frame.DataFrame'>\n",
      "RangeIndex: 5764 entries, 0 to 5763\n",
      "Data columns (total 41 columns):\n",
      "Price                       5675 non-null object\n",
      "ScreenSize                  5338 non-null object\n",
      "MaxScreenResolution         3889 non-null object\n",
      "Processor                   5530 non-null object\n",
      "RAM                         5660 non-null object\n",
      "HardDrive                   5632 non-null object\n",
      "GraphicsCoprocessor         4912 non-null object\n",
      "ChipsetBrand                3932 non-null object\n",
      "CardDescription             4325 non-null object\n",
      "WirelessType                4303 non-null object\n",
      "NumberOfUSB2.0Ports         1696 non-null float64\n",
      "NumberOfUSB3.0Ports         1270 non-null float64\n",
      "BrandName                   5742 non-null object\n",
      "Series                      5347 non-null object\n",
      "ItemModelNumber             4558 non-null object\n",
      "OperatingSystem             5191 non-null object\n",
      "ItemWeight                  5763 non-null object\n",
      "ProductDimensions           4859 non-null object\n",
      "ItemDimensions_L_W_H        4859 non-null object\n",
      "Color                       3046 non-null object\n",
      "ProcessorBrand              5028 non-null object\n",
      "ProcessorCount              5636 non-null float64\n",
      "ComputerMemoryType          4201 non-null object\n",
      "FlashMemorySize             4021 non-null object\n",
      "HardDriveInterface          4310 non-null object\n",
      "HardDriveRotationalSpeed    1990 non-null object\n",
      "OpticalDriveType            1608 non-null object\n",
      "Batteries                   4352 non-null object\n",
      "ScreenResolution            2134 non-null object\n",
      "AverageBatteryLife          1864 non-null object\n",
      "HardwarePlatform            4426 non-null object\n",
      "RearWebcamResolution        945 non-null object\n",
      "PowerSource                 1804 non-null object\n",
      "Voltage                     317 non-null object\n",
      "MemorySpeed                 1315 non-null object\n",
      "CaliforniaResidents         75 non-null object\n",
      "GraphicsCardRamSize         908 non-null object\n",
      "NationalStockNumber         12 non-null object\n",
      "PackageDimensions           904 non-null object\n",
      "Audio-outPorts              30 non-null float64\n",
      "BatteryType                 25 non-null object\n",
      "dtypes: float64(4), object(37)\n",
      "memory usage: 1.8+ MB\n"
     ]
    }
   ],
   "source": [
    "colnames = ['Price', 'ScreenSize', 'MaxScreenResolution', 'Processor', 'RAM',\n",
    "       'HardDrive', 'GraphicsCoprocessor', 'ChipsetBrand',\n",
    "       'CardDescription', 'WirelessType', 'NumberOfUSB2.0Ports',\n",
    "       'NumberOfUSB3.0Ports', 'BrandName', 'Series', 'ItemModelNumber',\n",
    "       'OperatingSystem', 'ItemWeight', 'ProductDimensions',\n",
    "       'ItemDimensions_L_W_H', 'Color', 'ProcessorBrand',\n",
    "       'ProcessorCount', 'ComputerMemoryType', 'FlashMemorySize',\n",
    "       'HardDriveInterface', 'HardDriveRotationalSpeed',\n",
    "       'OpticalDriveType', 'Batteries', 'ScreenResolution',\n",
    "       'AverageBatteryLife', 'HardwarePlatform',\n",
    "       'RearWebcamResolution', 'PowerSource', 'Voltage', 'MemorySpeed',\n",
    "       'CaliforniaResidents', 'GraphicsCardRamSize',\n",
    "       'NationalStockNumber', 'PackageDimensions', 'Audio-outPorts',\n",
    "       'BatteryType']\n",
    "amazon_data = pd.read_csv('amazon_product_infos_1.csv', sep='\\t', names=colnames, index_col=False)#, encoding='unicode_escape')#, error_bad_lines=False)\n",
    "amazon_data.info()"
   ]
  },
  {
   "cell_type": "code",
   "execution_count": 19,
   "metadata": {},
   "outputs": [
    {
     "data": {
      "text/plain": [
       "0         309.99\n",
       "1         162.92\n",
       "2         246.99\n",
       "3       1,089.00\n",
       "4         127.97\n",
       "          ...   \n",
       "5759       51.97\n",
       "5760      369.99\n",
       "5761      339.00\n",
       "5762    1,099.93\n",
       "5763      199.99\n",
       "Name: Price_pcs, Length: 5675, dtype: object"
      ]
     },
     "execution_count": 19,
     "metadata": {},
     "output_type": "execute_result"
    }
   ],
   "source": [
    "amazon_data['Price_pcs'] = amazon_data.Price.str.extract(r\"(\\d+\\,?\\d?\\d?\\d?\\d?\\d?\\.\\d+)\", expand=False)#.replace(',','').astype(float)\n",
    "amazon_data = amazon_data.dropna(axis=0, subset=['Price_pcs'])\n",
    "prices = []\n",
    "for price_ in amazon_data['Price_pcs']:\n",
    "    \n",
    "amazon_data['Price_pcs']"
   ]
  },
  {
   "cell_type": "code",
   "execution_count": 85,
   "metadata": {},
   "outputs": [],
   "source": []
  },
  {
   "cell_type": "code",
   "execution_count": null,
   "metadata": {},
   "outputs": [],
   "source": []
  },
  {
   "cell_type": "code",
   "execution_count": null,
   "metadata": {},
   "outputs": [],
   "source": []
  },
  {
   "cell_type": "code",
   "execution_count": 86,
   "metadata": {},
   "outputs": [
    {
     "name": "stdout",
     "output_type": "stream",
     "text": [
      "DDR4\n"
     ]
    }
   ],
   "source": [
    "print(mode_[0])"
   ]
  },
  {
   "cell_type": "code",
   "execution_count": null,
   "metadata": {},
   "outputs": [],
   "source": []
  },
  {
   "cell_type": "code",
   "execution_count": 44,
   "metadata": {},
   "outputs": [
    {
     "data": {
      "text/plain": [
       "13.190952045133992"
      ]
     },
     "execution_count": 44,
     "metadata": {},
     "output_type": "execute_result"
    }
   ],
   "source": [
    "amazon_data['ItemDimensions_L_pcs'].mean()"
   ]
  },
  {
   "cell_type": "code",
   "execution_count": 45,
   "metadata": {},
   "outputs": [
    {
     "data": {
      "text/plain": [
       "13.2"
      ]
     },
     "execution_count": 45,
     "metadata": {},
     "output_type": "execute_result"
    }
   ],
   "source": [
    "amazon_data['ItemDimensions_L_pcs'].median()"
   ]
  },
  {
   "cell_type": "code",
   "execution_count": 51,
   "metadata": {},
   "outputs": [
    {
     "data": {
      "text/plain": [
       "507.87"
      ]
     },
     "execution_count": 51,
     "metadata": {},
     "output_type": "execute_result"
    }
   ],
   "source": [
    "amazon_data['ItemDimensions_L_pcs'].max()"
   ]
  },
  {
   "cell_type": "code",
   "execution_count": 47,
   "metadata": {},
   "outputs": [
    {
     "data": {
      "text/plain": [
       "0.11"
      ]
     },
     "execution_count": 47,
     "metadata": {},
     "output_type": "execute_result"
    }
   ],
   "source": [
    "amazon_data['ItemDimensions_L_pcs'].min()"
   ]
  },
  {
   "cell_type": "code",
   "execution_count": 46,
   "metadata": {},
   "outputs": [
    {
     "data": {
      "text/plain": [
       "74819.08"
      ]
     },
     "execution_count": 46,
     "metadata": {},
     "output_type": "execute_result"
    }
   ],
   "source": [
    "amazon_data['ItemDimensions_L_pcs'].sum()"
   ]
  },
  {
   "cell_type": "code",
   "execution_count": 53,
   "metadata": {},
   "outputs": [],
   "source": [
    "amazon_data['GraphicsCardRamSize_pcs'].fillna(value=0.0, inplace=True)"
   ]
  },
  {
   "cell_type": "code",
   "execution_count": null,
   "metadata": {},
   "outputs": [],
   "source": []
  },
  {
   "cell_type": "code",
   "execution_count": null,
   "metadata": {},
   "outputs": [],
   "source": []
  },
  {
   "cell_type": "code",
   "execution_count": null,
   "metadata": {},
   "outputs": [],
   "source": []
  },
  {
   "cell_type": "code",
   "execution_count": 97,
   "metadata": {},
   "outputs": [
    {
     "data": {
      "text/plain": [
       "132"
      ]
     },
     "execution_count": 97,
     "metadata": {},
     "output_type": "execute_result"
    }
   ],
   "source": [
    "amazon_data['RAM_type_pcs'].isna().values.sum()"
   ]
  },
  {
   "cell_type": "code",
   "execution_count": 58,
   "metadata": {},
   "outputs": [
    {
     "data": {
      "text/plain": [
       "4134"
      ]
     },
     "execution_count": 58,
     "metadata": {},
     "output_type": "execute_result"
    }
   ],
   "source": [
    "amazon_data['RAM_type_pcs'].count()"
   ]
  },
  {
   "cell_type": "code",
   "execution_count": 71,
   "metadata": {},
   "outputs": [],
   "source": [
    "amazon_data['RAM_type_pcs'] = amazon_data['RAM_type_pcs'].fillna({'RAM_type_pcs': amazon_data['RAM_type_pcs'].mode()})"
   ]
  },
  {
   "cell_type": "code",
   "execution_count": 74,
   "metadata": {},
   "outputs": [
    {
     "data": {
      "text/plain": [
       "1541"
      ]
     },
     "execution_count": 74,
     "metadata": {},
     "output_type": "execute_result"
    }
   ],
   "source": [
    "amazon_data['RAM_type_pcs'].isna().values.sum()"
   ]
  },
  {
   "cell_type": "code",
   "execution_count": null,
   "metadata": {},
   "outputs": [],
   "source": [
    "amazon_data['RAM_type_pcs'].isna().values.sum()"
   ]
  },
  {
   "cell_type": "code",
   "execution_count": 98,
   "metadata": {},
   "outputs": [
    {
     "data": {
      "text/plain": [
       "'DDR4'"
      ]
     },
     "execution_count": 98,
     "metadata": {},
     "output_type": "execute_result"
    }
   ],
   "source": [
    "mode_ = amazon_data['RAM_type_pcs'].mode()[0]"
   ]
  },
  {
   "cell_type": "code",
   "execution_count": 99,
   "metadata": {},
   "outputs": [],
   "source": [
    "amazon_data['RAM_type_pcs'] = amazon_data['RAM_type_pcs'].fillna(mode_)"
   ]
  },
  {
   "cell_type": "code",
   "execution_count": 101,
   "metadata": {},
   "outputs": [
    {
     "data": {
      "text/plain": [
       "0"
      ]
     },
     "execution_count": 101,
     "metadata": {},
     "output_type": "execute_result"
    }
   ],
   "source": [
    "amazon_data['RAM_type_pcs'].isna().values.sum()"
   ]
  },
  {
   "cell_type": "code",
   "execution_count": 54,
   "metadata": {},
   "outputs": [
    {
     "data": {
      "text/plain": [
       "{'tuan': 0, 'nhut': 1}"
      ]
     },
     "execution_count": 54,
     "metadata": {},
     "output_type": "execute_result"
    }
   ],
   "source": [
    "dic = {}\n",
    "dic['tuan'] = 0\n",
    "dic['nhut'] = 1\n",
    "dic"
   ]
  }
 ],
 "metadata": {
  "kernelspec": {
   "display_name": "Python 3",
   "language": "python",
   "name": "python3"
  },
  "language_info": {
   "codemirror_mode": {
    "name": "ipython",
    "version": 3
   },
   "file_extension": ".py",
   "mimetype": "text/x-python",
   "name": "python",
   "nbconvert_exporter": "python",
   "pygments_lexer": "ipython3",
   "version": "3.7.4"
  }
 },
 "nbformat": 4,
 "nbformat_minor": 4
}
