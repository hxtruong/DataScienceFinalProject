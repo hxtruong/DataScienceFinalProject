{
 "cells": [
  {
   "cell_type": "code",
   "execution_count": 24,
   "metadata": {},
   "outputs": [],
   "source": [
    "%matplotlib inline\n",
    "import matplotlib.pyplot as plt\n",
    "import seaborn as sns # seaborn là thư viện được xây trên matplotlib, giúp việc visualization đỡ khổ hơn\n",
    "import pandas as pd\n",
    "import numpy as np\n",
    "\n",
    "from sklearn.model_selection import train_test_split\n",
    "from sklearn.preprocessing import OneHotEncoder, StandardScaler\n",
    "from sklearn.impute import SimpleImputer\n",
    "from sklearn.base import BaseEstimator, TransformerMixin\n",
    "from sklearn.pipeline import Pipeline, make_pipeline\n",
    "from sklearn.compose import ColumnTransformer, make_column_transformer\n",
    "from sklearn.neural_network import MLPClassifier\n",
    "from sklearn.linear_model import LogisticRegression\n",
    "from sklearn import preprocessing\n",
    "from sklearn import linear_model, svm\n",
    "from sklearn.ensemble import RandomForestClassifier\n",
    "\n",
    "from sklearn import metrics"
   ]
  },
  {
   "cell_type": "code",
   "execution_count": 2,
   "metadata": {},
   "outputs": [
    {
     "data": {
      "text/html": [
       "<div>\n",
       "<style scoped>\n",
       "    .dataframe tbody tr th:only-of-type {\n",
       "        vertical-align: middle;\n",
       "    }\n",
       "\n",
       "    .dataframe tbody tr th {\n",
       "        vertical-align: top;\n",
       "    }\n",
       "\n",
       "    .dataframe thead th {\n",
       "        text-align: right;\n",
       "    }\n",
       "</style>\n",
       "<table border=\"1\" class=\"dataframe\">\n",
       "  <thead>\n",
       "    <tr style=\"text-align: right;\">\n",
       "      <th></th>\n",
       "      <th>Price</th>\n",
       "      <th>Key_Specs__Screen_Size</th>\n",
       "      <th>Key_Specs__Touch_Screen</th>\n",
       "      <th>Key_Specs__Storage_Type</th>\n",
       "      <th>Key_Specs__System_Memory</th>\n",
       "      <th>RAM_type</th>\n",
       "      <th>RAM_speed</th>\n",
       "      <th>Processor</th>\n",
       "      <th>Graphics__Graphics</th>\n",
       "      <th>Screen_resolution1</th>\n",
       "      <th>...</th>\n",
       "      <th>Feature__Backlit_Keyboard</th>\n",
       "      <th>Feature__Mac_Features</th>\n",
       "      <th>Port_Number_USB_Ports</th>\n",
       "      <th>Display__Display_Type</th>\n",
       "      <th>Storage__eMMC_Capacity</th>\n",
       "      <th>Storage__Solid_State_Drive_Capacity</th>\n",
       "      <th>Dimension__Product_Depth</th>\n",
       "      <th>Dimension__Product_Height</th>\n",
       "      <th>Dimension__Product_Weight</th>\n",
       "      <th>Dimension__Product_Width</th>\n",
       "    </tr>\n",
       "  </thead>\n",
       "  <tbody>\n",
       "    <tr>\n",
       "      <th>0</th>\n",
       "      <td>1</td>\n",
       "      <td>13.3</td>\n",
       "      <td>yes</td>\n",
       "      <td>ssd</td>\n",
       "      <td>16.0</td>\n",
       "      <td>lpddr3</td>\n",
       "      <td>2133.0</td>\n",
       "      <td>intel 8th generation core i7</td>\n",
       "      <td>intel hd graphics 620</td>\n",
       "      <td>1920.0</td>\n",
       "      <td>...</td>\n",
       "      <td>yes</td>\n",
       "      <td>NaN</td>\n",
       "      <td>1.0</td>\n",
       "      <td>full hd widescreen led</td>\n",
       "      <td>0.0</td>\n",
       "      <td>512.0</td>\n",
       "      <td>8.6</td>\n",
       "      <td>0.4</td>\n",
       "      <td>2.43</td>\n",
       "      <td>12.3</td>\n",
       "    </tr>\n",
       "    <tr>\n",
       "      <th>1</th>\n",
       "      <td>0</td>\n",
       "      <td>11.6</td>\n",
       "      <td>no</td>\n",
       "      <td>emmc</td>\n",
       "      <td>4.0</td>\n",
       "      <td>lpddr4</td>\n",
       "      <td>2400.0</td>\n",
       "      <td>intel celeron</td>\n",
       "      <td>intel uhd graphics 600</td>\n",
       "      <td>1366.0</td>\n",
       "      <td>...</td>\n",
       "      <td>no</td>\n",
       "      <td>NaN</td>\n",
       "      <td>4.0</td>\n",
       "      <td>lcd</td>\n",
       "      <td>16.0</td>\n",
       "      <td>0.0</td>\n",
       "      <td>8.2</td>\n",
       "      <td>0.8</td>\n",
       "      <td>2.84</td>\n",
       "      <td>12.0</td>\n",
       "    </tr>\n",
       "    <tr>\n",
       "      <th>2</th>\n",
       "      <td>1</td>\n",
       "      <td>14.0</td>\n",
       "      <td>yes</td>\n",
       "      <td>ssd</td>\n",
       "      <td>12.0</td>\n",
       "      <td>ddr4 sdram</td>\n",
       "      <td>2666.0</td>\n",
       "      <td>intel 10th generation core i7</td>\n",
       "      <td>other</td>\n",
       "      <td>1920.0</td>\n",
       "      <td>...</td>\n",
       "      <td>yes</td>\n",
       "      <td>NaN</td>\n",
       "      <td>2.0</td>\n",
       "      <td>full hd widescreen led</td>\n",
       "      <td>0.0</td>\n",
       "      <td>512.0</td>\n",
       "      <td>8.9</td>\n",
       "      <td>0.6</td>\n",
       "      <td>3.59</td>\n",
       "      <td>12.7</td>\n",
       "    </tr>\n",
       "    <tr>\n",
       "      <th>3</th>\n",
       "      <td>2</td>\n",
       "      <td>15.6</td>\n",
       "      <td>no</td>\n",
       "      <td>ssd, hdd</td>\n",
       "      <td>16.0</td>\n",
       "      <td>ddr4 sdram</td>\n",
       "      <td>2666.0</td>\n",
       "      <td>intel 8th generation core i7</td>\n",
       "      <td>other</td>\n",
       "      <td>1920.0</td>\n",
       "      <td>...</td>\n",
       "      <td>yes</td>\n",
       "      <td>NaN</td>\n",
       "      <td>3.0</td>\n",
       "      <td>full hd widescreen led</td>\n",
       "      <td>0.0</td>\n",
       "      <td>512.0</td>\n",
       "      <td>9.7</td>\n",
       "      <td>1.0</td>\n",
       "      <td>5.29</td>\n",
       "      <td>14.2</td>\n",
       "    </tr>\n",
       "    <tr>\n",
       "      <th>4</th>\n",
       "      <td>0</td>\n",
       "      <td>11.6</td>\n",
       "      <td>no</td>\n",
       "      <td>emmc</td>\n",
       "      <td>4.0</td>\n",
       "      <td>lpddr3</td>\n",
       "      <td>NaN</td>\n",
       "      <td>intel celeron</td>\n",
       "      <td>intel hd graphics 400</td>\n",
       "      <td>1366.0</td>\n",
       "      <td>...</td>\n",
       "      <td>no</td>\n",
       "      <td>NaN</td>\n",
       "      <td>2.0</td>\n",
       "      <td>led-lcd</td>\n",
       "      <td>32.0</td>\n",
       "      <td>0.0</td>\n",
       "      <td>8.3</td>\n",
       "      <td>0.9</td>\n",
       "      <td>2.87</td>\n",
       "      <td>11.7</td>\n",
       "    </tr>\n",
       "  </tbody>\n",
       "</table>\n",
       "<p>5 rows × 26 columns</p>\n",
       "</div>"
      ],
      "text/plain": [
       "   Price  Key_Specs__Screen_Size Key_Specs__Touch_Screen  \\\n",
       "0      1                    13.3                     yes   \n",
       "1      0                    11.6                      no   \n",
       "2      1                    14.0                     yes   \n",
       "3      2                    15.6                      no   \n",
       "4      0                    11.6                      no   \n",
       "\n",
       "  Key_Specs__Storage_Type  Key_Specs__System_Memory    RAM_type  RAM_speed  \\\n",
       "0                     ssd                      16.0      lpddr3     2133.0   \n",
       "1                    emmc                       4.0      lpddr4     2400.0   \n",
       "2                     ssd                      12.0  ddr4 sdram     2666.0   \n",
       "3                ssd, hdd                      16.0  ddr4 sdram     2666.0   \n",
       "4                    emmc                       4.0      lpddr3        NaN   \n",
       "\n",
       "                       Processor      Graphics__Graphics  Screen_resolution1  \\\n",
       "0   intel 8th generation core i7   intel hd graphics 620              1920.0   \n",
       "1                  intel celeron  intel uhd graphics 600              1366.0   \n",
       "2  intel 10th generation core i7                   other              1920.0   \n",
       "3   intel 8th generation core i7                   other              1920.0   \n",
       "4                  intel celeron   intel hd graphics 400              1366.0   \n",
       "\n",
       "   ...  Feature__Backlit_Keyboard Feature__Mac_Features Port_Number_USB_Ports  \\\n",
       "0  ...                        yes                   NaN                   1.0   \n",
       "1  ...                         no                   NaN                   4.0   \n",
       "2  ...                        yes                   NaN                   2.0   \n",
       "3  ...                        yes                   NaN                   3.0   \n",
       "4  ...                         no                   NaN                   2.0   \n",
       "\n",
       "    Display__Display_Type Storage__eMMC_Capacity  \\\n",
       "0  full hd widescreen led                    0.0   \n",
       "1                     lcd                   16.0   \n",
       "2  full hd widescreen led                    0.0   \n",
       "3  full hd widescreen led                    0.0   \n",
       "4                 led-lcd                   32.0   \n",
       "\n",
       "  Storage__Solid_State_Drive_Capacity Dimension__Product_Depth  \\\n",
       "0                               512.0                      8.6   \n",
       "1                                 0.0                      8.2   \n",
       "2                               512.0                      8.9   \n",
       "3                               512.0                      9.7   \n",
       "4                                 0.0                      8.3   \n",
       "\n",
       "  Dimension__Product_Height  Dimension__Product_Weight  \\\n",
       "0                       0.4                       2.43   \n",
       "1                       0.8                       2.84   \n",
       "2                       0.6                       3.59   \n",
       "3                       1.0                       5.29   \n",
       "4                       0.9                       2.87   \n",
       "\n",
       "  Dimension__Product_Width  \n",
       "0                     12.3  \n",
       "1                     12.0  \n",
       "2                     12.7  \n",
       "3                     14.2  \n",
       "4                     11.7  \n",
       "\n",
       "[5 rows x 26 columns]"
      ]
     },
     "execution_count": 2,
     "metadata": {},
     "output_type": "execute_result"
    }
   ],
   "source": [
    "data_df = pd.read_csv('bestbuy_train_val_data_classify_price.csv', index_col=False)\n",
    "data_df.head()"
   ]
  },
  {
   "cell_type": "code",
   "execution_count": 3,
   "metadata": {},
   "outputs": [
    {
     "name": "stdout",
     "output_type": "stream",
     "text": [
      "<class 'pandas.core.frame.DataFrame'>\n",
      "RangeIndex: 936 entries, 0 to 935\n",
      "Data columns (total 26 columns):\n",
      "Price                                  936 non-null int64\n",
      "Key_Specs__Screen_Size                 936 non-null float64\n",
      "Key_Specs__Touch_Screen                927 non-null object\n",
      "Key_Specs__Storage_Type                920 non-null object\n",
      "Key_Specs__System_Memory               927 non-null float64\n",
      "RAM_type                               927 non-null object\n",
      "RAM_speed                              610 non-null float64\n",
      "Processor                              927 non-null object\n",
      "Graphics__Graphics                     910 non-null object\n",
      "Screen_resolution1                     934 non-null float64\n",
      "Screen_resolution2                     934 non-null float64\n",
      "Key_Specs__Operating_System            923 non-null object\n",
      "Key_Specs__Battery_Type                936 non-null object\n",
      "General__Color_Category                936 non-null object\n",
      "General__Brand                         934 non-null object\n",
      "Feature__Keyboard_Touch_Screen         707 non-null object\n",
      "Feature__Backlit_Keyboard              921 non-null object\n",
      "Feature__Mac_Features                  61 non-null object\n",
      "Port_Number_USB_Ports                  839 non-null float64\n",
      "Display__Display_Type                  933 non-null object\n",
      "Storage__eMMC_Capacity                 936 non-null float64\n",
      "Storage__Solid_State_Drive_Capacity    936 non-null float64\n",
      "Dimension__Product_Depth               905 non-null float64\n",
      "Dimension__Product_Height              905 non-null float64\n",
      "Dimension__Product_Weight              886 non-null float64\n",
      "Dimension__Product_Width               905 non-null float64\n",
      "dtypes: float64(12), int64(1), object(13)\n",
      "memory usage: 190.2+ KB\n"
     ]
    }
   ],
   "source": [
    "data_df.info()"
   ]
  },
  {
   "cell_type": "markdown",
   "metadata": {},
   "source": [
    "# Split Data"
   ]
  },
  {
   "cell_type": "code",
   "execution_count": 4,
   "metadata": {},
   "outputs": [],
   "source": [
    "y_sr = data_df['Price']\n",
    "X_df = data_df.drop('Price', axis=1)"
   ]
  },
  {
   "cell_type": "code",
   "execution_count": 5,
   "metadata": {},
   "outputs": [],
   "source": [
    "train_X_df, val_X_df, train_y_sr, val_y_sr = train_test_split(X_df, y_sr, test_size=0.15, random_state=0)"
   ]
  },
  {
   "cell_type": "code",
   "execution_count": 6,
   "metadata": {},
   "outputs": [
    {
     "name": "stdout",
     "output_type": "stream",
     "text": [
      "<class 'pandas.core.frame.DataFrame'>\n",
      "Int64Index: 795 entries, 5 to 684\n",
      "Data columns (total 25 columns):\n",
      "Key_Specs__Screen_Size                 795 non-null float64\n",
      "Key_Specs__Touch_Screen                786 non-null object\n",
      "Key_Specs__Storage_Type                780 non-null object\n",
      "Key_Specs__System_Memory               786 non-null float64\n",
      "RAM_type                               786 non-null object\n",
      "RAM_speed                              521 non-null float64\n",
      "Processor                              786 non-null object\n",
      "Graphics__Graphics                     773 non-null object\n",
      "Screen_resolution1                     793 non-null float64\n",
      "Screen_resolution2                     793 non-null float64\n",
      "Key_Specs__Operating_System            782 non-null object\n",
      "Key_Specs__Battery_Type                795 non-null object\n",
      "General__Color_Category                795 non-null object\n",
      "General__Brand                         793 non-null object\n",
      "Feature__Keyboard_Touch_Screen         601 non-null object\n",
      "Feature__Backlit_Keyboard              780 non-null object\n",
      "Feature__Mac_Features                  52 non-null object\n",
      "Port_Number_USB_Ports                  716 non-null float64\n",
      "Display__Display_Type                  792 non-null object\n",
      "Storage__eMMC_Capacity                 795 non-null float64\n",
      "Storage__Solid_State_Drive_Capacity    795 non-null float64\n",
      "Dimension__Product_Depth               773 non-null float64\n",
      "Dimension__Product_Height              773 non-null float64\n",
      "Dimension__Product_Weight              757 non-null float64\n",
      "Dimension__Product_Width               773 non-null float64\n",
      "dtypes: float64(12), object(13)\n",
      "memory usage: 161.5+ KB\n"
     ]
    }
   ],
   "source": [
    "train_X_df.info()"
   ]
  },
  {
   "cell_type": "markdown",
   "metadata": {},
   "source": [
    "# Transform data"
   ]
  },
  {
   "cell_type": "code",
   "execution_count": 7,
   "metadata": {},
   "outputs": [],
   "source": [
    "class ColAdderDropper(BaseEstimator, TransformerMixin):\n",
    "    def fit(self, X_df, y=None):\n",
    "        return self\n",
    "    def transform(self, X_df, y=None):\n",
    "        transformed_X_df = X_df.copy()\n",
    "        transformed_X_df = transformed_X_df.drop([], axis=1)\n",
    "        return transformed_X_df"
   ]
  },
  {
   "cell_type": "code",
   "execution_count": 8,
   "metadata": {},
   "outputs": [],
   "source": [
    "# data_df = pd.read_csv('train_val_data.csv', index_col=False)\n",
    "# train_X_df, val_X_df, train_y_sr, val_y_sr = train_test_split(X_df, y_sr, test_size=0.15, random_state=0)\n",
    "# col_adderdropper = ColAdderDropper()\n",
    "# train_X_df = col_adderdropper.fit_transform(train_X_df)\n",
    "# val_X_df = col_adderdropper.fit_transform(val_X_df)\n",
    "# train_X_df.isna().values.sum()"
   ]
  },
  {
   "cell_type": "code",
   "execution_count": 9,
   "metadata": {},
   "outputs": [],
   "source": [
    "class FillNA(BaseEstimator, TransformerMixin):\n",
    "    def __init__(self):\n",
    "        self.fillna_values = {}\n",
    "    def fit(self, X_df, y=None):\n",
    "        self.fillna_values['Key_Specs__Screen_Size'] = X_df['Key_Specs__Screen_Size'].mean()\n",
    "        self.fillna_values['Key_Specs__System_Memory'] = X_df['Key_Specs__System_Memory'].mean()\n",
    "        self.fillna_values['RAM_speed'] = X_df['RAM_speed'].mean()\n",
    "        self.fillna_values['Screen_resolution1'] = X_df['Screen_resolution1'].mean()\n",
    "        self.fillna_values['Screen_resolution2'] = X_df['Screen_resolution2'].mean()\n",
    "        self.fillna_values['Port_Number_USB_Ports'] = X_df['Port_Number_USB_Ports'].mean()\n",
    "        self.fillna_values['Storage__eMMC_Capacity'] = X_df['Storage__eMMC_Capacity'].mean()\n",
    "        self.fillna_values['Storage__Solid_State_Drive_Capacity'] = X_df['Storage__Solid_State_Drive_Capacity'].mean()\n",
    "        self.fillna_values['Dimension__Product_Depth'] = X_df['Dimension__Product_Depth'].mean()\n",
    "        self.fillna_values['Dimension__Product_Height'] = X_df['Dimension__Product_Height'].mean()\n",
    "        self.fillna_values['Dimension__Product_Weight'] = X_df['Dimension__Product_Weight'].mean()\n",
    "        self.fillna_values['Dimension__Product_Width'] = X_df['Dimension__Product_Width'].mean()\n",
    "        \n",
    "        self.fillna_values['Key_Specs__Touch_Screen'] = X_df['Key_Specs__Touch_Screen'].mode()[0]\n",
    "        self.fillna_values['Key_Specs__Storage_Type'] = X_df['Key_Specs__Storage_Type'].mode()[0]\n",
    "        self.fillna_values['RAM_type'] = X_df['RAM_type'].mode()[0]\n",
    "        self.fillna_values['Processor'] = X_df['Processor'].mode()[0]\n",
    "        self.fillna_values['Graphics__Graphics'] = X_df['Graphics__Graphics'].mode()[0]\n",
    "        self.fillna_values['Key_Specs__Operating_System'] = X_df['Key_Specs__Operating_System'].mode()[0]\n",
    "        self.fillna_values['Key_Specs__Battery_Type'] = X_df['Key_Specs__Battery_Type'].mode()[0]#'Others'\n",
    "        self.fillna_values['General__Color_Category'] = X_df['General__Color_Category'].mode()[0]\n",
    "        self.fillna_values['General__Brand'] = X_df['General__Brand'].mode()[0]\n",
    "        self.fillna_values['Feature__Keyboard_Touch_Screen'] = X_df['Feature__Keyboard_Touch_Screen'].mode()[0]\n",
    "        self.fillna_values['Feature__Backlit_Keyboard'] = X_df['Feature__Backlit_Keyboard'].mode()[0]\n",
    "        self.fillna_values['Feature__Mac_Features'] = X_df['Feature__Mac_Features'].mode()[0]#'Others'\n",
    "        self.fillna_values['Display__Display_Type'] = X_df['Display__Display_Type'].mode()[0]\n",
    "            \n",
    "        return self\n",
    "    \n",
    "    def transform(self, X_df, y=None):\n",
    "        transformed_X_df = X_df.copy()\n",
    "        \n",
    "        transformed_X_df['Key_Specs__Screen_Size'].fillna(value=self.fillna_values['Key_Specs__Screen_Size'], inplace=True)\n",
    "        transformed_X_df['Key_Specs__System_Memory'].fillna(value=self.fillna_values['Key_Specs__System_Memory'], inplace=True)\n",
    "        transformed_X_df['RAM_speed'].fillna(value=self.fillna_values['RAM_speed'], inplace=True)\n",
    "        transformed_X_df['Screen_resolution1'].fillna(value=self.fillna_values['Screen_resolution1'], inplace=True)\n",
    "        transformed_X_df['Screen_resolution2'].fillna(value=self.fillna_values['Screen_resolution2'], inplace=True)\n",
    "        transformed_X_df['Port_Number_USB_Ports'].fillna(value=self.fillna_values['Port_Number_USB_Ports'], inplace=True)\n",
    "        transformed_X_df['Storage__eMMC_Capacity'].fillna(value=self.fillna_values['Storage__eMMC_Capacity'], inplace=True)\n",
    "        transformed_X_df['Storage__Solid_State_Drive_Capacity'].fillna(value=self.fillna_values['Storage__Solid_State_Drive_Capacity'], inplace=True)\n",
    "        transformed_X_df['Dimension__Product_Depth'].fillna(value=self.fillna_values['Dimension__Product_Depth'], inplace=True)\n",
    "        transformed_X_df['Dimension__Product_Height'].fillna(value=self.fillna_values['Dimension__Product_Height'], inplace=True)\n",
    "        transformed_X_df['Dimension__Product_Weight'].fillna(value=self.fillna_values['Dimension__Product_Weight'], inplace=True)\n",
    "        transformed_X_df['Dimension__Product_Width'].fillna(value=self.fillna_values['Dimension__Product_Width'], inplace=True)\n",
    "        \n",
    "        transformed_X_df['Key_Specs__Touch_Screen'].fillna(value=self.fillna_values['Key_Specs__Touch_Screen'], inplace=True)\n",
    "        transformed_X_df['Key_Specs__Storage_Type'].fillna(value=self.fillna_values['Key_Specs__Storage_Type'], inplace=True)\n",
    "        transformed_X_df['RAM_type'].fillna(value=self.fillna_values['RAM_type'], inplace=True)\n",
    "        transformed_X_df['Processor'].fillna(value=self.fillna_values['Processor'], inplace=True)\n",
    "        transformed_X_df['Graphics__Graphics'].fillna(value=self.fillna_values['Graphics__Graphics'], inplace=True)\n",
    "        transformed_X_df['Key_Specs__Operating_System'].fillna(value=self.fillna_values['Key_Specs__Operating_System'], inplace=True)\n",
    "        transformed_X_df['Key_Specs__Battery_Type'].fillna(value=self.fillna_values['Key_Specs__Battery_Type'], inplace=True)\n",
    "        transformed_X_df['General__Color_Category'].fillna(value=self.fillna_values['General__Color_Category'], inplace=True)\n",
    "        transformed_X_df['General__Brand'].fillna(value=self.fillna_values['General__Brand'], inplace=True)\n",
    "        transformed_X_df['Feature__Keyboard_Touch_Screen'].fillna(value=self.fillna_values['Feature__Keyboard_Touch_Screen'], inplace=True)\n",
    "        transformed_X_df['Feature__Backlit_Keyboard'].fillna(value=self.fillna_values['Feature__Backlit_Keyboard'], inplace=True)\n",
    "        transformed_X_df['Feature__Mac_Features'].fillna(value=self.fillna_values['Feature__Mac_Features'], inplace=True)\n",
    "        transformed_X_df['Display__Display_Type'].fillna(value=self.fillna_values['Display__Display_Type'], inplace=True)\n",
    "        \n",
    "        return transformed_X_df"
   ]
  },
  {
   "cell_type": "code",
   "execution_count": 10,
   "metadata": {},
   "outputs": [],
   "source": [
    "# fillNa = FillNA()\n",
    "# fillNa.fit(train_X_df)\n",
    "# train_X_df = fillNa.transform(train_X_df)\n",
    "# train_X_df.info()"
   ]
  },
  {
   "cell_type": "code",
   "execution_count": 11,
   "metadata": {},
   "outputs": [],
   "source": [
    "# val_X_df = fillNa.transform(val_X_df)\n",
    "# val_X_df.info()"
   ]
  },
  {
   "cell_type": "code",
   "execution_count": 12,
   "metadata": {},
   "outputs": [],
   "source": [
    "# train_X_df['BrandName'].isna().values.sum()"
   ]
  },
  {
   "cell_type": "code",
   "execution_count": 13,
   "metadata": {},
   "outputs": [],
   "source": [
    "# val_X_df['BrandName'].value_counts()"
   ]
  },
  {
   "cell_type": "markdown",
   "metadata": {},
   "source": [
    "# Full Pipeline - Train"
   ]
  },
  {
   "cell_type": "code",
   "execution_count": 14,
   "metadata": {},
   "outputs": [],
   "source": [
    "numeric_cols = ['Key_Specs__Screen_Size', 'Key_Specs__System_Memory', 'RAM_speed', 'Screen_resolution1', 'Screen_resolution2', \n",
    "                'Port_Number_USB_Ports', 'Storage__eMMC_Capacity', 'Storage__Solid_State_Drive_Capacity', 'Dimension__Product_Depth',\n",
    "               'Dimension__Product_Height', 'Dimension__Product_Weight', 'Dimension__Product_Width']\n",
    "category_cols = ['Key_Specs__Touch_Screen', 'Key_Specs__Storage_Type', 'RAM_type', 'Processor',\n",
    "                 'Graphics__Graphics', 'Key_Specs__Operating_System', 'Key_Specs__Battery_Type', 'General__Color_Category',\n",
    "                 'General__Brand', 'Feature__Keyboard_Touch_Screen', 'Feature__Backlit_Keyboard',\n",
    "                'Feature__Mac_Features', 'Display__Display_Type']\n",
    "\n",
    "numeric_imputer = Pipeline([('imputer', SimpleImputer(strategy='mean'))])\n",
    "category_imputer = Pipeline([('one_hot_vector', OneHotEncoder(handle_unknown='ignore'))])\n",
    "\n",
    "transform_cols = ColumnTransformer([('category_imputer', category_imputer, category_cols)])\n",
    "reprocess_pipeline = Pipeline([('coladderdropper', ColAdderDropper()), ('fill_na', FillNA()), ('transform_cols', transform_cols), ('std_scaler', StandardScaler(with_mean=False))])"
   ]
  },
  {
   "cell_type": "markdown",
   "metadata": {},
   "source": [
    "# Logistic regression"
   ]
  },
  {
   "cell_type": "code",
   "execution_count": 27,
   "metadata": {},
   "outputs": [
    {
     "name": "stdout",
     "output_type": "stream",
     "text": [
      "MaxIter: 20.000000 - Train acc: 0.909434 - Val acc: 0.737589\n",
      "MaxIter: 40.000000 - Train acc: 0.920755 - Val acc: 0.758865\n",
      "MaxIter: 50.000000 - Train acc: 0.930818 - Val acc: 0.765957\n",
      "MaxIter: 100.000000 - Train acc: 0.925786 - Val acc: 0.758865\n",
      "MaxIter: 200.000000 - Train acc: 0.927044 - Val acc: 0.751773\n",
      "MaxIter: 300.000000 - Train acc: 0.924528 - Val acc: 0.758865\n",
      "MaxIter: 500.000000 - Train acc: 0.924528 - Val acc: 0.758865\n",
      "MaxIter: 1000.000000 - Train acc: 0.924528 - Val acc: 0.758865\n"
     ]
    }
   ],
   "source": [
    "logistic_regression = LogisticRegression(solver='lbfgs', max_iter=500, verbose=0, n_jobs=4, random_state=0)\n",
    "full_pipeline = Pipeline([('reprocess_data', reprocess_pipeline), ('logistic_regression', logistic_regression)])\n",
    "\n",
    "max_iter = [20, 40, 50, 100, 200, 300, 500, 1000]\n",
    "for iter_ in max_iter:\n",
    "    full_pipeline.set_params(logistic_regression__max_iter=iter_)\n",
    "    full_pipeline.fit(train_X_df, train_y_sr)\n",
    "    print('MaxIter: %f - Train acc: %f - Val acc: %f' %(iter_, full_pipeline.score(train_X_df, train_y_sr), full_pipeline.score(val_X_df, val_y_sr)))"
   ]
  },
  {
   "cell_type": "markdown",
   "metadata": {},
   "source": [
    "# MLPClassifier"
   ]
  },
  {
   "cell_type": "code",
   "execution_count": 26,
   "metadata": {},
   "outputs": [
    {
     "name": "stderr",
     "output_type": "stream",
     "text": [
      "c:\\users\\huynhnhut\\appdata\\local\\programs\\python\\python37\\lib\\site-packages\\sklearn\\neural_network\\_multilayer_perceptron.py:470: ConvergenceWarning: lbfgs failed to converge (status=1):\n",
      "STOP: TOTAL NO. of ITERATIONS REACHED LIMIT.\n",
      "\n",
      "Increase the number of iterations (max_iter) or scale the data as shown in:\n",
      "    https://scikit-learn.org/stable/modules/preprocessing.html\n",
      "  self.n_iter_ = _check_optimize_result(\"lbfgs\", opt_res, self.max_iter)\n"
     ]
    },
    {
     "name": "stdout",
     "output_type": "stream",
     "text": [
      "Alpha: 0.100000 - MaxIter: 200.000000 - Train acc: 0.982390 - Val acc: 0.737589\n"
     ]
    },
    {
     "name": "stderr",
     "output_type": "stream",
     "text": [
      "c:\\users\\huynhnhut\\appdata\\local\\programs\\python\\python37\\lib\\site-packages\\sklearn\\neural_network\\_multilayer_perceptron.py:470: ConvergenceWarning: lbfgs failed to converge (status=1):\n",
      "STOP: TOTAL NO. of ITERATIONS REACHED LIMIT.\n",
      "\n",
      "Increase the number of iterations (max_iter) or scale the data as shown in:\n",
      "    https://scikit-learn.org/stable/modules/preprocessing.html\n",
      "  self.n_iter_ = _check_optimize_result(\"lbfgs\", opt_res, self.max_iter)\n"
     ]
    },
    {
     "name": "stdout",
     "output_type": "stream",
     "text": [
      "Alpha: 0.100000 - MaxIter: 500.000000 - Train acc: 0.982390 - Val acc: 0.744681\n",
      "Alpha: 0.100000 - MaxIter: 1000.000000 - Train acc: 0.982390 - Val acc: 0.737589\n"
     ]
    },
    {
     "name": "stderr",
     "output_type": "stream",
     "text": [
      "c:\\users\\huynhnhut\\appdata\\local\\programs\\python\\python37\\lib\\site-packages\\sklearn\\neural_network\\_multilayer_perceptron.py:470: ConvergenceWarning: lbfgs failed to converge (status=1):\n",
      "STOP: TOTAL NO. of ITERATIONS REACHED LIMIT.\n",
      "\n",
      "Increase the number of iterations (max_iter) or scale the data as shown in:\n",
      "    https://scikit-learn.org/stable/modules/preprocessing.html\n",
      "  self.n_iter_ = _check_optimize_result(\"lbfgs\", opt_res, self.max_iter)\n"
     ]
    },
    {
     "name": "stdout",
     "output_type": "stream",
     "text": [
      "Alpha: 1.000000 - MaxIter: 200.000000 - Train acc: 0.982390 - Val acc: 0.758865\n"
     ]
    },
    {
     "name": "stderr",
     "output_type": "stream",
     "text": [
      "c:\\users\\huynhnhut\\appdata\\local\\programs\\python\\python37\\lib\\site-packages\\sklearn\\neural_network\\_multilayer_perceptron.py:470: ConvergenceWarning: lbfgs failed to converge (status=1):\n",
      "STOP: TOTAL NO. of ITERATIONS REACHED LIMIT.\n",
      "\n",
      "Increase the number of iterations (max_iter) or scale the data as shown in:\n",
      "    https://scikit-learn.org/stable/modules/preprocessing.html\n",
      "  self.n_iter_ = _check_optimize_result(\"lbfgs\", opt_res, self.max_iter)\n"
     ]
    },
    {
     "name": "stdout",
     "output_type": "stream",
     "text": [
      "Alpha: 1.000000 - MaxIter: 500.000000 - Train acc: 0.982390 - Val acc: 0.765957\n",
      "Alpha: 1.000000 - MaxIter: 1000.000000 - Train acc: 0.982390 - Val acc: 0.758865\n"
     ]
    },
    {
     "name": "stderr",
     "output_type": "stream",
     "text": [
      "c:\\users\\huynhnhut\\appdata\\local\\programs\\python\\python37\\lib\\site-packages\\sklearn\\neural_network\\_multilayer_perceptron.py:470: ConvergenceWarning: lbfgs failed to converge (status=1):\n",
      "STOP: TOTAL NO. of ITERATIONS REACHED LIMIT.\n",
      "\n",
      "Increase the number of iterations (max_iter) or scale the data as shown in:\n",
      "    https://scikit-learn.org/stable/modules/preprocessing.html\n",
      "  self.n_iter_ = _check_optimize_result(\"lbfgs\", opt_res, self.max_iter)\n"
     ]
    },
    {
     "name": "stdout",
     "output_type": "stream",
     "text": [
      "Alpha: 10.000000 - MaxIter: 200.000000 - Train acc: 0.962264 - Val acc: 0.744681\n",
      "Alpha: 10.000000 - MaxIter: 500.000000 - Train acc: 0.962264 - Val acc: 0.751773\n",
      "Alpha: 10.000000 - MaxIter: 1000.000000 - Train acc: 0.962264 - Val acc: 0.751773\n"
     ]
    }
   ],
   "source": [
    "mlp_classifier = MLPClassifier((40), 'tanh', 'lbfgs', max_iter=200, random_state=0, verbose=False)\n",
    "full_pipeline = Pipeline([('reprocess_data', reprocess_pipeline), ('mlp_classifier', mlp_classifier)])\n",
    "\n",
    "alphas = [0.1, 1, 10]\n",
    "max_iter = [200, 500, 1000]\n",
    "for alpha in alphas:\n",
    "    for iter_ in max_iter:\n",
    "        full_pipeline.set_params(mlp_classifier__alpha=alpha, mlp_classifier__max_iter=iter_)\n",
    "        full_pipeline.fit(train_X_df, train_y_sr)\n",
    "        print('Alpha: %f - MaxIter: %f - Train acc: %f - Val acc: %f' %(alpha, iter_, full_pipeline.score(train_X_df, train_y_sr), full_pipeline.score(val_X_df, val_y_sr)))"
   ]
  },
  {
   "cell_type": "markdown",
   "metadata": {},
   "source": [
    "# SVM"
   ]
  },
  {
   "cell_type": "code",
   "execution_count": 17,
   "metadata": {},
   "outputs": [
    {
     "name": "stderr",
     "output_type": "stream",
     "text": [
      "c:\\users\\huynhnhut\\appdata\\local\\programs\\python\\python37\\lib\\site-packages\\sklearn\\svm\\_base.py:231: ConvergenceWarning: Solver terminated early (max_iter=300).  Consider pre-processing your data with StandardScaler or MinMaxScaler.\n",
      "  % self.max_iter, ConvergenceWarning)\n"
     ]
    },
    {
     "name": "stdout",
     "output_type": "stream",
     "text": [
      "MaxIter: 300.000000 - Train acc: 0.876730 - Val acc: 0.709220\n",
      "MaxIter: 500.000000 - Train acc: 0.877987 - Val acc: 0.709220\n",
      "MaxIter: 1000.000000 - Train acc: 0.877987 - Val acc: 0.709220\n",
      "MaxIter: 2000.000000 - Train acc: 0.877987 - Val acc: 0.709220\n",
      "MaxIter: 4000.000000 - Train acc: 0.877987 - Val acc: 0.709220\n"
     ]
    }
   ],
   "source": [
    "svm_ = svm.SVC(verbose=False, random_state=0, max_iter=100)\n",
    "full_pipeline = Pipeline([('reprocess_data', reprocess_pipeline), ('svm', svm_)])\n",
    "\n",
    "max_iter = [300, 500, 1000, 2000, 4000]\n",
    "for iter_ in max_iter:\n",
    "    full_pipeline.set_params(svm__max_iter=iter_)\n",
    "    full_pipeline.fit(train_X_df, train_y_sr)\n",
    "    print('MaxIter: %f - Train acc: %f - Val acc: %f' %(iter_, full_pipeline.score(train_X_df, train_y_sr), full_pipeline.score(val_X_df, val_y_sr)))"
   ]
  },
  {
   "cell_type": "markdown",
   "metadata": {},
   "source": [
    "# Randomforest"
   ]
  },
  {
   "cell_type": "code",
   "execution_count": 18,
   "metadata": {},
   "outputs": [
    {
     "name": "stdout",
     "output_type": "stream",
     "text": [
      "n_estimator: 100 - Train acc: 0.982390 - Val acc: 0.730496\n",
      "n_estimator: 200 - Train acc: 0.982390 - Val acc: 0.723404\n",
      "n_estimator: 300 - Train acc: 0.982390 - Val acc: 0.723404\n"
     ]
    }
   ],
   "source": [
    "random_forest = RandomForestClassifier(n_estimators=200, verbose=0, n_jobs=4, random_state=0, oob_score=True)\n",
    "full_pipeline = Pipeline([('reprocess_data', reprocess_pipeline), ('random_forest', random_forest)])\n",
    "\n",
    "n_estimators = [100, 200, 300]\n",
    "for n_es_ in n_estimators:\n",
    "    full_pipeline.set_params(random_forest__n_estimators=n_es_)\n",
    "    full_pipeline.fit(train_X_df, train_y_sr)\n",
    "    print('n_estimator: %d - Train acc: %f - Val acc: %f' %(n_es_, full_pipeline.score(train_X_df, train_y_sr), full_pipeline.score(val_X_df, val_y_sr)))"
   ]
  },
  {
   "cell_type": "markdown",
   "metadata": {},
   "source": [
    "# Test"
   ]
  },
  {
   "cell_type": "code",
   "execution_count": 19,
   "metadata": {},
   "outputs": [],
   "source": [
    "test_data_df = pd.read_csv('bestbuy_test_data_classify_price.csv', index_col=False)"
   ]
  },
  {
   "cell_type": "code",
   "execution_count": 21,
   "metadata": {},
   "outputs": [],
   "source": [
    "test_y_sr = test_data_df['Price']\n",
    "test_X_df = test_data_df.drop('Price', axis=1)"
   ]
  },
  {
   "cell_type": "code",
   "execution_count": 28,
   "metadata": {},
   "outputs": [
    {
     "data": {
      "text/plain": [
       "0.8"
      ]
     },
     "execution_count": 28,
     "metadata": {},
     "output_type": "execute_result"
    }
   ],
   "source": [
    "test_model = LogisticRegression(solver='lbfgs', max_iter=50, verbose=0, n_jobs=4, random_state=0)\n",
    "full_pipeline = Pipeline([('reprocess_data', reprocess_pipeline), ('test_model', test_model)])\n",
    "\n",
    "fits = full_pipeline.fit(train_X_df, train_y_sr)\n",
    "score = fits.score(test_X_df, test_y_sr)\n",
    "score"
   ]
  },
  {
   "cell_type": "code",
   "execution_count": 29,
   "metadata": {},
   "outputs": [
    {
     "name": "stdout",
     "output_type": "stream",
     "text": [
      "[[34  3  0  0]\n",
      " [ 4 26  3  0]\n",
      " [ 0  5 14  3]\n",
      " [ 0  0  3 10]]\n"
     ]
    },
    {
     "data": {
      "text/plain": [
       "Text(0.5, 1, 'Accuracy Score: 0.8')"
      ]
     },
     "execution_count": 29,
     "metadata": {},
     "output_type": "execute_result"
    },
    {
     "data": {
      "image/png": "[encoded data removed]",
      "text/plain": [
       "<Figure size 360x360 with 2 Axes>"
      ]
     },
     "metadata": {
      "needs_background": "light"
     },
     "output_type": "display_data"
    }
   ],
   "source": [
    "y_predicted = full_pipeline.predict(test_X_df)\n",
    "cm = metrics.confusion_matrix(test_y_sr, y_predicted)\n",
    "print(cm)\n",
    "\n",
    "plt.figure(figsize=(5,5))\n",
    "sns.heatmap(cm, annot=True, fmt=\".3f\", linewidths=.5, square = True, cmap = 'Oranges_r');\n",
    "plt.ylabel('Actual label')\n",
    "plt.xlabel('Predicted label')\n",
    "all_sample_title = 'Accuracy Score: {0}'.format(score)\n",
    "plt.title(all_sample_title, size = 15)"
   ]
  },
  {
   "cell_type": "code",
   "execution_count": null,
   "metadata": {},
   "outputs": [],
   "source": []
  }
 ],
 "metadata": {
  "kernelspec": {
   "display_name": "Python 3",
   "language": "python",
   "name": "python3"
  },
  "language_info": {
   "codemirror_mode": {
    "name": "ipython",
    "version": 3
   },
   "file_extension": ".py",
   "mimetype": "text/x-python",
   "name": "python",
   "nbconvert_exporter": "python",
   "pygments_lexer": "ipython3",
   "version": "3.7.4"
  }
 },
 "nbformat": 4,
 "nbformat_minor": 4
}
