{
 "cells": [
  {
   "cell_type": "code",
   "execution_count": 1,
   "metadata": {},
   "outputs": [],
   "source": [
    "%matplotlib inline\n",
    "import pandas as pd\n",
    "import numpy as np\n",
    "import matplotlib.pyplot as plt"
   ]
  },
  {
   "cell_type": "code",
   "execution_count": 2,
   "metadata": {},
   "outputs": [],
   "source": [
    "from pandas.plotting import register_matplotlib_converters"
   ]
  },
  {
   "cell_type": "code",
   "execution_count": 3,
   "metadata": {},
   "outputs": [],
   "source": [
    "import re"
   ]
  },
  {
   "cell_type": "code",
   "execution_count": 4,
   "metadata": {},
   "outputs": [
    {
     "name": "stdout",
     "output_type": "stream",
     "text": [
      "<class 'pandas.core.frame.DataFrame'>\n",
      "RangeIndex: 1041 entries, 0 to 1040\n",
      "Data columns (total 168 columns):\n",
      "Price__Price                                        object\n",
      "Key Specs__Backlit Keyboard                         object\n",
      "Key Specs__Screen Size                              object\n",
      "Key Specs__Touch Screen                             object\n",
      "Key Specs__Storage Type                             object\n",
      "Key Specs__Total Storage Capacity                   object\n",
      "Key Specs__eMMC Capacity                            object\n",
      "Key Specs__System Memory (RAM)                      object\n",
      "Key Specs__Graphics                                 object\n",
      "Key Specs__Processor Speed (Base)                   object\n",
      "Key Specs__Processor Model                          object\n",
      "Key Specs__Processor Model Number                   object\n",
      "Key Specs__Operating System                         object\n",
      "Key Specs__Battery Type                             object\n",
      "Key Specs__Solid State Drive Capacity               object\n",
      "Key Specs__2-in-1 Design                            object\n",
      "Key Specs__Battery Life                             object\n",
      "Key Specs__Voice Assistant Built-in                 object\n",
      "Key Specs__Hard Drive Capacity                      object\n",
      "Key Specs__Security Features                        object\n",
      "Key Specs__Screen Resolution                        object\n",
      "Key Specs__Internet Connectivity                    object\n",
      "Key Specs__Works With                               object\n",
      "General__Product Name                               object\n",
      "General__Brand                                      object\n",
      "General__Model Number                               object\n",
      "General__Color                                      object\n",
      "General__Color Category                             object\n",
      "General__Casing Material                            object\n",
      "General__Year Introduced                            object\n",
      "General__Data Plan Required                         object\n",
      "General__Model Family                               object\n",
      "General__Year of Release                            float64\n",
      "Feature__Keyboard Touch Screen                      object\n",
      "Feature__Backlit Keyboard                           object\n",
      "Feature__Cooling System                             object\n",
      "Feature__Operating System Architecture              object\n",
      "Feature__Chrome Features                            object\n",
      "Feature__2-in-1 Design                              object\n",
      "Feature__Touchpad Type                              object\n",
      "Feature__Security Features                          object\n",
      "Feature__Mac Features                               object\n",
      "Feature__Ultrabook                                  object\n",
      "Feature__Total Storage Capacity                     object\n",
      "Feature__GPS Enabled                                object\n",
      "Feature__Keyboard Included                          object\n",
      "Feature__Stylus Dock                                object\n",
      "Feature__Wake Word                                  object\n",
      "Feature__Customizable Case Lighting                 object\n",
      "Feature__Windows Features                           object\n",
      "Feature__Cable Lock Slot                            object\n",
      "Feature__Customizable Keyboard Lighting             object\n",
      "Feature__Rugged Design                              object\n",
      "Ports__Headphone Jack                               object\n",
      "Ports__Number of USB Ports (Total)                  float64\n",
      "Ports__Number of USB 2.0 Type A Ports               float64\n",
      "Ports__Number of USB 3.0 Type A Ports               float64\n",
      "Ports__Number of HDMI Outputs (Total)               float64\n",
      "Ports__Number of USB 3.1 Type C Ports               float64\n",
      "Ports__Number of USB Type C Charging Ports          float64\n",
      "Ports__Number of USB 3.1 Type A Ports               float64\n",
      "Ports__Number of Thunderbolt Ports (Total)          float64\n",
      "Ports__Number of Thunderbolt 3 Ports                float64\n",
      "Ports__Number of USB 3.0 Type C Ports               float64\n",
      "Ports__Number of USB 2.0 Type C Ports               float64\n",
      "Ports__Number of Thunderbolt 2 Ports                float64\n",
      "Ports__Number of VGA Ports                          float64\n",
      "Ports__Number Of IEEE 1394 Ports                    float64\n",
      "Ports__Number of DisplayPort Outputs (Total)        float64\n",
      "Ports__Number of DisplayPort Ver. 1.4 Outputs       float64\n",
      "Ports__Number of HDMI HDCP 2.2 Outputs              float64\n",
      "Ports__Number of DisplayPort Ver. 1.2 Outputs       float64\n",
      "Ports__Number of USB Type A Charging Ports          float64\n",
      "Ports__Number of DisplayPort Ver. 1.3 Outputs       float64\n",
      "Display__Screen Size                                object\n",
      "Display__Screen Resolution                          object\n",
      "Display__Touch Screen                               object\n",
      "Display__Display Type                               object\n",
      "Display__Screen Type                                object\n",
      "Display__High Dynamic Range (HDR)                   object\n",
      "Display__Stylus Input                               object\n",
      "Display__Wireless Display                           object\n",
      "Storage__Storage Type                               object\n",
      "Storage__Total Storage Capacity                     object\n",
      "Storage__eMMC Capacity                              object\n",
      "Storage__Hard Drive Accelerator                     object\n",
      "Storage__Solid State Drive Capacity                 object\n",
      "Storage__Solid State Drive Interface                object\n",
      "Storage__Hard Drive Capacity                        object\n",
      "Storage__Hard Drive Interface                       object\n",
      "Storage__Hard Drive RPM                             object\n",
      "Memory__System Memory (RAM)                         object\n",
      "Memory__Type of Memory (RAM)                        object\n",
      "Memory__System Memory RAM Speed                     object\n",
      "Memory__Cache Memory                                object\n",
      "Memory__Media Card Reader                           object\n",
      "Memory__System Memory RAM Expandable To             object\n",
      "Memory__Number Of Memory Slots                      float64\n",
      "Memory__Number of Memory Sticks Included            float64\n",
      "Graphics__Graphics                                  object\n",
      "Graphics__Graphics Type                             object\n",
      "Graphics__Video Memory Type                         object\n",
      "Graphics__GPU Brand                                 object\n",
      "Graphics__Video Memory                              object\n",
      "Processor__Processor Brand                          object\n",
      "Processor__Processor Speed (Base)                   object\n",
      "Processor__Processor Model                          object\n",
      "Processor__Processor Model Number                   object\n",
      "Connectivity__Internet Connectivity                 object\n",
      "Connectivity__Bluetooth Enabled                     object\n",
      "Connectivity__Embedded Mobile Broadband             object\n",
      "Connectivity__NFC Enabled                           object\n",
      "Connectivity__Compatible Wireless Standard(s)       object\n",
      "Connectivity__Bluetooth Version                     float64\n",
      "Connectivity__Headphone Jack                        object\n",
      "Connectivity__Interface(s)                          object\n",
      "Network__Wireless Networking                        object\n",
      "Network__Ethernet                                   object\n",
      "Network__Ethernet Card                              object\n",
      "Network__Number Of Ethernet Ports                   float64\n",
      "Network__Carrier                                    object\n",
      "Compatibility__Operating System                     object\n",
      "Compatibility__Voice Assistant Built-in             object\n",
      "Compatibility__Operating System Compatibility       object\n",
      "Compatibility__Expandable Memory Compatibility      object\n",
      "Compatibility__Works With                           object\n",
      "Compatibility__Virtual Reality Compatibility        object\n",
      "Included__Built-In Webcam                           object\n",
      "Included__Optical Drive Type                        object\n",
      "Included__Additional Accessories Included           object\n",
      "Included__Included Software                         object\n",
      "Included__Numeric Keypad                            object\n",
      "Included__Stylus Included                           object\n",
      "Included__Blu-Ray Player                            object\n",
      "Power__Battery Type                                 object\n",
      "Power__Battery Cells                                object\n",
      "Power__Battery Life                                 object\n",
      "Power__Charging Interface(s)                        object\n",
      "Power__Battery Capacity                             object\n",
      "Power__Charging Interface Generation/Version        float64\n",
      "Dimension__Product Height                           object\n",
      "Dimension__Product Width                            object\n",
      "Dimension__Product Depth                            object\n",
      "Dimension__Product Weight                           object\n",
      "Audio__Speaker Type                                 object\n",
      "Audio__Audio Technology                             object\n",
      "Certifications & Listings__ENERGY STAR Certified    object\n",
      "Certifications & Listings__EPEAT Qualified          object\n",
      "Certifications & Listings__EPEAT Level              object\n",
      "Warranty__Manufacturer's Warranty - Parts           object\n",
      "Warranty__Manufacturer's Warranty - Labor           object\n",
      "Other__UPC                                          int64\n",
      "Other__Internal Carrier                             object\n",
      "Other__Product Name                                 object\n",
      "Other__Brand                                        object\n",
      "Camera__Rear-Facing Camera                          object\n",
      "Camera__Rear Facing Camera Megapixels               object\n",
      "Camera__Rear Facing Camera Video Resolution         object\n",
      "Camera__Front-Facing Camera                         object\n",
      "Camera__Front Facing Camera Megapixels              object\n",
      "Camera__Front Facing Camera Video Resolution        object\n",
      "Performance__Battery Life                           object\n",
      "Performance__System Memory (RAM)                    object\n",
      "Performance__Processor Brand                        object\n",
      "Performance__Processor Model                        object\n",
      "Expansion__Number of M.2 Slots                      float64\n",
      "Expansion__Number Of Internal 2.5\" Bays             float64\n",
      "Expansion__Number Of eSATA Ports                    float64\n",
      "dtypes: float64(29), int64(1), object(138)\n",
      "memory usage: 1.3+ MB\n"
     ]
    }
   ],
   "source": [
    "colnames = ['Price', 'ScreenSize', 'MaxScreenResolution', 'Processor', 'RAM',\n",
    "       'HardDrive', 'GraphicsCoprocessor', 'ChipsetBrand',\n",
    "       'CardDescription', 'WirelessType', 'NumberOfUSB2.0Ports',\n",
    "       'NumberOfUSB3.0Ports', 'BrandName', 'Series', 'ItemModelNumber',\n",
    "       'OperatingSystem', 'ItemWeight', 'ProductDimensions',\n",
    "       'ItemDimensions_L_W_H', 'Color', 'ProcessorBrand',\n",
    "       'ProcessorCount', 'ComputerMemoryType', 'FlashMemorySize',\n",
    "       'HardDriveInterface', 'HardDriveRotationalSpeed',\n",
    "       'OpticalDriveType', 'Batteries', 'ScreenResolution',\n",
    "       'AverageBatteryLife', 'HardwarePlatform',\n",
    "       'RearWebcamResolution', 'PowerSource', 'Voltage', 'MemorySpeed',\n",
    "       'CaliforniaResidents', 'GraphicsCardRamSize',\n",
    "       'NationalStockNumber', 'PackageDimensions', 'Audio-outPorts',\n",
    "       'BatteryType']\n",
    "amazon_data = pd.read_csv('bestbuy_product_infos.csv', sep='\\t')#, names=colnames, index_col=False)#, encoding='unicode_escape')#, error_bad_lines=False)\n",
    "amazon_data.info(verbose=1)"
   ]
  },
  {
   "cell_type": "code",
   "execution_count": 5,
   "metadata": {},
   "outputs": [
    {
     "data": {
      "text/html": [
       "<div>\n",
       "<style scoped>\n",
       "    .dataframe tbody tr th:only-of-type {\n",
       "        vertical-align: middle;\n",
       "    }\n",
       "\n",
       "    .dataframe tbody tr th {\n",
       "        vertical-align: top;\n",
       "    }\n",
       "\n",
       "    .dataframe thead th {\n",
       "        text-align: right;\n",
       "    }\n",
       "</style>\n",
       "<table border=\"1\" class=\"dataframe\">\n",
       "  <thead>\n",
       "    <tr style=\"text-align: right;\">\n",
       "      <th></th>\n",
       "      <th>Price__Price</th>\n",
       "      <th>Key Specs__Backlit Keyboard</th>\n",
       "      <th>Key Specs__Screen Size</th>\n",
       "      <th>Key Specs__Touch Screen</th>\n",
       "      <th>Key Specs__Storage Type</th>\n",
       "      <th>Key Specs__Total Storage Capacity</th>\n",
       "      <th>Key Specs__eMMC Capacity</th>\n",
       "      <th>Key Specs__System Memory (RAM)</th>\n",
       "      <th>Key Specs__Graphics</th>\n",
       "      <th>Key Specs__Processor Speed (Base)</th>\n",
       "      <th>...</th>\n",
       "      <th>Camera__Front-Facing Camera</th>\n",
       "      <th>Camera__Front Facing Camera Megapixels</th>\n",
       "      <th>Camera__Front Facing Camera Video Resolution</th>\n",
       "      <th>Performance__Battery Life</th>\n",
       "      <th>Performance__System Memory (RAM)</th>\n",
       "      <th>Performance__Processor Brand</th>\n",
       "      <th>Performance__Processor Model</th>\n",
       "      <th>Expansion__Number of M.2 Slots</th>\n",
       "      <th>Expansion__Number Of Internal 2.5\" Bays</th>\n",
       "      <th>Expansion__Number Of eSATA Ports</th>\n",
       "    </tr>\n",
       "  </thead>\n",
       "  <tbody>\n",
       "    <tr>\n",
       "      <th>0</th>\n",
       "      <td>Your price for this item is $119.00</td>\n",
       "      <td>No</td>\n",
       "      <td>11.6 inches</td>\n",
       "      <td>No</td>\n",
       "      <td>eMMC</td>\n",
       "      <td>32 gigabytes</td>\n",
       "      <td>32 gigabytes</td>\n",
       "      <td>4 gigabytes</td>\n",
       "      <td>None</td>\n",
       "      <td>1.04 gigahertz</td>\n",
       "      <td>...</td>\n",
       "      <td>NaN</td>\n",
       "      <td>NaN</td>\n",
       "      <td>NaN</td>\n",
       "      <td>NaN</td>\n",
       "      <td>NaN</td>\n",
       "      <td>NaN</td>\n",
       "      <td>NaN</td>\n",
       "      <td>NaN</td>\n",
       "      <td>NaN</td>\n",
       "      <td>NaN</td>\n",
       "    </tr>\n",
       "    <tr>\n",
       "      <th>1</th>\n",
       "      <td>Your price for this item is $279.99</td>\n",
       "      <td>No</td>\n",
       "      <td>15.6 inches</td>\n",
       "      <td>Yes</td>\n",
       "      <td>SSD</td>\n",
       "      <td>128 gigabytes</td>\n",
       "      <td>NaN</td>\n",
       "      <td>8 gigabytes</td>\n",
       "      <td>Intel UHD Graphics 620</td>\n",
       "      <td>2.1 gigahertz</td>\n",
       "      <td>...</td>\n",
       "      <td>NaN</td>\n",
       "      <td>NaN</td>\n",
       "      <td>NaN</td>\n",
       "      <td>NaN</td>\n",
       "      <td>NaN</td>\n",
       "      <td>NaN</td>\n",
       "      <td>NaN</td>\n",
       "      <td>NaN</td>\n",
       "      <td>NaN</td>\n",
       "      <td>NaN</td>\n",
       "    </tr>\n",
       "    <tr>\n",
       "      <th>2</th>\n",
       "      <td>Your price for this item is $349.99</td>\n",
       "      <td>No</td>\n",
       "      <td>15.6 inches</td>\n",
       "      <td>Yes</td>\n",
       "      <td>SSD</td>\n",
       "      <td>256 gigabytes</td>\n",
       "      <td>NaN</td>\n",
       "      <td>8 gigabytes</td>\n",
       "      <td>Intel UHD Graphics 620</td>\n",
       "      <td>1.6 gigahertz</td>\n",
       "      <td>...</td>\n",
       "      <td>NaN</td>\n",
       "      <td>NaN</td>\n",
       "      <td>NaN</td>\n",
       "      <td>NaN</td>\n",
       "      <td>NaN</td>\n",
       "      <td>NaN</td>\n",
       "      <td>NaN</td>\n",
       "      <td>NaN</td>\n",
       "      <td>NaN</td>\n",
       "      <td>NaN</td>\n",
       "    </tr>\n",
       "    <tr>\n",
       "      <th>3</th>\n",
       "      <td>Your price for this item is $349.00</td>\n",
       "      <td>Yes</td>\n",
       "      <td>14 inches</td>\n",
       "      <td>Yes</td>\n",
       "      <td>eMMC</td>\n",
       "      <td>64 gigabytes</td>\n",
       "      <td>64 gigabytes</td>\n",
       "      <td>8 gigabytes</td>\n",
       "      <td>Intel UHD Graphics 620</td>\n",
       "      <td>2.2 gigahertz</td>\n",
       "      <td>...</td>\n",
       "      <td>NaN</td>\n",
       "      <td>NaN</td>\n",
       "      <td>NaN</td>\n",
       "      <td>NaN</td>\n",
       "      <td>NaN</td>\n",
       "      <td>NaN</td>\n",
       "      <td>NaN</td>\n",
       "      <td>NaN</td>\n",
       "      <td>NaN</td>\n",
       "      <td>NaN</td>\n",
       "    </tr>\n",
       "    <tr>\n",
       "      <th>4</th>\n",
       "      <td>Your price for this item is $499.99</td>\n",
       "      <td>Yes</td>\n",
       "      <td>14 inches</td>\n",
       "      <td>Yes</td>\n",
       "      <td>SSD</td>\n",
       "      <td>256 gigabytes</td>\n",
       "      <td>NaN</td>\n",
       "      <td>8 gigabytes</td>\n",
       "      <td>None</td>\n",
       "      <td>1.6 gigahertz</td>\n",
       "      <td>...</td>\n",
       "      <td>NaN</td>\n",
       "      <td>NaN</td>\n",
       "      <td>NaN</td>\n",
       "      <td>NaN</td>\n",
       "      <td>NaN</td>\n",
       "      <td>NaN</td>\n",
       "      <td>NaN</td>\n",
       "      <td>NaN</td>\n",
       "      <td>NaN</td>\n",
       "      <td>NaN</td>\n",
       "    </tr>\n",
       "  </tbody>\n",
       "</table>\n",
       "<p>5 rows × 168 columns</p>\n",
       "</div>"
      ],
      "text/plain": [
       "                          Price__Price Key Specs__Backlit Keyboard  \\\n",
       "0  Your price for this item is $119.00                          No   \n",
       "1  Your price for this item is $279.99                          No   \n",
       "2  Your price for this item is $349.99                          No   \n",
       "3  Your price for this item is $349.00                         Yes   \n",
       "4  Your price for this item is $499.99                         Yes   \n",
       "\n",
       "  Key Specs__Screen Size Key Specs__Touch Screen Key Specs__Storage Type  \\\n",
       "0            11.6 inches                      No                    eMMC   \n",
       "1            15.6 inches                     Yes                     SSD   \n",
       "2            15.6 inches                     Yes                     SSD   \n",
       "3              14 inches                     Yes                    eMMC   \n",
       "4              14 inches                     Yes                     SSD   \n",
       "\n",
       "  Key Specs__Total Storage Capacity Key Specs__eMMC Capacity  \\\n",
       "0                      32 gigabytes             32 gigabytes   \n",
       "1                     128 gigabytes                      NaN   \n",
       "2                     256 gigabytes                      NaN   \n",
       "3                      64 gigabytes             64 gigabytes   \n",
       "4                     256 gigabytes                      NaN   \n",
       "\n",
       "  Key Specs__System Memory (RAM)     Key Specs__Graphics  \\\n",
       "0                    4 gigabytes                    None   \n",
       "1                    8 gigabytes  Intel UHD Graphics 620   \n",
       "2                    8 gigabytes  Intel UHD Graphics 620   \n",
       "3                    8 gigabytes  Intel UHD Graphics 620   \n",
       "4                    8 gigabytes                    None   \n",
       "\n",
       "  Key Specs__Processor Speed (Base)  ... Camera__Front-Facing Camera  \\\n",
       "0                    1.04 gigahertz  ...                         NaN   \n",
       "1                     2.1 gigahertz  ...                         NaN   \n",
       "2                     1.6 gigahertz  ...                         NaN   \n",
       "3                     2.2 gigahertz  ...                         NaN   \n",
       "4                     1.6 gigahertz  ...                         NaN   \n",
       "\n",
       "  Camera__Front Facing Camera Megapixels  \\\n",
       "0                                    NaN   \n",
       "1                                    NaN   \n",
       "2                                    NaN   \n",
       "3                                    NaN   \n",
       "4                                    NaN   \n",
       "\n",
       "  Camera__Front Facing Camera Video Resolution Performance__Battery Life  \\\n",
       "0                                          NaN                       NaN   \n",
       "1                                          NaN                       NaN   \n",
       "2                                          NaN                       NaN   \n",
       "3                                          NaN                       NaN   \n",
       "4                                          NaN                       NaN   \n",
       "\n",
       "  Performance__System Memory (RAM) Performance__Processor Brand  \\\n",
       "0                              NaN                          NaN   \n",
       "1                              NaN                          NaN   \n",
       "2                              NaN                          NaN   \n",
       "3                              NaN                          NaN   \n",
       "4                              NaN                          NaN   \n",
       "\n",
       "  Performance__Processor Model Expansion__Number of M.2 Slots  \\\n",
       "0                          NaN                            NaN   \n",
       "1                          NaN                            NaN   \n",
       "2                          NaN                            NaN   \n",
       "3                          NaN                            NaN   \n",
       "4                          NaN                            NaN   \n",
       "\n",
       "  Expansion__Number Of Internal 2.5\" Bays Expansion__Number Of eSATA Ports  \n",
       "0                                     NaN                              NaN  \n",
       "1                                     NaN                              NaN  \n",
       "2                                     NaN                              NaN  \n",
       "3                                     NaN                              NaN  \n",
       "4                                     NaN                              NaN  \n",
       "\n",
       "[5 rows x 168 columns]"
      ]
     },
     "execution_count": 5,
     "metadata": {},
     "output_type": "execute_result"
    }
   ],
   "source": [
    "amazon_data.head(5)"
   ]
  },
  {
   "cell_type": "code",
   "execution_count": 6,
   "metadata": {},
   "outputs": [
    {
     "data": {
      "text/html": [
       "<div>\n",
       "<style scoped>\n",
       "    .dataframe tbody tr th:only-of-type {\n",
       "        vertical-align: middle;\n",
       "    }\n",
       "\n",
       "    .dataframe tbody tr th {\n",
       "        vertical-align: top;\n",
       "    }\n",
       "\n",
       "    .dataframe thead th {\n",
       "        text-align: right;\n",
       "    }\n",
       "</style>\n",
       "<table border=\"1\" class=\"dataframe\">\n",
       "  <thead>\n",
       "    <tr style=\"text-align: right;\">\n",
       "      <th></th>\n",
       "      <th>General__Year of Release</th>\n",
       "      <th>Ports__Number of USB Ports (Total)</th>\n",
       "      <th>Ports__Number of USB 2.0 Type A Ports</th>\n",
       "      <th>Ports__Number of USB 3.0 Type A Ports</th>\n",
       "      <th>Ports__Number of HDMI Outputs (Total)</th>\n",
       "      <th>Ports__Number of USB 3.1 Type C Ports</th>\n",
       "      <th>Ports__Number of USB Type C Charging Ports</th>\n",
       "      <th>Ports__Number of USB 3.1 Type A Ports</th>\n",
       "      <th>Ports__Number of Thunderbolt Ports (Total)</th>\n",
       "      <th>Ports__Number of Thunderbolt 3 Ports</th>\n",
       "      <th>...</th>\n",
       "      <th>Ports__Number of DisplayPort Ver. 1.3 Outputs</th>\n",
       "      <th>Memory__Number Of Memory Slots</th>\n",
       "      <th>Memory__Number of Memory Sticks Included</th>\n",
       "      <th>Connectivity__Bluetooth Version</th>\n",
       "      <th>Network__Number Of Ethernet Ports</th>\n",
       "      <th>Power__Charging Interface Generation/Version</th>\n",
       "      <th>Other__UPC</th>\n",
       "      <th>Expansion__Number of M.2 Slots</th>\n",
       "      <th>Expansion__Number Of Internal 2.5\" Bays</th>\n",
       "      <th>Expansion__Number Of eSATA Ports</th>\n",
       "    </tr>\n",
       "  </thead>\n",
       "  <tbody>\n",
       "    <tr>\n",
       "      <th>count</th>\n",
       "      <td>8.000000</td>\n",
       "      <td>936.000000</td>\n",
       "      <td>265.000000</td>\n",
       "      <td>714.000000</td>\n",
       "      <td>686.000000</td>\n",
       "      <td>518.000000</td>\n",
       "      <td>34.000000</td>\n",
       "      <td>111.000000</td>\n",
       "      <td>267.000000</td>\n",
       "      <td>257.000000</td>\n",
       "      <td>...</td>\n",
       "      <td>1.0</td>\n",
       "      <td>453.000000</td>\n",
       "      <td>293.000000</td>\n",
       "      <td>8.0</td>\n",
       "      <td>509.000000</td>\n",
       "      <td>3.0</td>\n",
       "      <td>1.041000e+03</td>\n",
       "      <td>45.000000</td>\n",
       "      <td>42.000000</td>\n",
       "      <td>7.000000</td>\n",
       "    </tr>\n",
       "    <tr>\n",
       "      <th>mean</th>\n",
       "      <td>2017.750000</td>\n",
       "      <td>2.642094</td>\n",
       "      <td>1.362264</td>\n",
       "      <td>2.095238</td>\n",
       "      <td>0.989796</td>\n",
       "      <td>1.353282</td>\n",
       "      <td>1.470588</td>\n",
       "      <td>2.018018</td>\n",
       "      <td>1.441948</td>\n",
       "      <td>1.529183</td>\n",
       "      <td>...</td>\n",
       "      <td>0.0</td>\n",
       "      <td>1.849890</td>\n",
       "      <td>1.491468</td>\n",
       "      <td>4.1</td>\n",
       "      <td>0.966601</td>\n",
       "      <td>3.0</td>\n",
       "      <td>5.416376e+11</td>\n",
       "      <td>1.911111</td>\n",
       "      <td>0.976190</td>\n",
       "      <td>0.714286</td>\n",
       "    </tr>\n",
       "    <tr>\n",
       "      <th>std</th>\n",
       "      <td>0.707107</td>\n",
       "      <td>0.863460</td>\n",
       "      <td>0.547801</td>\n",
       "      <td>0.843691</td>\n",
       "      <td>0.114168</td>\n",
       "      <td>0.701407</td>\n",
       "      <td>0.861123</td>\n",
       "      <td>0.539056</td>\n",
       "      <td>0.835874</td>\n",
       "      <td>0.901455</td>\n",
       "      <td>...</td>\n",
       "      <td>NaN</td>\n",
       "      <td>0.594578</td>\n",
       "      <td>0.761282</td>\n",
       "      <td>0.0</td>\n",
       "      <td>0.179852</td>\n",
       "      <td>0.0</td>\n",
       "      <td>3.141824e+11</td>\n",
       "      <td>0.900056</td>\n",
       "      <td>0.154303</td>\n",
       "      <td>0.487950</td>\n",
       "    </tr>\n",
       "    <tr>\n",
       "      <th>min</th>\n",
       "      <td>2016.000000</td>\n",
       "      <td>0.000000</td>\n",
       "      <td>0.000000</td>\n",
       "      <td>0.000000</td>\n",
       "      <td>0.000000</td>\n",
       "      <td>0.000000</td>\n",
       "      <td>0.000000</td>\n",
       "      <td>1.000000</td>\n",
       "      <td>1.000000</td>\n",
       "      <td>1.000000</td>\n",
       "      <td>...</td>\n",
       "      <td>0.0</td>\n",
       "      <td>1.000000</td>\n",
       "      <td>0.000000</td>\n",
       "      <td>4.1</td>\n",
       "      <td>0.000000</td>\n",
       "      <td>3.0</td>\n",
       "      <td>1.901984e+11</td>\n",
       "      <td>0.000000</td>\n",
       "      <td>0.000000</td>\n",
       "      <td>0.000000</td>\n",
       "    </tr>\n",
       "    <tr>\n",
       "      <th>25%</th>\n",
       "      <td>2018.000000</td>\n",
       "      <td>2.000000</td>\n",
       "      <td>1.000000</td>\n",
       "      <td>2.000000</td>\n",
       "      <td>1.000000</td>\n",
       "      <td>1.000000</td>\n",
       "      <td>1.000000</td>\n",
       "      <td>2.000000</td>\n",
       "      <td>1.000000</td>\n",
       "      <td>1.000000</td>\n",
       "      <td>...</td>\n",
       "      <td>0.0</td>\n",
       "      <td>2.000000</td>\n",
       "      <td>1.000000</td>\n",
       "      <td>4.1</td>\n",
       "      <td>1.000000</td>\n",
       "      <td>3.0</td>\n",
       "      <td>1.933863e+11</td>\n",
       "      <td>1.000000</td>\n",
       "      <td>1.000000</td>\n",
       "      <td>0.500000</td>\n",
       "    </tr>\n",
       "    <tr>\n",
       "      <th>50%</th>\n",
       "      <td>2018.000000</td>\n",
       "      <td>3.000000</td>\n",
       "      <td>1.000000</td>\n",
       "      <td>2.000000</td>\n",
       "      <td>1.000000</td>\n",
       "      <td>1.000000</td>\n",
       "      <td>1.000000</td>\n",
       "      <td>2.000000</td>\n",
       "      <td>1.000000</td>\n",
       "      <td>1.000000</td>\n",
       "      <td>...</td>\n",
       "      <td>0.0</td>\n",
       "      <td>2.000000</td>\n",
       "      <td>1.000000</td>\n",
       "      <td>4.1</td>\n",
       "      <td>1.000000</td>\n",
       "      <td>3.0</td>\n",
       "      <td>6.439076e+11</td>\n",
       "      <td>2.000000</td>\n",
       "      <td>1.000000</td>\n",
       "      <td>1.000000</td>\n",
       "    </tr>\n",
       "    <tr>\n",
       "      <th>75%</th>\n",
       "      <td>2018.000000</td>\n",
       "      <td>3.000000</td>\n",
       "      <td>2.000000</td>\n",
       "      <td>3.000000</td>\n",
       "      <td>1.000000</td>\n",
       "      <td>2.000000</td>\n",
       "      <td>2.000000</td>\n",
       "      <td>2.000000</td>\n",
       "      <td>2.000000</td>\n",
       "      <td>2.000000</td>\n",
       "      <td>...</td>\n",
       "      <td>0.0</td>\n",
       "      <td>2.000000</td>\n",
       "      <td>2.000000</td>\n",
       "      <td>4.1</td>\n",
       "      <td>1.000000</td>\n",
       "      <td>3.0</td>\n",
       "      <td>8.416311e+11</td>\n",
       "      <td>3.000000</td>\n",
       "      <td>1.000000</td>\n",
       "      <td>1.000000</td>\n",
       "    </tr>\n",
       "    <tr>\n",
       "      <th>max</th>\n",
       "      <td>2018.000000</td>\n",
       "      <td>5.000000</td>\n",
       "      <td>4.000000</td>\n",
       "      <td>5.000000</td>\n",
       "      <td>2.000000</td>\n",
       "      <td>4.000000</td>\n",
       "      <td>4.000000</td>\n",
       "      <td>4.000000</td>\n",
       "      <td>4.000000</td>\n",
       "      <td>4.000000</td>\n",
       "      <td>...</td>\n",
       "      <td>0.0</td>\n",
       "      <td>4.000000</td>\n",
       "      <td>4.000000</td>\n",
       "      <td>4.1</td>\n",
       "      <td>1.000000</td>\n",
       "      <td>3.0</td>\n",
       "      <td>8.898996e+11</td>\n",
       "      <td>3.000000</td>\n",
       "      <td>1.000000</td>\n",
       "      <td>1.000000</td>\n",
       "    </tr>\n",
       "  </tbody>\n",
       "</table>\n",
       "<p>8 rows × 30 columns</p>\n",
       "</div>"
      ],
      "text/plain": [
       "       General__Year of Release  Ports__Number of USB Ports (Total)  \\\n",
       "count                  8.000000                          936.000000   \n",
       "mean                2017.750000                            2.642094   \n",
       "std                    0.707107                            0.863460   \n",
       "min                 2016.000000                            0.000000   \n",
       "25%                 2018.000000                            2.000000   \n",
       "50%                 2018.000000                            3.000000   \n",
       "75%                 2018.000000                            3.000000   \n",
       "max                 2018.000000                            5.000000   \n",
       "\n",
       "       Ports__Number of USB 2.0 Type A Ports  \\\n",
       "count                             265.000000   \n",
       "mean                                1.362264   \n",
       "std                                 0.547801   \n",
       "min                                 0.000000   \n",
       "25%                                 1.000000   \n",
       "50%                                 1.000000   \n",
       "75%                                 2.000000   \n",
       "max                                 4.000000   \n",
       "\n",
       "       Ports__Number of USB 3.0 Type A Ports  \\\n",
       "count                             714.000000   \n",
       "mean                                2.095238   \n",
       "std                                 0.843691   \n",
       "min                                 0.000000   \n",
       "25%                                 2.000000   \n",
       "50%                                 2.000000   \n",
       "75%                                 3.000000   \n",
       "max                                 5.000000   \n",
       "\n",
       "       Ports__Number of HDMI Outputs (Total)  \\\n",
       "count                             686.000000   \n",
       "mean                                0.989796   \n",
       "std                                 0.114168   \n",
       "min                                 0.000000   \n",
       "25%                                 1.000000   \n",
       "50%                                 1.000000   \n",
       "75%                                 1.000000   \n",
       "max                                 2.000000   \n",
       "\n",
       "       Ports__Number of USB 3.1 Type C Ports  \\\n",
       "count                             518.000000   \n",
       "mean                                1.353282   \n",
       "std                                 0.701407   \n",
       "min                                 0.000000   \n",
       "25%                                 1.000000   \n",
       "50%                                 1.000000   \n",
       "75%                                 2.000000   \n",
       "max                                 4.000000   \n",
       "\n",
       "       Ports__Number of USB Type C Charging Ports  \\\n",
       "count                                   34.000000   \n",
       "mean                                     1.470588   \n",
       "std                                      0.861123   \n",
       "min                                      0.000000   \n",
       "25%                                      1.000000   \n",
       "50%                                      1.000000   \n",
       "75%                                      2.000000   \n",
       "max                                      4.000000   \n",
       "\n",
       "       Ports__Number of USB 3.1 Type A Ports  \\\n",
       "count                             111.000000   \n",
       "mean                                2.018018   \n",
       "std                                 0.539056   \n",
       "min                                 1.000000   \n",
       "25%                                 2.000000   \n",
       "50%                                 2.000000   \n",
       "75%                                 2.000000   \n",
       "max                                 4.000000   \n",
       "\n",
       "       Ports__Number of Thunderbolt Ports (Total)  \\\n",
       "count                                  267.000000   \n",
       "mean                                     1.441948   \n",
       "std                                      0.835874   \n",
       "min                                      1.000000   \n",
       "25%                                      1.000000   \n",
       "50%                                      1.000000   \n",
       "75%                                      2.000000   \n",
       "max                                      4.000000   \n",
       "\n",
       "       Ports__Number of Thunderbolt 3 Ports  ...  \\\n",
       "count                            257.000000  ...   \n",
       "mean                               1.529183  ...   \n",
       "std                                0.901455  ...   \n",
       "min                                1.000000  ...   \n",
       "25%                                1.000000  ...   \n",
       "50%                                1.000000  ...   \n",
       "75%                                2.000000  ...   \n",
       "max                                4.000000  ...   \n",
       "\n",
       "       Ports__Number of DisplayPort Ver. 1.3 Outputs  \\\n",
       "count                                            1.0   \n",
       "mean                                             0.0   \n",
       "std                                              NaN   \n",
       "min                                              0.0   \n",
       "25%                                              0.0   \n",
       "50%                                              0.0   \n",
       "75%                                              0.0   \n",
       "max                                              0.0   \n",
       "\n",
       "       Memory__Number Of Memory Slots  \\\n",
       "count                      453.000000   \n",
       "mean                         1.849890   \n",
       "std                          0.594578   \n",
       "min                          1.000000   \n",
       "25%                          2.000000   \n",
       "50%                          2.000000   \n",
       "75%                          2.000000   \n",
       "max                          4.000000   \n",
       "\n",
       "       Memory__Number of Memory Sticks Included  \\\n",
       "count                                293.000000   \n",
       "mean                                   1.491468   \n",
       "std                                    0.761282   \n",
       "min                                    0.000000   \n",
       "25%                                    1.000000   \n",
       "50%                                    1.000000   \n",
       "75%                                    2.000000   \n",
       "max                                    4.000000   \n",
       "\n",
       "       Connectivity__Bluetooth Version  Network__Number Of Ethernet Ports  \\\n",
       "count                              8.0                         509.000000   \n",
       "mean                               4.1                           0.966601   \n",
       "std                                0.0                           0.179852   \n",
       "min                                4.1                           0.000000   \n",
       "25%                                4.1                           1.000000   \n",
       "50%                                4.1                           1.000000   \n",
       "75%                                4.1                           1.000000   \n",
       "max                                4.1                           1.000000   \n",
       "\n",
       "       Power__Charging Interface Generation/Version    Other__UPC  \\\n",
       "count                                           3.0  1.041000e+03   \n",
       "mean                                            3.0  5.416376e+11   \n",
       "std                                             0.0  3.141824e+11   \n",
       "min                                             3.0  1.901984e+11   \n",
       "25%                                             3.0  1.933863e+11   \n",
       "50%                                             3.0  6.439076e+11   \n",
       "75%                                             3.0  8.416311e+11   \n",
       "max                                             3.0  8.898996e+11   \n",
       "\n",
       "       Expansion__Number of M.2 Slots  \\\n",
       "count                       45.000000   \n",
       "mean                         1.911111   \n",
       "std                          0.900056   \n",
       "min                          0.000000   \n",
       "25%                          1.000000   \n",
       "50%                          2.000000   \n",
       "75%                          3.000000   \n",
       "max                          3.000000   \n",
       "\n",
       "       Expansion__Number Of Internal 2.5\" Bays  \\\n",
       "count                                42.000000   \n",
       "mean                                  0.976190   \n",
       "std                                   0.154303   \n",
       "min                                   0.000000   \n",
       "25%                                   1.000000   \n",
       "50%                                   1.000000   \n",
       "75%                                   1.000000   \n",
       "max                                   1.000000   \n",
       "\n",
       "       Expansion__Number Of eSATA Ports  \n",
       "count                          7.000000  \n",
       "mean                           0.714286  \n",
       "std                            0.487950  \n",
       "min                            0.000000  \n",
       "25%                            0.500000  \n",
       "50%                            1.000000  \n",
       "75%                            1.000000  \n",
       "max                            1.000000  \n",
       "\n",
       "[8 rows x 30 columns]"
      ]
     },
     "execution_count": 6,
     "metadata": {},
     "output_type": "execute_result"
    }
   ],
   "source": [
    "amazon_data.describe()"
   ]
  },
  {
   "cell_type": "markdown",
   "metadata": {},
   "source": [
    "# Create df"
   ]
  },
  {
   "cell_type": "code",
   "execution_count": 7,
   "metadata": {},
   "outputs": [],
   "source": [
    "bestbuy_df = pd.DataFrame()"
   ]
  },
  {
   "cell_type": "markdown",
   "metadata": {},
   "source": [
    "# Price"
   ]
  },
  {
   "cell_type": "code",
   "execution_count": 8,
   "metadata": {},
   "outputs": [
    {
     "data": {
      "text/plain": [
       "0         Your price for this item is $119.00\n",
       "1         Your price for this item is $279.99\n",
       "2         Your price for this item is $349.99\n",
       "3         Your price for this item is $349.00\n",
       "4         Your price for this item is $499.99\n",
       "                        ...                  \n",
       "1036      Your price for this item is $417.99\n",
       "1037      Your price for this item is $229.99\n",
       "1038      Your price for this item is $959.99\n",
       "1039      Your price for this item is $664.99\n",
       "1040    Your price for this item is $1,699.99\n",
       "Name: Price__Price, Length: 1041, dtype: object"
      ]
     },
     "execution_count": 8,
     "metadata": {},
     "output_type": "execute_result"
    }
   ],
   "source": [
    "amazon_data['Price__Price']"
   ]
  },
  {
   "cell_type": "code",
   "execution_count": 9,
   "metadata": {},
   "outputs": [
    {
     "data": {
      "text/plain": [
       "0        119.00\n",
       "1        279.99\n",
       "2        349.99\n",
       "3        349.00\n",
       "4        499.99\n",
       "         ...   \n",
       "1036     417.99\n",
       "1037     229.99\n",
       "1038     959.99\n",
       "1039     664.99\n",
       "1040    1699.99\n",
       "Name: Price, Length: 1041, dtype: float64"
      ]
     },
     "execution_count": 9,
     "metadata": {},
     "output_type": "execute_result"
    }
   ],
   "source": [
    "bestbuy_df['Price'] = amazon_data.Price__Price.str.extract(r\"(\\d+\\,?\\d?\\d?\\d?\\d?\\d?\\.\\d+)\", expand=False)\n",
    "bestbuy_df = bestbuy_df.dropna(axis=0, subset=['Price'])\n",
    "prices = []\n",
    "for price_ in bestbuy_df['Price']:\n",
    "    prices.append(float(price_.replace(',', '')))\n",
    "bestbuy_df['Price'] = prices\n",
    "bestbuy_df['Price']"
   ]
  },
  {
   "cell_type": "code",
   "execution_count": 10,
   "metadata": {},
   "outputs": [
    {
     "data": {
      "text/plain": [
       "4299.99"
      ]
     },
     "execution_count": 10,
     "metadata": {},
     "output_type": "execute_result"
    }
   ],
   "source": [
    "bestbuy_df['Price'].max()"
   ]
  },
  {
   "cell_type": "code",
   "execution_count": 11,
   "metadata": {},
   "outputs": [
    {
     "data": {
      "text/plain": [
       "24.96"
      ]
     },
     "execution_count": 11,
     "metadata": {},
     "output_type": "execute_result"
    }
   ],
   "source": [
    "bestbuy_df['Price'].min()"
   ]
  },
  {
   "cell_type": "code",
   "execution_count": 12,
   "metadata": {},
   "outputs": [
    {
     "data": {
      "text/plain": [
       "1051.6118059558116"
      ]
     },
     "execution_count": 12,
     "metadata": {},
     "output_type": "execute_result"
    }
   ],
   "source": [
    "bestbuy_df['Price'].mean()"
   ]
  },
  {
   "cell_type": "code",
   "execution_count": 13,
   "metadata": {},
   "outputs": [],
   "source": [
    "# step_ = amazon_data['Price_pcs'].max()/3\n",
    "# price_rank = []\n",
    "# for price in amazon_data['Price_pcs']:\n",
    "#     if price < step_:\n",
    "#         price_rank.append(0)\n",
    "#     elif price < step_*2:\n",
    "#         price_rank.append(1)\n",
    "#     else:\n",
    "#         price_rank.append(2)\n",
    "# amazon_data['Price_pcs'] = price_rank\n",
    "# print('Null count: %d'%amazon_data['Price_pcs'].isna().values.sum())\n",
    "# amazon_data['Price_pcs']"
   ]
  },
  {
   "cell_type": "code",
   "execution_count": 14,
   "metadata": {},
   "outputs": [],
   "source": [
    "# amazon_data['Price_pcs'] = amazon_data.Price.str.extract(r\"(\\d+\\.\\d+)\", expand=False)\n",
    "# assert amazon_data['Price_pcs'].isna().values.sum()==amazon_data['Price'].isna().values.sum()\n",
    "# amazon_data = amazon_data.dropna(axis=0, subset=['Price_pcs'])\n",
    "# print('Null count: %d'%amazon_data['Price_pcs'].isna().values.sum())\n",
    "# amazon_data['Price_pcs']"
   ]
  },
  {
   "cell_type": "code",
   "execution_count": 15,
   "metadata": {},
   "outputs": [],
   "source": [
    "def get_num_labels(df):\n",
    "    unique_labels = df['Price'].unique()\n",
    "    dic = {lbs:0 for lbs in unique_labels}\n",
    "    for label in df['Price']:\n",
    "        dic[label] += 1\n",
    "    return dic"
   ]
  },
  {
   "cell_type": "code",
   "execution_count": 16,
   "metadata": {},
   "outputs": [
    {
     "data": {
      "text/plain": [
       "Text(0, 0.5, 'Number of labels')"
      ]
     },
     "execution_count": 16,
     "metadata": {},
     "output_type": "execute_result"
    },
    {
     "data": {
      "image/png": "[encoded data removed]",
      "text/plain": [
       "<Figure size 432x288 with 1 Axes>"
      ]
     },
     "metadata": {
      "needs_background": "light"
     },
     "output_type": "display_data"
    }
   ],
   "source": [
    "df = bestbuy_df.copy()\n",
    "price_rank = []\n",
    "for price in df['Price']:\n",
    "    if price < 300:\n",
    "        price_rank.append(0)\n",
    "    elif price < 600:\n",
    "        price_rank.append(1)\n",
    "    elif price < 900:\n",
    "        price_rank.append(2)\n",
    "    elif price < 1200:\n",
    "        price_rank.append(3)\n",
    "    elif price < 1500:\n",
    "        price_rank.append(4)\n",
    "    elif price < 1800:\n",
    "        price_rank.append(5)\n",
    "    elif price < 2100:\n",
    "        price_rank.append(6)\n",
    "    elif price < 2200:\n",
    "        price_rank.append(7)\n",
    "    elif price < 2500:\n",
    "        price_rank.append(8)\n",
    "    elif price < 2800:\n",
    "        price_rank.append(9)\n",
    "    elif price < 32000:\n",
    "        price_rank.append(10)\n",
    "    elif price < 3500:\n",
    "        price_rank.append(11)\n",
    "    elif price < 3800:\n",
    "        price_rank.append(12)\n",
    "    elif price < 4100:\n",
    "        price_rank.append(13)\n",
    "    elif price < 4200:\n",
    "        price_rank.append(14)\n",
    "    else:\n",
    "        price_rank.append(15)\n",
    "df['Price'] = price_rank\n",
    "\n",
    "lbs = get_num_labels(df)\n",
    "pd.Series(lbs).plot.bar()\n",
    "plt.xlabel(\"Label\")\n",
    "plt.ylabel(\"Number of labels\")"
   ]
  },
  {
   "cell_type": "code",
   "execution_count": 17,
   "metadata": {},
   "outputs": [
    {
     "data": {
      "text/plain": [
       "Text(0, 0.5, 'Number of labels')"
      ]
     },
     "execution_count": 17,
     "metadata": {},
     "output_type": "execute_result"
    },
    {
     "data": {
      "image/png": "[encoded data removed]",
      "text/plain": [
       "<Figure size 432x288 with 1 Axes>"
      ]
     },
     "metadata": {
      "needs_background": "light"
     },
     "output_type": "display_data"
    }
   ],
   "source": [
    "step = bestbuy_df['Price'].max()/4\n",
    "df = bestbuy_df.copy()\n",
    "price_rank = []\n",
    "for price in df['Price']:\n",
    "    if price < bestbuy_df['Price'].min()+step:\n",
    "        price_rank.append(0)\n",
    "    elif price < bestbuy_df['Price'].min()+step*2:\n",
    "        price_rank.append(1)\n",
    "    elif price < bestbuy_df['Price'].min()+step*3:\n",
    "        price_rank.append(2)\n",
    "    else:\n",
    "        price_rank.append(3)\n",
    "df['Price'] = price_rank\n",
    "\n",
    "lbs = get_num_labels(df)\n",
    "pd.Series(lbs).plot.bar()\n",
    "plt.xlabel(\"Label\")\n",
    "plt.ylabel(\"Number of labels\")"
   ]
  },
  {
   "cell_type": "code",
   "execution_count": 18,
   "metadata": {},
   "outputs": [
    {
     "name": "stdout",
     "output_type": "stream",
     "text": [
      "<class 'pandas.core.frame.DataFrame'>\n",
      "Int64Index: 1019 entries, 0 to 1040\n",
      "Data columns (total 1 columns):\n",
      "Price    1019 non-null float64\n",
      "dtypes: float64(1)\n",
      "memory usage: 15.9 KB\n"
     ]
    }
   ],
   "source": [
    "bestbuy_df = bestbuy_df[bestbuy_df['Price'] <= 3300]\n",
    "bestbuy_df.info()"
   ]
  },
  {
   "cell_type": "markdown",
   "metadata": {},
   "source": [
    "# Screen Size"
   ]
  },
  {
   "cell_type": "code",
   "execution_count": 19,
   "metadata": {},
   "outputs": [
    {
     "data": {
      "text/plain": [
       "0       11.6 inches\n",
       "1       15.6 inches\n",
       "2       15.6 inches\n",
       "3         14 inches\n",
       "4         14 inches\n",
       "           ...     \n",
       "1036      14 inches\n",
       "1037    11.6 inches\n",
       "1038    17.3 inches\n",
       "1039    13.3 inches\n",
       "1040      17 inches\n",
       "Name: Key Specs__Screen Size, Length: 1041, dtype: object"
      ]
     },
     "execution_count": 19,
     "metadata": {},
     "output_type": "execute_result"
    }
   ],
   "source": [
    "amazon_data['Key Specs__Screen Size']"
   ]
  },
  {
   "cell_type": "code",
   "execution_count": 20,
   "metadata": {},
   "outputs": [
    {
     "name": "stdout",
     "output_type": "stream",
     "text": [
      "Unique values: 21 - Null count: 0\n"
     ]
    }
   ],
   "source": [
    "bestbuy_df['Key_Specs__Screen_Size'] = amazon_data['Key Specs__Screen Size'].str.extract(r\"(\\d+\\.?\\d+)\", expand=False).astype(float)\n",
    "print('Unique values: %d - Null count: %d'%(bestbuy_df['Key_Specs__Screen_Size'].nunique(), bestbuy_df['Key_Specs__Screen_Size'].isna().values.sum()))"
   ]
  },
  {
   "cell_type": "code",
   "execution_count": 21,
   "metadata": {},
   "outputs": [
    {
     "data": {
      "text/plain": [
       "0       11.6\n",
       "1       15.6\n",
       "2       15.6\n",
       "3       14.0\n",
       "4       14.0\n",
       "        ... \n",
       "1036    14.0\n",
       "1037    11.6\n",
       "1038    17.3\n",
       "1039    13.3\n",
       "1040    17.0\n",
       "Name: Key_Specs__Screen_Size, Length: 1019, dtype: float64"
      ]
     },
     "execution_count": 21,
     "metadata": {},
     "output_type": "execute_result"
    }
   ],
   "source": [
    "bestbuy_df['Key_Specs__Screen_Size']"
   ]
  },
  {
   "cell_type": "markdown",
   "metadata": {},
   "source": [
    "# Touch screen"
   ]
  },
  {
   "cell_type": "code",
   "execution_count": 22,
   "metadata": {},
   "outputs": [
    {
     "data": {
      "text/plain": [
       "0        No\n",
       "1       Yes\n",
       "2       Yes\n",
       "3       Yes\n",
       "4       Yes\n",
       "       ... \n",
       "1036     No\n",
       "1037    Yes\n",
       "1038    Yes\n",
       "1039    Yes\n",
       "1040     No\n",
       "Name: Key Specs__Touch Screen, Length: 1041, dtype: object"
      ]
     },
     "execution_count": 22,
     "metadata": {},
     "output_type": "execute_result"
    }
   ],
   "source": [
    "amazon_data['Key Specs__Touch Screen']"
   ]
  },
  {
   "cell_type": "code",
   "execution_count": 23,
   "metadata": {},
   "outputs": [
    {
     "name": "stdout",
     "output_type": "stream",
     "text": [
      "Unique values: 2 - Null count: 9\n"
     ]
    }
   ],
   "source": [
    "bestbuy_df['Key_Specs__Touch_Screen'] = amazon_data['Key Specs__Touch Screen'].str.lower()\n",
    "print('Unique values: %d - Null count: %d'%(bestbuy_df['Key_Specs__Touch_Screen'].nunique(), bestbuy_df['Key_Specs__Touch_Screen'].isna().values.sum()))"
   ]
  },
  {
   "cell_type": "markdown",
   "metadata": {},
   "source": [
    "# Storage type"
   ]
  },
  {
   "cell_type": "code",
   "execution_count": 24,
   "metadata": {},
   "outputs": [
    {
     "data": {
      "text/plain": [
       "0       eMMC\n",
       "1        SSD\n",
       "2        SSD\n",
       "3       eMMC\n",
       "4        SSD\n",
       "        ... \n",
       "1036     SSD\n",
       "1037    eMMC\n",
       "1038     SSD\n",
       "1039     SSD\n",
       "1040     SSD\n",
       "Name: Key Specs__Storage Type, Length: 1041, dtype: object"
      ]
     },
     "execution_count": 24,
     "metadata": {},
     "output_type": "execute_result"
    }
   ],
   "source": [
    "amazon_data['Key Specs__Storage Type']"
   ]
  },
  {
   "cell_type": "code",
   "execution_count": 25,
   "metadata": {},
   "outputs": [
    {
     "name": "stdout",
     "output_type": "stream",
     "text": [
      "Unique values: 6 - Null count: 16\n"
     ]
    }
   ],
   "source": [
    "bestbuy_df['Key_Specs__Storage_Type'] = amazon_data['Key Specs__Storage Type'].str.lower()\n",
    "print('Unique values: %d - Null count: %d'%(bestbuy_df['Key_Specs__Storage_Type'].nunique(), bestbuy_df['Key_Specs__Storage_Type'].isna().values.sum()))"
   ]
  },
  {
   "cell_type": "code",
   "execution_count": 26,
   "metadata": {},
   "outputs": [
    {
     "data": {
      "text/plain": [
       "0       emmc\n",
       "1        ssd\n",
       "2        ssd\n",
       "3       emmc\n",
       "4        ssd\n",
       "        ... \n",
       "1036     ssd\n",
       "1037    emmc\n",
       "1038     ssd\n",
       "1039     ssd\n",
       "1040     ssd\n",
       "Name: Key_Specs__Storage_Type, Length: 1019, dtype: object"
      ]
     },
     "execution_count": 26,
     "metadata": {},
     "output_type": "execute_result"
    }
   ],
   "source": [
    "bestbuy_df['Key_Specs__Storage_Type']"
   ]
  },
  {
   "cell_type": "markdown",
   "metadata": {},
   "source": [
    "# RAM"
   ]
  },
  {
   "cell_type": "code",
   "execution_count": 27,
   "metadata": {},
   "outputs": [
    {
     "data": {
      "text/plain": [
       "0        4 gigabytes\n",
       "1        8 gigabytes\n",
       "2        8 gigabytes\n",
       "3        8 gigabytes\n",
       "4        8 gigabytes\n",
       "            ...     \n",
       "1036     8 gigabytes\n",
       "1037     4 gigabytes\n",
       "1038    16 gigabytes\n",
       "1039     8 gigabytes\n",
       "1040    16 gigabytes\n",
       "Name: Key Specs__System Memory (RAM), Length: 1041, dtype: object"
      ]
     },
     "execution_count": 27,
     "metadata": {},
     "output_type": "execute_result"
    }
   ],
   "source": [
    "amazon_data['Key Specs__System Memory (RAM)']"
   ]
  },
  {
   "cell_type": "code",
   "execution_count": 28,
   "metadata": {},
   "outputs": [
    {
     "name": "stdout",
     "output_type": "stream",
     "text": [
      "Unique values: 7 - Null count: 9\n"
     ]
    }
   ],
   "source": [
    "bestbuy_df['Key_Specs__System_Memory'] = amazon_data['Key Specs__System Memory (RAM)'].str.extract(r\"(\\d+)\", expand=False).astype(float)\n",
    "print('Unique values: %d - Null count: %d'%(bestbuy_df['Key_Specs__System_Memory'].nunique(), bestbuy_df['Key_Specs__System_Memory'].isna().values.sum()))"
   ]
  },
  {
   "cell_type": "code",
   "execution_count": 29,
   "metadata": {},
   "outputs": [
    {
     "data": {
      "text/plain": [
       "0        4.0\n",
       "1        8.0\n",
       "2        8.0\n",
       "3        8.0\n",
       "4        8.0\n",
       "        ... \n",
       "1036     8.0\n",
       "1037     4.0\n",
       "1038    16.0\n",
       "1039     8.0\n",
       "1040    16.0\n",
       "Name: Key_Specs__System_Memory, Length: 1019, dtype: float64"
      ]
     },
     "execution_count": 29,
     "metadata": {},
     "output_type": "execute_result"
    }
   ],
   "source": [
    "bestbuy_df['Key_Specs__System_Memory']"
   ]
  },
  {
   "cell_type": "code",
   "execution_count": 30,
   "metadata": {},
   "outputs": [
    {
     "name": "stdout",
     "output_type": "stream",
     "text": [
      "Unique values: 11 - Null count: 9\n"
     ]
    }
   ],
   "source": [
    "bestbuy_df['RAM_type'] = amazon_data['Memory__Type of Memory (RAM)'].str.lower()\n",
    "print('Unique values: %d - Null count: %d'%(bestbuy_df['RAM_type'].nunique(), bestbuy_df['RAM_type'].isna().values.sum()))"
   ]
  },
  {
   "cell_type": "code",
   "execution_count": 31,
   "metadata": {},
   "outputs": [
    {
     "name": "stdout",
     "output_type": "stream",
     "text": [
      "Unique values: 13 - Null count: 344\n"
     ]
    }
   ],
   "source": [
    "bestbuy_df['RAM_speed'] = amazon_data['Memory__System Memory RAM Speed'].str.extract(r\"(\\d+)\", expand=False).astype(float)\n",
    "print('Unique values: %d - Null count: %d'%(bestbuy_df['RAM_speed'].nunique(), bestbuy_df['RAM_speed'].isna().values.sum()))"
   ]
  },
  {
   "cell_type": "markdown",
   "metadata": {},
   "source": [
    "# Processor"
   ]
  },
  {
   "cell_type": "code",
   "execution_count": 32,
   "metadata": {},
   "outputs": [
    {
     "data": {
      "text/plain": [
       "9"
      ]
     },
     "execution_count": 32,
     "metadata": {},
     "output_type": "execute_result"
    }
   ],
   "source": [
    "amazon_data['Processor__Processor Model'].isna().values.sum()"
   ]
  },
  {
   "cell_type": "code",
   "execution_count": 33,
   "metadata": {},
   "outputs": [
    {
     "name": "stdout",
     "output_type": "stream",
     "text": [
      "Unique values: 52 - Null count: 9\n"
     ]
    }
   ],
   "source": [
    "bestbuy_df['Processor'] = amazon_data['Processor__Processor Model'].str.lower()\n",
    "print('Unique values: %d - Null count: %d'%(bestbuy_df['Processor'].nunique(), bestbuy_df['Processor'].isna().values.sum()))"
   ]
  },
  {
   "cell_type": "markdown",
   "metadata": {},
   "source": [
    "# Graphic"
   ]
  },
  {
   "cell_type": "code",
   "execution_count": 34,
   "metadata": {},
   "outputs": [
    {
     "data": {
      "text/plain": [
       "29"
      ]
     },
     "execution_count": 34,
     "metadata": {},
     "output_type": "execute_result"
    }
   ],
   "source": [
    "amazon_data['Graphics__Graphics'].isna().values.sum()"
   ]
  },
  {
   "cell_type": "code",
   "execution_count": 35,
   "metadata": {},
   "outputs": [
    {
     "name": "stdout",
     "output_type": "stream",
     "text": [
      "Unique values: 76 - Null count: 29\n"
     ]
    }
   ],
   "source": [
    "bestbuy_df['Graphics__Graphics'] = amazon_data['Graphics__Graphics'].str.lower()\n",
    "print('Unique values: %d - Null count: %d'%(bestbuy_df['Graphics__Graphics'].nunique(), bestbuy_df['Graphics__Graphics'].isna().values.sum()))"
   ]
  },
  {
   "cell_type": "markdown",
   "metadata": {},
   "source": [
    "# Screen resolution"
   ]
  },
  {
   "cell_type": "code",
   "execution_count": 36,
   "metadata": {},
   "outputs": [
    {
     "data": {
      "text/plain": [
       "0             1366 x 768 (HD)\n",
       "1             1366 x 768 (HD)\n",
       "2             1366 x 768 (HD)\n",
       "3       1920 x 1080 (Full HD)\n",
       "4       1920 x 1080 (Full HD)\n",
       "                ...          \n",
       "1036          1366 x 768 (HD)\n",
       "1037          1366 x 768 (HD)\n",
       "1038    1920 x 1080 (Full HD)\n",
       "1039    1920 x 1080 (Full HD)\n",
       "1040              2560 x 1600\n",
       "Name: Display__Screen Resolution, Length: 1041, dtype: object"
      ]
     },
     "execution_count": 36,
     "metadata": {},
     "output_type": "execute_result"
    }
   ],
   "source": [
    "amazon_data['Display__Screen Resolution']"
   ]
  },
  {
   "cell_type": "code",
   "execution_count": 37,
   "metadata": {},
   "outputs": [
    {
     "name": "stdout",
     "output_type": "stream",
     "text": [
      "Unique values: 18 - Null count: 2\n"
     ]
    },
    {
     "data": {
      "text/plain": [
       "0       1366.0\n",
       "1       1366.0\n",
       "2       1366.0\n",
       "3       1920.0\n",
       "4       1920.0\n",
       "         ...  \n",
       "1036    1366.0\n",
       "1037    1366.0\n",
       "1038    1920.0\n",
       "1039    1920.0\n",
       "1040    2560.0\n",
       "Name: Screen_resolution1, Length: 1019, dtype: float64"
      ]
     },
     "execution_count": 37,
     "metadata": {},
     "output_type": "execute_result"
    }
   ],
   "source": [
    "resolution = amazon_data['Display__Screen Resolution'].str.extract(r\"(\\d+)[ x]+(\\d+)\", expand=False).astype(float)\n",
    "bestbuy_df['Screen_resolution1'] = resolution[0]\n",
    "bestbuy_df['Screen_resolution2'] = resolution[1]\n",
    "print('Unique values: %d - Null count: %d'%(bestbuy_df['Screen_resolution1'].nunique(), bestbuy_df['Screen_resolution1'].isna().values.sum()))\n",
    "bestbuy_df['Screen_resolution1']"
   ]
  },
  {
   "cell_type": "markdown",
   "metadata": {},
   "source": [
    "# Operating system"
   ]
  },
  {
   "cell_type": "code",
   "execution_count": 38,
   "metadata": {},
   "outputs": [
    {
     "data": {
      "text/plain": [
       "0                       Chrome OS\n",
       "1       Windows 10 Home in S mode\n",
       "2       Windows 10 Home in S mode\n",
       "3                       Chrome OS\n",
       "4                 Windows 10 Home\n",
       "                  ...            \n",
       "1036                   Windows 10\n",
       "1037              Windows 10 Home\n",
       "1038              Windows 10 Home\n",
       "1039              Windows 10 Home\n",
       "1040              Windows 10 Home\n",
       "Name: Key Specs__Operating System, Length: 1041, dtype: object"
      ]
     },
     "execution_count": 38,
     "metadata": {},
     "output_type": "execute_result"
    }
   ],
   "source": [
    "amazon_data['Key Specs__Operating System']"
   ]
  },
  {
   "cell_type": "code",
   "execution_count": 39,
   "metadata": {},
   "outputs": [
    {
     "name": "stdout",
     "output_type": "stream",
     "text": [
      "Unique values: 14 - Null count: 14\n"
     ]
    }
   ],
   "source": [
    "bestbuy_df['Key_Specs__Operating_System'] = amazon_data['Key Specs__Operating System'].str.lower()\n",
    "print('Unique values: %d - Null count: %d'%(bestbuy_df['Key_Specs__Operating_System'].nunique(), bestbuy_df['Key_Specs__Operating_System'].isna().values.sum()))"
   ]
  },
  {
   "cell_type": "code",
   "execution_count": 40,
   "metadata": {},
   "outputs": [
    {
     "data": {
      "text/plain": [
       "0                       chrome os\n",
       "1       windows 10 home in s mode\n",
       "2       windows 10 home in s mode\n",
       "3                       chrome os\n",
       "4                 windows 10 home\n",
       "                  ...            \n",
       "1036                   windows 10\n",
       "1037              windows 10 home\n",
       "1038              windows 10 home\n",
       "1039              windows 10 home\n",
       "1040              windows 10 home\n",
       "Name: Key_Specs__Operating_System, Length: 1019, dtype: object"
      ]
     },
     "execution_count": 40,
     "metadata": {},
     "output_type": "execute_result"
    }
   ],
   "source": [
    "bestbuy_df['Key_Specs__Operating_System']"
   ]
  },
  {
   "cell_type": "markdown",
   "metadata": {},
   "source": [
    "# Battery"
   ]
  },
  {
   "cell_type": "code",
   "execution_count": 41,
   "metadata": {},
   "outputs": [
    {
     "data": {
      "text/plain": [
       "0           Lithium-ion\n",
       "1           Lithium-ion\n",
       "2           Lithium-ion\n",
       "3       Lithium-polymer\n",
       "4           Lithium-ion\n",
       "             ...       \n",
       "1036        Lithium-ion\n",
       "1037    Lithium-polymer\n",
       "1038        Lithium-ion\n",
       "1039        Lithium-ion\n",
       "1040        Lithium-ion\n",
       "Name: Key Specs__Battery Type, Length: 1041, dtype: object"
      ]
     },
     "execution_count": 41,
     "metadata": {},
     "output_type": "execute_result"
    }
   ],
   "source": [
    "amazon_data['Key Specs__Battery Type']"
   ]
  },
  {
   "cell_type": "code",
   "execution_count": 42,
   "metadata": {},
   "outputs": [
    {
     "name": "stdout",
     "output_type": "stream",
     "text": [
      "Unique values: 6 - Null count: 0\n"
     ]
    }
   ],
   "source": [
    "bestbuy_df['Key_Specs__Battery_Type'] = amazon_data['Key Specs__Battery Type'].str.lower()\n",
    "print('Unique values: %d - Null count: %d'%(bestbuy_df['Key_Specs__Battery_Type'].nunique(), bestbuy_df['Key_Specs__Battery_Type'].isna().values.sum()))"
   ]
  },
  {
   "cell_type": "code",
   "execution_count": 43,
   "metadata": {},
   "outputs": [
    {
     "data": {
      "text/plain": [
       "0           lithium-ion\n",
       "1           lithium-ion\n",
       "2           lithium-ion\n",
       "3       lithium-polymer\n",
       "4           lithium-ion\n",
       "             ...       \n",
       "1036        lithium-ion\n",
       "1037    lithium-polymer\n",
       "1038        lithium-ion\n",
       "1039        lithium-ion\n",
       "1040        lithium-ion\n",
       "Name: Key_Specs__Battery_Type, Length: 1019, dtype: object"
      ]
     },
     "execution_count": 43,
     "metadata": {},
     "output_type": "execute_result"
    }
   ],
   "source": [
    "bestbuy_df['Key_Specs__Battery_Type']"
   ]
  },
  {
   "cell_type": "markdown",
   "metadata": {},
   "source": [
    "# General color"
   ]
  },
  {
   "cell_type": "code",
   "execution_count": 44,
   "metadata": {},
   "outputs": [
    {
     "data": {
      "text/plain": [
       "0        Black\n",
       "1        Black\n",
       "2        Black\n",
       "3        White\n",
       "4         Gold\n",
       "         ...  \n",
       "1036    Silver\n",
       "1037       Red\n",
       "1038    Silver\n",
       "1039      Gray\n",
       "1040      Gray\n",
       "Name: General__Color Category, Length: 1041, dtype: object"
      ]
     },
     "execution_count": 44,
     "metadata": {},
     "output_type": "execute_result"
    }
   ],
   "source": [
    "amazon_data['General__Color Category']"
   ]
  },
  {
   "cell_type": "code",
   "execution_count": 45,
   "metadata": {},
   "outputs": [
    {
     "name": "stdout",
     "output_type": "stream",
     "text": [
      "Unique values: 13 - Null count: 0\n"
     ]
    }
   ],
   "source": [
    "bestbuy_df['General__Color_Category'] = amazon_data['General__Color Category'].str.lower()\n",
    "print('Unique values: %d - Null count: %d'%(bestbuy_df['General__Color_Category'].nunique(), bestbuy_df['General__Color_Category'].isna().values.sum()))"
   ]
  },
  {
   "cell_type": "code",
   "execution_count": 46,
   "metadata": {},
   "outputs": [
    {
     "data": {
      "text/plain": [
       "0        black\n",
       "1        black\n",
       "2        black\n",
       "3        white\n",
       "4         gold\n",
       "         ...  \n",
       "1036    silver\n",
       "1037       red\n",
       "1038    silver\n",
       "1039      gray\n",
       "1040      gray\n",
       "Name: General__Color_Category, Length: 1019, dtype: object"
      ]
     },
     "execution_count": 46,
     "metadata": {},
     "output_type": "execute_result"
    }
   ],
   "source": [
    "bestbuy_df['General__Color_Category']"
   ]
  },
  {
   "cell_type": "markdown",
   "metadata": {},
   "source": [
    "# General Brand"
   ]
  },
  {
   "cell_type": "code",
   "execution_count": 47,
   "metadata": {},
   "outputs": [
    {
     "data": {
      "text/plain": [
       "0       Samsung\n",
       "1          Dell\n",
       "2          Dell\n",
       "3            HP\n",
       "4            HP\n",
       "         ...   \n",
       "1036       Dell\n",
       "1037       Acer\n",
       "1038       Dell\n",
       "1039       Dell\n",
       "1040         LG\n",
       "Name: General__Brand, Length: 1041, dtype: object"
      ]
     },
     "execution_count": 47,
     "metadata": {},
     "output_type": "execute_result"
    }
   ],
   "source": [
    "amazon_data['General__Brand']"
   ]
  },
  {
   "cell_type": "code",
   "execution_count": 48,
   "metadata": {},
   "outputs": [
    {
     "name": "stdout",
     "output_type": "stream",
     "text": [
      "Unique values: 17 - Null count: 2\n"
     ]
    }
   ],
   "source": [
    "bestbuy_df['General__Brand'] = amazon_data['General__Brand'].str.lower()\n",
    "print('Unique values: %d - Null count: %d'%(bestbuy_df['General__Brand'].nunique(), bestbuy_df['General__Brand'].isna().values.sum()))"
   ]
  },
  {
   "cell_type": "markdown",
   "metadata": {},
   "source": [
    "# Feature"
   ]
  },
  {
   "cell_type": "code",
   "execution_count": 49,
   "metadata": {},
   "outputs": [
    {
     "name": "stdout",
     "output_type": "stream",
     "text": [
      "Unique values: 3 - Null count: 243\n"
     ]
    }
   ],
   "source": [
    "bestbuy_df['Feature__Keyboard_Touch_Screen'] = amazon_data['Feature__Keyboard Touch Screen'].str.lower()\n",
    "print('Unique values: %d - Null count: %d'%(bestbuy_df['Feature__Keyboard_Touch_Screen'].nunique(), bestbuy_df['Feature__Keyboard_Touch_Screen'].isna().values.sum()))"
   ]
  },
  {
   "cell_type": "code",
   "execution_count": 50,
   "metadata": {},
   "outputs": [
    {
     "name": "stdout",
     "output_type": "stream",
     "text": [
      "Unique values: 2 - Null count: 15\n"
     ]
    }
   ],
   "source": [
    "bestbuy_df['Feature__Backlit_Keyboard'] = amazon_data['Feature__Backlit Keyboard'].str.lower()\n",
    "print('Unique values: %d - Null count: %d'%(bestbuy_df['Feature__Backlit_Keyboard'].nunique(), bestbuy_df['Feature__Backlit_Keyboard'].isna().values.sum()))"
   ]
  },
  {
   "cell_type": "code",
   "execution_count": 51,
   "metadata": {},
   "outputs": [
    {
     "name": "stdout",
     "output_type": "stream",
     "text": [
      "Unique values: 5 - Null count: 952\n"
     ]
    }
   ],
   "source": [
    "bestbuy_df['Feature__Mac_Features'] = amazon_data['Feature__Mac Features'].str.lower()\n",
    "print('Unique values: %d - Null count: %d'%(bestbuy_df['Feature__Mac_Features'].nunique(), bestbuy_df['Feature__Mac_Features'].isna().values.sum()))"
   ]
  },
  {
   "cell_type": "markdown",
   "metadata": {},
   "source": [
    "# Port"
   ]
  },
  {
   "cell_type": "code",
   "execution_count": 52,
   "metadata": {},
   "outputs": [
    {
     "name": "stdout",
     "output_type": "stream",
     "text": [
      "Unique values: 6 - Null count: 100\n"
     ]
    }
   ],
   "source": [
    "bestbuy_df['Port_Number_USB_Ports'] = amazon_data['Ports__Number of USB Ports (Total)'].astype(float)\n",
    "print('Unique values: %d - Null count: %d'%(bestbuy_df['Port_Number_USB_Ports'].nunique(), bestbuy_df['Port_Number_USB_Ports'].isna().values.sum()))"
   ]
  },
  {
   "cell_type": "markdown",
   "metadata": {},
   "source": [
    "# Display"
   ]
  },
  {
   "cell_type": "code",
   "execution_count": 53,
   "metadata": {},
   "outputs": [
    {
     "name": "stdout",
     "output_type": "stream",
     "text": [
      "Unique values: 18 - Null count: 3\n"
     ]
    }
   ],
   "source": [
    "bestbuy_df['Display__Display_Type'] = amazon_data['Display__Display Type'].str.lower()\n",
    "print('Unique values: %d - Null count: %d'%(bestbuy_df['Display__Display_Type'].nunique(), bestbuy_df['Display__Display_Type'].isna().values.sum()))"
   ]
  },
  {
   "cell_type": "markdown",
   "metadata": {},
   "source": [
    "# Storage Capacity"
   ]
  },
  {
   "cell_type": "code",
   "execution_count": 54,
   "metadata": {},
   "outputs": [
    {
     "name": "stdout",
     "output_type": "stream",
     "text": [
      "Unique values: 5 - Null count: 0\n"
     ]
    },
    {
     "data": {
      "text/plain": [
       "0       32.0\n",
       "1        0.0\n",
       "2        0.0\n",
       "3       64.0\n",
       "4        0.0\n",
       "        ... \n",
       "1036     0.0\n",
       "1037    64.0\n",
       "1038     0.0\n",
       "1039     0.0\n",
       "1040     0.0\n",
       "Name: Storage__eMMC_Capacity, Length: 1019, dtype: float64"
      ]
     },
     "execution_count": 54,
     "metadata": {},
     "output_type": "execute_result"
    }
   ],
   "source": [
    "bestbuy_df['Storage__eMMC_Capacity'] = amazon_data['Storage__eMMC Capacity'].str.extract(r\"(\\d+)\", expand=False).astype(float)\n",
    "bestbuy_df['Storage__eMMC_Capacity'].fillna(value=0.0, inplace=True)\n",
    "print('Unique values: %d - Null count: %d'%(bestbuy_df['Storage__eMMC_Capacity'].nunique(), bestbuy_df['Storage__eMMC_Capacity'].isna().values.sum()))\n",
    "bestbuy_df['Storage__eMMC_Capacity']"
   ]
  },
  {
   "cell_type": "code",
   "execution_count": 55,
   "metadata": {},
   "outputs": [
    {
     "name": "stdout",
     "output_type": "stream",
     "text": [
      "Unique values: 18 - Null count: 0\n"
     ]
    },
    {
     "data": {
      "text/plain": [
       "0         0.0\n",
       "1       128.0\n",
       "2       256.0\n",
       "3         0.0\n",
       "4       256.0\n",
       "        ...  \n",
       "1036    500.0\n",
       "1037      0.0\n",
       "1038    512.0\n",
       "1039    256.0\n",
       "1040    512.0\n",
       "Name: Storage__Solid_State_Drive_Capacity, Length: 1019, dtype: float64"
      ]
     },
     "execution_count": 55,
     "metadata": {},
     "output_type": "execute_result"
    }
   ],
   "source": [
    "bestbuy_df['Storage__Solid_State_Drive_Capacity'] = amazon_data['Storage__Solid State Drive Capacity'].str.extract(r\"(\\d+)\", expand=False).astype(float)\n",
    "bestbuy_df['Storage__Solid_State_Drive_Capacity'].fillna(value=0.0, inplace=True)\n",
    "print('Unique values: %d - Null count: %d'%(bestbuy_df['Storage__Solid_State_Drive_Capacity'].nunique(), bestbuy_df['Storage__Solid_State_Drive_Capacity'].isna().values.sum()))\n",
    "bestbuy_df['Storage__Solid_State_Drive_Capacity']"
   ]
  },
  {
   "cell_type": "markdown",
   "metadata": {},
   "source": [
    "# Dimension"
   ]
  },
  {
   "cell_type": "code",
   "execution_count": 56,
   "metadata": {},
   "outputs": [
    {
     "name": "stdout",
     "output_type": "stream",
     "text": [
      "Unique values: 99 - Null count: 33\n"
     ]
    }
   ],
   "source": [
    "bestbuy_df['Dimension__Product_Depth'] = amazon_data['Dimension__Product Depth'].str.extract(r\"(\\d+\\.?\\d?\\d?)\", expand=False).astype(float)\n",
    "print('Unique values: %d - Null count: %d'%(bestbuy_df['Dimension__Product_Depth'].nunique(), bestbuy_df['Dimension__Product_Depth'].isna().values.sum()))"
   ]
  },
  {
   "cell_type": "code",
   "execution_count": 57,
   "metadata": {},
   "outputs": [
    {
     "name": "stdout",
     "output_type": "stream",
     "text": [
      "Unique values: 60 - Null count: 33\n"
     ]
    }
   ],
   "source": [
    "bestbuy_df['Dimension__Product_Height'] = amazon_data['Dimension__Product Height'].str.extract(r\"(\\d+\\.?\\d?\\d?)\", expand=False).astype(float)\n",
    "print('Unique values: %d - Null count: %d'%(bestbuy_df['Dimension__Product_Height'].nunique(), bestbuy_df['Dimension__Product_Height'].isna().values.sum()))"
   ]
  },
  {
   "cell_type": "code",
   "execution_count": 58,
   "metadata": {},
   "outputs": [
    {
     "name": "stdout",
     "output_type": "stream",
     "text": [
      "Unique values: 212 - Null count: 52\n"
     ]
    }
   ],
   "source": [
    "bestbuy_df['Dimension__Product_Weight'] = amazon_data['Dimension__Product Weight'].str.extract(r\"(\\d+\\.?\\d?\\d?)\", expand=False).astype(float)\n",
    "print('Unique values: %d - Null count: %d'%(bestbuy_df['Dimension__Product_Weight'].nunique(), bestbuy_df['Dimension__Product_Weight'].isna().values.sum()))"
   ]
  },
  {
   "cell_type": "code",
   "execution_count": 59,
   "metadata": {},
   "outputs": [
    {
     "name": "stdout",
     "output_type": "stream",
     "text": [
      "Unique values: 81 - Null count: 33\n"
     ]
    }
   ],
   "source": [
    "bestbuy_df['Dimension__Product_Width'] = amazon_data['Dimension__Product Width'].str.extract(r\"(\\d+\\.?\\d?\\d?)\", expand=False).astype(float)\n",
    "print('Unique values: %d - Null count: %d'%(bestbuy_df['Dimension__Product_Width'].nunique(), bestbuy_df['Dimension__Product_Width'].isna().values.sum()))"
   ]
  },
  {
   "cell_type": "code",
   "execution_count": 60,
   "metadata": {},
   "outputs": [
    {
     "data": {
      "text/plain": [
       "0       0.70\n",
       "1       0.78\n",
       "2       0.78\n",
       "3       0.60\n",
       "4       0.80\n",
       "        ... \n",
       "1036    0.80\n",
       "1037    0.80\n",
       "1038    0.80\n",
       "1039    0.70\n",
       "1040    0.70\n",
       "Name: Dimension__Product_Height, Length: 1019, dtype: float64"
      ]
     },
     "execution_count": 60,
     "metadata": {},
     "output_type": "execute_result"
    }
   ],
   "source": [
    "bestbuy_df['Dimension__Product_Height']"
   ]
  },
  {
   "cell_type": "markdown",
   "metadata": {},
   "source": [
    "# Screen Size"
   ]
  },
  {
   "cell_type": "code",
   "execution_count": 61,
   "metadata": {},
   "outputs": [
    {
     "data": {
      "text/plain": [
       "0       11.6 inches\n",
       "1       15.6 inches\n",
       "2       15.6 inches\n",
       "3         14 inches\n",
       "4         14 inches\n",
       "           ...     \n",
       "1036      14 inches\n",
       "1037    11.6 inches\n",
       "1038    17.3 inches\n",
       "1039    13.3 inches\n",
       "1040      17 inches\n",
       "Name: Key Specs__Screen Size, Length: 1041, dtype: object"
      ]
     },
     "execution_count": 61,
     "metadata": {},
     "output_type": "execute_result"
    }
   ],
   "source": [
    "amazon_data['Key Specs__Screen Size']"
   ]
  },
  {
   "cell_type": "code",
   "execution_count": 62,
   "metadata": {},
   "outputs": [
    {
     "name": "stdout",
     "output_type": "stream",
     "text": [
      "Unique values: 21 - Null count: 0\n"
     ]
    }
   ],
   "source": [
    "bestbuy_df['Key_Specs__Screen_Size'] = amazon_data['Key Specs__Screen Size'].str.extract(r\"(\\d+\\.?\\d+)\", expand=False).astype(float)\n",
    "print('Unique values: %d - Null count: %d'%(bestbuy_df['Key_Specs__Screen_Size'].nunique(), bestbuy_df['Key_Specs__Screen_Size'].isna().values.sum()))"
   ]
  },
  {
   "cell_type": "code",
   "execution_count": 63,
   "metadata": {},
   "outputs": [
    {
     "data": {
      "text/plain": [
       "0       11.6\n",
       "1       15.6\n",
       "2       15.6\n",
       "3       14.0\n",
       "4       14.0\n",
       "        ... \n",
       "1036    14.0\n",
       "1037    11.6\n",
       "1038    17.3\n",
       "1039    13.3\n",
       "1040    17.0\n",
       "Name: Key_Specs__Screen_Size, Length: 1019, dtype: float64"
      ]
     },
     "execution_count": 63,
     "metadata": {},
     "output_type": "execute_result"
    }
   ],
   "source": [
    "bestbuy_df['Key_Specs__Screen_Size']"
   ]
  },
  {
   "cell_type": "code",
   "execution_count": 64,
   "metadata": {},
   "outputs": [
    {
     "name": "stdout",
     "output_type": "stream",
     "text": [
      "<class 'pandas.core.frame.DataFrame'>\n",
      "Int64Index: 1019 entries, 0 to 1040\n",
      "Data columns (total 26 columns):\n",
      "Price                                  1019 non-null float64\n",
      "Key_Specs__Screen_Size                 1019 non-null float64\n",
      "Key_Specs__Touch_Screen                1010 non-null object\n",
      "Key_Specs__Storage_Type                1003 non-null object\n",
      "Key_Specs__System_Memory               1010 non-null float64\n",
      "RAM_type                               1010 non-null object\n",
      "RAM_speed                              675 non-null float64\n",
      "Processor                              1010 non-null object\n",
      "Graphics__Graphics                     990 non-null object\n",
      "Screen_resolution1                     1017 non-null float64\n",
      "Screen_resolution2                     1017 non-null float64\n",
      "Key_Specs__Operating_System            1005 non-null object\n",
      "Key_Specs__Battery_Type                1019 non-null object\n",
      "General__Color_Category                1019 non-null object\n",
      "General__Brand                         1017 non-null object\n",
      "Feature__Keyboard_Touch_Screen         776 non-null object\n",
      "Feature__Backlit_Keyboard              1004 non-null object\n",
      "Feature__Mac_Features                  67 non-null object\n",
      "Port_Number_USB_Ports                  919 non-null float64\n",
      "Display__Display_Type                  1016 non-null object\n",
      "Storage__eMMC_Capacity                 1019 non-null float64\n",
      "Storage__Solid_State_Drive_Capacity    1019 non-null float64\n",
      "Dimension__Product_Depth               986 non-null float64\n",
      "Dimension__Product_Height              986 non-null float64\n",
      "Dimension__Product_Weight              967 non-null float64\n",
      "Dimension__Product_Width               986 non-null float64\n",
      "dtypes: float64(13), object(13)\n",
      "memory usage: 214.9+ KB\n"
     ]
    }
   ],
   "source": [
    "bestbuy_df.info()"
   ]
  },
  {
   "cell_type": "code",
   "execution_count": null,
   "metadata": {},
   "outputs": [],
   "source": []
  },
  {
   "cell_type": "code",
   "execution_count": null,
   "metadata": {},
   "outputs": [],
   "source": []
  },
  {
   "cell_type": "code",
   "execution_count": null,
   "metadata": {},
   "outputs": [],
   "source": []
  },
  {
   "cell_type": "code",
   "execution_count": null,
   "metadata": {},
   "outputs": [],
   "source": []
  },
  {
   "cell_type": "code",
   "execution_count": null,
   "metadata": {},
   "outputs": [],
   "source": []
  },
  {
   "cell_type": "code",
   "execution_count": null,
   "metadata": {},
   "outputs": [],
   "source": []
  },
  {
   "cell_type": "code",
   "execution_count": null,
   "metadata": {},
   "outputs": [],
   "source": []
  },
  {
   "cell_type": "code",
   "execution_count": null,
   "metadata": {},
   "outputs": [],
   "source": []
  },
  {
   "cell_type": "code",
   "execution_count": null,
   "metadata": {},
   "outputs": [],
   "source": []
  },
  {
   "cell_type": "code",
   "execution_count": null,
   "metadata": {},
   "outputs": [],
   "source": []
  },
  {
   "cell_type": "code",
   "execution_count": null,
   "metadata": {},
   "outputs": [],
   "source": []
  },
  {
   "cell_type": "code",
   "execution_count": null,
   "metadata": {},
   "outputs": [],
   "source": []
  },
  {
   "cell_type": "markdown",
   "metadata": {},
   "source": [
    "# Save ProProcess_Data"
   ]
  },
  {
   "cell_type": "code",
   "execution_count": 65,
   "metadata": {},
   "outputs": [],
   "source": [
    "from sklearn.model_selection import train_test_split"
   ]
  },
  {
   "cell_type": "code",
   "execution_count": 66,
   "metadata": {},
   "outputs": [],
   "source": [
    "train_df, test_df= train_test_split(bestbuy_df, test_size=0.1, random_state=0)"
   ]
  },
  {
   "cell_type": "code",
   "execution_count": 67,
   "metadata": {},
   "outputs": [],
   "source": [
    "train_df.to_csv('bestbuy_train_val_data_predict_price.csv', index=False)"
   ]
  },
  {
   "cell_type": "code",
   "execution_count": 68,
   "metadata": {},
   "outputs": [],
   "source": [
    "# test_df = test_df.drop(['Price_pcs'], axis=1)"
   ]
  },
  {
   "cell_type": "code",
   "execution_count": 69,
   "metadata": {},
   "outputs": [],
   "source": [
    "test_df.to_csv('bestbuy_test_data_predict_price.csv', index=False)"
   ]
  }
 ],
 "metadata": {
  "kernelspec": {
   "display_name": "Python 3",
   "language": "python",
   "name": "python3"
  },
  "language_info": {
   "codemirror_mode": {
    "name": "ipython",
    "version": 3
   },
   "file_extension": ".py",
   "mimetype": "text/x-python",
   "name": "python",
   "nbconvert_exporter": "python",
   "pygments_lexer": "ipython3",
   "version": "3.7.4"
  }
 },
 "nbformat": 4,
 "nbformat_minor": 4
}
