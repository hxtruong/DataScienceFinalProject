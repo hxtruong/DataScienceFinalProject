{
 "cells": [
  {
   "cell_type": "code",
   "execution_count": 1,
   "metadata": {},
   "outputs": [],
   "source": [
    "%matplotlib inline\n",
    "import matplotlib.pyplot as plt\n",
    "import seaborn as sns # seaborn là thư viện được xây trên matplotlib, giúp việc visualization đỡ khổ hơn\n",
    "import pandas as pd\n",
    "import numpy as np\n",
    "\n",
    "from sklearn.model_selection import train_test_split\n",
    "from sklearn.preprocessing import OneHotEncoder, StandardScaler\n",
    "from sklearn.impute import SimpleImputer\n",
    "from sklearn.base import BaseEstimator, TransformerMixin\n",
    "from sklearn.pipeline import Pipeline, make_pipeline\n",
    "from sklearn.compose import ColumnTransformer, make_column_transformer\n",
    "from sklearn.neural_network import MLPClassifier\n",
    "from sklearn.linear_model import LogisticRegression\n",
    "from sklearn import preprocessing\n",
    "\n",
    "import warnings\n",
    "from sklearn.exceptions import DataConversionWarning\n",
    "warnings.filterwarnings(action='ignore', category=DataConversionWarning)\n",
    "\n",
    "from sklearn.linear_model import LinearRegression, Lasso, Ridge, ElasticNet\n",
    "from sklearn.neighbors import KNeighborsRegressor\n",
    "from sklearn.dummy import DummyRegressor\n",
    "from sklearn.ensemble import GradientBoostingRegressor, RandomForestRegressor\n",
    "from sklearn.tree import DecisionTreeRegressor\n",
    "\n",
    "from sklearn import metrics\n",
    "\n",
    "import matplotlib.pyplot as plt"
   ]
  },
  {
   "cell_type": "code",
   "execution_count": 33,
   "metadata": {},
   "outputs": [
    {
     "data": {
      "text/html": [
       "<div>\n",
       "<style scoped>\n",
       "    .dataframe tbody tr th:only-of-type {\n",
       "        vertical-align: middle;\n",
       "    }\n",
       "\n",
       "    .dataframe tbody tr th {\n",
       "        vertical-align: top;\n",
       "    }\n",
       "\n",
       "    .dataframe thead th {\n",
       "        text-align: right;\n",
       "    }\n",
       "</style>\n",
       "<table border=\"1\" class=\"dataframe\">\n",
       "  <thead>\n",
       "    <tr style=\"text-align: right;\">\n",
       "      <th></th>\n",
       "      <th>Price</th>\n",
       "      <th>Key_Specs__Screen_Size</th>\n",
       "      <th>Key_Specs__Touch_Screen</th>\n",
       "      <th>Key_Specs__Storage_Type</th>\n",
       "      <th>Key_Specs__System_Memory</th>\n",
       "      <th>RAM_type</th>\n",
       "      <th>RAM_speed</th>\n",
       "      <th>Processor</th>\n",
       "      <th>Graphics__Graphics</th>\n",
       "      <th>Screen_resolution1</th>\n",
       "      <th>...</th>\n",
       "      <th>Feature__Backlit_Keyboard</th>\n",
       "      <th>Feature__Mac_Features</th>\n",
       "      <th>Port_Number_USB_Ports</th>\n",
       "      <th>Display__Display_Type</th>\n",
       "      <th>Storage__eMMC_Capacity</th>\n",
       "      <th>Storage__Solid_State_Drive_Capacity</th>\n",
       "      <th>Dimension__Product_Depth</th>\n",
       "      <th>Dimension__Product_Height</th>\n",
       "      <th>Dimension__Product_Weight</th>\n",
       "      <th>Dimension__Product_Width</th>\n",
       "    </tr>\n",
       "  </thead>\n",
       "  <tbody>\n",
       "    <tr>\n",
       "      <th>0</th>\n",
       "      <td>1769.99</td>\n",
       "      <td>14.0</td>\n",
       "      <td>yes</td>\n",
       "      <td>ssd</td>\n",
       "      <td>8.0</td>\n",
       "      <td>lpddr3</td>\n",
       "      <td>2133.0</td>\n",
       "      <td>intel 8th generation core i7</td>\n",
       "      <td>intel uhd graphics 620</td>\n",
       "      <td>1920.0</td>\n",
       "      <td>...</td>\n",
       "      <td>yes</td>\n",
       "      <td>NaN</td>\n",
       "      <td>2.0</td>\n",
       "      <td>lcd</td>\n",
       "      <td>0.0</td>\n",
       "      <td>256.0</td>\n",
       "      <td>8.54</td>\n",
       "      <td>0.59</td>\n",
       "      <td>2.40</td>\n",
       "      <td>12.7</td>\n",
       "    </tr>\n",
       "    <tr>\n",
       "      <th>1</th>\n",
       "      <td>1099.99</td>\n",
       "      <td>13.3</td>\n",
       "      <td>no</td>\n",
       "      <td>ssd</td>\n",
       "      <td>8.0</td>\n",
       "      <td>lpddr3</td>\n",
       "      <td>2133.0</td>\n",
       "      <td>intel 8th generation core i5</td>\n",
       "      <td>intel uhd graphics 617</td>\n",
       "      <td>2560.0</td>\n",
       "      <td>...</td>\n",
       "      <td>yes</td>\n",
       "      <td>force touch trackpad, siri, touch id sensor</td>\n",
       "      <td>NaN</td>\n",
       "      <td>led</td>\n",
       "      <td>0.0</td>\n",
       "      <td>256.0</td>\n",
       "      <td>8.36</td>\n",
       "      <td>0.61</td>\n",
       "      <td>2.75</td>\n",
       "      <td>12.0</td>\n",
       "    </tr>\n",
       "    <tr>\n",
       "      <th>2</th>\n",
       "      <td>1769.99</td>\n",
       "      <td>13.3</td>\n",
       "      <td>no</td>\n",
       "      <td>ssd</td>\n",
       "      <td>8.0</td>\n",
       "      <td>ddr4 sdram</td>\n",
       "      <td>2400.0</td>\n",
       "      <td>intel 8th generation core i7</td>\n",
       "      <td>intel uhd graphics 620</td>\n",
       "      <td>1920.0</td>\n",
       "      <td>...</td>\n",
       "      <td>yes</td>\n",
       "      <td>NaN</td>\n",
       "      <td>3.0</td>\n",
       "      <td>lcd</td>\n",
       "      <td>0.0</td>\n",
       "      <td>256.0</td>\n",
       "      <td>8.19</td>\n",
       "      <td>0.66</td>\n",
       "      <td>2.63</td>\n",
       "      <td>12.0</td>\n",
       "    </tr>\n",
       "    <tr>\n",
       "      <th>3</th>\n",
       "      <td>1899.99</td>\n",
       "      <td>15.6</td>\n",
       "      <td>no</td>\n",
       "      <td>ssd</td>\n",
       "      <td>16.0</td>\n",
       "      <td>ddr4 sdram</td>\n",
       "      <td>2666.0</td>\n",
       "      <td>intel 9th generation core i7</td>\n",
       "      <td>nvidia geforce rtx 2060</td>\n",
       "      <td>1920.0</td>\n",
       "      <td>...</td>\n",
       "      <td>yes</td>\n",
       "      <td>NaN</td>\n",
       "      <td>3.0</td>\n",
       "      <td>widescreen lcd</td>\n",
       "      <td>0.0</td>\n",
       "      <td>256.0</td>\n",
       "      <td>10.90</td>\n",
       "      <td>0.80</td>\n",
       "      <td>4.76</td>\n",
       "      <td>14.2</td>\n",
       "    </tr>\n",
       "    <tr>\n",
       "      <th>4</th>\n",
       "      <td>1138.45</td>\n",
       "      <td>15.6</td>\n",
       "      <td>no</td>\n",
       "      <td>ssd</td>\n",
       "      <td>8.0</td>\n",
       "      <td>ddr4</td>\n",
       "      <td>2133.0</td>\n",
       "      <td>intel 7th generation core i5</td>\n",
       "      <td>intel hd graphics 620</td>\n",
       "      <td>1920.0</td>\n",
       "      <td>...</td>\n",
       "      <td>yes</td>\n",
       "      <td>NaN</td>\n",
       "      <td>4.0</td>\n",
       "      <td>lcd</td>\n",
       "      <td>0.0</td>\n",
       "      <td>256.0</td>\n",
       "      <td>9.90</td>\n",
       "      <td>0.90</td>\n",
       "      <td>4.14</td>\n",
       "      <td>14.8</td>\n",
       "    </tr>\n",
       "  </tbody>\n",
       "</table>\n",
       "<p>5 rows × 26 columns</p>\n",
       "</div>"
      ],
      "text/plain": [
       "     Price  Key_Specs__Screen_Size Key_Specs__Touch_Screen  \\\n",
       "0  1769.99                    14.0                     yes   \n",
       "1  1099.99                    13.3                      no   \n",
       "2  1769.99                    13.3                      no   \n",
       "3  1899.99                    15.6                      no   \n",
       "4  1138.45                    15.6                      no   \n",
       "\n",
       "  Key_Specs__Storage_Type  Key_Specs__System_Memory    RAM_type  RAM_speed  \\\n",
       "0                     ssd                       8.0      lpddr3     2133.0   \n",
       "1                     ssd                       8.0      lpddr3     2133.0   \n",
       "2                     ssd                       8.0  ddr4 sdram     2400.0   \n",
       "3                     ssd                      16.0  ddr4 sdram     2666.0   \n",
       "4                     ssd                       8.0        ddr4     2133.0   \n",
       "\n",
       "                      Processor       Graphics__Graphics  Screen_resolution1  \\\n",
       "0  intel 8th generation core i7   intel uhd graphics 620              1920.0   \n",
       "1  intel 8th generation core i5   intel uhd graphics 617              2560.0   \n",
       "2  intel 8th generation core i7   intel uhd graphics 620              1920.0   \n",
       "3  intel 9th generation core i7  nvidia geforce rtx 2060              1920.0   \n",
       "4  intel 7th generation core i5    intel hd graphics 620              1920.0   \n",
       "\n",
       "   ...  Feature__Backlit_Keyboard  \\\n",
       "0  ...                        yes   \n",
       "1  ...                        yes   \n",
       "2  ...                        yes   \n",
       "3  ...                        yes   \n",
       "4  ...                        yes   \n",
       "\n",
       "                         Feature__Mac_Features Port_Number_USB_Ports  \\\n",
       "0                                          NaN                   2.0   \n",
       "1  force touch trackpad, siri, touch id sensor                   NaN   \n",
       "2                                          NaN                   3.0   \n",
       "3                                          NaN                   3.0   \n",
       "4                                          NaN                   4.0   \n",
       "\n",
       "  Display__Display_Type Storage__eMMC_Capacity  \\\n",
       "0                   lcd                    0.0   \n",
       "1                   led                    0.0   \n",
       "2                   lcd                    0.0   \n",
       "3        widescreen lcd                    0.0   \n",
       "4                   lcd                    0.0   \n",
       "\n",
       "  Storage__Solid_State_Drive_Capacity Dimension__Product_Depth  \\\n",
       "0                               256.0                     8.54   \n",
       "1                               256.0                     8.36   \n",
       "2                               256.0                     8.19   \n",
       "3                               256.0                    10.90   \n",
       "4                               256.0                     9.90   \n",
       "\n",
       "  Dimension__Product_Height  Dimension__Product_Weight  \\\n",
       "0                      0.59                       2.40   \n",
       "1                      0.61                       2.75   \n",
       "2                      0.66                       2.63   \n",
       "3                      0.80                       4.76   \n",
       "4                      0.90                       4.14   \n",
       "\n",
       "  Dimension__Product_Width  \n",
       "0                     12.7  \n",
       "1                     12.0  \n",
       "2                     12.0  \n",
       "3                     14.2  \n",
       "4                     14.8  \n",
       "\n",
       "[5 rows x 26 columns]"
      ]
     },
     "execution_count": 33,
     "metadata": {},
     "output_type": "execute_result"
    }
   ],
   "source": [
    "data_df = pd.read_csv('bestbuy_train_val_data_predict_price.csv', index_col=False)\n",
    "data_df.head()"
   ]
  },
  {
   "cell_type": "code",
   "execution_count": 3,
   "metadata": {},
   "outputs": [
    {
     "name": "stdout",
     "output_type": "stream",
     "text": [
      "<class 'pandas.core.frame.DataFrame'>\n",
      "RangeIndex: 917 entries, 0 to 916\n",
      "Data columns (total 26 columns):\n",
      "Price                                  917 non-null float64\n",
      "Key_Specs__Screen_Size                 917 non-null float64\n",
      "Key_Specs__Touch_Screen                909 non-null object\n",
      "Key_Specs__Storage_Type                902 non-null object\n",
      "Key_Specs__System_Memory               909 non-null float64\n",
      "RAM_type                               909 non-null object\n",
      "RAM_speed                              606 non-null float64\n",
      "Processor                              909 non-null object\n",
      "Graphics__Graphics                     894 non-null object\n",
      "Screen_resolution1                     915 non-null float64\n",
      "Screen_resolution2                     915 non-null float64\n",
      "Key_Specs__Operating_System            905 non-null object\n",
      "Key_Specs__Battery_Type                917 non-null object\n",
      "General__Color_Category                917 non-null object\n",
      "General__Brand                         915 non-null object\n",
      "Feature__Keyboard_Touch_Screen         700 non-null object\n",
      "Feature__Backlit_Keyboard              903 non-null object\n",
      "Feature__Mac_Features                  64 non-null object\n",
      "Port_Number_USB_Ports                  829 non-null float64\n",
      "Display__Display_Type                  915 non-null object\n",
      "Storage__eMMC_Capacity                 917 non-null float64\n",
      "Storage__Solid_State_Drive_Capacity    917 non-null float64\n",
      "Dimension__Product_Depth               889 non-null float64\n",
      "Dimension__Product_Height              889 non-null float64\n",
      "Dimension__Product_Weight              870 non-null float64\n",
      "Dimension__Product_Width               889 non-null float64\n",
      "dtypes: float64(13), object(13)\n",
      "memory usage: 186.4+ KB\n"
     ]
    }
   ],
   "source": [
    "data_df.info()"
   ]
  },
  {
   "cell_type": "markdown",
   "metadata": {},
   "source": [
    "# Split Data"
   ]
  },
  {
   "cell_type": "code",
   "execution_count": 4,
   "metadata": {},
   "outputs": [],
   "source": [
    "y_sr = data_df['Price']\n",
    "X_df = data_df.drop('Price', axis=1)"
   ]
  },
  {
   "cell_type": "code",
   "execution_count": 5,
   "metadata": {},
   "outputs": [],
   "source": [
    "train_X_df, val_X_df, train_y_sr, val_y_sr = train_test_split(X_df, y_sr, test_size=0.15, random_state=0)"
   ]
  },
  {
   "cell_type": "code",
   "execution_count": 6,
   "metadata": {},
   "outputs": [
    {
     "name": "stdout",
     "output_type": "stream",
     "text": [
      "<class 'pandas.core.frame.DataFrame'>\n",
      "Int64Index: 779 entries, 620 to 684\n",
      "Data columns (total 25 columns):\n",
      "Key_Specs__Screen_Size                 779 non-null float64\n",
      "Key_Specs__Touch_Screen                775 non-null object\n",
      "Key_Specs__Storage_Type                770 non-null object\n",
      "Key_Specs__System_Memory               775 non-null float64\n",
      "RAM_type                               775 non-null object\n",
      "RAM_speed                              512 non-null float64\n",
      "Processor                              775 non-null object\n",
      "Graphics__Graphics                     762 non-null object\n",
      "Screen_resolution1                     777 non-null float64\n",
      "Screen_resolution2                     777 non-null float64\n",
      "Key_Specs__Operating_System            767 non-null object\n",
      "Key_Specs__Battery_Type                779 non-null object\n",
      "General__Color_Category                779 non-null object\n",
      "General__Brand                         777 non-null object\n",
      "Feature__Keyboard_Touch_Screen         595 non-null object\n",
      "Feature__Backlit_Keyboard              770 non-null object\n",
      "Feature__Mac_Features                  57 non-null object\n",
      "Port_Number_USB_Ports                  707 non-null float64\n",
      "Display__Display_Type                  779 non-null object\n",
      "Storage__eMMC_Capacity                 779 non-null float64\n",
      "Storage__Solid_State_Drive_Capacity    779 non-null float64\n",
      "Dimension__Product_Depth               753 non-null float64\n",
      "Dimension__Product_Height              753 non-null float64\n",
      "Dimension__Product_Weight              739 non-null float64\n",
      "Dimension__Product_Width               753 non-null float64\n",
      "dtypes: float64(12), object(13)\n",
      "memory usage: 158.2+ KB\n"
     ]
    }
   ],
   "source": [
    "train_X_df.info()"
   ]
  },
  {
   "cell_type": "code",
   "execution_count": 7,
   "metadata": {},
   "outputs": [
    {
     "data": {
      "text/plain": [
       "Index(['Key_Specs__Screen_Size', 'Key_Specs__Touch_Screen',\n",
       "       'Key_Specs__Storage_Type', 'Key_Specs__System_Memory', 'RAM_type',\n",
       "       'RAM_speed', 'Processor', 'Graphics__Graphics', 'Screen_resolution1',\n",
       "       'Screen_resolution2', 'Key_Specs__Operating_System',\n",
       "       'Key_Specs__Battery_Type', 'General__Color_Category', 'General__Brand',\n",
       "       'Feature__Keyboard_Touch_Screen', 'Feature__Backlit_Keyboard',\n",
       "       'Feature__Mac_Features', 'Port_Number_USB_Ports',\n",
       "       'Display__Display_Type', 'Storage__eMMC_Capacity',\n",
       "       'Storage__Solid_State_Drive_Capacity', 'Dimension__Product_Depth',\n",
       "       'Dimension__Product_Height', 'Dimension__Product_Weight',\n",
       "       'Dimension__Product_Width'],\n",
       "      dtype='object')"
      ]
     },
     "execution_count": 7,
     "metadata": {},
     "output_type": "execute_result"
    }
   ],
   "source": [
    "names = train_X_df.columns\n",
    "names"
   ]
  },
  {
   "cell_type": "markdown",
   "metadata": {},
   "source": [
    "# Transform data"
   ]
  },
  {
   "cell_type": "code",
   "execution_count": 8,
   "metadata": {},
   "outputs": [],
   "source": [
    "class ColAdderDropper(BaseEstimator, TransformerMixin):\n",
    "    def fit(self, X_df, y=None):\n",
    "        return self\n",
    "    def transform(self, X_df, y=None):\n",
    "        transformed_X_df = X_df.copy()\n",
    "        transformed_X_df = transformed_X_df.drop([], axis=1)\n",
    "        return transformed_X_df"
   ]
  },
  {
   "cell_type": "code",
   "execution_count": 9,
   "metadata": {},
   "outputs": [],
   "source": [
    "class FillNA(BaseEstimator, TransformerMixin):\n",
    "    def __init__(self):\n",
    "        self.fillna_values = {}\n",
    "    def fit(self, X_df, y=None):\n",
    "        self.fillna_values['Key_Specs__Screen_Size'] = X_df['Key_Specs__Screen_Size'].mean()\n",
    "        self.fillna_values['Key_Specs__System_Memory'] = X_df['Key_Specs__System_Memory'].mean()\n",
    "        self.fillna_values['RAM_speed'] = X_df['RAM_speed'].mean()\n",
    "        self.fillna_values['Screen_resolution1'] = X_df['Screen_resolution1'].mean()\n",
    "        self.fillna_values['Screen_resolution2'] = X_df['Screen_resolution2'].mean()\n",
    "        self.fillna_values['Port_Number_USB_Ports'] = X_df['Port_Number_USB_Ports'].mean()\n",
    "        self.fillna_values['Storage__eMMC_Capacity'] = X_df['Storage__eMMC_Capacity'].mean()\n",
    "        self.fillna_values['Storage__Solid_State_Drive_Capacity'] = X_df['Storage__Solid_State_Drive_Capacity'].mean()\n",
    "        self.fillna_values['Dimension__Product_Depth'] = X_df['Dimension__Product_Depth'].mean()\n",
    "        self.fillna_values['Dimension__Product_Height'] = X_df['Dimension__Product_Height'].mean()\n",
    "        self.fillna_values['Dimension__Product_Weight'] = X_df['Dimension__Product_Weight'].mean()\n",
    "        self.fillna_values['Dimension__Product_Width'] = X_df['Dimension__Product_Width'].mean()\n",
    "        \n",
    "        self.fillna_values['Key_Specs__Touch_Screen'] = X_df['Key_Specs__Touch_Screen'].mode()[0]\n",
    "        self.fillna_values['Key_Specs__Storage_Type'] = X_df['Key_Specs__Storage_Type'].mode()[0]\n",
    "        self.fillna_values['RAM_type'] = X_df['RAM_type'].mode()[0]\n",
    "        self.fillna_values['Processor'] = X_df['Processor'].mode()[0]\n",
    "        self.fillna_values['Graphics__Graphics'] = X_df['Graphics__Graphics'].mode()[0]\n",
    "        self.fillna_values['Key_Specs__Operating_System'] = X_df['Key_Specs__Operating_System'].mode()[0]\n",
    "        self.fillna_values['Key_Specs__Battery_Type'] = X_df['Key_Specs__Battery_Type'].mode()[0]#'Others'\n",
    "        self.fillna_values['General__Color_Category'] = X_df['General__Color_Category'].mode()[0]\n",
    "        self.fillna_values['General__Brand'] = X_df['General__Brand'].mode()[0]\n",
    "        self.fillna_values['Feature__Keyboard_Touch_Screen'] = X_df['Feature__Keyboard_Touch_Screen'].mode()[0]\n",
    "        self.fillna_values['Feature__Backlit_Keyboard'] = X_df['Feature__Backlit_Keyboard'].mode()[0]\n",
    "        self.fillna_values['Feature__Mac_Features'] = X_df['Feature__Mac_Features'].mode()[0]#'Others'\n",
    "        self.fillna_values['Display__Display_Type'] = X_df['Display__Display_Type'].mode()[0]\n",
    "            \n",
    "        return self\n",
    "    \n",
    "    def transform(self, X_df, y=None):\n",
    "        transformed_X_df = X_df.copy()\n",
    "        \n",
    "        transformed_X_df['Key_Specs__Screen_Size'].fillna(value=self.fillna_values['Key_Specs__Screen_Size'], inplace=True)\n",
    "        transformed_X_df['Key_Specs__System_Memory'].fillna(value=self.fillna_values['Key_Specs__System_Memory'], inplace=True)\n",
    "        transformed_X_df['RAM_speed'].fillna(value=self.fillna_values['RAM_speed'], inplace=True)\n",
    "        transformed_X_df['Screen_resolution1'].fillna(value=self.fillna_values['Screen_resolution1'], inplace=True)\n",
    "        transformed_X_df['Screen_resolution2'].fillna(value=self.fillna_values['Screen_resolution2'], inplace=True)\n",
    "        transformed_X_df['Port_Number_USB_Ports'].fillna(value=self.fillna_values['Port_Number_USB_Ports'], inplace=True)\n",
    "        transformed_X_df['Storage__eMMC_Capacity'].fillna(value=self.fillna_values['Storage__eMMC_Capacity'], inplace=True)\n",
    "        transformed_X_df['Storage__Solid_State_Drive_Capacity'].fillna(value=self.fillna_values['Storage__Solid_State_Drive_Capacity'], inplace=True)\n",
    "        transformed_X_df['Dimension__Product_Depth'].fillna(value=self.fillna_values['Dimension__Product_Depth'], inplace=True)\n",
    "        transformed_X_df['Dimension__Product_Height'].fillna(value=self.fillna_values['Dimension__Product_Height'], inplace=True)\n",
    "        transformed_X_df['Dimension__Product_Weight'].fillna(value=self.fillna_values['Dimension__Product_Weight'], inplace=True)\n",
    "        transformed_X_df['Dimension__Product_Width'].fillna(value=self.fillna_values['Dimension__Product_Width'], inplace=True)\n",
    "        \n",
    "        transformed_X_df['Key_Specs__Touch_Screen'].fillna(value=self.fillna_values['Key_Specs__Touch_Screen'], inplace=True)\n",
    "        transformed_X_df['Key_Specs__Storage_Type'].fillna(value=self.fillna_values['Key_Specs__Storage_Type'], inplace=True)\n",
    "        transformed_X_df['RAM_type'].fillna(value=self.fillna_values['RAM_type'], inplace=True)\n",
    "        transformed_X_df['Processor'].fillna(value=self.fillna_values['Processor'], inplace=True)\n",
    "        transformed_X_df['Graphics__Graphics'].fillna(value=self.fillna_values['Graphics__Graphics'], inplace=True)\n",
    "        transformed_X_df['Key_Specs__Operating_System'].fillna(value=self.fillna_values['Key_Specs__Operating_System'], inplace=True)\n",
    "        transformed_X_df['Key_Specs__Battery_Type'].fillna(value=self.fillna_values['Key_Specs__Battery_Type'], inplace=True)\n",
    "        transformed_X_df['General__Color_Category'].fillna(value=self.fillna_values['General__Color_Category'], inplace=True)\n",
    "        transformed_X_df['General__Brand'].fillna(value=self.fillna_values['General__Brand'], inplace=True)\n",
    "        transformed_X_df['Feature__Keyboard_Touch_Screen'].fillna(value=self.fillna_values['Feature__Keyboard_Touch_Screen'], inplace=True)\n",
    "        transformed_X_df['Feature__Backlit_Keyboard'].fillna(value=self.fillna_values['Feature__Backlit_Keyboard'], inplace=True)\n",
    "        transformed_X_df['Feature__Mac_Features'].fillna(value=self.fillna_values['Feature__Mac_Features'], inplace=True)\n",
    "        transformed_X_df['Display__Display_Type'].fillna(value=self.fillna_values['Display__Display_Type'], inplace=True)\n",
    "        \n",
    "        return transformed_X_df"
   ]
  },
  {
   "cell_type": "code",
   "execution_count": 10,
   "metadata": {},
   "outputs": [],
   "source": [
    "# col_adderdropper = ColAdderDropper()\n",
    "# train_X_df = col_adderdropper.fit_transform(train_X_df)\n",
    "# val_X_df = col_adderdropper.fit_transform(val_X_df)"
   ]
  },
  {
   "cell_type": "code",
   "execution_count": 11,
   "metadata": {},
   "outputs": [],
   "source": [
    "# fillNa = FillNA()\n",
    "# fillNa.fit(train_X_df)\n",
    "# train_X_df = fillNa.transform(train_X_df)\n",
    "# train_X_df.info()"
   ]
  },
  {
   "cell_type": "code",
   "execution_count": 12,
   "metadata": {},
   "outputs": [],
   "source": [
    "# val_X_df = fillNa.transform(val_X_df)\n",
    "# val_X_df.info()"
   ]
  },
  {
   "cell_type": "markdown",
   "metadata": {},
   "source": [
    "# Reprocess Pipeline"
   ]
  },
  {
   "cell_type": "code",
   "execution_count": 13,
   "metadata": {},
   "outputs": [],
   "source": [
    "numeric_cols = ['Key_Specs__Screen_Size', 'Key_Specs__System_Memory', 'RAM_speed', 'Screen_resolution1', 'Screen_resolution2', \n",
    "                'Port_Number_USB_Ports', 'Storage__eMMC_Capacity', 'Storage__Solid_State_Drive_Capacity', 'Dimension__Product_Depth',\n",
    "               'Dimension__Product_Height', 'Dimension__Product_Weight', 'Dimension__Product_Width']\n",
    "category_cols = ['Key_Specs__Touch_Screen', 'Key_Specs__Storage_Type', 'RAM_type', 'Processor',\n",
    "                 'Graphics__Graphics', 'Key_Specs__Operating_System', 'Key_Specs__Battery_Type', 'General__Color_Category',\n",
    "                 'General__Brand', 'Feature__Keyboard_Touch_Screen', 'Feature__Backlit_Keyboard',\n",
    "                'Feature__Mac_Features', 'Display__Display_Type']\n",
    "\n",
    "numeric_imputer = Pipeline([('imputer', SimpleImputer(strategy='mean'))])\n",
    "category_imputer = Pipeline([('one_hot_vector', OneHotEncoder(handle_unknown='ignore'))])\n",
    "\n",
    "transform_cols = ColumnTransformer([('category_imputer', category_imputer, category_cols)])\n",
    "reprocess_pipeline = Pipeline([('coladderdropper', ColAdderDropper()), ('fill_na', FillNA()), ('transform_cols', transform_cols), ('std_scaler', StandardScaler(with_mean=False))])"
   ]
  },
  {
   "cell_type": "markdown",
   "metadata": {},
   "source": [
    "# Models"
   ]
  },
  {
   "cell_type": "code",
   "execution_count": 14,
   "metadata": {},
   "outputs": [],
   "source": [
    "models = [KNeighborsRegressor(),\n",
    "          LinearRegression(),\n",
    "          Lasso(),\n",
    "          Ridge(),\n",
    "          ElasticNet(),\n",
    "          GradientBoostingRegressor(),\n",
    "          RandomForestRegressor(),\n",
    "          DecisionTreeRegressor(random_state=0)]\n",
    "\n",
    "models_names = ['K-nn', 'Linear','Lasso','Ridge','Elastic','Boost','Forest', 'DecisionTree']"
   ]
  },
  {
   "cell_type": "code",
   "execution_count": 15,
   "metadata": {},
   "outputs": [
    {
     "name": "stdout",
     "output_type": "stream",
     "text": [
      "[0.8480760299713463, 0.855246382785788, 0.85776712162489, 0.8552791777292342, 0.8437981158928979, 0.867309222328138, 0.8871758944147389, 0.8726538885424401]\n",
      "[79804.0054444058, 76037.49726973072, 74713.38063427368, 76020.27044341202, 82051.1470794145, 69701.01914629093, 59265.27285120462, 66893.52424220006]\n",
      "[124.29999999999995, 145.00100115127736, 148.60441755102204, 144.1894374516906, 161.8757792152383, 137.34295227384507, 100.00244166666661, 100.0]\n"
     ]
    }
   ],
   "source": [
    "scores = []\n",
    "mse = []\n",
    "mae = []\n",
    "\n",
    "for model in models:\n",
    "    full_pipeline = Pipeline([('reprocess_data', reprocess_pipeline), ('model', model)])\n",
    "    fits = full_pipeline.fit(train_X_df, train_y_sr)\n",
    "    scores.append(metrics.r2_score(val_y_sr, fits.predict(val_X_df)))\n",
    "    mse.append(metrics.mean_squared_error(val_y_sr, fits.predict(val_X_df)))\n",
    "    mae.append(metrics.median_absolute_error(val_y_sr, fits.predict(val_X_df)))\n",
    "    \n",
    "print(scores)\n",
    "print(mse)\n",
    "print(mae)"
   ]
  },
  {
   "cell_type": "markdown",
   "metadata": {},
   "source": [
    "# Visualize result "
   ]
  },
  {
   "cell_type": "code",
   "execution_count": 16,
   "metadata": {},
   "outputs": [
    {
     "data": {
      "text/plain": [
       "Text(0, 0.5, 'Median absolute error')"
      ]
     },
     "execution_count": 16,
     "metadata": {},
     "output_type": "execute_result"
    },
    {
     "data": {
      "image/png": "[encoded data removed]",
      "text/plain": [
       "<Figure size 1296x432 with 3 Axes>"
      ]
     },
     "metadata": {
      "needs_background": "light"
     },
     "output_type": "display_data"
    }
   ],
   "source": [
    "f, (ax1, ax2, ax3) = plt.subplots(ncols=3, sharex=True, sharey=False, figsize=(18,6))\n",
    "ax1.bar(models_names, scores)\n",
    "ax1.set_ylabel('Score')\n",
    "ax2.bar(models_names, mse)\n",
    "ax2.set_ylabel('Mean squared error')\n",
    "ax3.bar(models_names, mae)\n",
    "ax3.set_ylabel('Median absolute error')"
   ]
  },
  {
   "cell_type": "code",
   "execution_count": 29,
   "metadata": {},
   "outputs": [
    {
     "name": "stdout",
     "output_type": "stream",
     "text": [
      "n_estimator: 5 - Train acc: 0.954840 - Val acc: 0.881328\n",
      "n_estimator: 6 - Train acc: 0.958670 - Val acc: 0.885976\n",
      "n_estimator: 10 - Train acc: 0.963682 - Val acc: 0.906328\n",
      "n_estimator: 20 - Train acc: 0.968866 - Val acc: 0.906297\n",
      "n_estimator: 30 - Train acc: 0.968957 - Val acc: 0.898095\n",
      "n_estimator: 60 - Train acc: 0.969380 - Val acc: 0.895574\n",
      "n_estimator: 90 - Train acc: 0.969121 - Val acc: 0.889492\n",
      "n_estimator: 120 - Train acc: 0.970214 - Val acc: 0.891006\n",
      "n_estimator: 150 - Train acc: 0.970652 - Val acc: 0.891059\n"
     ]
    }
   ],
   "source": [
    "random_forest = RandomForestRegressor(verbose=0, n_jobs=4, random_state=0)\n",
    "full_pipeline = Pipeline([('reprocess_data', reprocess_pipeline), ('random_forest', random_forest)])\n",
    "\n",
    "n_estimators = [5, 6, 10, 20, 30, 60, 90, 120, 150]\n",
    "train_acc = []\n",
    "val_acc = []\n",
    "for n_es_ in n_estimators:\n",
    "    full_pipeline.set_params(random_forest__n_estimators=n_es_)\n",
    "    full_pipeline.fit(train_X_df, train_y_sr)\n",
    "    train_acc.append(full_pipeline.score(train_X_df, train_y_sr))\n",
    "    val_acc.append(full_pipeline.score(val_X_df, val_y_sr))\n",
    "    print('n_estimator: %d - Train acc: %f - Val acc: %f' %(n_es_, full_pipeline.score(train_X_df, train_y_sr), full_pipeline.score(val_X_df, val_y_sr)))"
   ]
  },
  {
   "cell_type": "code",
   "execution_count": 35,
   "metadata": {},
   "outputs": [
    {
     "data": {
      "text/plain": [
       "Text(0.5, 0, 'n Estimators')"
      ]
     },
     "execution_count": 35,
     "metadata": {},
     "output_type": "execute_result"
    },
    {
     "data": {
      "image/png": "[encoded data removed]",
      "text/plain": [
       "<Figure size 864x432 with 2 Axes>"
      ]
     },
     "metadata": {
      "needs_background": "light"
     },
     "output_type": "display_data"
    }
   ],
   "source": [
    "f, (ax1, ax2) = plt.subplots(ncols=2, sharex=True, sharey=False, figsize=(12,6))\n",
    "n_estimators_labs = ['5', '6', '10', '20', '30', '60', '90', '120', '150']\n",
    "ax1.bar(n_estimators_labs, train_acc)\n",
    "ax1.set_ylabel('Train Score')\n",
    "ax1.set_xlabel('n Estimators')\n",
    "ax2.bar(n_estimators_labs, val_acc)\n",
    "ax2.set_ylabel('Val Score')\n",
    "ax2.set_xlabel('n Estimators')"
   ]
  },
  {
   "cell_type": "markdown",
   "metadata": {},
   "source": [
    "# Test"
   ]
  },
  {
   "cell_type": "code",
   "execution_count": 18,
   "metadata": {},
   "outputs": [],
   "source": [
    "test_data_df = pd.read_csv('bestbuy_test_data_predict_price.csv', index_col=False)"
   ]
  },
  {
   "cell_type": "code",
   "execution_count": 19,
   "metadata": {},
   "outputs": [],
   "source": [
    "test_y_sr = test_data_df['Price']\n",
    "test_X_df = test_data_df.drop('Price', axis=1)"
   ]
  },
  {
   "cell_type": "code",
   "execution_count": 22,
   "metadata": {},
   "outputs": [
    {
     "data": {
      "text/plain": [
       "0.8527564405752125"
      ]
     },
     "execution_count": 22,
     "metadata": {},
     "output_type": "execute_result"
    }
   ],
   "source": [
    "test_model = RandomForestRegressor(n_estimators=10, n_jobs=4)\n",
    "full_pipeline = Pipeline([('reprocess_data', reprocess_pipeline), ('test_model', test_model)])\n",
    "\n",
    "fits = full_pipeline.fit(train_X_df, train_y_sr)\n",
    "fits.score(test_X_df, test_y_sr)"
   ]
  },
  {
   "cell_type": "code",
   "execution_count": 28,
   "metadata": {},
   "outputs": [
    {
     "data": {
      "text/html": [
       "<div>\n",
       "<style scoped>\n",
       "    .dataframe tbody tr th:only-of-type {\n",
       "        vertical-align: middle;\n",
       "    }\n",
       "\n",
       "    .dataframe tbody tr th {\n",
       "        vertical-align: top;\n",
       "    }\n",
       "\n",
       "    .dataframe thead th {\n",
       "        text-align: right;\n",
       "    }\n",
       "</style>\n",
       "<table border=\"1\" class=\"dataframe\">\n",
       "  <thead>\n",
       "    <tr style=\"text-align: right;\">\n",
       "      <th></th>\n",
       "      <th>predicted</th>\n",
       "      <th>true</th>\n",
       "      <th>Difference</th>\n",
       "    </tr>\n",
       "  </thead>\n",
       "  <tbody>\n",
       "    <tr>\n",
       "      <th>22</th>\n",
       "      <td>895.97</td>\n",
       "      <td>899.99</td>\n",
       "      <td>-4.02</td>\n",
       "    </tr>\n",
       "    <tr>\n",
       "      <th>91</th>\n",
       "      <td>304.05</td>\n",
       "      <td>282.99</td>\n",
       "      <td>21.06</td>\n",
       "    </tr>\n",
       "    <tr>\n",
       "      <th>58</th>\n",
       "      <td>1425.79</td>\n",
       "      <td>2114.99</td>\n",
       "      <td>-689.20</td>\n",
       "    </tr>\n",
       "    <tr>\n",
       "      <th>40</th>\n",
       "      <td>2754.99</td>\n",
       "      <td>2999.99</td>\n",
       "      <td>-245.00</td>\n",
       "    </tr>\n",
       "    <tr>\n",
       "      <th>12</th>\n",
       "      <td>1298.99</td>\n",
       "      <td>1279.99</td>\n",
       "      <td>19.00</td>\n",
       "    </tr>\n",
       "    <tr>\n",
       "      <th>95</th>\n",
       "      <td>1132.99</td>\n",
       "      <td>749.99</td>\n",
       "      <td>383.00</td>\n",
       "    </tr>\n",
       "    <tr>\n",
       "      <th>78</th>\n",
       "      <td>1495.56</td>\n",
       "      <td>1834.99</td>\n",
       "      <td>-339.43</td>\n",
       "    </tr>\n",
       "    <tr>\n",
       "      <th>77</th>\n",
       "      <td>283.69</td>\n",
       "      <td>316.99</td>\n",
       "      <td>-33.30</td>\n",
       "    </tr>\n",
       "    <tr>\n",
       "      <th>44</th>\n",
       "      <td>1619.99</td>\n",
       "      <td>1539.99</td>\n",
       "      <td>80.00</td>\n",
       "    </tr>\n",
       "    <tr>\n",
       "      <th>25</th>\n",
       "      <td>1547.99</td>\n",
       "      <td>1699.99</td>\n",
       "      <td>-152.00</td>\n",
       "    </tr>\n",
       "  </tbody>\n",
       "</table>\n",
       "</div>"
      ],
      "text/plain": [
       "    predicted     true  Difference\n",
       "22     895.97   899.99       -4.02\n",
       "91     304.05   282.99       21.06\n",
       "58    1425.79  2114.99     -689.20\n",
       "40    2754.99  2999.99     -245.00\n",
       "12    1298.99  1279.99       19.00\n",
       "95    1132.99   749.99      383.00\n",
       "78    1495.56  1834.99     -339.43\n",
       "77     283.69   316.99      -33.30\n",
       "44    1619.99  1539.99       80.00\n",
       "25    1547.99  1699.99     -152.00"
      ]
     },
     "execution_count": 28,
     "metadata": {},
     "output_type": "execute_result"
    }
   ],
   "source": [
    "predicted = pd.DataFrame.from_dict({'predicted':fits.predict(test_X_df), 'true':test_y_sr})\n",
    "predicted['Difference'] = predicted.predicted - predicted.true\n",
    "predicted.sample(n=10).round(2)"
   ]
  },
  {
   "cell_type": "code",
   "execution_count": null,
   "metadata": {},
   "outputs": [],
   "source": []
  }
 ],
 "metadata": {
  "kernelspec": {
   "display_name": "Python 3",
   "language": "python",
   "name": "python3"
  },
  "language_info": {
   "codemirror_mode": {
    "name": "ipython",
    "version": 3
   },
   "file_extension": ".py",
   "mimetype": "text/x-python",
   "name": "python",
   "nbconvert_exporter": "python",
   "pygments_lexer": "ipython3",
   "version": "3.7.4"
  }
 },
 "nbformat": 4,
 "nbformat_minor": 4
}
