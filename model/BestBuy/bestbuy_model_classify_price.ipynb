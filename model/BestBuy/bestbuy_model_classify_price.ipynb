{
 "cells": [
  {
   "cell_type": "code",
   "execution_count": 29,
   "metadata": {},
   "outputs": [],
   "source": [
    "%matplotlib inline\n",
    "import matplotlib.pyplot as plt\n",
    "import seaborn as sns # seaborn là thư viện được xây trên matplotlib, giúp việc visualization đỡ khổ hơn\n",
    "import pandas as pd\n",
    "import numpy as np\n",
    "\n",
    "from sklearn.model_selection import train_test_split\n",
    "from sklearn.preprocessing import OneHotEncoder, StandardScaler\n",
    "from sklearn.impute import SimpleImputer\n",
    "from sklearn.base import BaseEstimator, TransformerMixin\n",
    "from sklearn.pipeline import Pipeline, make_pipeline\n",
    "from sklearn.compose import ColumnTransformer, make_column_transformer\n",
    "from sklearn.neural_network import MLPClassifier\n",
    "from sklearn.linear_model import LogisticRegression\n",
    "from sklearn import preprocessing\n",
    "\n",
    "from sklearn import svm\n",
    "from sklearn.ensemble import RandomForestClassifier\n",
    "from sklearn import metrics\n",
    "\n",
    "import warnings\n",
    "from sklearn.exceptions import DataConversionWarning\n",
    "warnings.filterwarnings(action='ignore', category=DataConversionWarning)"
   ]
  },
  {
   "cell_type": "code",
   "execution_count": 30,
   "metadata": {},
   "outputs": [
    {
     "data": {
      "text/html": [
       "<div>\n",
       "<style scoped>\n",
       "    .dataframe tbody tr th:only-of-type {\n",
       "        vertical-align: middle;\n",
       "    }\n",
       "\n",
       "    .dataframe tbody tr th {\n",
       "        vertical-align: top;\n",
       "    }\n",
       "\n",
       "    .dataframe thead th {\n",
       "        text-align: right;\n",
       "    }\n",
       "</style>\n",
       "<table border=\"1\" class=\"dataframe\">\n",
       "  <thead>\n",
       "    <tr style=\"text-align: right;\">\n",
       "      <th></th>\n",
       "      <th>ChipsetBrand</th>\n",
       "      <th>CardDescription</th>\n",
       "      <th>NumberOfUSB2.0Ports</th>\n",
       "      <th>NumberOfUSB3.0Ports</th>\n",
       "      <th>BrandName</th>\n",
       "      <th>OperatingSystem</th>\n",
       "      <th>ProcessorBrand</th>\n",
       "      <th>ProcessorCount</th>\n",
       "      <th>HardDriveInterface</th>\n",
       "      <th>HardwarePlatform</th>\n",
       "      <th>...</th>\n",
       "      <th>HardDrive_capacity_pcs</th>\n",
       "      <th>ItemWeight_pcs</th>\n",
       "      <th>ItemDimensions_L_pcs</th>\n",
       "      <th>ItemDimensions_W_pcs</th>\n",
       "      <th>ItemDimensions_H_pcs</th>\n",
       "      <th>AverageBatteryLife_pcs</th>\n",
       "      <th>Batteries_pcs</th>\n",
       "      <th>GraphicsCardRamSize_pcs</th>\n",
       "      <th>FlashMemorySize_pcs</th>\n",
       "      <th>Processor_ghz_pcs</th>\n",
       "    </tr>\n",
       "  </thead>\n",
       "  <tbody>\n",
       "    <tr>\n",
       "      <th>0</th>\n",
       "      <td>nvidia</td>\n",
       "      <td>dedicated</td>\n",
       "      <td>4.0</td>\n",
       "      <td>8.0</td>\n",
       "      <td>asus</td>\n",
       "      <td>windows</td>\n",
       "      <td>intel</td>\n",
       "      <td>8.0</td>\n",
       "      <td>solid state</td>\n",
       "      <td>pc</td>\n",
       "      <td>...</td>\n",
       "      <td>1000.0</td>\n",
       "      <td>24.30</td>\n",
       "      <td>18.0</td>\n",
       "      <td>15.7</td>\n",
       "      <td>7.00</td>\n",
       "      <td>NaN</td>\n",
       "      <td>1 Lithium Polymer batteries required</td>\n",
       "      <td>6.0</td>\n",
       "      <td>512.0</td>\n",
       "      <td>NaN</td>\n",
       "    </tr>\n",
       "    <tr>\n",
       "      <th>1</th>\n",
       "      <td>intel</td>\n",
       "      <td>dedicated</td>\n",
       "      <td>NaN</td>\n",
       "      <td>NaN</td>\n",
       "      <td>dell</td>\n",
       "      <td>windows</td>\n",
       "      <td>intel</td>\n",
       "      <td>6.0</td>\n",
       "      <td>serial ata</td>\n",
       "      <td>pc</td>\n",
       "      <td>...</td>\n",
       "      <td>256.0</td>\n",
       "      <td>7.28</td>\n",
       "      <td>15.9</td>\n",
       "      <td>11.6</td>\n",
       "      <td>7.28</td>\n",
       "      <td>NaN</td>\n",
       "      <td>1 Lithium Polymer batteries required</td>\n",
       "      <td>NaN</td>\n",
       "      <td>NaN</td>\n",
       "      <td>2.6</td>\n",
       "    </tr>\n",
       "    <tr>\n",
       "      <th>2</th>\n",
       "      <td>intel</td>\n",
       "      <td>NaN</td>\n",
       "      <td>1.0</td>\n",
       "      <td>NaN</td>\n",
       "      <td>asus</td>\n",
       "      <td>windows</td>\n",
       "      <td>intel</td>\n",
       "      <td>2.0</td>\n",
       "      <td>solid state</td>\n",
       "      <td>pc</td>\n",
       "      <td>...</td>\n",
       "      <td>128.0</td>\n",
       "      <td>3.55</td>\n",
       "      <td>13.2</td>\n",
       "      <td>8.9</td>\n",
       "      <td>0.70</td>\n",
       "      <td>NaN</td>\n",
       "      <td>1 Lithium ion batteries required</td>\n",
       "      <td>NaN</td>\n",
       "      <td>NaN</td>\n",
       "      <td>1.1</td>\n",
       "    </tr>\n",
       "    <tr>\n",
       "      <th>3</th>\n",
       "      <td>NaN</td>\n",
       "      <td>integrated</td>\n",
       "      <td>1.0</td>\n",
       "      <td>NaN</td>\n",
       "      <td>hp</td>\n",
       "      <td>windows</td>\n",
       "      <td>intel</td>\n",
       "      <td>1.0</td>\n",
       "      <td>serial ata</td>\n",
       "      <td>pc</td>\n",
       "      <td>...</td>\n",
       "      <td>500.0</td>\n",
       "      <td>7.67</td>\n",
       "      <td>15.0</td>\n",
       "      <td>10.1</td>\n",
       "      <td>1.20</td>\n",
       "      <td>NaN</td>\n",
       "      <td>NaN</td>\n",
       "      <td>NaN</td>\n",
       "      <td>NaN</td>\n",
       "      <td>2.7</td>\n",
       "    </tr>\n",
       "    <tr>\n",
       "      <th>4</th>\n",
       "      <td>amd</td>\n",
       "      <td>NaN</td>\n",
       "      <td>NaN</td>\n",
       "      <td>NaN</td>\n",
       "      <td>lenovo</td>\n",
       "      <td>windows</td>\n",
       "      <td>amd</td>\n",
       "      <td>2.0</td>\n",
       "      <td>serial ata-600</td>\n",
       "      <td>pc</td>\n",
       "      <td>...</td>\n",
       "      <td>1000.0</td>\n",
       "      <td>5.95</td>\n",
       "      <td>12.8</td>\n",
       "      <td>9.2</td>\n",
       "      <td>0.70</td>\n",
       "      <td>5.0</td>\n",
       "      <td>NaN</td>\n",
       "      <td>NaN</td>\n",
       "      <td>NaN</td>\n",
       "      <td>3.7</td>\n",
       "    </tr>\n",
       "  </tbody>\n",
       "</table>\n",
       "<p>5 rows × 26 columns</p>\n",
       "</div>"
      ],
      "text/plain": [
       "  ChipsetBrand CardDescription  NumberOfUSB2.0Ports  NumberOfUSB3.0Ports  \\\n",
       "0       nvidia       dedicated                  4.0                  8.0   \n",
       "1        intel       dedicated                  NaN                  NaN   \n",
       "2        intel             NaN                  1.0                  NaN   \n",
       "3          NaN      integrated                  1.0                  NaN   \n",
       "4          amd             NaN                  NaN                  NaN   \n",
       "\n",
       "  BrandName OperatingSystem ProcessorBrand  ProcessorCount HardDriveInterface  \\\n",
       "0      asus         windows          intel             8.0        solid state   \n",
       "1      dell         windows          intel             6.0         serial ata   \n",
       "2      asus         windows          intel             2.0        solid state   \n",
       "3        hp         windows          intel             1.0         serial ata   \n",
       "4    lenovo         windows            amd             2.0     serial ata-600   \n",
       "\n",
       "  HardwarePlatform  ...  HardDrive_capacity_pcs  ItemWeight_pcs  \\\n",
       "0               pc  ...                  1000.0           24.30   \n",
       "1               pc  ...                   256.0            7.28   \n",
       "2               pc  ...                   128.0            3.55   \n",
       "3               pc  ...                   500.0            7.67   \n",
       "4               pc  ...                  1000.0            5.95   \n",
       "\n",
       "   ItemDimensions_L_pcs  ItemDimensions_W_pcs  ItemDimensions_H_pcs  \\\n",
       "0                  18.0                  15.7                  7.00   \n",
       "1                  15.9                  11.6                  7.28   \n",
       "2                  13.2                   8.9                  0.70   \n",
       "3                  15.0                  10.1                  1.20   \n",
       "4                  12.8                   9.2                  0.70   \n",
       "\n",
       "  AverageBatteryLife_pcs                         Batteries_pcs  \\\n",
       "0                    NaN  1 Lithium Polymer batteries required   \n",
       "1                    NaN  1 Lithium Polymer batteries required   \n",
       "2                    NaN      1 Lithium ion batteries required   \n",
       "3                    NaN                                   NaN   \n",
       "4                    5.0                                   NaN   \n",
       "\n",
       "   GraphicsCardRamSize_pcs  FlashMemorySize_pcs  Processor_ghz_pcs  \n",
       "0                      6.0                512.0                NaN  \n",
       "1                      NaN                  NaN                2.6  \n",
       "2                      NaN                  NaN                1.1  \n",
       "3                      NaN                  NaN                2.7  \n",
       "4                      NaN                  NaN                3.7  \n",
       "\n",
       "[5 rows x 26 columns]"
      ]
     },
     "execution_count": 30,
     "metadata": {},
     "output_type": "execute_result"
    }
   ],
   "source": [
    "data_df = pd.read_csv('train_val_data.csv', index_col=False)\n",
    "data_df.head()"
   ]
  },
  {
   "cell_type": "code",
   "execution_count": 31,
   "metadata": {},
   "outputs": [
    {
     "name": "stdout",
     "output_type": "stream",
     "text": [
      "<class 'pandas.core.frame.DataFrame'>\n",
      "RangeIndex: 2488 entries, 0 to 2487\n",
      "Data columns (total 26 columns):\n",
      "ChipsetBrand                      1988 non-null object\n",
      "CardDescription                   2007 non-null object\n",
      "NumberOfUSB2.0Ports               645 non-null float64\n",
      "NumberOfUSB3.0Ports               347 non-null float64\n",
      "BrandName                         2481 non-null object\n",
      "OperatingSystem                   2482 non-null object\n",
      "ProcessorBrand                    2487 non-null object\n",
      "ProcessorCount                    2465 non-null float64\n",
      "HardDriveInterface                2380 non-null object\n",
      "HardwarePlatform                  2488 non-null object\n",
      "Price_pcs                         2488 non-null float64\n",
      "ScreenSize_pcs                    2248 non-null float64\n",
      "MaxScreenResolution_width_pcs     1884 non-null float64\n",
      "MaxScreenResolution_height_pcs    1884 non-null float64\n",
      "RAM_capacity_pcs                  2485 non-null float64\n",
      "RAM_type_pcs                      2338 non-null object\n",
      "HardDrive_capacity_pcs            2488 non-null float64\n",
      "ItemWeight_pcs                    2487 non-null float64\n",
      "ItemDimensions_L_pcs              2487 non-null float64\n",
      "ItemDimensions_W_pcs              2487 non-null float64\n",
      "ItemDimensions_H_pcs              2487 non-null float64\n",
      "AverageBatteryLife_pcs            571 non-null float64\n",
      "Batteries_pcs                     1788 non-null object\n",
      "GraphicsCardRamSize_pcs           304 non-null float64\n",
      "FlashMemorySize_pcs               1451 non-null float64\n",
      "Processor_ghz_pcs                 2421 non-null float64\n",
      "dtypes: float64(17), object(9)\n",
      "memory usage: 505.5+ KB\n"
     ]
    }
   ],
   "source": [
    "data_df.info()"
   ]
  },
  {
   "cell_type": "markdown",
   "metadata": {},
   "source": [
    "# Split Data"
   ]
  },
  {
   "cell_type": "code",
   "execution_count": 32,
   "metadata": {},
   "outputs": [],
   "source": [
    "y_sr = data_df['Price_pcs']\n",
    "X_df = data_df.drop('Price_pcs', axis=1)"
   ]
  },
  {
   "cell_type": "code",
   "execution_count": 33,
   "metadata": {},
   "outputs": [],
   "source": [
    "train_X_df, val_X_df, train_y_sr, val_y_sr = train_test_split(X_df, y_sr, test_size=0.15, random_state=0)"
   ]
  },
  {
   "cell_type": "code",
   "execution_count": 34,
   "metadata": {},
   "outputs": [
    {
     "name": "stdout",
     "output_type": "stream",
     "text": [
      "<class 'pandas.core.frame.DataFrame'>\n",
      "Int64Index: 2114 entries, 2201 to 1653\n",
      "Data columns (total 25 columns):\n",
      "ChipsetBrand                      1686 non-null object\n",
      "CardDescription                   1697 non-null object\n",
      "NumberOfUSB2.0Ports               551 non-null float64\n",
      "NumberOfUSB3.0Ports               295 non-null float64\n",
      "BrandName                         2108 non-null object\n",
      "OperatingSystem                   2108 non-null object\n",
      "ProcessorBrand                    2113 non-null object\n",
      "ProcessorCount                    2093 non-null float64\n",
      "HardDriveInterface                2021 non-null object\n",
      "HardwarePlatform                  2114 non-null object\n",
      "ScreenSize_pcs                    1915 non-null float64\n",
      "MaxScreenResolution_width_pcs     1605 non-null float64\n",
      "MaxScreenResolution_height_pcs    1605 non-null float64\n",
      "RAM_capacity_pcs                  2111 non-null float64\n",
      "RAM_type_pcs                      1989 non-null object\n",
      "HardDrive_capacity_pcs            2114 non-null float64\n",
      "ItemWeight_pcs                    2113 non-null float64\n",
      "ItemDimensions_L_pcs              2113 non-null float64\n",
      "ItemDimensions_W_pcs              2113 non-null float64\n",
      "ItemDimensions_H_pcs              2113 non-null float64\n",
      "AverageBatteryLife_pcs            482 non-null float64\n",
      "Batteries_pcs                     1522 non-null object\n",
      "GraphicsCardRamSize_pcs           260 non-null float64\n",
      "FlashMemorySize_pcs               1223 non-null float64\n",
      "Processor_ghz_pcs                 2059 non-null float64\n",
      "dtypes: float64(16), object(9)\n",
      "memory usage: 429.4+ KB\n"
     ]
    }
   ],
   "source": [
    "train_X_df.info()"
   ]
  },
  {
   "cell_type": "markdown",
   "metadata": {},
   "source": [
    "# Transform data"
   ]
  },
  {
   "cell_type": "code",
   "execution_count": 36,
   "metadata": {},
   "outputs": [],
   "source": [
    "class ColAdderDropper(BaseEstimator, TransformerMixin):\n",
    "    def __init__(self, num_top_chipsetbrand=3, num_top_carddescription=2, num_top_operating=7, num_top_brandname=30, \n",
    "                 num_top_processorbrand=10): #, num_top_hardware=4,:\n",
    "        self.num_top_chipsetbrand = num_top_chipsetbrand\n",
    "        self.num_top_carddescription = num_top_carddescription\n",
    "        self.num_top_brandname = num_top_brandname\n",
    "        self.num_top_operating = num_top_operating\n",
    "        self.num_top_processorbrand = num_top_processorbrand\n",
    "#         self.num_top_hardware = num_top_hardware\n",
    "    def fit(self, X_df, y=None):\n",
    "        self.chipsetbrand_count = X_df['ChipsetBrand'].value_counts()\n",
    "        chipbrand = list(self.chipsetbrand_count.index)\n",
    "        self.top_chipsetbrand_ = chipbrand[:max(1, min(self.num_top_chipsetbrand, len(chipbrand)))]\n",
    "        \n",
    "        self.carddescription_count = X_df['CardDescription'].value_counts()\n",
    "        carddes = list(self.carddescription_count.index)\n",
    "        self.top_carddescription_ = carddes[:max(1, min(self.num_top_carddescription, len(carddes)))]\n",
    "        \n",
    "        self.operating_count = X_df['OperatingSystem'].value_counts()\n",
    "        opers = list(self.operating_count.index)\n",
    "        self.top_operating_ = opers[:max(1, min(self.num_top_operating, len(opers)))]\n",
    "        \n",
    "        self.brandname_count = X_df['BrandName'].value_counts()\n",
    "        brandname_ = list(self.brandname_count.index)\n",
    "        self.top_brandname_ = brandname_[:max(1, min(self.num_top_operating, len(brandname_)))]\n",
    "        \n",
    "        self.processorbrand_count = X_df['ProcessorBrand'].value_counts()\n",
    "        processbrand = list(self.processorbrand_count.index)\n",
    "        self.top_processorbrand_ = processbrand[:max(1, min(self.num_top_processorbrand, len(processbrand)))]\n",
    "        \n",
    "#         self.hardware_count = X_df['HardwarePlatform'].value_counts()\n",
    "#         hardware = list(self.hardware_count.index)\n",
    "#         self.top_hardware_ = hardware[:max(1, min(self.num_top_hardware, len(hardware)))]\n",
    "        \n",
    "        return self\n",
    "    def transform(self, X_df, y=None):\n",
    "        transformed_X_df = X_df.copy()\n",
    "        \n",
    "        transformed_X_df.loc[~transformed_X_df.ChipsetBrand.isin(self.top_chipsetbrand_) & ~transformed_X_df.ChipsetBrand.isna(), 'ChipsetBrand'] = 'others'\n",
    "        transformed_X_df.loc[~transformed_X_df.CardDescription.isin(self.top_carddescription_) & ~transformed_X_df.CardDescription.isna(), 'CardDescription'] = 'integrated'\n",
    "        transformed_X_df.loc[~transformed_X_df.BrandName.isin(self.top_brandname_) & ~transformed_X_df.BrandName.isna(), 'BrandName'] = 'others'\n",
    "        transformed_X_df.loc[~transformed_X_df.OperatingSystem.isin(self.top_operating_) & ~transformed_X_df.OperatingSystem.isna(), 'OperatingSystem'] = 'others'\n",
    "        transformed_X_df.loc[~transformed_X_df.ProcessorBrand.isin(self.top_processorbrand_) & ~transformed_X_df.ProcessorBrand.isna(), 'ProcessorBrand'] = 'others'\n",
    "#         transformed_X_df.loc[~transformed_X_df.HardwarePlatform.isin(self.top_hardware_) & ~transformed_X_df.HardwarePlatform.isna(), 'HardwarePlatform'] = 'others'\n",
    "\n",
    "        transformed_X_df = transformed_X_df.drop(['NumberOfUSB2.0Ports', 'NumberOfUSB3.0Ports', 'HardDriveInterface', 'HardwarePlatform',\n",
    "                                                 'AverageBatteryLife_pcs', 'RAM_type_pcs', 'GraphicsCardRamSize_pcs',\n",
    "                                                 'FlashMemorySize_pcs', 'Batteries_pcs'], axis=1)\n",
    "        \n",
    "        return transformed_X_df"
   ]
  },
  {
   "cell_type": "code",
   "execution_count": 8,
   "metadata": {},
   "outputs": [],
   "source": [
    "# data_df = pd.read_csv('train_val_data.csv', index_col=False)\n",
    "# train_X_df, val_X_df, train_y_sr, val_y_sr = train_test_split(X_df, y_sr, test_size=0.15, random_state=0)\n",
    "# col_adderdropper = ColAdderDropper()\n",
    "# train_X_df = col_adderdropper.fit_transform(train_X_df)\n",
    "# val_X_df = col_adderdropper.fit_transform(val_X_df)\n",
    "# train_X_df.isna().values.sum()"
   ]
  },
  {
   "cell_type": "code",
   "execution_count": 37,
   "metadata": {},
   "outputs": [],
   "source": [
    "class FillNA(BaseEstimator, TransformerMixin):\n",
    "    def __init__(self):\n",
    "        self.fillna_values = {}\n",
    "    def fit(self, X_df, y=None):\n",
    "        self.fillna_values['ProcessorCount'] = X_df['ProcessorCount'].mean()\n",
    "        self.fillna_values['ScreenSize_pcs'] = X_df['ScreenSize_pcs'].mean()\n",
    "        self.fillna_values['MaxScreenResolution_width_pcs'] = X_df['MaxScreenResolution_width_pcs'].mean()\n",
    "        self.fillna_values['MaxScreenResolution_height_pcs'] = X_df['MaxScreenResolution_height_pcs'].mean()\n",
    "        self.fillna_values['HardDrive_capacity_pcs'] = X_df['HardDrive_capacity_pcs'].mean()\n",
    "        self.fillna_values['ItemDimensions_L_pcs'] = X_df['ItemDimensions_L_pcs'].mean()\n",
    "        self.fillna_values['ItemDimensions_W_pcs'] = X_df['ItemDimensions_W_pcs'].mean()\n",
    "        self.fillna_values['ItemDimensions_H_pcs'] = X_df['ItemDimensions_H_pcs'].mean()\n",
    "#         self.fillna_values['AverageBatteryLife_pcs'] = X_df['AverageBatteryLife_pcs'].mean()\n",
    "#         self.fillna_values['GraphicsCardRamSize_pcs'] = 0.0 #X_df['GraphicsCardRamSize_pcs'].mean()\n",
    "#         self.fillna_values['FlashMemorySize_pcs'] = 0.0 #X_df['FlashMemorySize_pcs'].mean()\n",
    "        self.fillna_values['Processor_ghz_pcs'] = X_df['Processor_ghz_pcs'].mean()\n",
    "        self.fillna_values['RAM_capacity_pcs'] = X_df['RAM_capacity_pcs'].mean()\n",
    "        self.fillna_values['ItemWeight_pcs'] = X_df['ItemWeight_pcs'].mean()\n",
    "        \n",
    "        self.fillna_values['ChipsetBrand'] = X_df['ChipsetBrand'].mode()[0]\n",
    "        self.fillna_values['CardDescription'] = X_df['CardDescription'].mode()[0]\n",
    "        self.fillna_values['BrandName'] = X_df['BrandName'].mode()[0]\n",
    "        self.fillna_values['OperatingSystem'] = X_df['OperatingSystem'].mode()[0]\n",
    "        self.fillna_values['ProcessorBrand'] = X_df['ProcessorBrand'].mode()[0]\n",
    "#         self.fillna_values['HardDriveInterface'] = X_df['HardDriveInterface'].mode()[0]\n",
    "#         self.fillna_values['HardwarePlatform'] = X_df['HardwarePlatform'].mode()[0]\n",
    "#         self.fillna_values['RAM_type_pcs'] = X_df['RAM_type_pcs'].mode()[0]\n",
    "#         self.fillna_values['Batteries_pcs'] = X_df['Batteries_pcs'].mode()[0]\n",
    "            \n",
    "        return self\n",
    "    \n",
    "    def transform(self, X_df, y=None):\n",
    "        transformed_X_df = X_df.copy()\n",
    "        \n",
    "        transformed_X_df['ProcessorCount'].fillna(value=self.fillna_values['ProcessorCount'], inplace=True)\n",
    "        transformed_X_df['ScreenSize_pcs'].fillna(value=self.fillna_values['ScreenSize_pcs'], inplace=True)\n",
    "        transformed_X_df['MaxScreenResolution_width_pcs'].fillna(value=self.fillna_values['MaxScreenResolution_width_pcs'], inplace=True)\n",
    "        transformed_X_df['MaxScreenResolution_height_pcs'].fillna(value=self.fillna_values['MaxScreenResolution_height_pcs'], inplace=True)\n",
    "        transformed_X_df['HardDrive_capacity_pcs'].fillna(value=self.fillna_values['HardDrive_capacity_pcs'], inplace=True)\n",
    "        transformed_X_df['ItemDimensions_L_pcs'].fillna(value=self.fillna_values['ItemDimensions_L_pcs'], inplace=True)\n",
    "        transformed_X_df['ItemDimensions_W_pcs'].fillna(value=self.fillna_values['ItemDimensions_W_pcs'], inplace=True)\n",
    "        transformed_X_df['ItemDimensions_H_pcs'].fillna(value=self.fillna_values['ItemDimensions_H_pcs'], inplace=True)\n",
    "#         transformed_X_df['AverageBatteryLife_pcs'].fillna(value=self.fillna_values['AverageBatteryLife_pcs'], inplace=True)\n",
    "#         transformed_X_df['GraphicsCardRamSize_pcs'].fillna(value=self.fillna_values['GraphicsCardRamSize_pcs'], inplace=True)\n",
    "#         transformed_X_df['FlashMemorySize_pcs'].fillna(value=self.fillna_values['FlashMemorySize_pcs'], inplace=True)\n",
    "        transformed_X_df['Processor_ghz_pcs'].fillna(value=self.fillna_values['Processor_ghz_pcs'], inplace=True)\n",
    "        transformed_X_df['RAM_capacity_pcs'].fillna(value=self.fillna_values['RAM_capacity_pcs'], inplace=True)\n",
    "        transformed_X_df['ItemWeight_pcs'].fillna(value=self.fillna_values['ItemWeight_pcs'], inplace=True)\n",
    "        \n",
    "        transformed_X_df['ChipsetBrand'].fillna(value=self.fillna_values['ChipsetBrand'], inplace=True)\n",
    "        transformed_X_df['CardDescription'].fillna(value=self.fillna_values['CardDescription'], inplace=True)\n",
    "        transformed_X_df['BrandName'].fillna(value=self.fillna_values['BrandName'], inplace=True)\n",
    "        transformed_X_df['OperatingSystem'].fillna(value=self.fillna_values['OperatingSystem'], inplace=True)\n",
    "        transformed_X_df['ProcessorBrand'].fillna(value=self.fillna_values['ProcessorBrand'], inplace=True)\n",
    "#         transformed_X_df['HardDriveInterface'].fillna(value=self.fillna_values['HardDriveInterface'], inplace=True)\n",
    "#         transformed_X_df['HardwarePlatform'].fillna(value=self.fillna_values['HardwarePlatform'], inplace=True)\n",
    "#         transformed_X_df['RAM_type_pcs'].fillna(value=self.fillna_values['RAM_type_pcs'], inplace=True)\n",
    "#         transformed_X_df['Batteries_pcs'].fillna(value=self.fillna_values['Batteries_pcs'], inplace=True)\n",
    "        \n",
    "        return transformed_X_df"
   ]
  },
  {
   "cell_type": "code",
   "execution_count": 10,
   "metadata": {},
   "outputs": [],
   "source": [
    "# fillNa = FillNA()\n",
    "# fillNa.fit(train_X_df)\n",
    "# train_X_df = fillNa.transform(train_X_df)\n",
    "# train_X_df.info()"
   ]
  },
  {
   "cell_type": "code",
   "execution_count": 11,
   "metadata": {},
   "outputs": [],
   "source": [
    "# val_X_df = fillNa.transform(val_X_df)\n",
    "# val_X_df.info()"
   ]
  },
  {
   "cell_type": "code",
   "execution_count": 12,
   "metadata": {},
   "outputs": [],
   "source": [
    "# train_X_df['BrandName'].isna().values.sum()"
   ]
  },
  {
   "cell_type": "code",
   "execution_count": 13,
   "metadata": {},
   "outputs": [],
   "source": [
    "# val_X_df['BrandName'].value_counts()"
   ]
  },
  {
   "cell_type": "markdown",
   "metadata": {},
   "source": [
    "# Full Pipeline - Train"
   ]
  },
  {
   "cell_type": "code",
   "execution_count": 38,
   "metadata": {},
   "outputs": [],
   "source": [
    "numeric_cols = ['ScreenSize_pcs', 'ProcessorCount', 'MaxScreenResolution_width_pcs', 'MaxScreenResolution_height_pcs', 'RAM_capacity_pcs', \n",
    "                 'ItemWeight_pcs', 'Processor_ghz_pcs',\n",
    "                'ItemDimensions_L_pcs', 'ItemDimensions_W_pcs', 'ItemDimensions_H_pcs']\n",
    "category_cols = ['ChipsetBrand', 'CardDescription', 'BrandName', 'OperatingSystem', 'ProcessorBrand']\n",
    "\n",
    "numeric_imputer = Pipeline([('imputer', SimpleImputer(strategy='mean'))])\n",
    "category_imputer = Pipeline([('one_hot_vector', OneHotEncoder(handle_unknown='ignore'))])\n",
    "\n",
    "transform_cols = ColumnTransformer([('category_imputer', category_imputer, category_cols)])\n",
    "reprocess_pipeline = Pipeline([('coladderdropper', ColAdderDropper()), ('fill_na', FillNA()), ('transform_cols', transform_cols), ('std_scaler', StandardScaler(with_mean=False))])"
   ]
  },
  {
   "cell_type": "markdown",
   "metadata": {},
   "source": [
    "# Logistic regression"
   ]
  },
  {
   "cell_type": "code",
   "execution_count": 39,
   "metadata": {},
   "outputs": [
    {
     "name": "stdout",
     "output_type": "stream",
     "text": [
      "MaxIter: 50.000000 - Train acc: 0.554399 - Val acc: 0.513369\n",
      "MaxIter: 100.000000 - Train acc: 0.553453 - Val acc: 0.516043\n",
      "MaxIter: 200.000000 - Train acc: 0.553453 - Val acc: 0.516043\n",
      "MaxIter: 300.000000 - Train acc: 0.553453 - Val acc: 0.516043\n",
      "MaxIter: 500.000000 - Train acc: 0.553453 - Val acc: 0.516043\n",
      "MaxIter: 1000.000000 - Train acc: 0.553453 - Val acc: 0.516043\n"
     ]
    }
   ],
   "source": [
    "logistic_regression = LogisticRegression(solver='lbfgs', max_iter=500, verbose=0, n_jobs=4, random_state=0)\n",
    "full_pipeline = Pipeline([('reprocess_data', reprocess_pipeline), ('logistic_regression', logistic_regression)])\n",
    "\n",
    "max_iter = [50, 100, 200, 300, 500, 1000]\n",
    "for iter_ in max_iter:\n",
    "    full_pipeline.set_params(logistic_regression__max_iter=iter_)\n",
    "    full_pipeline.fit(train_X_df, train_y_sr)\n",
    "    print('MaxIter: %f - Train acc: %f - Val acc: %f' %(iter_, full_pipeline.score(train_X_df, train_y_sr), full_pipeline.score(val_X_df, val_y_sr)))"
   ]
  },
  {
   "cell_type": "markdown",
   "metadata": {},
   "source": [
    "# MLPClassifier"
   ]
  },
  {
   "cell_type": "code",
   "execution_count": 28,
   "metadata": {},
   "outputs": [
    {
     "name": "stderr",
     "output_type": "stream",
     "text": [
      "c:\\users\\huynhnhut\\appdata\\local\\programs\\python\\python37\\lib\\site-packages\\sklearn\\neural_network\\_multilayer_perceptron.py:470: ConvergenceWarning: lbfgs failed to converge (status=1):\n",
      "STOP: TOTAL NO. of ITERATIONS REACHED LIMIT.\n",
      "\n",
      "Increase the number of iterations (max_iter) or scale the data as shown in:\n",
      "    https://scikit-learn.org/stable/modules/preprocessing.html\n",
      "  self.n_iter_ = _check_optimize_result(\"lbfgs\", opt_res, self.max_iter)\n"
     ]
    },
    {
     "name": "stdout",
     "output_type": "stream",
     "text": [
      "Alpha: 0.100000 - MaxIter: 200.000000 - Train acc: 0.572375 - Val acc: 0.545455\n"
     ]
    },
    {
     "name": "stderr",
     "output_type": "stream",
     "text": [
      "c:\\users\\huynhnhut\\appdata\\local\\programs\\python\\python37\\lib\\site-packages\\sklearn\\neural_network\\_multilayer_perceptron.py:470: ConvergenceWarning: lbfgs failed to converge (status=1):\n",
      "STOP: TOTAL NO. of ITERATIONS REACHED LIMIT.\n",
      "\n",
      "Increase the number of iterations (max_iter) or scale the data as shown in:\n",
      "    https://scikit-learn.org/stable/modules/preprocessing.html\n",
      "  self.n_iter_ = _check_optimize_result(\"lbfgs\", opt_res, self.max_iter)\n"
     ]
    },
    {
     "name": "stdout",
     "output_type": "stream",
     "text": [
      "Alpha: 0.100000 - MaxIter: 500.000000 - Train acc: 0.572848 - Val acc: 0.550802\n"
     ]
    },
    {
     "name": "stderr",
     "output_type": "stream",
     "text": [
      "c:\\users\\huynhnhut\\appdata\\local\\programs\\python\\python37\\lib\\site-packages\\sklearn\\neural_network\\_multilayer_perceptron.py:470: ConvergenceWarning: lbfgs failed to converge (status=1):\n",
      "STOP: TOTAL NO. of ITERATIONS REACHED LIMIT.\n",
      "\n",
      "Increase the number of iterations (max_iter) or scale the data as shown in:\n",
      "    https://scikit-learn.org/stable/modules/preprocessing.html\n",
      "  self.n_iter_ = _check_optimize_result(\"lbfgs\", opt_res, self.max_iter)\n"
     ]
    },
    {
     "name": "stdout",
     "output_type": "stream",
     "text": [
      "Alpha: 0.100000 - MaxIter: 1000.000000 - Train acc: 0.572848 - Val acc: 0.545455\n"
     ]
    },
    {
     "name": "stderr",
     "output_type": "stream",
     "text": [
      "c:\\users\\huynhnhut\\appdata\\local\\programs\\python\\python37\\lib\\site-packages\\sklearn\\neural_network\\_multilayer_perceptron.py:470: ConvergenceWarning: lbfgs failed to converge (status=1):\n",
      "STOP: TOTAL NO. of ITERATIONS REACHED LIMIT.\n",
      "\n",
      "Increase the number of iterations (max_iter) or scale the data as shown in:\n",
      "    https://scikit-learn.org/stable/modules/preprocessing.html\n",
      "  self.n_iter_ = _check_optimize_result(\"lbfgs\", opt_res, self.max_iter)\n"
     ]
    },
    {
     "name": "stdout",
     "output_type": "stream",
     "text": [
      "Alpha: 1.000000 - MaxIter: 200.000000 - Train acc: 0.572848 - Val acc: 0.550802\n"
     ]
    },
    {
     "name": "stderr",
     "output_type": "stream",
     "text": [
      "c:\\users\\huynhnhut\\appdata\\local\\programs\\python\\python37\\lib\\site-packages\\sklearn\\neural_network\\_multilayer_perceptron.py:470: ConvergenceWarning: lbfgs failed to converge (status=1):\n",
      "STOP: TOTAL NO. of ITERATIONS REACHED LIMIT.\n",
      "\n",
      "Increase the number of iterations (max_iter) or scale the data as shown in:\n",
      "    https://scikit-learn.org/stable/modules/preprocessing.html\n",
      "  self.n_iter_ = _check_optimize_result(\"lbfgs\", opt_res, self.max_iter)\n"
     ]
    },
    {
     "name": "stdout",
     "output_type": "stream",
     "text": [
      "Alpha: 1.000000 - MaxIter: 500.000000 - Train acc: 0.572848 - Val acc: 0.545455\n"
     ]
    },
    {
     "name": "stderr",
     "output_type": "stream",
     "text": [
      "c:\\users\\huynhnhut\\appdata\\local\\programs\\python\\python37\\lib\\site-packages\\sklearn\\neural_network\\_multilayer_perceptron.py:470: ConvergenceWarning: lbfgs failed to converge (status=1):\n",
      "STOP: TOTAL NO. of ITERATIONS REACHED LIMIT.\n",
      "\n",
      "Increase the number of iterations (max_iter) or scale the data as shown in:\n",
      "    https://scikit-learn.org/stable/modules/preprocessing.html\n",
      "  self.n_iter_ = _check_optimize_result(\"lbfgs\", opt_res, self.max_iter)\n"
     ]
    },
    {
     "name": "stdout",
     "output_type": "stream",
     "text": [
      "Alpha: 1.000000 - MaxIter: 1000.000000 - Train acc: 0.572848 - Val acc: 0.545455\n"
     ]
    },
    {
     "name": "stderr",
     "output_type": "stream",
     "text": [
      "c:\\users\\huynhnhut\\appdata\\local\\programs\\python\\python37\\lib\\site-packages\\sklearn\\neural_network\\_multilayer_perceptron.py:470: ConvergenceWarning: lbfgs failed to converge (status=1):\n",
      "STOP: TOTAL NO. of ITERATIONS REACHED LIMIT.\n",
      "\n",
      "Increase the number of iterations (max_iter) or scale the data as shown in:\n",
      "    https://scikit-learn.org/stable/modules/preprocessing.html\n",
      "  self.n_iter_ = _check_optimize_result(\"lbfgs\", opt_res, self.max_iter)\n"
     ]
    },
    {
     "name": "stdout",
     "output_type": "stream",
     "text": [
      "Alpha: 10.000000 - MaxIter: 200.000000 - Train acc: 0.562441 - Val acc: 0.548128\n"
     ]
    },
    {
     "name": "stderr",
     "output_type": "stream",
     "text": [
      "c:\\users\\huynhnhut\\appdata\\local\\programs\\python\\python37\\lib\\site-packages\\sklearn\\neural_network\\_multilayer_perceptron.py:470: ConvergenceWarning: lbfgs failed to converge (status=1):\n",
      "STOP: TOTAL NO. of ITERATIONS REACHED LIMIT.\n",
      "\n",
      "Increase the number of iterations (max_iter) or scale the data as shown in:\n",
      "    https://scikit-learn.org/stable/modules/preprocessing.html\n",
      "  self.n_iter_ = _check_optimize_result(\"lbfgs\", opt_res, self.max_iter)\n"
     ]
    },
    {
     "name": "stdout",
     "output_type": "stream",
     "text": [
      "Alpha: 10.000000 - MaxIter: 500.000000 - Train acc: 0.561968 - Val acc: 0.548128\n",
      "Alpha: 10.000000 - MaxIter: 1000.000000 - Train acc: 0.562914 - Val acc: 0.550802\n"
     ]
    },
    {
     "name": "stderr",
     "output_type": "stream",
     "text": [
      "c:\\users\\huynhnhut\\appdata\\local\\programs\\python\\python37\\lib\\site-packages\\sklearn\\neural_network\\_multilayer_perceptron.py:470: ConvergenceWarning: lbfgs failed to converge (status=1):\n",
      "STOP: TOTAL NO. of ITERATIONS REACHED LIMIT.\n",
      "\n",
      "Increase the number of iterations (max_iter) or scale the data as shown in:\n",
      "    https://scikit-learn.org/stable/modules/preprocessing.html\n",
      "  self.n_iter_ = _check_optimize_result(\"lbfgs\", opt_res, self.max_iter)\n"
     ]
    }
   ],
   "source": [
    "mlp_classifier = MLPClassifier((30, 40, 20,), 'tanh', 'lbfgs', max_iter=200, random_state=0, verbose=False)\n",
    "full_pipeline = Pipeline([('reprocess_data', reprocess_pipeline), ('mlp_classifier', mlp_classifier)])\n",
    "\n",
    "alphas = [0.1, 1, 10]\n",
    "max_iter = [200, 500, 1000]\n",
    "for alpha in alphas:\n",
    "    for iter_ in max_iter:\n",
    "        full_pipeline.set_params(mlp_classifier__alpha=alpha, mlp_classifier__max_iter=iter_)\n",
    "        full_pipeline.fit(train_X_df, train_y_sr)\n",
    "        print('Alpha: %f - MaxIter: %f - Train acc: %f - Val acc: %f' %(alpha, iter_, full_pipeline.score(train_X_df, train_y_sr), full_pipeline.score(val_X_df, val_y_sr)))"
   ]
  },
  {
   "cell_type": "markdown",
   "metadata": {},
   "source": [
    "# SVM"
   ]
  },
  {
   "cell_type": "code",
   "execution_count": 17,
   "metadata": {},
   "outputs": [
    {
     "name": "stderr",
     "output_type": "stream",
     "text": [
      "c:\\users\\huynhnhut\\appdata\\local\\programs\\python\\python37\\lib\\site-packages\\sklearn\\svm\\_base.py:231: ConvergenceWarning: Solver terminated early (max_iter=300).  Consider pre-processing your data with StandardScaler or MinMaxScaler.\n",
      "  % self.max_iter, ConvergenceWarning)\n"
     ]
    },
    {
     "name": "stdout",
     "output_type": "stream",
     "text": [
      "MaxIter: 300.000000 - Train acc: 0.541627 - Val acc: 0.505348\n"
     ]
    },
    {
     "name": "stderr",
     "output_type": "stream",
     "text": [
      "c:\\users\\huynhnhut\\appdata\\local\\programs\\python\\python37\\lib\\site-packages\\sklearn\\svm\\_base.py:231: ConvergenceWarning: Solver terminated early (max_iter=500).  Consider pre-processing your data with StandardScaler or MinMaxScaler.\n",
      "  % self.max_iter, ConvergenceWarning)\n"
     ]
    },
    {
     "name": "stdout",
     "output_type": "stream",
     "text": [
      "MaxIter: 500.000000 - Train acc: 0.556764 - Val acc: 0.524064\n",
      "MaxIter: 1000.000000 - Train acc: 0.555345 - Val acc: 0.516043\n",
      "MaxIter: 2000.000000 - Train acc: 0.555345 - Val acc: 0.516043\n",
      "MaxIter: 4000.000000 - Train acc: 0.555345 - Val acc: 0.516043\n"
     ]
    }
   ],
   "source": [
    "svm_ = svm.SVC(verbose=False, random_state=0, max_iter=100)\n",
    "full_pipeline = Pipeline([('reprocess_data', reprocess_pipeline), ('svm', svm_)])\n",
    "\n",
    "max_iter = [300, 500, 1000, 2000, 4000]\n",
    "for iter_ in max_iter:\n",
    "    full_pipeline.set_params(svm__max_iter=iter_)\n",
    "    full_pipeline.fit(train_X_df, train_y_sr)\n",
    "    print('MaxIter: %f - Train acc: %f - Val acc: %f' %(iter_, full_pipeline.score(train_X_df, train_y_sr), full_pipeline.score(val_X_df, val_y_sr)))"
   ]
  },
  {
   "cell_type": "markdown",
   "metadata": {},
   "source": [
    "# Randomforest"
   ]
  },
  {
   "cell_type": "code",
   "execution_count": 18,
   "metadata": {},
   "outputs": [
    {
     "name": "stdout",
     "output_type": "stream",
     "text": [
      "n_estimator: 100 - Train acc: 0.572848 - Val acc: 0.545455\n",
      "n_estimator: 200 - Train acc: 0.572848 - Val acc: 0.548128\n",
      "n_estimator: 300 - Train acc: 0.572848 - Val acc: 0.545455\n"
     ]
    }
   ],
   "source": [
    "random_forest = RandomForestClassifier(n_estimators=200, verbose=0, n_jobs=4, random_state=0, oob_score=True)\n",
    "full_pipeline = Pipeline([('reprocess_data', reprocess_pipeline), ('random_forest', random_forest)])\n",
    "\n",
    "n_estimators = [100, 200, 300]\n",
    "for n_es_ in n_estimators:\n",
    "    full_pipeline.set_params(random_forest__n_estimators=n_es_)\n",
    "    full_pipeline.fit(train_X_df, train_y_sr)\n",
    "    print('n_estimator: %d - Train acc: %f - Val acc: %f' %(n_es_, full_pipeline.score(train_X_df, train_y_sr), full_pipeline.score(val_X_df, val_y_sr)))"
   ]
  },
  {
   "cell_type": "markdown",
   "metadata": {},
   "source": [
    "# Test"
   ]
  },
  {
   "cell_type": "code",
   "execution_count": 19,
   "metadata": {},
   "outputs": [],
   "source": [
    "test_data_df = pd.read_csv('test_data.csv', index_col=False)"
   ]
  },
  {
   "cell_type": "code",
   "execution_count": 20,
   "metadata": {},
   "outputs": [],
   "source": [
    "test_y_sr = test_data_df['Price_pcs']\n",
    "test_X_df = test_data_df.drop('Price_pcs', axis=1)"
   ]
  },
  {
   "cell_type": "code",
   "execution_count": 26,
   "metadata": {},
   "outputs": [
    {
     "data": {
      "text/plain": [
       "0.5018050541516246"
      ]
     },
     "execution_count": 26,
     "metadata": {},
     "output_type": "execute_result"
    }
   ],
   "source": [
    "test_model = LogisticRegression(solver='lbfgs', max_iter=500, verbose=0, n_jobs=4, random_state=0)\n",
    "full_pipeline = Pipeline([('reprocess_data', reprocess_pipeline), ('test_model', test_model)])\n",
    "\n",
    "fits = full_pipeline.fit(train_X_df, train_y_sr)\n",
    "score = fits.score(test_X_df, test_y_sr)\n",
    "score"
   ]
  },
  {
   "cell_type": "code",
   "execution_count": 22,
   "metadata": {},
   "outputs": [
    {
     "name": "stdout",
     "output_type": "stream",
     "text": [
      "[[17 66  0  0]\n",
      " [13 99  7  0]\n",
      " [ 2 35 23  0]\n",
      " [ 0  5 10  0]]\n"
     ]
    },
    {
     "data": {
      "text/plain": [
       "Text(0.5, 1, 'Accuracy Score: 0.5018050541516246')"
      ]
     },
     "execution_count": 22,
     "metadata": {},
     "output_type": "execute_result"
    },
    {
     "data": {
      "image/png": "[encoded data removed]",
      "text/plain": [
       "<Figure size 360x360 with 2 Axes>"
      ]
     },
     "metadata": {
      "needs_background": "light"
     },
     "output_type": "display_data"
    }
   ],
   "source": [
    "y_predicted = full_pipeline.predict(test_X_df)\n",
    "cm = metrics.confusion_matrix(test_y_sr, y_predicted)\n",
    "print(cm)\n",
    "\n",
    "plt.figure(figsize=(5,5))\n",
    "sns.heatmap(cm, annot=True, fmt=\".3f\", linewidths=.5, square = True, cmap = 'Oranges_r');\n",
    "plt.ylabel('Actual label')\n",
    "plt.xlabel('Predicted label')\n",
    "all_sample_title = 'Accuracy Score: {0}'.format(score)\n",
    "plt.title(all_sample_title, size = 15)"
   ]
  },
  {
   "cell_type": "code",
   "execution_count": null,
   "metadata": {},
   "outputs": [],
   "source": []
  }
 ],
 "metadata": {
  "kernelspec": {
   "display_name": "Python 3",
   "language": "python",
   "name": "python3"
  },
  "language_info": {
   "codemirror_mode": {
    "name": "ipython",
    "version": 3
   },
   "file_extension": ".py",
   "mimetype": "text/x-python",
   "name": "python",
   "nbconvert_exporter": "python",
   "pygments_lexer": "ipython3",
   "version": "3.7.4"
  }
 },
 "nbformat": 4,
 "nbformat_minor": 4
}
